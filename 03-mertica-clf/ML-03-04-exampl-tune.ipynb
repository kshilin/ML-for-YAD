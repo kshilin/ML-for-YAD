{
 "cells": [
  {
   "cell_type": "code",
   "execution_count": 237,
   "id": "66595b11-5e71-46cf-9454-ca37ca8e682e",
   "metadata": {},
   "outputs": [],
   "source": [
    "import numpy as np\n",
    "import pandas as pd\n",
    "import matplotlib.pyplot as plt\n",
    "\n",
    "from sklearn.preprocessing import MinMaxScaler, StandardScaler, RobustScaler, Normalizer\n",
    "from sklearn.decomposition import PCA\n",
    "from sklearn.neighbors import KNeighborsClassifier\n",
    "from sklearn.pipeline import make_pipeline\n",
    "\n",
    "from sklearn.model_selection import cross_val_score, RepeatedStratifiedKFold\n",
    "from sklearn.model_selection import train_test_split \n",
    "\n",
    "from sklearn.metrics import ConfusionMatrixDisplay,confusion_matrix\n",
    "from sklearn.metrics import accuracy_score, roc_auc_score, PrecisionRecallDisplay, RocCurveDisplay, precision_score, recall_score, make_scorer\n",
    "from sklearn.metrics import classification_report\n",
    "\n",
    "from sklearn.model_selection import cross_validate, TunedThresholdClassifierCV, FixedThresholdClassifier\n",
    "\n",
    "import optuna\n",
    "from plotly.io import show\n",
    "\n",
    "\n",
    "from IPython.display import display_html, display"
   ]
  },
  {
   "cell_type": "code",
   "execution_count": 238,
   "id": "f4068c9a-3a26-4275-9868-2e82e07c3b51",
   "metadata": {},
   "outputs": [
    {
     "data": {
      "text/plain": [
       "{'precision': make_scorer(precision_score, response_method='predict', pos_label=1),\n",
       " 'recall': make_scorer(recall_score, response_method='predict', pos_label=1),\n",
       " 'fpr': make_scorer(fpr_score, response_method='predict', neg_label=0, pos_label=1),\n",
       " 'tpr': make_scorer(recall_score, response_method='predict', pos_label=1)}"
      ]
     },
     "execution_count": 238,
     "metadata": {},
     "output_type": "execute_result"
    }
   ],
   "source": [
    "pos_label, neg_label = 1, 0\n",
    "\n",
    "def fpr_score(y, y_pred, neg_label, pos_label):\n",
    "    cm = confusion_matrix(y, y_pred, labels=[neg_label, pos_label])\n",
    "    tn, fp, _, _ = cm.ravel()\n",
    "    tnr = tn / (tn + fp)\n",
    "    return 1 - tnr\n",
    "\n",
    "tpr_score = recall_score  # TPR and recall are the same metric\n",
    "scoring = {\n",
    "    \"precision\": make_scorer(precision_score, pos_label=pos_label),\n",
    "    \"recall\": make_scorer(recall_score, pos_label=pos_label),\n",
    "    \"fpr\": make_scorer(fpr_score, neg_label=neg_label, pos_label=pos_label),\n",
    "    \"tpr\": make_scorer(tpr_score, pos_label=pos_label),\n",
    "}\n",
    "\n",
    "scoring"
   ]
  },
  {
   "cell_type": "code",
   "execution_count": 239,
   "id": "a02e9a89-0f30-47b1-9119-c7d98c0250d4",
   "metadata": {},
   "outputs": [
    {
     "data": {
      "text/html": [
       "<div>\n",
       "<style scoped>\n",
       "    .dataframe tbody tr th:only-of-type {\n",
       "        vertical-align: middle;\n",
       "    }\n",
       "\n",
       "    .dataframe tbody tr th {\n",
       "        vertical-align: top;\n",
       "    }\n",
       "\n",
       "    .dataframe thead th {\n",
       "        text-align: right;\n",
       "    }\n",
       "</style>\n",
       "<table border=\"1\" class=\"dataframe\">\n",
       "  <thead>\n",
       "    <tr style=\"text-align: right;\">\n",
       "      <th></th>\n",
       "      <th>name</th>\n",
       "      <th>diameter</th>\n",
       "      <th>weight</th>\n",
       "      <th>red</th>\n",
       "      <th>green</th>\n",
       "      <th>blue</th>\n",
       "    </tr>\n",
       "  </thead>\n",
       "  <tbody>\n",
       "    <tr>\n",
       "      <th>0</th>\n",
       "      <td>0</td>\n",
       "      <td>11.60</td>\n",
       "      <td>199.71</td>\n",
       "      <td>153</td>\n",
       "      <td>59</td>\n",
       "      <td>16</td>\n",
       "    </tr>\n",
       "    <tr>\n",
       "      <th>1</th>\n",
       "      <td>0</td>\n",
       "      <td>10.25</td>\n",
       "      <td>178.06</td>\n",
       "      <td>148</td>\n",
       "      <td>54</td>\n",
       "      <td>14</td>\n",
       "    </tr>\n",
       "    <tr>\n",
       "      <th>2</th>\n",
       "      <td>0</td>\n",
       "      <td>11.99</td>\n",
       "      <td>205.39</td>\n",
       "      <td>133</td>\n",
       "      <td>72</td>\n",
       "      <td>2</td>\n",
       "    </tr>\n",
       "    <tr>\n",
       "      <th>3</th>\n",
       "      <td>1</td>\n",
       "      <td>7.63</td>\n",
       "      <td>139.91</td>\n",
       "      <td>152</td>\n",
       "      <td>82</td>\n",
       "      <td>2</td>\n",
       "    </tr>\n",
       "    <tr>\n",
       "      <th>4</th>\n",
       "      <td>1</td>\n",
       "      <td>7.43</td>\n",
       "      <td>137.10</td>\n",
       "      <td>158</td>\n",
       "      <td>78</td>\n",
       "      <td>3</td>\n",
       "    </tr>\n",
       "  </tbody>\n",
       "</table>\n",
       "</div>"
      ],
      "text/plain": [
       "   name  diameter  weight  red  green  blue\n",
       "0     0     11.60  199.71  153     59    16\n",
       "1     0     10.25  178.06  148     54    14\n",
       "2     0     11.99  205.39  133     72     2\n",
       "3     1      7.63  139.91  152     82     2\n",
       "4     1      7.43  137.10  158     78     3"
      ]
     },
     "execution_count": 239,
     "metadata": {},
     "output_type": "execute_result"
    }
   ],
   "source": [
    "train = pd.read_csv('dataset_citrus/train.csv')\n",
    "test = pd.read_csv('dataset_citrus/test.csv')\n",
    "y_true = pd.read_csv('dataset_citrus/test_Y_true.csv')\n",
    "\n",
    "train['name'] = np.where(train['name']=='grapefruit',0,1)\n",
    "y_true = np.where(y_true =='grapefruit',0,1).reshape(-1)\n",
    "train.head()"
   ]
  },
  {
   "cell_type": "code",
   "execution_count": 240,
   "id": "8b1cfc9e-cb26-496a-99a9-cb77dbbf226d",
   "metadata": {},
   "outputs": [],
   "source": [
    "X, y = train.drop(['name'],axis=1), train['name']\n",
    "X_train, X_test, y_train, y_test = train_test_split(X, y, random_state=42)"
   ]
  },
  {
   "cell_type": "code",
   "execution_count": 107,
   "id": "295e6e03-1a91-47d4-86b5-5001b5dc7d3b",
   "metadata": {},
   "outputs": [
    {
     "name": "stderr",
     "output_type": "stream",
     "text": [
      "[I 2025-02-19 16:49:13,031] A new study created in memory with name: no-name-589854f6-5bf3-42d8-b354-ca9401f0be8f\n"
     ]
    },
    {
     "data": {
      "application/vnd.jupyter.widget-view+json": {
       "model_id": "b37cc33c1f164351827f8dfce4e02888",
       "version_major": 2,
       "version_minor": 0
      },
      "text/plain": [
       "  0%|          | 0/100 [00:00<?, ?it/s]"
      ]
     },
     "metadata": {},
     "output_type": "display_data"
    },
    {
     "name": "stdout",
     "output_type": "stream",
     "text": [
      "[I 2025-02-19 16:49:13,601] Trial 0 finished with value: 0.9783285316599455 and parameters: {'scalers': 'normalizer', 'knn_n_neighbors': 90, 'knn_p': 8, 'knn_weights': 'distance'}. Best is trial 0 with value: 0.9783285316599455.\n",
      "[I 2025-02-19 16:49:14,411] Trial 1 finished with value: 0.9799202084549652 and parameters: {'scalers': 'robust', 'knn_n_neighbors': 87, 'knn_p': 10, 'knn_weights': 'distance'}. Best is trial 1 with value: 0.9799202084549652.\n",
      "[I 2025-02-19 16:49:15,363] Trial 2 finished with value: 0.9803681036733912 and parameters: {'scalers': 'robust', 'knn_n_neighbors': 102, 'knn_p': 3, 'knn_weights': 'distance'}. Best is trial 2 with value: 0.9803681036733912.\n",
      "[I 2025-02-19 16:49:16,225] Trial 3 finished with value: 0.9786908538815099 and parameters: {'scalers': 'none', 'knn_n_neighbors': 79, 'knn_p': 2, 'knn_weights': 'uniform'}. Best is trial 2 with value: 0.9803681036733912.\n",
      "[I 2025-02-19 16:49:17,585] Trial 4 finished with value: 0.9796603080114838 and parameters: {'scalers': 'robust', 'knn_n_neighbors': 86, 'knn_p': 10, 'knn_weights': 'uniform'}. Best is trial 2 with value: 0.9803681036733912.\n",
      "[I 2025-02-19 16:49:18,558] Trial 5 finished with value: 0.9799515275955674 and parameters: {'scalers': 'standard', 'knn_n_neighbors': 105, 'knn_p': 8, 'knn_weights': 'uniform'}. Best is trial 2 with value: 0.9803681036733912.\n",
      "[I 2025-02-19 16:49:19,467] Trial 6 finished with value: 0.9799044308465346 and parameters: {'scalers': 'standard', 'knn_n_neighbors': 96, 'knn_p': 9, 'knn_weights': 'uniform'}. Best is trial 2 with value: 0.9803681036733912.\n",
      "[I 2025-02-19 16:49:20,436] Trial 7 finished with value: 0.9801315468965675 and parameters: {'scalers': 'robust', 'knn_n_neighbors': 110, 'knn_p': 6, 'knn_weights': 'distance'}. Best is trial 2 with value: 0.9803681036733912.\n",
      "[I 2025-02-19 16:49:21,152] Trial 8 finished with value: 0.9787416051653931 and parameters: {'scalers': 'normalizer', 'knn_n_neighbors': 119, 'knn_p': 3, 'knn_weights': 'distance'}. Best is trial 2 with value: 0.9803681036733912.\n",
      "[I 2025-02-19 16:49:22,079] Trial 9 finished with value: 0.9798517361159649 and parameters: {'scalers': 'minmax', 'knn_n_neighbors': 109, 'knn_p': 8, 'knn_weights': 'distance'}. Best is trial 2 with value: 0.9803681036733912.\n",
      "[I 2025-02-19 16:49:22,805] Trial 10 finished with value: 0.9799964197269337 and parameters: {'scalers': 'minmax', 'knn_n_neighbors': 66, 'knn_p': 4, 'knn_weights': 'distance'}. Best is trial 2 with value: 0.9803681036733912.\n",
      "[I 2025-02-19 16:49:23,735] Trial 11 finished with value: 0.9801780669317461 and parameters: {'scalers': 'robust', 'knn_n_neighbors': 107, 'knn_p': 5, 'knn_weights': 'distance'}. Best is trial 2 with value: 0.9803681036733912.\n",
      "[I 2025-02-19 16:49:24,628] Trial 12 finished with value: 0.9801171332326669 and parameters: {'scalers': 'robust', 'knn_n_neighbors': 100, 'knn_p': 5, 'knn_weights': 'distance'}. Best is trial 2 with value: 0.9803681036733912.\n",
      "[I 2025-02-19 16:49:25,028] Trial 13 finished with value: 0.9807828459777513 and parameters: {'scalers': 'robust', 'knn_n_neighbors': 117, 'knn_p': 1, 'knn_weights': 'distance'}. Best is trial 13 with value: 0.9807828459777513.\n",
      "[I 2025-02-19 16:49:25,366] Trial 14 finished with value: 0.9789980360314087 and parameters: {'scalers': 'none', 'knn_n_neighbors': 120, 'knn_p': 1, 'knn_weights': 'distance'}. Best is trial 13 with value: 0.9807828459777513.\n",
      "[I 2025-02-19 16:49:25,754] Trial 15 finished with value: 0.9808258815645186 and parameters: {'scalers': 'robust', 'knn_n_neighbors': 114, 'knn_p': 1, 'knn_weights': 'distance'}. Best is trial 15 with value: 0.9808258815645186.\n",
      "[I 2025-02-19 16:49:26,164] Trial 16 finished with value: 0.9808254001176587 and parameters: {'scalers': 'robust', 'knn_n_neighbors': 115, 'knn_p': 1, 'knn_weights': 'distance'}. Best is trial 15 with value: 0.9808258815645186.\n",
      "[I 2025-02-19 16:49:26,496] Trial 17 finished with value: 0.9805282563206722 and parameters: {'scalers': 'robust', 'knn_n_neighbors': 113, 'knn_p': 2, 'knn_weights': 'distance'}. Best is trial 15 with value: 0.9808258815645186.\n",
      "[I 2025-02-19 16:49:26,791] Trial 18 finished with value: 0.9802581906565254 and parameters: {'scalers': 'standard', 'knn_n_neighbors': 64, 'knn_p': 1, 'knn_weights': 'uniform'}. Best is trial 15 with value: 0.9808258815645186.\n",
      "[I 2025-02-19 16:49:27,340] Trial 19 finished with value: 0.9782032202437586 and parameters: {'scalers': 'normalizer', 'knn_n_neighbors': 77, 'knn_p': 3, 'knn_weights': 'distance'}. Best is trial 15 with value: 0.9808258815645186.\n",
      "[I 2025-02-19 16:49:28,182] Trial 20 finished with value: 0.979977657705633 and parameters: {'scalers': 'minmax', 'knn_n_neighbors': 95, 'knn_p': 6, 'knn_weights': 'distance'}. Best is trial 15 with value: 0.9808258815645186.\n",
      "[I 2025-02-19 16:49:28,584] Trial 21 finished with value: 0.9808254001176587 and parameters: {'scalers': 'robust', 'knn_n_neighbors': 115, 'knn_p': 1, 'knn_weights': 'distance'}. Best is trial 15 with value: 0.9808258815645186.\n",
      "[I 2025-02-19 16:49:28,913] Trial 22 finished with value: 0.9805282526029359 and parameters: {'scalers': 'robust', 'knn_n_neighbors': 114, 'knn_p': 2, 'knn_weights': 'distance'}. Best is trial 15 with value: 0.9808258815645186.\n",
      "[I 2025-02-19 16:49:29,307] Trial 23 finished with value: 0.9808440547893219 and parameters: {'scalers': 'robust', 'knn_n_neighbors': 113, 'knn_p': 1, 'knn_weights': 'distance'}. Best is trial 23 with value: 0.9808440547893219.\n",
      "[I 2025-02-19 16:49:29,631] Trial 24 finished with value: 0.9805743339452232 and parameters: {'scalers': 'robust', 'knn_n_neighbors': 111, 'knn_p': 2, 'knn_weights': 'distance'}. Best is trial 23 with value: 0.9808440547893219.\n",
      "[I 2025-02-19 16:49:30,487] Trial 25 finished with value: 0.9785650182644952 and parameters: {'scalers': 'none', 'knn_n_neighbors': 103, 'knn_p': 4, 'knn_weights': 'distance'}. Best is trial 23 with value: 0.9808440547893219.\n",
      "[I 2025-02-19 16:49:31,885] Trial 26 finished with value: 0.9807050049431022 and parameters: {'scalers': 'robust', 'knn_n_neighbors': 97, 'knn_p': 1, 'knn_weights': 'uniform'}. Best is trial 23 with value: 0.9808440547893219.\n",
      "[I 2025-02-19 16:49:33,016] Trial 27 finished with value: 0.9801384414386628 and parameters: {'scalers': 'robust', 'knn_n_neighbors': 106, 'knn_p': 4, 'knn_weights': 'distance'}. Best is trial 23 with value: 0.9808440547893219.\n",
      "[I 2025-02-19 16:49:33,386] Trial 28 finished with value: 0.9806337573139027 and parameters: {'scalers': 'robust', 'knn_n_neighbors': 120, 'knn_p': 2, 'knn_weights': 'distance'}. Best is trial 23 with value: 0.9808440547893219.\n",
      "[I 2025-02-19 16:49:34,016] Trial 29 finished with value: 0.9783920817159942 and parameters: {'scalers': 'normalizer', 'knn_n_neighbors': 93, 'knn_p': 3, 'knn_weights': 'distance'}. Best is trial 23 with value: 0.9808440547893219.\n",
      "[I 2025-02-19 16:49:35,002] Trial 30 finished with value: 0.9803002614907053 and parameters: {'scalers': 'standard', 'knn_n_neighbors': 114, 'knn_p': 7, 'knn_weights': 'distance'}. Best is trial 23 with value: 0.9808440547893219.\n",
      "[I 2025-02-19 16:49:35,430] Trial 31 finished with value: 0.9808122086595894 and parameters: {'scalers': 'robust', 'knn_n_neighbors': 116, 'knn_p': 1, 'knn_weights': 'distance'}. Best is trial 23 with value: 0.9808440547893219.\n",
      "[I 2025-02-19 16:49:35,824] Trial 32 finished with value: 0.9807969408457584 and parameters: {'scalers': 'robust', 'knn_n_neighbors': 110, 'knn_p': 1, 'knn_weights': 'distance'}. Best is trial 23 with value: 0.9808440547893219.\n",
      "[I 2025-02-19 16:49:36,174] Trial 33 finished with value: 0.9805431356310531 and parameters: {'scalers': 'robust', 'knn_n_neighbors': 116, 'knn_p': 2, 'knn_weights': 'distance'}. Best is trial 23 with value: 0.9808440547893219.\n",
      "[I 2025-02-19 16:49:37,131] Trial 34 finished with value: 0.9802777106313281 and parameters: {'scalers': 'robust', 'knn_n_neighbors': 100, 'knn_p': 3, 'knn_weights': 'distance'}. Best is trial 23 with value: 0.9808440547893219.\n",
      "[I 2025-02-19 16:49:37,425] Trial 35 finished with value: 0.9789912418681952 and parameters: {'scalers': 'none', 'knn_n_neighbors': 86, 'knn_p': 1, 'knn_weights': 'distance'}. Best is trial 23 with value: 0.9808440547893219.\n",
      "[I 2025-02-19 16:49:37,737] Trial 36 finished with value: 0.9805065953944384 and parameters: {'scalers': 'robust', 'knn_n_neighbors': 106, 'knn_p': 2, 'knn_weights': 'uniform'}. Best is trial 23 with value: 0.9808440547893219.\n",
      "[I 2025-02-19 16:49:38,132] Trial 37 finished with value: 0.9808383071688962 and parameters: {'scalers': 'robust', 'knn_n_neighbors': 112, 'knn_p': 1, 'knn_weights': 'distance'}. Best is trial 23 with value: 0.9808440547893219.\n",
      "[I 2025-02-19 16:49:38,426] Trial 38 finished with value: 0.9803139971324356 and parameters: {'scalers': 'minmax', 'knn_n_neighbors': 103, 'knn_p': 2, 'knn_weights': 'uniform'}. Best is trial 23 with value: 0.9808440547893219.\n",
      "[I 2025-02-19 16:49:39,094] Trial 39 finished with value: 0.9786711740440435 and parameters: {'scalers': 'normalizer', 'knn_n_neighbors': 112, 'knn_p': 3, 'knn_weights': 'distance'}. Best is trial 23 with value: 0.9808440547893219.\n",
      "[I 2025-02-19 16:49:39,924] Trial 40 finished with value: 0.9799451154297658 and parameters: {'scalers': 'robust', 'knn_n_neighbors': 89, 'knn_p': 10, 'knn_weights': 'distance'}. Best is trial 23 with value: 0.9808440547893219.\n",
      "[I 2025-02-19 16:49:40,331] Trial 41 finished with value: 0.9807828459777513 and parameters: {'scalers': 'robust', 'knn_n_neighbors': 117, 'knn_p': 1, 'knn_weights': 'distance'}. Best is trial 23 with value: 0.9808440547893219.\n",
      "[I 2025-02-19 16:49:40,723] Trial 42 finished with value: 0.9807571675726542 and parameters: {'scalers': 'robust', 'knn_n_neighbors': 108, 'knn_p': 1, 'knn_weights': 'distance'}. Best is trial 23 with value: 0.9808440547893219.\n",
      "[I 2025-02-19 16:49:41,002] Trial 43 finished with value: 0.98032349548414 and parameters: {'scalers': 'robust', 'knn_n_neighbors': 82, 'knn_p': 2, 'knn_weights': 'distance'}. Best is trial 23 with value: 0.9808440547893219.\n",
      "[I 2025-02-19 16:49:41,331] Trial 44 finished with value: 0.9804324744197431 and parameters: {'scalers': 'robust', 'knn_n_neighbors': 72, 'knn_p': 1, 'knn_weights': 'distance'}. Best is trial 23 with value: 0.9808440547893219.\n",
      "[I 2025-02-19 16:49:41,653] Trial 45 finished with value: 0.980676397891181 and parameters: {'scalers': 'standard', 'knn_n_neighbors': 113, 'knn_p': 2, 'knn_weights': 'distance'}. Best is trial 23 with value: 0.9808440547893219.\n",
      "[I 2025-02-19 16:49:42,669] Trial 46 finished with value: 0.980220802776019 and parameters: {'scalers': 'robust', 'knn_n_neighbors': 118, 'knn_p': 3, 'knn_weights': 'uniform'}. Best is trial 23 with value: 0.9808440547893219.\n",
      "[I 2025-02-19 16:49:42,993] Trial 47 finished with value: 0.9790009888435194 and parameters: {'scalers': 'none', 'knn_n_neighbors': 109, 'knn_p': 1, 'knn_weights': 'distance'}. Best is trial 23 with value: 0.9808440547893219.\n",
      "[I 2025-02-19 16:49:43,386] Trial 48 finished with value: 0.9808254001176587 and parameters: {'scalers': 'robust', 'knn_n_neighbors': 115, 'knn_p': 1, 'knn_weights': 'distance'}. Best is trial 23 with value: 0.9808440547893219.\n",
      "[I 2025-02-19 16:49:44,082] Trial 49 finished with value: 0.9795439707461737 and parameters: {'scalers': 'robust', 'knn_n_neighbors': 60, 'knn_p': 4, 'knn_weights': 'distance'}. Best is trial 23 with value: 0.9808440547893219.\n",
      "[I 2025-02-19 16:49:45,048] Trial 50 finished with value: 0.979934441808652 and parameters: {'scalers': 'minmax', 'knn_n_neighbors': 120, 'knn_p': 7, 'knn_weights': 'distance'}. Best is trial 23 with value: 0.9808440547893219.\n",
      "[I 2025-02-19 16:49:45,446] Trial 51 finished with value: 0.9808254001176587 and parameters: {'scalers': 'robust', 'knn_n_neighbors': 115, 'knn_p': 1, 'knn_weights': 'distance'}. Best is trial 23 with value: 0.9808440547893219.\n",
      "[I 2025-02-19 16:49:46,420] Trial 52 finished with value: 0.9805743339452232 and parameters: {'scalers': 'robust', 'knn_n_neighbors': 111, 'knn_p': 2, 'knn_weights': 'distance'}. Best is trial 23 with value: 0.9808440547893219.\n",
      "[I 2025-02-19 16:49:47,219] Trial 53 finished with value: 0.9807776346407967 and parameters: {'scalers': 'robust', 'knn_n_neighbors': 118, 'knn_p': 1, 'knn_weights': 'distance'}. Best is trial 23 with value: 0.9808440547893219.\n",
      "[I 2025-02-19 16:49:48,218] Trial 54 finished with value: 0.979923748669422 and parameters: {'scalers': 'robust', 'knn_n_neighbors': 108, 'knn_p': 9, 'knn_weights': 'distance'}. Best is trial 23 with value: 0.9808440547893219.\n",
      "[I 2025-02-19 16:49:48,485] Trial 55 finished with value: 0.9786688499940962 and parameters: {'scalers': 'normalizer', 'knn_n_neighbors': 104, 'knn_p': 2, 'knn_weights': 'distance'}. Best is trial 23 with value: 0.9808440547893219.\n",
      "[I 2025-02-19 16:49:48,897] Trial 56 finished with value: 0.9807477491522817 and parameters: {'scalers': 'robust', 'knn_n_neighbors': 113, 'knn_p': 1, 'knn_weights': 'uniform'}. Best is trial 23 with value: 0.9808440547893219.\n",
      "[I 2025-02-19 16:49:49,263] Trial 57 finished with value: 0.980835308814515 and parameters: {'scalers': 'standard', 'knn_n_neighbors': 101, 'knn_p': 1, 'knn_weights': 'distance'}. Best is trial 23 with value: 0.9808440547893219.\n",
      "[I 2025-02-19 16:49:49,560] Trial 58 finished with value: 0.9805995095264765 and parameters: {'scalers': 'standard', 'knn_n_neighbors': 100, 'knn_p': 2, 'knn_weights': 'distance'}. Best is trial 23 with value: 0.9808440547893219.\n",
      "[I 2025-02-19 16:49:50,533] Trial 59 finished with value: 0.9804901625349728 and parameters: {'scalers': 'standard', 'knn_n_neighbors': 101, 'knn_p': 3, 'knn_weights': 'distance'}. Best is trial 23 with value: 0.9808440547893219.\n",
      "[I 2025-02-19 16:49:50,899] Trial 60 finished with value: 0.9808450260479482 and parameters: {'scalers': 'standard', 'knn_n_neighbors': 98, 'knn_p': 1, 'knn_weights': 'distance'}. Best is trial 60 with value: 0.9808450260479482.\n",
      "[I 2025-02-19 16:49:51,258] Trial 61 finished with value: 0.980831817860065 and parameters: {'scalers': 'standard', 'knn_n_neighbors': 94, 'knn_p': 1, 'knn_weights': 'distance'}. Best is trial 60 with value: 0.9808450260479482.\n",
      "[I 2025-02-19 16:49:51,624] Trial 62 finished with value: 0.9808788760375832 and parameters: {'scalers': 'standard', 'knn_n_neighbors': 97, 'knn_p': 1, 'knn_weights': 'distance'}. Best is trial 62 with value: 0.9808788760375832.\n",
      "[I 2025-02-19 16:49:51,980] Trial 63 finished with value: 0.980837548750677 and parameters: {'scalers': 'standard', 'knn_n_neighbors': 93, 'knn_p': 1, 'knn_weights': 'distance'}. Best is trial 62 with value: 0.9808788760375832.\n",
      "[I 2025-02-19 16:49:52,287] Trial 64 finished with value: 0.9805499474535141 and parameters: {'scalers': 'standard', 'knn_n_neighbors': 94, 'knn_p': 2, 'knn_weights': 'distance'}. Best is trial 62 with value: 0.9808788760375832.\n",
      "[I 2025-02-19 16:49:52,656] Trial 65 finished with value: 0.9808788760375832 and parameters: {'scalers': 'standard', 'knn_n_neighbors': 97, 'knn_p': 1, 'knn_weights': 'distance'}. Best is trial 62 with value: 0.9808788760375832.\n",
      "[I 2025-02-19 16:49:53,014] Trial 66 finished with value: 0.9808788760375832 and parameters: {'scalers': 'standard', 'knn_n_neighbors': 97, 'knn_p': 1, 'knn_weights': 'distance'}. Best is trial 62 with value: 0.9808788760375832.\n",
      "[I 2025-02-19 16:49:53,315] Trial 67 finished with value: 0.9805880180033614 and parameters: {'scalers': 'standard', 'knn_n_neighbors': 97, 'knn_p': 2, 'knn_weights': 'distance'}. Best is trial 62 with value: 0.9808788760375832.\n",
      "[I 2025-02-19 16:49:53,676] Trial 68 finished with value: 0.9808131622589679 and parameters: {'scalers': 'standard', 'knn_n_neighbors': 90, 'knn_p': 1, 'knn_weights': 'distance'}. Best is trial 62 with value: 0.9808788760375832.\n",
      "[I 2025-02-19 16:49:54,619] Trial 69 finished with value: 0.980233768846321 and parameters: {'scalers': 'standard', 'knn_n_neighbors': 92, 'knn_p': 5, 'knn_weights': 'distance'}. Best is trial 62 with value: 0.9808788760375832.\n",
      "[I 2025-02-19 16:49:54,985] Trial 70 finished with value: 0.9808061989387499 and parameters: {'scalers': 'standard', 'knn_n_neighbors': 97, 'knn_p': 1, 'knn_weights': 'uniform'}. Best is trial 62 with value: 0.9808788760375832.\n",
      "[I 2025-02-19 16:49:55,359] Trial 71 finished with value: 0.9808450260479482 and parameters: {'scalers': 'standard', 'knn_n_neighbors': 98, 'knn_p': 1, 'knn_weights': 'distance'}. Best is trial 62 with value: 0.9808788760375832.\n",
      "[I 2025-02-19 16:49:55,733] Trial 72 finished with value: 0.9808278547530962 and parameters: {'scalers': 'standard', 'knn_n_neighbors': 99, 'knn_p': 1, 'knn_weights': 'distance'}. Best is trial 62 with value: 0.9808788760375832.\n",
      "[I 2025-02-19 16:49:56,018] Trial 73 finished with value: 0.9805011772583985 and parameters: {'scalers': 'standard', 'knn_n_neighbors': 88, 'knn_p': 2, 'knn_weights': 'distance'}. Best is trial 62 with value: 0.9808788760375832.\n",
      "[I 2025-02-19 16:49:56,367] Trial 74 finished with value: 0.980839798910614 and parameters: {'scalers': 'standard', 'knn_n_neighbors': 92, 'knn_p': 1, 'knn_weights': 'distance'}. Best is trial 62 with value: 0.9808788760375832.\n",
      "[I 2025-02-19 16:49:56,652] Trial 75 finished with value: 0.980523309872434 and parameters: {'scalers': 'standard', 'knn_n_neighbors': 91, 'knn_p': 2, 'knn_weights': 'distance'}. Best is trial 62 with value: 0.9808788760375832.\n",
      "[I 2025-02-19 16:49:56,987] Trial 76 finished with value: 0.9807909878203983 and parameters: {'scalers': 'standard', 'knn_n_neighbors': 86, 'knn_p': 1, 'knn_weights': 'distance'}. Best is trial 62 with value: 0.9808788760375832.\n",
      "[I 2025-02-19 16:49:57,343] Trial 77 finished with value: 0.9808450260479482 and parameters: {'scalers': 'standard', 'knn_n_neighbors': 98, 'knn_p': 1, 'knn_weights': 'distance'}. Best is trial 62 with value: 0.9808788760375832.\n",
      "[I 2025-02-19 16:49:57,635] Trial 78 finished with value: 0.9805818047364555 and parameters: {'scalers': 'standard', 'knn_n_neighbors': 98, 'knn_p': 2, 'knn_weights': 'distance'}. Best is trial 62 with value: 0.9808788760375832.\n",
      "[I 2025-02-19 16:49:57,985] Trial 79 finished with value: 0.9808176058833624 and parameters: {'scalers': 'standard', 'knn_n_neighbors': 95, 'knn_p': 1, 'knn_weights': 'distance'}. Best is trial 62 with value: 0.9808788760375832.\n",
      "[I 2025-02-19 16:49:58,253] Trial 80 finished with value: 0.9804727560932955 and parameters: {'scalers': 'standard', 'knn_n_neighbors': 84, 'knn_p': 2, 'knn_weights': 'distance'}. Best is trial 62 with value: 0.9808788760375832.\n",
      "[I 2025-02-19 16:49:58,610] Trial 81 finished with value: 0.9808355430319062 and parameters: {'scalers': 'standard', 'knn_n_neighbors': 96, 'knn_p': 1, 'knn_weights': 'distance'}. Best is trial 62 with value: 0.9808788760375832.\n",
      "[I 2025-02-19 16:49:58,982] Trial 82 finished with value: 0.9808587091766522 and parameters: {'scalers': 'standard', 'knn_n_neighbors': 105, 'knn_p': 1, 'knn_weights': 'distance'}. Best is trial 62 with value: 0.9808788760375832.\n",
      "[I 2025-02-19 16:49:59,352] Trial 83 finished with value: 0.9808372903679994 and parameters: {'scalers': 'standard', 'knn_n_neighbors': 102, 'knn_p': 1, 'knn_weights': 'distance'}. Best is trial 62 with value: 0.9808788760375832.\n",
      "[I 2025-02-19 16:49:59,718] Trial 84 finished with value: 0.9808278547530962 and parameters: {'scalers': 'standard', 'knn_n_neighbors': 99, 'knn_p': 1, 'knn_weights': 'distance'}. Best is trial 62 with value: 0.9808788760375832.\n",
      "[I 2025-02-19 16:50:00,019] Trial 85 finished with value: 0.9806545245892571 and parameters: {'scalers': 'standard', 'knn_n_neighbors': 105, 'knn_p': 2, 'knn_weights': 'distance'}. Best is trial 62 with value: 0.9808788760375832.\n",
      "[I 2025-02-19 16:50:00,373] Trial 86 finished with value: 0.9808355430319062 and parameters: {'scalers': 'standard', 'knn_n_neighbors': 96, 'knn_p': 1, 'knn_weights': 'distance'}. Best is trial 62 with value: 0.9808788760375832.\n",
      "[I 2025-02-19 16:50:00,673] Trial 87 finished with value: 0.9789427072846218 and parameters: {'scalers': 'none', 'knn_n_neighbors': 92, 'knn_p': 1, 'knn_weights': 'uniform'}. Best is trial 62 with value: 0.9808788760375832.\n",
      "[I 2025-02-19 16:50:01,567] Trial 88 finished with value: 0.9802255814614035 and parameters: {'scalers': 'standard', 'knn_n_neighbors': 103, 'knn_p': 6, 'knn_weights': 'distance'}. Best is trial 62 with value: 0.9808788760375832.\n",
      "[I 2025-02-19 16:50:01,852] Trial 89 finished with value: 0.9804728574016116 and parameters: {'scalers': 'minmax', 'knn_n_neighbors': 98, 'knn_p': 2, 'knn_weights': 'distance'}. Best is trial 62 with value: 0.9808788760375832.\n",
      "[I 2025-02-19 16:50:02,208] Trial 90 finished with value: 0.980831817860065 and parameters: {'scalers': 'standard', 'knn_n_neighbors': 94, 'knn_p': 1, 'knn_weights': 'distance'}. Best is trial 62 with value: 0.9808788760375832.\n",
      "[I 2025-02-19 16:50:02,584] Trial 91 finished with value: 0.9808626983077756 and parameters: {'scalers': 'standard', 'knn_n_neighbors': 106, 'knn_p': 1, 'knn_weights': 'distance'}. Best is trial 62 with value: 0.9808788760375832.\n",
      "[I 2025-02-19 16:50:02,961] Trial 92 finished with value: 0.9808754213310626 and parameters: {'scalers': 'standard', 'knn_n_neighbors': 107, 'knn_p': 1, 'knn_weights': 'distance'}. Best is trial 62 with value: 0.9808788760375832.\n",
      "[I 2025-02-19 16:50:03,330] Trial 93 finished with value: 0.9808626983077756 and parameters: {'scalers': 'standard', 'knn_n_neighbors': 106, 'knn_p': 1, 'knn_weights': 'distance'}. Best is trial 62 with value: 0.9808788760375832.\n",
      "[I 2025-02-19 16:50:03,703] Trial 94 finished with value: 0.9808754213310626 and parameters: {'scalers': 'standard', 'knn_n_neighbors': 107, 'knn_p': 1, 'knn_weights': 'distance'}. Best is trial 62 with value: 0.9808788760375832.\n",
      "[I 2025-02-19 16:50:04,083] Trial 95 finished with value: 0.9808626983077756 and parameters: {'scalers': 'standard', 'knn_n_neighbors': 106, 'knn_p': 1, 'knn_weights': 'distance'}. Best is trial 62 with value: 0.9808788760375832.\n",
      "[I 2025-02-19 16:50:04,456] Trial 96 finished with value: 0.9808754213310626 and parameters: {'scalers': 'standard', 'knn_n_neighbors': 107, 'knn_p': 1, 'knn_weights': 'distance'}. Best is trial 62 with value: 0.9808788760375832.\n",
      "[I 2025-02-19 16:50:04,760] Trial 97 finished with value: 0.9806721475890777 and parameters: {'scalers': 'standard', 'knn_n_neighbors': 107, 'knn_p': 2, 'knn_weights': 'distance'}. Best is trial 62 with value: 0.9808788760375832.\n",
      "[I 2025-02-19 16:50:05,032] Trial 98 finished with value: 0.9789567468513004 and parameters: {'scalers': 'normalizer', 'knn_n_neighbors': 106, 'knn_p': 1, 'knn_weights': 'distance'}. Best is trial 62 with value: 0.9808788760375832.\n",
      "[I 2025-02-19 16:50:05,340] Trial 99 finished with value: 0.9806955405157421 and parameters: {'scalers': 'standard', 'knn_n_neighbors': 109, 'knn_p': 2, 'knn_weights': 'distance'}. Best is trial 62 with value: 0.9808788760375832.\n"
     ]
    }
   ],
   "source": [
    "def objective(trial):\n",
    "    # Препроцессинг\n",
    "    ## Список скалеров в препроцессинге\n",
    "    scalers = trial.suggest_categorical(\"scalers\", ['minmax', 'standard', 'robust', 'normalizer', 'none'])\n",
    "\n",
    "    ## Определение скалеров\n",
    "    if scalers == \"minmax\":\n",
    "        scaler = MinMaxScaler()\n",
    "    elif scalers == \"standard\":\n",
    "        scaler = StandardScaler()\n",
    "    elif scalers == \"robust\":\n",
    "        scaler = RobustScaler()\n",
    "    elif scalers == \"normalizer\":\n",
    "        scaler = Normalizer()\n",
    "    else:\n",
    "        scaler = 'passthrough'\n",
    "\n",
    "    # Определяем модель машинного обучения\n",
    "    ## количество соседей\n",
    "    knn_n_neighbors=trial.suggest_int(\"knn_n_neighbors\", 60, 120, step=1) \n",
    "    ## степень метрики миньковского\n",
    "    knn_p = trial.suggest_int(\"knn_p\", 1, 10, step=1)\n",
    "    ## влияние растояния\n",
    "    knn_weights=trial.suggest_categorical(\"knn_weights\", ['uniform', 'distance'])\n",
    "\n",
    "    estimator=KNeighborsClassifier(n_neighbors=knn_n_neighbors, p = knn_p, weights=knn_weights)\n",
    "\n",
    "    # Собираем контейнер\n",
    "    pipeline = make_pipeline(scaler, estimator)\n",
    "\n",
    "    # Вычисляем средний результат на кроссвалидации\n",
    "    cv_score = cross_val_score(pipeline, X, y, cv=7, scoring='roc_auc')\n",
    "    score_mean = cv_score.mean()\n",
    "    return score_mean\n",
    "    \n",
    "study = optuna.create_study(direction = \"maximize\") \n",
    "study.optimize(objective, n_trials=100, show_progress_bar=True)"
   ]
  },
  {
   "cell_type": "code",
   "execution_count": 108,
   "id": "9b6a51fb-e0e2-4146-a414-d5a080b31a29",
   "metadata": {},
   "outputs": [
    {
     "data": {
      "application/vnd.plotly.v1+json": {
       "config": {
        "plotlyServerURL": "https://plot.ly"
       },
       "data": [
        {
         "mode": "markers",
         "name": "Objective Value",
         "type": "scatter",
         "x": [
          0,
          1,
          2,
          3,
          4,
          5,
          6,
          7,
          8,
          9,
          10,
          11,
          12,
          13,
          14,
          15,
          16,
          17,
          18,
          19,
          20,
          21,
          22,
          23,
          24,
          25,
          26,
          27,
          28,
          29,
          30,
          31,
          32,
          33,
          34,
          35,
          36,
          37,
          38,
          39,
          40,
          41,
          42,
          43,
          44,
          45,
          46,
          47,
          48,
          49,
          50,
          51,
          52,
          53,
          54,
          55,
          56,
          57,
          58,
          59,
          60,
          61,
          62,
          63,
          64,
          65,
          66,
          67,
          68,
          69,
          70,
          71,
          72,
          73,
          74,
          75,
          76,
          77,
          78,
          79,
          80,
          81,
          82,
          83,
          84,
          85,
          86,
          87,
          88,
          89,
          90,
          91,
          92,
          93,
          94,
          95,
          96,
          97,
          98,
          99
         ],
         "y": [
          0.9783285316599455,
          0.9799202084549652,
          0.9803681036733912,
          0.9786908538815099,
          0.9796603080114838,
          0.9799515275955674,
          0.9799044308465346,
          0.9801315468965675,
          0.9787416051653931,
          0.9798517361159649,
          0.9799964197269337,
          0.9801780669317461,
          0.9801171332326669,
          0.9807828459777513,
          0.9789980360314087,
          0.9808258815645186,
          0.9808254001176587,
          0.9805282563206722,
          0.9802581906565254,
          0.9782032202437586,
          0.979977657705633,
          0.9808254001176587,
          0.9805282526029359,
          0.9808440547893219,
          0.9805743339452232,
          0.9785650182644952,
          0.9807050049431022,
          0.9801384414386628,
          0.9806337573139027,
          0.9783920817159942,
          0.9803002614907053,
          0.9808122086595894,
          0.9807969408457584,
          0.9805431356310531,
          0.9802777106313281,
          0.9789912418681952,
          0.9805065953944384,
          0.9808383071688962,
          0.9803139971324356,
          0.9786711740440435,
          0.9799451154297658,
          0.9807828459777513,
          0.9807571675726542,
          0.98032349548414,
          0.9804324744197431,
          0.980676397891181,
          0.980220802776019,
          0.9790009888435194,
          0.9808254001176587,
          0.9795439707461737,
          0.979934441808652,
          0.9808254001176587,
          0.9805743339452232,
          0.9807776346407967,
          0.979923748669422,
          0.9786688499940962,
          0.9807477491522817,
          0.980835308814515,
          0.9805995095264765,
          0.9804901625349728,
          0.9808450260479482,
          0.980831817860065,
          0.9808788760375832,
          0.980837548750677,
          0.9805499474535141,
          0.9808788760375832,
          0.9808788760375832,
          0.9805880180033614,
          0.9808131622589679,
          0.980233768846321,
          0.9808061989387499,
          0.9808450260479482,
          0.9808278547530962,
          0.9805011772583985,
          0.980839798910614,
          0.980523309872434,
          0.9807909878203983,
          0.9808450260479482,
          0.9805818047364555,
          0.9808176058833624,
          0.9804727560932955,
          0.9808355430319062,
          0.9808587091766522,
          0.9808372903679994,
          0.9808278547530962,
          0.9806545245892571,
          0.9808355430319062,
          0.9789427072846218,
          0.9802255814614035,
          0.9804728574016116,
          0.980831817860065,
          0.9808626983077756,
          0.9808754213310626,
          0.9808626983077756,
          0.9808754213310626,
          0.9808626983077756,
          0.9808754213310626,
          0.9806721475890777,
          0.9789567468513004,
          0.9806955405157421
         ]
        },
        {
         "mode": "lines",
         "name": "Best Value",
         "type": "scatter",
         "x": [
          0,
          1,
          2,
          3,
          4,
          5,
          6,
          7,
          8,
          9,
          10,
          11,
          12,
          13,
          14,
          15,
          16,
          17,
          18,
          19,
          20,
          21,
          22,
          23,
          24,
          25,
          26,
          27,
          28,
          29,
          30,
          31,
          32,
          33,
          34,
          35,
          36,
          37,
          38,
          39,
          40,
          41,
          42,
          43,
          44,
          45,
          46,
          47,
          48,
          49,
          50,
          51,
          52,
          53,
          54,
          55,
          56,
          57,
          58,
          59,
          60,
          61,
          62,
          63,
          64,
          65,
          66,
          67,
          68,
          69,
          70,
          71,
          72,
          73,
          74,
          75,
          76,
          77,
          78,
          79,
          80,
          81,
          82,
          83,
          84,
          85,
          86,
          87,
          88,
          89,
          90,
          91,
          92,
          93,
          94,
          95,
          96,
          97,
          98,
          99
         ],
         "y": [
          0.9783285316599455,
          0.9799202084549652,
          0.9803681036733912,
          0.9803681036733912,
          0.9803681036733912,
          0.9803681036733912,
          0.9803681036733912,
          0.9803681036733912,
          0.9803681036733912,
          0.9803681036733912,
          0.9803681036733912,
          0.9803681036733912,
          0.9803681036733912,
          0.9807828459777513,
          0.9807828459777513,
          0.9808258815645186,
          0.9808258815645186,
          0.9808258815645186,
          0.9808258815645186,
          0.9808258815645186,
          0.9808258815645186,
          0.9808258815645186,
          0.9808258815645186,
          0.9808440547893219,
          0.9808440547893219,
          0.9808440547893219,
          0.9808440547893219,
          0.9808440547893219,
          0.9808440547893219,
          0.9808440547893219,
          0.9808440547893219,
          0.9808440547893219,
          0.9808440547893219,
          0.9808440547893219,
          0.9808440547893219,
          0.9808440547893219,
          0.9808440547893219,
          0.9808440547893219,
          0.9808440547893219,
          0.9808440547893219,
          0.9808440547893219,
          0.9808440547893219,
          0.9808440547893219,
          0.9808440547893219,
          0.9808440547893219,
          0.9808440547893219,
          0.9808440547893219,
          0.9808440547893219,
          0.9808440547893219,
          0.9808440547893219,
          0.9808440547893219,
          0.9808440547893219,
          0.9808440547893219,
          0.9808440547893219,
          0.9808440547893219,
          0.9808440547893219,
          0.9808440547893219,
          0.9808440547893219,
          0.9808440547893219,
          0.9808440547893219,
          0.9808450260479482,
          0.9808450260479482,
          0.9808788760375832,
          0.9808788760375832,
          0.9808788760375832,
          0.9808788760375832,
          0.9808788760375832,
          0.9808788760375832,
          0.9808788760375832,
          0.9808788760375832,
          0.9808788760375832,
          0.9808788760375832,
          0.9808788760375832,
          0.9808788760375832,
          0.9808788760375832,
          0.9808788760375832,
          0.9808788760375832,
          0.9808788760375832,
          0.9808788760375832,
          0.9808788760375832,
          0.9808788760375832,
          0.9808788760375832,
          0.9808788760375832,
          0.9808788760375832,
          0.9808788760375832,
          0.9808788760375832,
          0.9808788760375832,
          0.9808788760375832,
          0.9808788760375832,
          0.9808788760375832,
          0.9808788760375832,
          0.9808788760375832,
          0.9808788760375832,
          0.9808788760375832,
          0.9808788760375832,
          0.9808788760375832,
          0.9808788760375832,
          0.9808788760375832,
          0.9808788760375832,
          0.9808788760375832
         ]
        },
        {
         "marker": {
          "color": "#cccccc"
         },
         "mode": "markers",
         "name": "Infeasible Trial",
         "showlegend": false,
         "type": "scatter",
         "x": [],
         "y": []
        }
       ],
       "layout": {
        "template": {
         "data": {
          "bar": [
           {
            "error_x": {
             "color": "#2a3f5f"
            },
            "error_y": {
             "color": "#2a3f5f"
            },
            "marker": {
             "line": {
              "color": "#E5ECF6",
              "width": 0.5
             },
             "pattern": {
              "fillmode": "overlay",
              "size": 10,
              "solidity": 0.2
             }
            },
            "type": "bar"
           }
          ],
          "barpolar": [
           {
            "marker": {
             "line": {
              "color": "#E5ECF6",
              "width": 0.5
             },
             "pattern": {
              "fillmode": "overlay",
              "size": 10,
              "solidity": 0.2
             }
            },
            "type": "barpolar"
           }
          ],
          "carpet": [
           {
            "aaxis": {
             "endlinecolor": "#2a3f5f",
             "gridcolor": "white",
             "linecolor": "white",
             "minorgridcolor": "white",
             "startlinecolor": "#2a3f5f"
            },
            "baxis": {
             "endlinecolor": "#2a3f5f",
             "gridcolor": "white",
             "linecolor": "white",
             "minorgridcolor": "white",
             "startlinecolor": "#2a3f5f"
            },
            "type": "carpet"
           }
          ],
          "choropleth": [
           {
            "colorbar": {
             "outlinewidth": 0,
             "ticks": ""
            },
            "type": "choropleth"
           }
          ],
          "contour": [
           {
            "colorbar": {
             "outlinewidth": 0,
             "ticks": ""
            },
            "colorscale": [
             [
              0,
              "#0d0887"
             ],
             [
              0.1111111111111111,
              "#46039f"
             ],
             [
              0.2222222222222222,
              "#7201a8"
             ],
             [
              0.3333333333333333,
              "#9c179e"
             ],
             [
              0.4444444444444444,
              "#bd3786"
             ],
             [
              0.5555555555555556,
              "#d8576b"
             ],
             [
              0.6666666666666666,
              "#ed7953"
             ],
             [
              0.7777777777777778,
              "#fb9f3a"
             ],
             [
              0.8888888888888888,
              "#fdca26"
             ],
             [
              1,
              "#f0f921"
             ]
            ],
            "type": "contour"
           }
          ],
          "contourcarpet": [
           {
            "colorbar": {
             "outlinewidth": 0,
             "ticks": ""
            },
            "type": "contourcarpet"
           }
          ],
          "heatmap": [
           {
            "colorbar": {
             "outlinewidth": 0,
             "ticks": ""
            },
            "colorscale": [
             [
              0,
              "#0d0887"
             ],
             [
              0.1111111111111111,
              "#46039f"
             ],
             [
              0.2222222222222222,
              "#7201a8"
             ],
             [
              0.3333333333333333,
              "#9c179e"
             ],
             [
              0.4444444444444444,
              "#bd3786"
             ],
             [
              0.5555555555555556,
              "#d8576b"
             ],
             [
              0.6666666666666666,
              "#ed7953"
             ],
             [
              0.7777777777777778,
              "#fb9f3a"
             ],
             [
              0.8888888888888888,
              "#fdca26"
             ],
             [
              1,
              "#f0f921"
             ]
            ],
            "type": "heatmap"
           }
          ],
          "heatmapgl": [
           {
            "colorbar": {
             "outlinewidth": 0,
             "ticks": ""
            },
            "colorscale": [
             [
              0,
              "#0d0887"
             ],
             [
              0.1111111111111111,
              "#46039f"
             ],
             [
              0.2222222222222222,
              "#7201a8"
             ],
             [
              0.3333333333333333,
              "#9c179e"
             ],
             [
              0.4444444444444444,
              "#bd3786"
             ],
             [
              0.5555555555555556,
              "#d8576b"
             ],
             [
              0.6666666666666666,
              "#ed7953"
             ],
             [
              0.7777777777777778,
              "#fb9f3a"
             ],
             [
              0.8888888888888888,
              "#fdca26"
             ],
             [
              1,
              "#f0f921"
             ]
            ],
            "type": "heatmapgl"
           }
          ],
          "histogram": [
           {
            "marker": {
             "pattern": {
              "fillmode": "overlay",
              "size": 10,
              "solidity": 0.2
             }
            },
            "type": "histogram"
           }
          ],
          "histogram2d": [
           {
            "colorbar": {
             "outlinewidth": 0,
             "ticks": ""
            },
            "colorscale": [
             [
              0,
              "#0d0887"
             ],
             [
              0.1111111111111111,
              "#46039f"
             ],
             [
              0.2222222222222222,
              "#7201a8"
             ],
             [
              0.3333333333333333,
              "#9c179e"
             ],
             [
              0.4444444444444444,
              "#bd3786"
             ],
             [
              0.5555555555555556,
              "#d8576b"
             ],
             [
              0.6666666666666666,
              "#ed7953"
             ],
             [
              0.7777777777777778,
              "#fb9f3a"
             ],
             [
              0.8888888888888888,
              "#fdca26"
             ],
             [
              1,
              "#f0f921"
             ]
            ],
            "type": "histogram2d"
           }
          ],
          "histogram2dcontour": [
           {
            "colorbar": {
             "outlinewidth": 0,
             "ticks": ""
            },
            "colorscale": [
             [
              0,
              "#0d0887"
             ],
             [
              0.1111111111111111,
              "#46039f"
             ],
             [
              0.2222222222222222,
              "#7201a8"
             ],
             [
              0.3333333333333333,
              "#9c179e"
             ],
             [
              0.4444444444444444,
              "#bd3786"
             ],
             [
              0.5555555555555556,
              "#d8576b"
             ],
             [
              0.6666666666666666,
              "#ed7953"
             ],
             [
              0.7777777777777778,
              "#fb9f3a"
             ],
             [
              0.8888888888888888,
              "#fdca26"
             ],
             [
              1,
              "#f0f921"
             ]
            ],
            "type": "histogram2dcontour"
           }
          ],
          "mesh3d": [
           {
            "colorbar": {
             "outlinewidth": 0,
             "ticks": ""
            },
            "type": "mesh3d"
           }
          ],
          "parcoords": [
           {
            "line": {
             "colorbar": {
              "outlinewidth": 0,
              "ticks": ""
             }
            },
            "type": "parcoords"
           }
          ],
          "pie": [
           {
            "automargin": true,
            "type": "pie"
           }
          ],
          "scatter": [
           {
            "fillpattern": {
             "fillmode": "overlay",
             "size": 10,
             "solidity": 0.2
            },
            "type": "scatter"
           }
          ],
          "scatter3d": [
           {
            "line": {
             "colorbar": {
              "outlinewidth": 0,
              "ticks": ""
             }
            },
            "marker": {
             "colorbar": {
              "outlinewidth": 0,
              "ticks": ""
             }
            },
            "type": "scatter3d"
           }
          ],
          "scattercarpet": [
           {
            "marker": {
             "colorbar": {
              "outlinewidth": 0,
              "ticks": ""
             }
            },
            "type": "scattercarpet"
           }
          ],
          "scattergeo": [
           {
            "marker": {
             "colorbar": {
              "outlinewidth": 0,
              "ticks": ""
             }
            },
            "type": "scattergeo"
           }
          ],
          "scattergl": [
           {
            "marker": {
             "colorbar": {
              "outlinewidth": 0,
              "ticks": ""
             }
            },
            "type": "scattergl"
           }
          ],
          "scattermapbox": [
           {
            "marker": {
             "colorbar": {
              "outlinewidth": 0,
              "ticks": ""
             }
            },
            "type": "scattermapbox"
           }
          ],
          "scatterpolar": [
           {
            "marker": {
             "colorbar": {
              "outlinewidth": 0,
              "ticks": ""
             }
            },
            "type": "scatterpolar"
           }
          ],
          "scatterpolargl": [
           {
            "marker": {
             "colorbar": {
              "outlinewidth": 0,
              "ticks": ""
             }
            },
            "type": "scatterpolargl"
           }
          ],
          "scatterternary": [
           {
            "marker": {
             "colorbar": {
              "outlinewidth": 0,
              "ticks": ""
             }
            },
            "type": "scatterternary"
           }
          ],
          "surface": [
           {
            "colorbar": {
             "outlinewidth": 0,
             "ticks": ""
            },
            "colorscale": [
             [
              0,
              "#0d0887"
             ],
             [
              0.1111111111111111,
              "#46039f"
             ],
             [
              0.2222222222222222,
              "#7201a8"
             ],
             [
              0.3333333333333333,
              "#9c179e"
             ],
             [
              0.4444444444444444,
              "#bd3786"
             ],
             [
              0.5555555555555556,
              "#d8576b"
             ],
             [
              0.6666666666666666,
              "#ed7953"
             ],
             [
              0.7777777777777778,
              "#fb9f3a"
             ],
             [
              0.8888888888888888,
              "#fdca26"
             ],
             [
              1,
              "#f0f921"
             ]
            ],
            "type": "surface"
           }
          ],
          "table": [
           {
            "cells": {
             "fill": {
              "color": "#EBF0F8"
             },
             "line": {
              "color": "white"
             }
            },
            "header": {
             "fill": {
              "color": "#C8D4E3"
             },
             "line": {
              "color": "white"
             }
            },
            "type": "table"
           }
          ]
         },
         "layout": {
          "annotationdefaults": {
           "arrowcolor": "#2a3f5f",
           "arrowhead": 0,
           "arrowwidth": 1
          },
          "autotypenumbers": "strict",
          "coloraxis": {
           "colorbar": {
            "outlinewidth": 0,
            "ticks": ""
           }
          },
          "colorscale": {
           "diverging": [
            [
             0,
             "#8e0152"
            ],
            [
             0.1,
             "#c51b7d"
            ],
            [
             0.2,
             "#de77ae"
            ],
            [
             0.3,
             "#f1b6da"
            ],
            [
             0.4,
             "#fde0ef"
            ],
            [
             0.5,
             "#f7f7f7"
            ],
            [
             0.6,
             "#e6f5d0"
            ],
            [
             0.7,
             "#b8e186"
            ],
            [
             0.8,
             "#7fbc41"
            ],
            [
             0.9,
             "#4d9221"
            ],
            [
             1,
             "#276419"
            ]
           ],
           "sequential": [
            [
             0,
             "#0d0887"
            ],
            [
             0.1111111111111111,
             "#46039f"
            ],
            [
             0.2222222222222222,
             "#7201a8"
            ],
            [
             0.3333333333333333,
             "#9c179e"
            ],
            [
             0.4444444444444444,
             "#bd3786"
            ],
            [
             0.5555555555555556,
             "#d8576b"
            ],
            [
             0.6666666666666666,
             "#ed7953"
            ],
            [
             0.7777777777777778,
             "#fb9f3a"
            ],
            [
             0.8888888888888888,
             "#fdca26"
            ],
            [
             1,
             "#f0f921"
            ]
           ],
           "sequentialminus": [
            [
             0,
             "#0d0887"
            ],
            [
             0.1111111111111111,
             "#46039f"
            ],
            [
             0.2222222222222222,
             "#7201a8"
            ],
            [
             0.3333333333333333,
             "#9c179e"
            ],
            [
             0.4444444444444444,
             "#bd3786"
            ],
            [
             0.5555555555555556,
             "#d8576b"
            ],
            [
             0.6666666666666666,
             "#ed7953"
            ],
            [
             0.7777777777777778,
             "#fb9f3a"
            ],
            [
             0.8888888888888888,
             "#fdca26"
            ],
            [
             1,
             "#f0f921"
            ]
           ]
          },
          "colorway": [
           "#636efa",
           "#EF553B",
           "#00cc96",
           "#ab63fa",
           "#FFA15A",
           "#19d3f3",
           "#FF6692",
           "#B6E880",
           "#FF97FF",
           "#FECB52"
          ],
          "font": {
           "color": "#2a3f5f"
          },
          "geo": {
           "bgcolor": "white",
           "lakecolor": "white",
           "landcolor": "#E5ECF6",
           "showlakes": true,
           "showland": true,
           "subunitcolor": "white"
          },
          "hoverlabel": {
           "align": "left"
          },
          "hovermode": "closest",
          "mapbox": {
           "style": "light"
          },
          "paper_bgcolor": "white",
          "plot_bgcolor": "#E5ECF6",
          "polar": {
           "angularaxis": {
            "gridcolor": "white",
            "linecolor": "white",
            "ticks": ""
           },
           "bgcolor": "#E5ECF6",
           "radialaxis": {
            "gridcolor": "white",
            "linecolor": "white",
            "ticks": ""
           }
          },
          "scene": {
           "xaxis": {
            "backgroundcolor": "#E5ECF6",
            "gridcolor": "white",
            "gridwidth": 2,
            "linecolor": "white",
            "showbackground": true,
            "ticks": "",
            "zerolinecolor": "white"
           },
           "yaxis": {
            "backgroundcolor": "#E5ECF6",
            "gridcolor": "white",
            "gridwidth": 2,
            "linecolor": "white",
            "showbackground": true,
            "ticks": "",
            "zerolinecolor": "white"
           },
           "zaxis": {
            "backgroundcolor": "#E5ECF6",
            "gridcolor": "white",
            "gridwidth": 2,
            "linecolor": "white",
            "showbackground": true,
            "ticks": "",
            "zerolinecolor": "white"
           }
          },
          "shapedefaults": {
           "line": {
            "color": "#2a3f5f"
           }
          },
          "ternary": {
           "aaxis": {
            "gridcolor": "white",
            "linecolor": "white",
            "ticks": ""
           },
           "baxis": {
            "gridcolor": "white",
            "linecolor": "white",
            "ticks": ""
           },
           "bgcolor": "#E5ECF6",
           "caxis": {
            "gridcolor": "white",
            "linecolor": "white",
            "ticks": ""
           }
          },
          "title": {
           "x": 0.05
          },
          "xaxis": {
           "automargin": true,
           "gridcolor": "white",
           "linecolor": "white",
           "ticks": "",
           "title": {
            "standoff": 15
           },
           "zerolinecolor": "white",
           "zerolinewidth": 2
          },
          "yaxis": {
           "automargin": true,
           "gridcolor": "white",
           "linecolor": "white",
           "ticks": "",
           "title": {
            "standoff": 15
           },
           "zerolinecolor": "white",
           "zerolinewidth": 2
          }
         }
        },
        "title": {
         "text": "Optimization History Plot"
        },
        "xaxis": {
         "title": {
          "text": "Trial"
         }
        },
        "yaxis": {
         "title": {
          "text": "Objective Value"
         }
        }
       }
      },
      "image/png": "[encoded data removed]",
      "text/html": [
       "<div>                            <div id=\"fd5212e0-faba-4b41-8930-6a182621e94f\" class=\"plotly-graph-div\" style=\"height:525px; width:100%;\"></div>            <script type=\"text/javascript\">                require([\"plotly\"], function(Plotly) {                    window.PLOTLYENV=window.PLOTLYENV || {};                                    if (document.getElementById(\"fd5212e0-faba-4b41-8930-6a182621e94f\")) {                    Plotly.newPlot(                        \"fd5212e0-faba-4b41-8930-6a182621e94f\",                        [{\"mode\":\"markers\",\"name\":\"Objective Value\",\"x\":[0,1,2,3,4,5,6,7,8,9,10,11,12,13,14,15,16,17,18,19,20,21,22,23,24,25,26,27,28,29,30,31,32,33,34,35,36,37,38,39,40,41,42,43,44,45,46,47,48,49,50,51,52,53,54,55,56,57,58,59,60,61,62,63,64,65,66,67,68,69,70,71,72,73,74,75,76,77,78,79,80,81,82,83,84,85,86,87,88,89,90,91,92,93,94,95,96,97,98,99],\"y\":[0.9783285316599455,0.9799202084549652,0.9803681036733912,0.9786908538815099,0.9796603080114838,0.9799515275955674,0.9799044308465346,0.9801315468965675,0.9787416051653931,0.9798517361159649,0.9799964197269337,0.9801780669317461,0.9801171332326669,0.9807828459777513,0.9789980360314087,0.9808258815645186,0.9808254001176587,0.9805282563206722,0.9802581906565254,0.9782032202437586,0.979977657705633,0.9808254001176587,0.9805282526029359,0.9808440547893219,0.9805743339452232,0.9785650182644952,0.9807050049431022,0.9801384414386628,0.9806337573139027,0.9783920817159942,0.9803002614907053,0.9808122086595894,0.9807969408457584,0.9805431356310531,0.9802777106313281,0.9789912418681952,0.9805065953944384,0.9808383071688962,0.9803139971324356,0.9786711740440435,0.9799451154297658,0.9807828459777513,0.9807571675726542,0.98032349548414,0.9804324744197431,0.980676397891181,0.980220802776019,0.9790009888435194,0.9808254001176587,0.9795439707461737,0.979934441808652,0.9808254001176587,0.9805743339452232,0.9807776346407967,0.979923748669422,0.9786688499940962,0.9807477491522817,0.980835308814515,0.9805995095264765,0.9804901625349728,0.9808450260479482,0.980831817860065,0.9808788760375832,0.980837548750677,0.9805499474535141,0.9808788760375832,0.9808788760375832,0.9805880180033614,0.9808131622589679,0.980233768846321,0.9808061989387499,0.9808450260479482,0.9808278547530962,0.9805011772583985,0.980839798910614,0.980523309872434,0.9807909878203983,0.9808450260479482,0.9805818047364555,0.9808176058833624,0.9804727560932955,0.9808355430319062,0.9808587091766522,0.9808372903679994,0.9808278547530962,0.9806545245892571,0.9808355430319062,0.9789427072846218,0.9802255814614035,0.9804728574016116,0.980831817860065,0.9808626983077756,0.9808754213310626,0.9808626983077756,0.9808754213310626,0.9808626983077756,0.9808754213310626,0.9806721475890777,0.9789567468513004,0.9806955405157421],\"type\":\"scatter\"},{\"mode\":\"lines\",\"name\":\"Best Value\",\"x\":[0,1,2,3,4,5,6,7,8,9,10,11,12,13,14,15,16,17,18,19,20,21,22,23,24,25,26,27,28,29,30,31,32,33,34,35,36,37,38,39,40,41,42,43,44,45,46,47,48,49,50,51,52,53,54,55,56,57,58,59,60,61,62,63,64,65,66,67,68,69,70,71,72,73,74,75,76,77,78,79,80,81,82,83,84,85,86,87,88,89,90,91,92,93,94,95,96,97,98,99],\"y\":[0.9783285316599455,0.9799202084549652,0.9803681036733912,0.9803681036733912,0.9803681036733912,0.9803681036733912,0.9803681036733912,0.9803681036733912,0.9803681036733912,0.9803681036733912,0.9803681036733912,0.9803681036733912,0.9803681036733912,0.9807828459777513,0.9807828459777513,0.9808258815645186,0.9808258815645186,0.9808258815645186,0.9808258815645186,0.9808258815645186,0.9808258815645186,0.9808258815645186,0.9808258815645186,0.9808440547893219,0.9808440547893219,0.9808440547893219,0.9808440547893219,0.9808440547893219,0.9808440547893219,0.9808440547893219,0.9808440547893219,0.9808440547893219,0.9808440547893219,0.9808440547893219,0.9808440547893219,0.9808440547893219,0.9808440547893219,0.9808440547893219,0.9808440547893219,0.9808440547893219,0.9808440547893219,0.9808440547893219,0.9808440547893219,0.9808440547893219,0.9808440547893219,0.9808440547893219,0.9808440547893219,0.9808440547893219,0.9808440547893219,0.9808440547893219,0.9808440547893219,0.9808440547893219,0.9808440547893219,0.9808440547893219,0.9808440547893219,0.9808440547893219,0.9808440547893219,0.9808440547893219,0.9808440547893219,0.9808440547893219,0.9808450260479482,0.9808450260479482,0.9808788760375832,0.9808788760375832,0.9808788760375832,0.9808788760375832,0.9808788760375832,0.9808788760375832,0.9808788760375832,0.9808788760375832,0.9808788760375832,0.9808788760375832,0.9808788760375832,0.9808788760375832,0.9808788760375832,0.9808788760375832,0.9808788760375832,0.9808788760375832,0.9808788760375832,0.9808788760375832,0.9808788760375832,0.9808788760375832,0.9808788760375832,0.9808788760375832,0.9808788760375832,0.9808788760375832,0.9808788760375832,0.9808788760375832,0.9808788760375832,0.9808788760375832,0.9808788760375832,0.9808788760375832,0.9808788760375832,0.9808788760375832,0.9808788760375832,0.9808788760375832,0.9808788760375832,0.9808788760375832,0.9808788760375832,0.9808788760375832],\"type\":\"scatter\"},{\"marker\":{\"color\":\"#cccccc\"},\"mode\":\"markers\",\"name\":\"Infeasible Trial\",\"showlegend\":false,\"x\":[],\"y\":[],\"type\":\"scatter\"}],                        {\"title\":{\"text\":\"Optimization History Plot\"},\"xaxis\":{\"title\":{\"text\":\"Trial\"}},\"yaxis\":{\"title\":{\"text\":\"Objective Value\"}},\"template\":{\"data\":{\"histogram2dcontour\":[{\"type\":\"histogram2dcontour\",\"colorbar\":{\"outlinewidth\":0,\"ticks\":\"\"},\"colorscale\":[[0.0,\"#0d0887\"],[0.1111111111111111,\"#46039f\"],[0.2222222222222222,\"#7201a8\"],[0.3333333333333333,\"#9c179e\"],[0.4444444444444444,\"#bd3786\"],[0.5555555555555556,\"#d8576b\"],[0.6666666666666666,\"#ed7953\"],[0.7777777777777778,\"#fb9f3a\"],[0.8888888888888888,\"#fdca26\"],[1.0,\"#f0f921\"]]}],\"choropleth\":[{\"type\":\"choropleth\",\"colorbar\":{\"outlinewidth\":0,\"ticks\":\"\"}}],\"histogram2d\":[{\"type\":\"histogram2d\",\"colorbar\":{\"outlinewidth\":0,\"ticks\":\"\"},\"colorscale\":[[0.0,\"#0d0887\"],[0.1111111111111111,\"#46039f\"],[0.2222222222222222,\"#7201a8\"],[0.3333333333333333,\"#9c179e\"],[0.4444444444444444,\"#bd3786\"],[0.5555555555555556,\"#d8576b\"],[0.6666666666666666,\"#ed7953\"],[0.7777777777777778,\"#fb9f3a\"],[0.8888888888888888,\"#fdca26\"],[1.0,\"#f0f921\"]]}],\"heatmap\":[{\"type\":\"heatmap\",\"colorbar\":{\"outlinewidth\":0,\"ticks\":\"\"},\"colorscale\":[[0.0,\"#0d0887\"],[0.1111111111111111,\"#46039f\"],[0.2222222222222222,\"#7201a8\"],[0.3333333333333333,\"#9c179e\"],[0.4444444444444444,\"#bd3786\"],[0.5555555555555556,\"#d8576b\"],[0.6666666666666666,\"#ed7953\"],[0.7777777777777778,\"#fb9f3a\"],[0.8888888888888888,\"#fdca26\"],[1.0,\"#f0f921\"]]}],\"heatmapgl\":[{\"type\":\"heatmapgl\",\"colorbar\":{\"outlinewidth\":0,\"ticks\":\"\"},\"colorscale\":[[0.0,\"#0d0887\"],[0.1111111111111111,\"#46039f\"],[0.2222222222222222,\"#7201a8\"],[0.3333333333333333,\"#9c179e\"],[0.4444444444444444,\"#bd3786\"],[0.5555555555555556,\"#d8576b\"],[0.6666666666666666,\"#ed7953\"],[0.7777777777777778,\"#fb9f3a\"],[0.8888888888888888,\"#fdca26\"],[1.0,\"#f0f921\"]]}],\"contourcarpet\":[{\"type\":\"contourcarpet\",\"colorbar\":{\"outlinewidth\":0,\"ticks\":\"\"}}],\"contour\":[{\"type\":\"contour\",\"colorbar\":{\"outlinewidth\":0,\"ticks\":\"\"},\"colorscale\":[[0.0,\"#0d0887\"],[0.1111111111111111,\"#46039f\"],[0.2222222222222222,\"#7201a8\"],[0.3333333333333333,\"#9c179e\"],[0.4444444444444444,\"#bd3786\"],[0.5555555555555556,\"#d8576b\"],[0.6666666666666666,\"#ed7953\"],[0.7777777777777778,\"#fb9f3a\"],[0.8888888888888888,\"#fdca26\"],[1.0,\"#f0f921\"]]}],\"surface\":[{\"type\":\"surface\",\"colorbar\":{\"outlinewidth\":0,\"ticks\":\"\"},\"colorscale\":[[0.0,\"#0d0887\"],[0.1111111111111111,\"#46039f\"],[0.2222222222222222,\"#7201a8\"],[0.3333333333333333,\"#9c179e\"],[0.4444444444444444,\"#bd3786\"],[0.5555555555555556,\"#d8576b\"],[0.6666666666666666,\"#ed7953\"],[0.7777777777777778,\"#fb9f3a\"],[0.8888888888888888,\"#fdca26\"],[1.0,\"#f0f921\"]]}],\"mesh3d\":[{\"type\":\"mesh3d\",\"colorbar\":{\"outlinewidth\":0,\"ticks\":\"\"}}],\"scatter\":[{\"fillpattern\":{\"fillmode\":\"overlay\",\"size\":10,\"solidity\":0.2},\"type\":\"scatter\"}],\"parcoords\":[{\"type\":\"parcoords\",\"line\":{\"colorbar\":{\"outlinewidth\":0,\"ticks\":\"\"}}}],\"scatterpolargl\":[{\"type\":\"scatterpolargl\",\"marker\":{\"colorbar\":{\"outlinewidth\":0,\"ticks\":\"\"}}}],\"bar\":[{\"error_x\":{\"color\":\"#2a3f5f\"},\"error_y\":{\"color\":\"#2a3f5f\"},\"marker\":{\"line\":{\"color\":\"#E5ECF6\",\"width\":0.5},\"pattern\":{\"fillmode\":\"overlay\",\"size\":10,\"solidity\":0.2}},\"type\":\"bar\"}],\"scattergeo\":[{\"type\":\"scattergeo\",\"marker\":{\"colorbar\":{\"outlinewidth\":0,\"ticks\":\"\"}}}],\"scatterpolar\":[{\"type\":\"scatterpolar\",\"marker\":{\"colorbar\":{\"outlinewidth\":0,\"ticks\":\"\"}}}],\"histogram\":[{\"marker\":{\"pattern\":{\"fillmode\":\"overlay\",\"size\":10,\"solidity\":0.2}},\"type\":\"histogram\"}],\"scattergl\":[{\"type\":\"scattergl\",\"marker\":{\"colorbar\":{\"outlinewidth\":0,\"ticks\":\"\"}}}],\"scatter3d\":[{\"type\":\"scatter3d\",\"line\":{\"colorbar\":{\"outlinewidth\":0,\"ticks\":\"\"}},\"marker\":{\"colorbar\":{\"outlinewidth\":0,\"ticks\":\"\"}}}],\"scattermapbox\":[{\"type\":\"scattermapbox\",\"marker\":{\"colorbar\":{\"outlinewidth\":0,\"ticks\":\"\"}}}],\"scatterternary\":[{\"type\":\"scatterternary\",\"marker\":{\"colorbar\":{\"outlinewidth\":0,\"ticks\":\"\"}}}],\"scattercarpet\":[{\"type\":\"scattercarpet\",\"marker\":{\"colorbar\":{\"outlinewidth\":0,\"ticks\":\"\"}}}],\"carpet\":[{\"aaxis\":{\"endlinecolor\":\"#2a3f5f\",\"gridcolor\":\"white\",\"linecolor\":\"white\",\"minorgridcolor\":\"white\",\"startlinecolor\":\"#2a3f5f\"},\"baxis\":{\"endlinecolor\":\"#2a3f5f\",\"gridcolor\":\"white\",\"linecolor\":\"white\",\"minorgridcolor\":\"white\",\"startlinecolor\":\"#2a3f5f\"},\"type\":\"carpet\"}],\"table\":[{\"cells\":{\"fill\":{\"color\":\"#EBF0F8\"},\"line\":{\"color\":\"white\"}},\"header\":{\"fill\":{\"color\":\"#C8D4E3\"},\"line\":{\"color\":\"white\"}},\"type\":\"table\"}],\"barpolar\":[{\"marker\":{\"line\":{\"color\":\"#E5ECF6\",\"width\":0.5},\"pattern\":{\"fillmode\":\"overlay\",\"size\":10,\"solidity\":0.2}},\"type\":\"barpolar\"}],\"pie\":[{\"automargin\":true,\"type\":\"pie\"}]},\"layout\":{\"autotypenumbers\":\"strict\",\"colorway\":[\"#636efa\",\"#EF553B\",\"#00cc96\",\"#ab63fa\",\"#FFA15A\",\"#19d3f3\",\"#FF6692\",\"#B6E880\",\"#FF97FF\",\"#FECB52\"],\"font\":{\"color\":\"#2a3f5f\"},\"hovermode\":\"closest\",\"hoverlabel\":{\"align\":\"left\"},\"paper_bgcolor\":\"white\",\"plot_bgcolor\":\"#E5ECF6\",\"polar\":{\"bgcolor\":\"#E5ECF6\",\"angularaxis\":{\"gridcolor\":\"white\",\"linecolor\":\"white\",\"ticks\":\"\"},\"radialaxis\":{\"gridcolor\":\"white\",\"linecolor\":\"white\",\"ticks\":\"\"}},\"ternary\":{\"bgcolor\":\"#E5ECF6\",\"aaxis\":{\"gridcolor\":\"white\",\"linecolor\":\"white\",\"ticks\":\"\"},\"baxis\":{\"gridcolor\":\"white\",\"linecolor\":\"white\",\"ticks\":\"\"},\"caxis\":{\"gridcolor\":\"white\",\"linecolor\":\"white\",\"ticks\":\"\"}},\"coloraxis\":{\"colorbar\":{\"outlinewidth\":0,\"ticks\":\"\"}},\"colorscale\":{\"sequential\":[[0.0,\"#0d0887\"],[0.1111111111111111,\"#46039f\"],[0.2222222222222222,\"#7201a8\"],[0.3333333333333333,\"#9c179e\"],[0.4444444444444444,\"#bd3786\"],[0.5555555555555556,\"#d8576b\"],[0.6666666666666666,\"#ed7953\"],[0.7777777777777778,\"#fb9f3a\"],[0.8888888888888888,\"#fdca26\"],[1.0,\"#f0f921\"]],\"sequentialminus\":[[0.0,\"#0d0887\"],[0.1111111111111111,\"#46039f\"],[0.2222222222222222,\"#7201a8\"],[0.3333333333333333,\"#9c179e\"],[0.4444444444444444,\"#bd3786\"],[0.5555555555555556,\"#d8576b\"],[0.6666666666666666,\"#ed7953\"],[0.7777777777777778,\"#fb9f3a\"],[0.8888888888888888,\"#fdca26\"],[1.0,\"#f0f921\"]],\"diverging\":[[0,\"#8e0152\"],[0.1,\"#c51b7d\"],[0.2,\"#de77ae\"],[0.3,\"#f1b6da\"],[0.4,\"#fde0ef\"],[0.5,\"#f7f7f7\"],[0.6,\"#e6f5d0\"],[0.7,\"#b8e186\"],[0.8,\"#7fbc41\"],[0.9,\"#4d9221\"],[1,\"#276419\"]]},\"xaxis\":{\"gridcolor\":\"white\",\"linecolor\":\"white\",\"ticks\":\"\",\"title\":{\"standoff\":15},\"zerolinecolor\":\"white\",\"automargin\":true,\"zerolinewidth\":2},\"yaxis\":{\"gridcolor\":\"white\",\"linecolor\":\"white\",\"ticks\":\"\",\"title\":{\"standoff\":15},\"zerolinecolor\":\"white\",\"automargin\":true,\"zerolinewidth\":2},\"scene\":{\"xaxis\":{\"backgroundcolor\":\"#E5ECF6\",\"gridcolor\":\"white\",\"linecolor\":\"white\",\"showbackground\":true,\"ticks\":\"\",\"zerolinecolor\":\"white\",\"gridwidth\":2},\"yaxis\":{\"backgroundcolor\":\"#E5ECF6\",\"gridcolor\":\"white\",\"linecolor\":\"white\",\"showbackground\":true,\"ticks\":\"\",\"zerolinecolor\":\"white\",\"gridwidth\":2},\"zaxis\":{\"backgroundcolor\":\"#E5ECF6\",\"gridcolor\":\"white\",\"linecolor\":\"white\",\"showbackground\":true,\"ticks\":\"\",\"zerolinecolor\":\"white\",\"gridwidth\":2}},\"shapedefaults\":{\"line\":{\"color\":\"#2a3f5f\"}},\"annotationdefaults\":{\"arrowcolor\":\"#2a3f5f\",\"arrowhead\":0,\"arrowwidth\":1},\"geo\":{\"bgcolor\":\"white\",\"landcolor\":\"#E5ECF6\",\"subunitcolor\":\"white\",\"showland\":true,\"showlakes\":true,\"lakecolor\":\"white\"},\"title\":{\"x\":0.05},\"mapbox\":{\"style\":\"light\"}}}},                        {\"responsive\": true}                    ).then(function(){\n",
       "                            \n",
       "var gd = document.getElementById('fd5212e0-faba-4b41-8930-6a182621e94f');\n",
       "var x = new MutationObserver(function (mutations, observer) {{\n",
       "        var display = window.getComputedStyle(gd).display;\n",
       "        if (!display || display === 'none') {{\n",
       "            console.log([gd, 'removed!']);\n",
       "            Plotly.purge(gd);\n",
       "            observer.disconnect();\n",
       "        }}\n",
       "}});\n",
       "\n",
       "// Listen for the removal of the full notebook cells\n",
       "var notebookContainer = gd.closest('#notebook-container');\n",
       "if (notebookContainer) {{\n",
       "    x.observe(notebookContainer, {childList: true});\n",
       "}}\n",
       "\n",
       "// Listen for the clearing of the current output cell\n",
       "var outputEl = gd.closest('.output');\n",
       "if (outputEl) {{\n",
       "    x.observe(outputEl, {childList: true});\n",
       "}}\n",
       "\n",
       "                        })                };                });            </script>        </div>"
      ]
     },
     "metadata": {},
     "output_type": "display_data"
    }
   ],
   "source": [
    "optuna.visualization.plot_optimization_history(study)"
   ]
  },
  {
   "cell_type": "code",
   "execution_count": 109,
   "id": "94d58531-c677-4dd9-85b1-2683f171fa71",
   "metadata": {},
   "outputs": [
    {
     "data": {
      "text/plain": [
       "{'scalers': 'standard',\n",
       " 'knn_n_neighbors': 97,\n",
       " 'knn_p': 1,\n",
       " 'knn_weights': 'distance'}"
      ]
     },
     "execution_count": 109,
     "metadata": {},
     "output_type": "execute_result"
    }
   ],
   "source": [
    "study.best_trial.params"
   ]
  },
  {
   "cell_type": "code",
   "execution_count": 110,
   "id": "ff7ddfcc-bf18-4896-adb2-6d5bf9771ebb",
   "metadata": {},
   "outputs": [
    {
     "data": {
      "text/html": [
       "<style>#sk-container-id-3 {\n",
       "  /* Definition of color scheme common for light and dark mode */\n",
       "  --sklearn-color-text: #000;\n",
       "  --sklearn-color-text-muted: #666;\n",
       "  --sklearn-color-line: gray;\n",
       "  /* Definition of color scheme for unfitted estimators */\n",
       "  --sklearn-color-unfitted-level-0: #fff5e6;\n",
       "  --sklearn-color-unfitted-level-1: #f6e4d2;\n",
       "  --sklearn-color-unfitted-level-2: #ffe0b3;\n",
       "  --sklearn-color-unfitted-level-3: chocolate;\n",
       "  /* Definition of color scheme for fitted estimators */\n",
       "  --sklearn-color-fitted-level-0: #f0f8ff;\n",
       "  --sklearn-color-fitted-level-1: #d4ebff;\n",
       "  --sklearn-color-fitted-level-2: #b3dbfd;\n",
       "  --sklearn-color-fitted-level-3: cornflowerblue;\n",
       "\n",
       "  /* Specific color for light theme */\n",
       "  --sklearn-color-text-on-default-background: var(--sg-text-color, var(--theme-code-foreground, var(--jp-content-font-color1, black)));\n",
       "  --sklearn-color-background: var(--sg-background-color, var(--theme-background, var(--jp-layout-color0, white)));\n",
       "  --sklearn-color-border-box: var(--sg-text-color, var(--theme-code-foreground, var(--jp-content-font-color1, black)));\n",
       "  --sklearn-color-icon: #696969;\n",
       "\n",
       "  @media (prefers-color-scheme: dark) {\n",
       "    /* Redefinition of color scheme for dark theme */\n",
       "    --sklearn-color-text-on-default-background: var(--sg-text-color, var(--theme-code-foreground, var(--jp-content-font-color1, white)));\n",
       "    --sklearn-color-background: var(--sg-background-color, var(--theme-background, var(--jp-layout-color0, #111)));\n",
       "    --sklearn-color-border-box: var(--sg-text-color, var(--theme-code-foreground, var(--jp-content-font-color1, white)));\n",
       "    --sklearn-color-icon: #878787;\n",
       "  }\n",
       "}\n",
       "\n",
       "#sk-container-id-3 {\n",
       "  color: var(--sklearn-color-text);\n",
       "}\n",
       "\n",
       "#sk-container-id-3 pre {\n",
       "  padding: 0;\n",
       "}\n",
       "\n",
       "#sk-container-id-3 input.sk-hidden--visually {\n",
       "  border: 0;\n",
       "  clip: rect(1px 1px 1px 1px);\n",
       "  clip: rect(1px, 1px, 1px, 1px);\n",
       "  height: 1px;\n",
       "  margin: -1px;\n",
       "  overflow: hidden;\n",
       "  padding: 0;\n",
       "  position: absolute;\n",
       "  width: 1px;\n",
       "}\n",
       "\n",
       "#sk-container-id-3 div.sk-dashed-wrapped {\n",
       "  border: 1px dashed var(--sklearn-color-line);\n",
       "  margin: 0 0.4em 0.5em 0.4em;\n",
       "  box-sizing: border-box;\n",
       "  padding-bottom: 0.4em;\n",
       "  background-color: var(--sklearn-color-background);\n",
       "}\n",
       "\n",
       "#sk-container-id-3 div.sk-container {\n",
       "  /* jupyter's `normalize.less` sets `[hidden] { display: none; }`\n",
       "     but bootstrap.min.css set `[hidden] { display: none !important; }`\n",
       "     so we also need the `!important` here to be able to override the\n",
       "     default hidden behavior on the sphinx rendered scikit-learn.org.\n",
       "     See: https://github.com/scikit-learn/scikit-learn/issues/21755 */\n",
       "  display: inline-block !important;\n",
       "  position: relative;\n",
       "}\n",
       "\n",
       "#sk-container-id-3 div.sk-text-repr-fallback {\n",
       "  display: none;\n",
       "}\n",
       "\n",
       "div.sk-parallel-item,\n",
       "div.sk-serial,\n",
       "div.sk-item {\n",
       "  /* draw centered vertical line to link estimators */\n",
       "  background-image: linear-gradient(var(--sklearn-color-text-on-default-background), var(--sklearn-color-text-on-default-background));\n",
       "  background-size: 2px 100%;\n",
       "  background-repeat: no-repeat;\n",
       "  background-position: center center;\n",
       "}\n",
       "\n",
       "/* Parallel-specific style estimator block */\n",
       "\n",
       "#sk-container-id-3 div.sk-parallel-item::after {\n",
       "  content: \"\";\n",
       "  width: 100%;\n",
       "  border-bottom: 2px solid var(--sklearn-color-text-on-default-background);\n",
       "  flex-grow: 1;\n",
       "}\n",
       "\n",
       "#sk-container-id-3 div.sk-parallel {\n",
       "  display: flex;\n",
       "  align-items: stretch;\n",
       "  justify-content: center;\n",
       "  background-color: var(--sklearn-color-background);\n",
       "  position: relative;\n",
       "}\n",
       "\n",
       "#sk-container-id-3 div.sk-parallel-item {\n",
       "  display: flex;\n",
       "  flex-direction: column;\n",
       "}\n",
       "\n",
       "#sk-container-id-3 div.sk-parallel-item:first-child::after {\n",
       "  align-self: flex-end;\n",
       "  width: 50%;\n",
       "}\n",
       "\n",
       "#sk-container-id-3 div.sk-parallel-item:last-child::after {\n",
       "  align-self: flex-start;\n",
       "  width: 50%;\n",
       "}\n",
       "\n",
       "#sk-container-id-3 div.sk-parallel-item:only-child::after {\n",
       "  width: 0;\n",
       "}\n",
       "\n",
       "/* Serial-specific style estimator block */\n",
       "\n",
       "#sk-container-id-3 div.sk-serial {\n",
       "  display: flex;\n",
       "  flex-direction: column;\n",
       "  align-items: center;\n",
       "  background-color: var(--sklearn-color-background);\n",
       "  padding-right: 1em;\n",
       "  padding-left: 1em;\n",
       "}\n",
       "\n",
       "\n",
       "/* Toggleable style: style used for estimator/Pipeline/ColumnTransformer box that is\n",
       "clickable and can be expanded/collapsed.\n",
       "- Pipeline and ColumnTransformer use this feature and define the default style\n",
       "- Estimators will overwrite some part of the style using the `sk-estimator` class\n",
       "*/\n",
       "\n",
       "/* Pipeline and ColumnTransformer style (default) */\n",
       "\n",
       "#sk-container-id-3 div.sk-toggleable {\n",
       "  /* Default theme specific background. It is overwritten whether we have a\n",
       "  specific estimator or a Pipeline/ColumnTransformer */\n",
       "  background-color: var(--sklearn-color-background);\n",
       "}\n",
       "\n",
       "/* Toggleable label */\n",
       "#sk-container-id-3 label.sk-toggleable__label {\n",
       "  cursor: pointer;\n",
       "  display: flex;\n",
       "  width: 100%;\n",
       "  margin-bottom: 0;\n",
       "  padding: 0.5em;\n",
       "  box-sizing: border-box;\n",
       "  text-align: center;\n",
       "  align-items: start;\n",
       "  justify-content: space-between;\n",
       "  gap: 0.5em;\n",
       "}\n",
       "\n",
       "#sk-container-id-3 label.sk-toggleable__label .caption {\n",
       "  font-size: 0.6rem;\n",
       "  font-weight: lighter;\n",
       "  color: var(--sklearn-color-text-muted);\n",
       "}\n",
       "\n",
       "#sk-container-id-3 label.sk-toggleable__label-arrow:before {\n",
       "  /* Arrow on the left of the label */\n",
       "  content: \"▸\";\n",
       "  float: left;\n",
       "  margin-right: 0.25em;\n",
       "  color: var(--sklearn-color-icon);\n",
       "}\n",
       "\n",
       "#sk-container-id-3 label.sk-toggleable__label-arrow:hover:before {\n",
       "  color: var(--sklearn-color-text);\n",
       "}\n",
       "\n",
       "/* Toggleable content - dropdown */\n",
       "\n",
       "#sk-container-id-3 div.sk-toggleable__content {\n",
       "  max-height: 0;\n",
       "  max-width: 0;\n",
       "  overflow: hidden;\n",
       "  text-align: left;\n",
       "  /* unfitted */\n",
       "  background-color: var(--sklearn-color-unfitted-level-0);\n",
       "}\n",
       "\n",
       "#sk-container-id-3 div.sk-toggleable__content.fitted {\n",
       "  /* fitted */\n",
       "  background-color: var(--sklearn-color-fitted-level-0);\n",
       "}\n",
       "\n",
       "#sk-container-id-3 div.sk-toggleable__content pre {\n",
       "  margin: 0.2em;\n",
       "  border-radius: 0.25em;\n",
       "  color: var(--sklearn-color-text);\n",
       "  /* unfitted */\n",
       "  background-color: var(--sklearn-color-unfitted-level-0);\n",
       "}\n",
       "\n",
       "#sk-container-id-3 div.sk-toggleable__content.fitted pre {\n",
       "  /* unfitted */\n",
       "  background-color: var(--sklearn-color-fitted-level-0);\n",
       "}\n",
       "\n",
       "#sk-container-id-3 input.sk-toggleable__control:checked~div.sk-toggleable__content {\n",
       "  /* Expand drop-down */\n",
       "  max-height: 200px;\n",
       "  max-width: 100%;\n",
       "  overflow: auto;\n",
       "}\n",
       "\n",
       "#sk-container-id-3 input.sk-toggleable__control:checked~label.sk-toggleable__label-arrow:before {\n",
       "  content: \"▾\";\n",
       "}\n",
       "\n",
       "/* Pipeline/ColumnTransformer-specific style */\n",
       "\n",
       "#sk-container-id-3 div.sk-label input.sk-toggleable__control:checked~label.sk-toggleable__label {\n",
       "  color: var(--sklearn-color-text);\n",
       "  background-color: var(--sklearn-color-unfitted-level-2);\n",
       "}\n",
       "\n",
       "#sk-container-id-3 div.sk-label.fitted input.sk-toggleable__control:checked~label.sk-toggleable__label {\n",
       "  background-color: var(--sklearn-color-fitted-level-2);\n",
       "}\n",
       "\n",
       "/* Estimator-specific style */\n",
       "\n",
       "/* Colorize estimator box */\n",
       "#sk-container-id-3 div.sk-estimator input.sk-toggleable__control:checked~label.sk-toggleable__label {\n",
       "  /* unfitted */\n",
       "  background-color: var(--sklearn-color-unfitted-level-2);\n",
       "}\n",
       "\n",
       "#sk-container-id-3 div.sk-estimator.fitted input.sk-toggleable__control:checked~label.sk-toggleable__label {\n",
       "  /* fitted */\n",
       "  background-color: var(--sklearn-color-fitted-level-2);\n",
       "}\n",
       "\n",
       "#sk-container-id-3 div.sk-label label.sk-toggleable__label,\n",
       "#sk-container-id-3 div.sk-label label {\n",
       "  /* The background is the default theme color */\n",
       "  color: var(--sklearn-color-text-on-default-background);\n",
       "}\n",
       "\n",
       "/* On hover, darken the color of the background */\n",
       "#sk-container-id-3 div.sk-label:hover label.sk-toggleable__label {\n",
       "  color: var(--sklearn-color-text);\n",
       "  background-color: var(--sklearn-color-unfitted-level-2);\n",
       "}\n",
       "\n",
       "/* Label box, darken color on hover, fitted */\n",
       "#sk-container-id-3 div.sk-label.fitted:hover label.sk-toggleable__label.fitted {\n",
       "  color: var(--sklearn-color-text);\n",
       "  background-color: var(--sklearn-color-fitted-level-2);\n",
       "}\n",
       "\n",
       "/* Estimator label */\n",
       "\n",
       "#sk-container-id-3 div.sk-label label {\n",
       "  font-family: monospace;\n",
       "  font-weight: bold;\n",
       "  display: inline-block;\n",
       "  line-height: 1.2em;\n",
       "}\n",
       "\n",
       "#sk-container-id-3 div.sk-label-container {\n",
       "  text-align: center;\n",
       "}\n",
       "\n",
       "/* Estimator-specific */\n",
       "#sk-container-id-3 div.sk-estimator {\n",
       "  font-family: monospace;\n",
       "  border: 1px dotted var(--sklearn-color-border-box);\n",
       "  border-radius: 0.25em;\n",
       "  box-sizing: border-box;\n",
       "  margin-bottom: 0.5em;\n",
       "  /* unfitted */\n",
       "  background-color: var(--sklearn-color-unfitted-level-0);\n",
       "}\n",
       "\n",
       "#sk-container-id-3 div.sk-estimator.fitted {\n",
       "  /* fitted */\n",
       "  background-color: var(--sklearn-color-fitted-level-0);\n",
       "}\n",
       "\n",
       "/* on hover */\n",
       "#sk-container-id-3 div.sk-estimator:hover {\n",
       "  /* unfitted */\n",
       "  background-color: var(--sklearn-color-unfitted-level-2);\n",
       "}\n",
       "\n",
       "#sk-container-id-3 div.sk-estimator.fitted:hover {\n",
       "  /* fitted */\n",
       "  background-color: var(--sklearn-color-fitted-level-2);\n",
       "}\n",
       "\n",
       "/* Specification for estimator info (e.g. \"i\" and \"?\") */\n",
       "\n",
       "/* Common style for \"i\" and \"?\" */\n",
       "\n",
       ".sk-estimator-doc-link,\n",
       "a:link.sk-estimator-doc-link,\n",
       "a:visited.sk-estimator-doc-link {\n",
       "  float: right;\n",
       "  font-size: smaller;\n",
       "  line-height: 1em;\n",
       "  font-family: monospace;\n",
       "  background-color: var(--sklearn-color-background);\n",
       "  border-radius: 1em;\n",
       "  height: 1em;\n",
       "  width: 1em;\n",
       "  text-decoration: none !important;\n",
       "  margin-left: 0.5em;\n",
       "  text-align: center;\n",
       "  /* unfitted */\n",
       "  border: var(--sklearn-color-unfitted-level-1) 1pt solid;\n",
       "  color: var(--sklearn-color-unfitted-level-1);\n",
       "}\n",
       "\n",
       ".sk-estimator-doc-link.fitted,\n",
       "a:link.sk-estimator-doc-link.fitted,\n",
       "a:visited.sk-estimator-doc-link.fitted {\n",
       "  /* fitted */\n",
       "  border: var(--sklearn-color-fitted-level-1) 1pt solid;\n",
       "  color: var(--sklearn-color-fitted-level-1);\n",
       "}\n",
       "\n",
       "/* On hover */\n",
       "div.sk-estimator:hover .sk-estimator-doc-link:hover,\n",
       ".sk-estimator-doc-link:hover,\n",
       "div.sk-label-container:hover .sk-estimator-doc-link:hover,\n",
       ".sk-estimator-doc-link:hover {\n",
       "  /* unfitted */\n",
       "  background-color: var(--sklearn-color-unfitted-level-3);\n",
       "  color: var(--sklearn-color-background);\n",
       "  text-decoration: none;\n",
       "}\n",
       "\n",
       "div.sk-estimator.fitted:hover .sk-estimator-doc-link.fitted:hover,\n",
       ".sk-estimator-doc-link.fitted:hover,\n",
       "div.sk-label-container:hover .sk-estimator-doc-link.fitted:hover,\n",
       ".sk-estimator-doc-link.fitted:hover {\n",
       "  /* fitted */\n",
       "  background-color: var(--sklearn-color-fitted-level-3);\n",
       "  color: var(--sklearn-color-background);\n",
       "  text-decoration: none;\n",
       "}\n",
       "\n",
       "/* Span, style for the box shown on hovering the info icon */\n",
       ".sk-estimator-doc-link span {\n",
       "  display: none;\n",
       "  z-index: 9999;\n",
       "  position: relative;\n",
       "  font-weight: normal;\n",
       "  right: .2ex;\n",
       "  padding: .5ex;\n",
       "  margin: .5ex;\n",
       "  width: min-content;\n",
       "  min-width: 20ex;\n",
       "  max-width: 50ex;\n",
       "  color: var(--sklearn-color-text);\n",
       "  box-shadow: 2pt 2pt 4pt #999;\n",
       "  /* unfitted */\n",
       "  background: var(--sklearn-color-unfitted-level-0);\n",
       "  border: .5pt solid var(--sklearn-color-unfitted-level-3);\n",
       "}\n",
       "\n",
       ".sk-estimator-doc-link.fitted span {\n",
       "  /* fitted */\n",
       "  background: var(--sklearn-color-fitted-level-0);\n",
       "  border: var(--sklearn-color-fitted-level-3);\n",
       "}\n",
       "\n",
       ".sk-estimator-doc-link:hover span {\n",
       "  display: block;\n",
       "}\n",
       "\n",
       "/* \"?\"-specific style due to the `<a>` HTML tag */\n",
       "\n",
       "#sk-container-id-3 a.estimator_doc_link {\n",
       "  float: right;\n",
       "  font-size: 1rem;\n",
       "  line-height: 1em;\n",
       "  font-family: monospace;\n",
       "  background-color: var(--sklearn-color-background);\n",
       "  border-radius: 1rem;\n",
       "  height: 1rem;\n",
       "  width: 1rem;\n",
       "  text-decoration: none;\n",
       "  /* unfitted */\n",
       "  color: var(--sklearn-color-unfitted-level-1);\n",
       "  border: var(--sklearn-color-unfitted-level-1) 1pt solid;\n",
       "}\n",
       "\n",
       "#sk-container-id-3 a.estimator_doc_link.fitted {\n",
       "  /* fitted */\n",
       "  border: var(--sklearn-color-fitted-level-1) 1pt solid;\n",
       "  color: var(--sklearn-color-fitted-level-1);\n",
       "}\n",
       "\n",
       "/* On hover */\n",
       "#sk-container-id-3 a.estimator_doc_link:hover {\n",
       "  /* unfitted */\n",
       "  background-color: var(--sklearn-color-unfitted-level-3);\n",
       "  color: var(--sklearn-color-background);\n",
       "  text-decoration: none;\n",
       "}\n",
       "\n",
       "#sk-container-id-3 a.estimator_doc_link.fitted:hover {\n",
       "  /* fitted */\n",
       "  background-color: var(--sklearn-color-fitted-level-3);\n",
       "}\n",
       "</style><div id=\"sk-container-id-3\" class=\"sk-top-container\"><div class=\"sk-text-repr-fallback\"><pre>Pipeline(steps=[(&#x27;robustscaler&#x27;, RobustScaler()),\n",
       "                (&#x27;kneighborsclassifier&#x27;,\n",
       "                 KNeighborsClassifier(n_neighbors=114, p=1,\n",
       "                                      weights=&#x27;distance&#x27;))])</pre><b>In a Jupyter environment, please rerun this cell to show the HTML representation or trust the notebook. <br />On GitHub, the HTML representation is unable to render, please try loading this page with nbviewer.org.</b></div><div class=\"sk-container\" hidden><div class=\"sk-item sk-dashed-wrapped\"><div class=\"sk-label-container\"><div class=\"sk-label fitted sk-toggleable\"><input class=\"sk-toggleable__control sk-hidden--visually\" id=\"sk-estimator-id-8\" type=\"checkbox\" ><label for=\"sk-estimator-id-8\" class=\"sk-toggleable__label fitted sk-toggleable__label-arrow\"><div><div>Pipeline</div></div><div><a class=\"sk-estimator-doc-link fitted\" rel=\"noreferrer\" target=\"_blank\" href=\"https://scikit-learn.org/1.6/modules/generated/sklearn.pipeline.Pipeline.html\">?<span>Documentation for Pipeline</span></a><span class=\"sk-estimator-doc-link fitted\">i<span>Fitted</span></span></div></label><div class=\"sk-toggleable__content fitted\"><pre>Pipeline(steps=[(&#x27;robustscaler&#x27;, RobustScaler()),\n",
       "                (&#x27;kneighborsclassifier&#x27;,\n",
       "                 KNeighborsClassifier(n_neighbors=114, p=1,\n",
       "                                      weights=&#x27;distance&#x27;))])</pre></div> </div></div><div class=\"sk-serial\"><div class=\"sk-item\"><div class=\"sk-estimator fitted sk-toggleable\"><input class=\"sk-toggleable__control sk-hidden--visually\" id=\"sk-estimator-id-9\" type=\"checkbox\" ><label for=\"sk-estimator-id-9\" class=\"sk-toggleable__label fitted sk-toggleable__label-arrow\"><div><div>RobustScaler</div></div><div><a class=\"sk-estimator-doc-link fitted\" rel=\"noreferrer\" target=\"_blank\" href=\"https://scikit-learn.org/1.6/modules/generated/sklearn.preprocessing.RobustScaler.html\">?<span>Documentation for RobustScaler</span></a></div></label><div class=\"sk-toggleable__content fitted\"><pre>RobustScaler()</pre></div> </div></div><div class=\"sk-item\"><div class=\"sk-estimator fitted sk-toggleable\"><input class=\"sk-toggleable__control sk-hidden--visually\" id=\"sk-estimator-id-10\" type=\"checkbox\" ><label for=\"sk-estimator-id-10\" class=\"sk-toggleable__label fitted sk-toggleable__label-arrow\"><div><div>KNeighborsClassifier</div></div><div><a class=\"sk-estimator-doc-link fitted\" rel=\"noreferrer\" target=\"_blank\" href=\"https://scikit-learn.org/1.6/modules/generated/sklearn.neighbors.KNeighborsClassifier.html\">?<span>Documentation for KNeighborsClassifier</span></a></div></label><div class=\"sk-toggleable__content fitted\"><pre>KNeighborsClassifier(n_neighbors=114, p=1, weights=&#x27;distance&#x27;)</pre></div> </div></div></div></div></div></div>"
      ],
      "text/plain": [
       "Pipeline(steps=[('robustscaler', RobustScaler()),\n",
       "                ('kneighborsclassifier',\n",
       "                 KNeighborsClassifier(n_neighbors=114, p=1,\n",
       "                                      weights='distance'))])"
      ]
     },
     "execution_count": 110,
     "metadata": {},
     "output_type": "execute_result"
    }
   ],
   "source": [
    "model = make_pipeline(RobustScaler(), KNeighborsClassifier(n_neighbors=114, p = 1, weights='distance'))\n",
    "model.fit(X_train,y_train)\n"
   ]
  },
  {
   "cell_type": "code",
   "execution_count": 111,
   "id": "8e5af262-aa94-49d4-b0bc-2f71a7bda69a",
   "metadata": {},
   "outputs": [],
   "source": [
    "y_train_predict_proba = model.predict_proba(X_train)\n",
    "y_test_proba = model.predict_proba(X_test)\n",
    "y_predict = model.predict(X_test)"
   ]
  },
  {
   "cell_type": "code",
   "execution_count": 112,
   "id": "89558aab-a282-4989-a370-e70aab0891c8",
   "metadata": {},
   "outputs": [
    {
     "name": "stdout",
     "output_type": "stream",
     "text": [
      "train:  1.0\n",
      "test :  0.9846101137765718\n"
     ]
    }
   ],
   "source": [
    "print('train: ', roc_auc_score(y_train, y_train_predict_proba[:, 1]))\n",
    "print('test : ', roc_auc_score(y_test, y_test_proba[:, 1]))"
   ]
  },
  {
   "cell_type": "code",
   "execution_count": null,
   "id": "f77af4f9-afcc-4e1f-89a6-d63563386eb2",
   "metadata": {},
   "outputs": [],
   "source": []
  },
  {
   "cell_type": "code",
   "execution_count": 113,
   "id": "98794a75-b555-477b-b0dc-7f10f813a7d9",
   "metadata": {},
   "outputs": [
    {
     "data": {
      "text/html": [
       "<div>\n",
       "<style scoped>\n",
       "    .dataframe tbody tr th:only-of-type {\n",
       "        vertical-align: middle;\n",
       "    }\n",
       "\n",
       "    .dataframe tbody tr th {\n",
       "        vertical-align: top;\n",
       "    }\n",
       "\n",
       "    .dataframe thead th {\n",
       "        text-align: right;\n",
       "    }\n",
       "</style>\n",
       "<table border=\"1\" class=\"dataframe\">\n",
       "  <thead>\n",
       "    <tr style=\"text-align: right;\">\n",
       "      <th></th>\n",
       "      <th>precision</th>\n",
       "      <th>recall</th>\n",
       "      <th>f1-score</th>\n",
       "      <th>support</th>\n",
       "    </tr>\n",
       "  </thead>\n",
       "  <tbody>\n",
       "    <tr>\n",
       "      <th>0</th>\n",
       "      <td>0.932018</td>\n",
       "      <td>0.924918</td>\n",
       "      <td>0.928454</td>\n",
       "      <td>919.000000</td>\n",
       "    </tr>\n",
       "    <tr>\n",
       "      <th>1</th>\n",
       "      <td>0.928349</td>\n",
       "      <td>0.935146</td>\n",
       "      <td>0.931735</td>\n",
       "      <td>956.000000</td>\n",
       "    </tr>\n",
       "    <tr>\n",
       "      <th>accuracy</th>\n",
       "      <td>0.930133</td>\n",
       "      <td>0.930133</td>\n",
       "      <td>0.930133</td>\n",
       "      <td>0.930133</td>\n",
       "    </tr>\n",
       "    <tr>\n",
       "      <th>macro avg</th>\n",
       "      <td>0.930183</td>\n",
       "      <td>0.930032</td>\n",
       "      <td>0.930095</td>\n",
       "      <td>1875.000000</td>\n",
       "    </tr>\n",
       "    <tr>\n",
       "      <th>weighted avg</th>\n",
       "      <td>0.930147</td>\n",
       "      <td>0.930133</td>\n",
       "      <td>0.930127</td>\n",
       "      <td>1875.000000</td>\n",
       "    </tr>\n",
       "  </tbody>\n",
       "</table>\n",
       "</div>"
      ],
      "text/plain": [
       "              precision    recall  f1-score      support\n",
       "0              0.932018  0.924918  0.928454   919.000000\n",
       "1              0.928349  0.935146  0.931735   956.000000\n",
       "accuracy       0.930133  0.930133  0.930133     0.930133\n",
       "macro avg      0.930183  0.930032  0.930095  1875.000000\n",
       "weighted avg   0.930147  0.930133  0.930127  1875.000000"
      ]
     },
     "execution_count": 113,
     "metadata": {},
     "output_type": "execute_result"
    }
   ],
   "source": [
    "pd.DataFrame(classification_report(y_test, y_predict, output_dict=True)).T"
   ]
  },
  {
   "cell_type": "code",
   "execution_count": 247,
   "id": "6dc05e10-5f54-4ed1-a168-ae2a025dc748",
   "metadata": {},
   "outputs": [
    {
     "data": {
      "text/plain": [
       "0.5858585858585859"
      ]
     },
     "execution_count": 247,
     "metadata": {},
     "output_type": "execute_result"
    }
   ],
   "source": [
    "score = \"accuracy\"\n",
    "cv = RepeatedStratifiedKFold(n_splits=7, n_repeats = 7)\n",
    "cv_ths = TunedThresholdClassifierCV(estimator = model, scoring=score, cv=cv).fit(X_train, y_train)\n",
    "cv_ths.best_threshold_"
   ]
  },
  {
   "cell_type": "code",
   "execution_count": null,
   "id": "aad8ff1b-4d80-40d1-8b67-3d83e2ca58fe",
   "metadata": {},
   "outputs": [],
   "source": []
  },
  {
   "cell_type": "code",
   "execution_count": 248,
   "id": "ea883fc9-84d5-4b95-aa87-fb65eb6679ff",
   "metadata": {},
   "outputs": [],
   "source": [
    "model_final = FixedThresholdClassifier(model, threshold = 0.5858585858585859).fit(X_train, y_train)"
   ]
  },
  {
   "cell_type": "code",
   "execution_count": 249,
   "id": "7d2c8ec2-2bcc-48ce-827e-422af9db5784",
   "metadata": {},
   "outputs": [],
   "source": [
    "yf_train_predict_proba = model_final.predict_proba(X_train)\n",
    "yf_test_proba = model_final.predict_proba(X_test)\n",
    "yf_predict = model_final.predict(X_test)"
   ]
  },
  {
   "cell_type": "code",
   "execution_count": 250,
   "id": "f1b02e16-6017-4e8a-a764-55717261bec3",
   "metadata": {},
   "outputs": [
    {
     "data": {
      "text/html": [
       "<style type=\"text/css\">\n",
       "</style>\n",
       "<table id=\"T_e9485\" style='display:inline'>\n",
       "  <caption>origin</caption>\n",
       "  <thead>\n",
       "    <tr>\n",
       "      <th class=\"blank level0\" >&nbsp;</th>\n",
       "      <th id=\"T_e9485_level0_col0\" class=\"col_heading level0 col0\" >precision</th>\n",
       "      <th id=\"T_e9485_level0_col1\" class=\"col_heading level0 col1\" >recall</th>\n",
       "      <th id=\"T_e9485_level0_col2\" class=\"col_heading level0 col2\" >f1-score</th>\n",
       "      <th id=\"T_e9485_level0_col3\" class=\"col_heading level0 col3\" >support</th>\n",
       "    </tr>\n",
       "  </thead>\n",
       "  <tbody>\n",
       "    <tr>\n",
       "      <th id=\"T_e9485_level0_row0\" class=\"row_heading level0 row0\" >0</th>\n",
       "      <td id=\"T_e9485_row0_col0\" class=\"data row0 col0\" >0.932018</td>\n",
       "      <td id=\"T_e9485_row0_col1\" class=\"data row0 col1\" >0.924918</td>\n",
       "      <td id=\"T_e9485_row0_col2\" class=\"data row0 col2\" >0.928454</td>\n",
       "      <td id=\"T_e9485_row0_col3\" class=\"data row0 col3\" >919.000000</td>\n",
       "    </tr>\n",
       "    <tr>\n",
       "      <th id=\"T_e9485_level0_row1\" class=\"row_heading level0 row1\" >1</th>\n",
       "      <td id=\"T_e9485_row1_col0\" class=\"data row1 col0\" >0.928349</td>\n",
       "      <td id=\"T_e9485_row1_col1\" class=\"data row1 col1\" >0.935146</td>\n",
       "      <td id=\"T_e9485_row1_col2\" class=\"data row1 col2\" >0.931735</td>\n",
       "      <td id=\"T_e9485_row1_col3\" class=\"data row1 col3\" >956.000000</td>\n",
       "    </tr>\n",
       "    <tr>\n",
       "      <th id=\"T_e9485_level0_row2\" class=\"row_heading level0 row2\" >accuracy</th>\n",
       "      <td id=\"T_e9485_row2_col0\" class=\"data row2 col0\" >0.930133</td>\n",
       "      <td id=\"T_e9485_row2_col1\" class=\"data row2 col1\" >0.930133</td>\n",
       "      <td id=\"T_e9485_row2_col2\" class=\"data row2 col2\" >0.930133</td>\n",
       "      <td id=\"T_e9485_row2_col3\" class=\"data row2 col3\" >0.930133</td>\n",
       "    </tr>\n",
       "    <tr>\n",
       "      <th id=\"T_e9485_level0_row3\" class=\"row_heading level0 row3\" >macro avg</th>\n",
       "      <td id=\"T_e9485_row3_col0\" class=\"data row3 col0\" >0.930183</td>\n",
       "      <td id=\"T_e9485_row3_col1\" class=\"data row3 col1\" >0.930032</td>\n",
       "      <td id=\"T_e9485_row3_col2\" class=\"data row3 col2\" >0.930095</td>\n",
       "      <td id=\"T_e9485_row3_col3\" class=\"data row3 col3\" >1875.000000</td>\n",
       "    </tr>\n",
       "    <tr>\n",
       "      <th id=\"T_e9485_level0_row4\" class=\"row_heading level0 row4\" >weighted avg</th>\n",
       "      <td id=\"T_e9485_row4_col0\" class=\"data row4 col0\" >0.930147</td>\n",
       "      <td id=\"T_e9485_row4_col1\" class=\"data row4 col1\" >0.930133</td>\n",
       "      <td id=\"T_e9485_row4_col2\" class=\"data row4 col2\" >0.930127</td>\n",
       "      <td id=\"T_e9485_row4_col3\" class=\"data row4 col3\" >1875.000000</td>\n",
       "    </tr>\n",
       "  </tbody>\n",
       "</table>\n",
       "<style type=\"text/css\">\n",
       "</style>\n",
       "<table id=\"T_5dfab\" style='display:inline'>\n",
       "  <caption>thresholds</caption>\n",
       "  <thead>\n",
       "    <tr>\n",
       "      <th class=\"blank level0\" >&nbsp;</th>\n",
       "      <th id=\"T_5dfab_level0_col0\" class=\"col_heading level0 col0\" >precision</th>\n",
       "      <th id=\"T_5dfab_level0_col1\" class=\"col_heading level0 col1\" >recall</th>\n",
       "      <th id=\"T_5dfab_level0_col2\" class=\"col_heading level0 col2\" >f1-score</th>\n",
       "      <th id=\"T_5dfab_level0_col3\" class=\"col_heading level0 col3\" >support</th>\n",
       "    </tr>\n",
       "  </thead>\n",
       "  <tbody>\n",
       "    <tr>\n",
       "      <th id=\"T_5dfab_level0_row0\" class=\"row_heading level0 row0\" >0</th>\n",
       "      <td id=\"T_5dfab_row0_col0\" class=\"data row0 col0\" >0.916930</td>\n",
       "      <td id=\"T_5dfab_row0_col1\" class=\"data row0 col1\" >0.948857</td>\n",
       "      <td id=\"T_5dfab_row0_col2\" class=\"data row0 col2\" >0.932620</td>\n",
       "      <td id=\"T_5dfab_row0_col3\" class=\"data row0 col3\" >919.000000</td>\n",
       "    </tr>\n",
       "    <tr>\n",
       "      <th id=\"T_5dfab_level0_row1\" class=\"row_heading level0 row1\" >1</th>\n",
       "      <td id=\"T_5dfab_row1_col0\" class=\"data row1 col0\" >0.949134</td>\n",
       "      <td id=\"T_5dfab_row1_col1\" class=\"data row1 col1\" >0.917364</td>\n",
       "      <td id=\"T_5dfab_row1_col2\" class=\"data row1 col2\" >0.932979</td>\n",
       "      <td id=\"T_5dfab_row1_col3\" class=\"data row1 col3\" >956.000000</td>\n",
       "    </tr>\n",
       "    <tr>\n",
       "      <th id=\"T_5dfab_level0_row2\" class=\"row_heading level0 row2\" >accuracy</th>\n",
       "      <td id=\"T_5dfab_row2_col0\" class=\"data row2 col0\" >0.932800</td>\n",
       "      <td id=\"T_5dfab_row2_col1\" class=\"data row2 col1\" >0.932800</td>\n",
       "      <td id=\"T_5dfab_row2_col2\" class=\"data row2 col2\" >0.932800</td>\n",
       "      <td id=\"T_5dfab_row2_col3\" class=\"data row2 col3\" >0.932800</td>\n",
       "    </tr>\n",
       "    <tr>\n",
       "      <th id=\"T_5dfab_level0_row3\" class=\"row_heading level0 row3\" >macro avg</th>\n",
       "      <td id=\"T_5dfab_row3_col0\" class=\"data row3 col0\" >0.933032</td>\n",
       "      <td id=\"T_5dfab_row3_col1\" class=\"data row3 col1\" >0.933111</td>\n",
       "      <td id=\"T_5dfab_row3_col2\" class=\"data row3 col2\" >0.932800</td>\n",
       "      <td id=\"T_5dfab_row3_col3\" class=\"data row3 col3\" >1875.000000</td>\n",
       "    </tr>\n",
       "    <tr>\n",
       "      <th id=\"T_5dfab_level0_row4\" class=\"row_heading level0 row4\" >weighted avg</th>\n",
       "      <td id=\"T_5dfab_row4_col0\" class=\"data row4 col0\" >0.933350</td>\n",
       "      <td id=\"T_5dfab_row4_col1\" class=\"data row4 col1\" >0.932800</td>\n",
       "      <td id=\"T_5dfab_row4_col2\" class=\"data row4 col2\" >0.932803</td>\n",
       "      <td id=\"T_5dfab_row4_col3\" class=\"data row4 col3\" >1875.000000</td>\n",
       "    </tr>\n",
       "  </tbody>\n",
       "</table>\n"
      ]
     },
     "metadata": {},
     "output_type": "display_data"
    }
   ],
   "source": [
    "df1 = pd.DataFrame(classification_report(y_test, y_predict, output_dict=True)).T\n",
    "df2 = pd.DataFrame(classification_report(y_test, yf_predict, output_dict=True)).T\n",
    "\n",
    "df1_styler = df1.style.set_table_attributes(\"style='display:inline'\").set_caption('origin')\n",
    "df2_styler = df2.style.set_table_attributes(\"style='display:inline'\").set_caption('thresholds')\n",
    "\n",
    "display_html(df1_styler._repr_html_() + df2_styler._repr_html_(), raw=True)"
   ]
  },
  {
   "cell_type": "code",
   "execution_count": 251,
   "id": "2ac851dc-6343-47f1-9737-1c5c9a3a589c",
   "metadata": {},
   "outputs": [],
   "source": [
    "def plot_roc_pr_curves(vanilla_model, tuned_model, cv_model, *, title):\n",
    "    fig, axs = plt.subplots(nrows=1, ncols=3, figsize=(21, 6))\n",
    "    \n",
    "    linestyles = (\"dashed\", \"dotted\")\n",
    "    markerstyles = (\"o\", \">\")\n",
    "    colors = (\"tab:blue\", \"tab:orange\")\n",
    "    names = (\"Vanilla model\", \"Tuned model\")\n",
    "    for idx, (est, linestyle, marker, color, name) in enumerate(\n",
    "        zip((vanilla_model, tuned_model), linestyles, markerstyles, colors, names)\n",
    "    ):\n",
    "        decision_threshold = getattr(est, \"best_threshold_\", 0.5)\n",
    "        PrecisionRecallDisplay.from_estimator(\n",
    "            est,\n",
    "            X_test,\n",
    "            y_test,\n",
    "            pos_label=pos_label,\n",
    "            linestyle=linestyle,\n",
    "            color=color,\n",
    "            ax=axs[0],\n",
    "            name=name,\n",
    "        )\n",
    "        axs[0].plot(\n",
    "            scoring[\"recall\"](est, X_test, y_test),\n",
    "            scoring[\"precision\"](est, X_test, y_test),\n",
    "            marker,\n",
    "            markersize=10,\n",
    "            color=color,\n",
    "            label=f\"Cut-off point at probability of {decision_threshold:.2f}\",\n",
    "        )\n",
    "        RocCurveDisplay.from_estimator(\n",
    "            est,\n",
    "            X_test,\n",
    "            y_test,\n",
    "            pos_label=pos_label,\n",
    "            linestyle=linestyle,\n",
    "            color=color,\n",
    "            ax=axs[1],\n",
    "            name=name,\n",
    "            plot_chance_level=idx == 1,\n",
    "        )\n",
    "        axs[1].plot(\n",
    "            scoring[\"fpr\"](est, X_test, y_test),\n",
    "            scoring[\"tpr\"](est, X_test, y_test),\n",
    "            marker,\n",
    "            markersize=10,\n",
    "            color=color,\n",
    "            label=f\"Cut-off point at probability of {decision_threshold:.2f}\",\n",
    "        )\n",
    "\n",
    "    axs[0].set_title(\"Precision-Recall curve\")\n",
    "    axs[0].legend()\n",
    "    axs[1].set_title(\"ROC curve\")\n",
    "    axs[1].legend()\n",
    "\n",
    "    axs[2].plot(\n",
    "        cv_model.cv_results_[\"thresholds\"],\n",
    "        cv_model.cv_results_[\"scores\"],\n",
    "        color=\"tab:orange\",\n",
    "    )\n",
    "    axs[2].plot(\n",
    "        cv_model.best_threshold_,\n",
    "        cv_model.best_score_,\n",
    "        \"o\",\n",
    "        markersize=10,\n",
    "        color=\"tab:orange\",\n",
    "        label=\"Optimal cut-off point for the business metric\",\n",
    "    )\n",
    "    axs[2].legend()\n",
    "    axs[2].set_xlabel(\"Decision threshold (probability)\")\n",
    "    axs[2].set_ylabel(\"Objective score (using cost-matrix)\")\n",
    "    axs[2].set_title(\"Objective score as a function of the decision threshold\")\n",
    "    fig.suptitle(title)\n"
   ]
  },
  {
   "cell_type": "code",
   "execution_count": 252,
   "id": "f4e24345-85a0-41cd-a079-cd317cbd04fc",
   "metadata": {},
   "outputs": [
    {
     "data": {
      "image/png": "[encoded data removed]",
      "text/plain": [
       "<Figure size 2100x600 with 3 Axes>"
      ]
     },
     "metadata": {},
     "output_type": "display_data"
    }
   ],
   "source": [
    "title = \"Сравнение моделей до/после тюнинга порога\"\n",
    "cv_ths = TunedThresholdClassifierCV(estimator = model, scoring=score, store_cv_results=True, cv=7).fit(X_train,y_train)\n",
    "plot_roc_pr_curves(model, model_final, cv_ths, title=title)"
   ]
  },
  {
   "cell_type": "code",
   "execution_count": null,
   "id": "e178f0c9-f700-4c87-b114-5b0a2bea20ed",
   "metadata": {},
   "outputs": [],
   "source": []
  }
 ],
 "metadata": {
  "kernelspec": {
   "display_name": "Python 3 (ipykernel)",
   "language": "python",
   "name": "python3"
  },
  "language_info": {
   "codemirror_mode": {
    "name": "ipython",
    "version": 3
   },
   "file_extension": ".py",
   "mimetype": "text/x-python",
   "name": "python",
   "nbconvert_exporter": "python",
   "pygments_lexer": "ipython3",
   "version": "3.12.2"
  }
 },
 "nbformat": 4,
 "nbformat_minor": 5
}
