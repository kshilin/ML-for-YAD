{
 "cells": [
  {
   "cell_type": "code",
   "execution_count": 1,
   "id": "6b2037fa-6d73-4503-9eb6-d1be07d51967",
   "metadata": {},
   "outputs": [],
   "source": [
    "import numpy as np\n",
    "import pandas as pd\n",
    "from sklearn.datasets import load_breast_cancer\n",
    "import optuna\n",
    "from plotly.io import show\n",
    "\n",
    "from sklearn.preprocessing import MinMaxScaler, StandardScaler, RobustScaler, Normalizer\n",
    "from sklearn.decomposition import PCA\n",
    "from sklearn.neighbors import KNeighborsClassifier\n",
    "from sklearn.pipeline import make_pipeline\n",
    "from sklearn.model_selection import cross_val_score\n",
    "\n",
    "from sklearn.model_selection import train_test_split \n",
    "\n",
    "from sklearn.metrics import ConfusionMatrixDisplay\n",
    "from sklearn.metrics import accuracy_score"
   ]
  },
  {
   "cell_type": "code",
   "execution_count": 2,
   "id": "ebc96c4c-666b-4969-b828-7272c869640a",
   "metadata": {},
   "outputs": [
    {
     "data": {
      "text/html": [
       "<div>\n",
       "<style scoped>\n",
       "    .dataframe tbody tr th:only-of-type {\n",
       "        vertical-align: middle;\n",
       "    }\n",
       "\n",
       "    .dataframe tbody tr th {\n",
       "        vertical-align: top;\n",
       "    }\n",
       "\n",
       "    .dataframe thead th {\n",
       "        text-align: right;\n",
       "    }\n",
       "</style>\n",
       "<table border=\"1\" class=\"dataframe\">\n",
       "  <thead>\n",
       "    <tr style=\"text-align: right;\">\n",
       "      <th></th>\n",
       "      <th>name</th>\n",
       "      <th>diameter</th>\n",
       "      <th>weight</th>\n",
       "      <th>red</th>\n",
       "      <th>green</th>\n",
       "      <th>blue</th>\n",
       "    </tr>\n",
       "  </thead>\n",
       "  <tbody>\n",
       "    <tr>\n",
       "      <th>0</th>\n",
       "      <td>0</td>\n",
       "      <td>11.60</td>\n",
       "      <td>199.71</td>\n",
       "      <td>153</td>\n",
       "      <td>59</td>\n",
       "      <td>16</td>\n",
       "    </tr>\n",
       "    <tr>\n",
       "      <th>1</th>\n",
       "      <td>0</td>\n",
       "      <td>10.25</td>\n",
       "      <td>178.06</td>\n",
       "      <td>148</td>\n",
       "      <td>54</td>\n",
       "      <td>14</td>\n",
       "    </tr>\n",
       "    <tr>\n",
       "      <th>2</th>\n",
       "      <td>0</td>\n",
       "      <td>11.99</td>\n",
       "      <td>205.39</td>\n",
       "      <td>133</td>\n",
       "      <td>72</td>\n",
       "      <td>2</td>\n",
       "    </tr>\n",
       "    <tr>\n",
       "      <th>3</th>\n",
       "      <td>1</td>\n",
       "      <td>7.63</td>\n",
       "      <td>139.91</td>\n",
       "      <td>152</td>\n",
       "      <td>82</td>\n",
       "      <td>2</td>\n",
       "    </tr>\n",
       "    <tr>\n",
       "      <th>4</th>\n",
       "      <td>1</td>\n",
       "      <td>7.43</td>\n",
       "      <td>137.10</td>\n",
       "      <td>158</td>\n",
       "      <td>78</td>\n",
       "      <td>3</td>\n",
       "    </tr>\n",
       "  </tbody>\n",
       "</table>\n",
       "</div>"
      ],
      "text/plain": [
       "   name  diameter  weight  red  green  blue\n",
       "0     0     11.60  199.71  153     59    16\n",
       "1     0     10.25  178.06  148     54    14\n",
       "2     0     11.99  205.39  133     72     2\n",
       "3     1      7.63  139.91  152     82     2\n",
       "4     1      7.43  137.10  158     78     3"
      ]
     },
     "execution_count": 2,
     "metadata": {},
     "output_type": "execute_result"
    }
   ],
   "source": [
    "train = pd.read_csv('dataset_citrus/train.csv')\n",
    "test = pd.read_csv('dataset_citrus/test.csv')\n",
    "y_true = pd.read_csv('dataset_citrus/test_Y_true.csv')\n",
    "\n",
    "train['name'] = np.where(train['name']=='grapefruit',0,1)\n",
    "y_true = np.where(y_true =='grapefruit',0,1).reshape(-1)\n",
    "train.head()"
   ]
  },
  {
   "cell_type": "code",
   "execution_count": 3,
   "id": "d691d86e-57d6-4d47-a031-0650b3cd7c27",
   "metadata": {},
   "outputs": [],
   "source": [
    "X, y = train.drop(['name'],axis=1), train['name']\n",
    "X_train, X_test, y_train, y_test = train_test_split(X, y, random_state=42)\n"
   ]
  },
  {
   "cell_type": "code",
   "execution_count": 4,
   "id": "b56b026b-ed60-40ad-a538-911f6e546c0a",
   "metadata": {},
   "outputs": [
    {
     "name": "stderr",
     "output_type": "stream",
     "text": [
      "[I 2025-02-19 14:08:13,450] A new study created in memory with name: no-name-15b09d0f-ce75-41f8-8ee5-8cbbc1ec43c7\n"
     ]
    },
    {
     "data": {
      "application/vnd.jupyter.widget-view+json": {
       "model_id": "866f93cc18d74133875672634712738c",
       "version_major": 2,
       "version_minor": 0
      },
      "text/plain": [
       "  0%|          | 0/300 [00:00<?, ?it/s]"
      ]
     },
     "metadata": {},
     "output_type": "display_data"
    },
    {
     "name": "stdout",
     "output_type": "stream",
     "text": [
      "[I 2025-02-19 14:08:14,021] Trial 0 finished with values: [0.9238648195596648, 0.005687591309562411] and parameters: {'scalers': 'none', 'knn_n_neighbors': 49, 'knn_p': 9, 'knn_weights': 'distance'}.\n",
      "[I 2025-02-19 14:08:14,853] Trial 1 finished with values: [0.926397922353021, 0.006143606022259835] and parameters: {'scalers': 'normalizer', 'knn_n_neighbors': 98, 'knn_p': 9, 'knn_weights': 'uniform'}.\n",
      "[I 2025-02-19 14:08:15,626] Trial 2 finished with values: [0.927998064897601, 0.005914057379820871] and parameters: {'scalers': 'standard', 'knn_n_neighbors': 78, 'knn_p': 4, 'knn_weights': 'distance'}.\n",
      "[I 2025-02-19 14:08:16,043] Trial 3 finished with values: [0.8983972942410795, 0.007945843722841711] and parameters: {'scalers': 'standard', 'knn_n_neighbors': 1, 'knn_p': 8, 'knn_weights': 'uniform'}.\n",
      "[I 2025-02-19 14:08:16,802] Trial 4 finished with values: [0.925331948699878, 0.00483238412841431] and parameters: {'scalers': 'robust', 'knn_n_neighbors': 30, 'knn_p': 5, 'knn_weights': 'uniform'}.\n",
      "[I 2025-02-19 14:08:17,433] Trial 5 finished with values: [0.9278649270653536, 0.005458555501582399] and parameters: {'scalers': 'robust', 'knn_n_neighbors': 54, 'knn_p': 10, 'knn_weights': 'distance'}.\n",
      "[I 2025-02-19 14:08:17,835] Trial 6 finished with values: [0.9257319843360231, 0.0038854511739917948] and parameters: {'scalers': 'robust', 'knn_n_neighbors': 19, 'knn_p': 5, 'knn_weights': 'distance'}.\n",
      "[I 2025-02-19 14:08:19,142] Trial 7 finished with values: [0.9262649089486541, 0.006252253308488238] and parameters: {'scalers': 'robust', 'knn_n_neighbors': 39, 'knn_p': 7, 'knn_weights': 'uniform'}.\n",
      "[I 2025-02-19 14:08:20,203] Trial 8 finished with values: [0.925465210960006, 0.004714433553055131] and parameters: {'scalers': 'normalizer', 'knn_n_neighbors': 75, 'knn_p': 5, 'knn_weights': 'uniform'}.\n",
      "[I 2025-02-19 14:08:20,797] Trial 9 finished with values: [0.9233316460912724, 0.005676377266843285] and parameters: {'scalers': 'none', 'knn_n_neighbors': 49, 'knn_p': 3, 'knn_weights': 'distance'}.\n",
      "[I 2025-02-19 14:08:21,621] Trial 10 finished with values: [0.9278645537817117, 0.005730332058276834] and parameters: {'scalers': 'robust', 'knn_n_neighbors': 91, 'knn_p': 9, 'knn_weights': 'distance'}.\n",
      "[I 2025-02-19 14:08:22,439] Trial 11 finished with values: [0.9270646069373024, 0.0068341839358954885] and parameters: {'scalers': 'robust', 'knn_n_neighbors': 42, 'knn_p': 10, 'knn_weights': 'uniform'}.\n",
      "[I 2025-02-19 14:08:23,036] Trial 12 finished with values: [0.9261316466885262, 0.005609161335846917] and parameters: {'scalers': 'standard', 'knn_n_neighbors': 12, 'knn_p': 9, 'knn_weights': 'uniform'}.\n",
      "[I 2025-02-19 14:08:23,619] Trial 13 finished with values: [0.927998064897601, 0.005385622278011586] and parameters: {'scalers': 'standard', 'knn_n_neighbors': 46, 'knn_p': 9, 'knn_weights': 'distance'}.\n",
      "[I 2025-02-19 14:08:24,465] Trial 14 finished with values: [0.9273316291690807, 0.004769724934810608] and parameters: {'scalers': 'minmax', 'knn_n_neighbors': 95, 'knn_p': 6, 'knn_weights': 'distance'}.\n",
      "[I 2025-02-19 14:08:25,024] Trial 15 finished with values: [0.9222652991544876, 0.004901690794655387] and parameters: {'scalers': 'standard', 'knn_n_neighbors': 7, 'knn_p': 8, 'knn_weights': 'uniform'}.\n",
      "[I 2025-02-19 14:08:25,293] Trial 16 finished with values: [0.9253314509883557, 0.004762050758245893] and parameters: {'scalers': 'normalizer', 'knn_n_neighbors': 22, 'knn_p': 10, 'knn_weights': 'distance'}.\n",
      "[I 2025-02-19 14:08:25,814] Trial 17 finished with values: [0.9269317179608162, 0.0055918531033203175] and parameters: {'scalers': 'standard', 'knn_n_neighbors': 36, 'knn_p': 6, 'knn_weights': 'distance'}.\n",
      "[I 2025-02-19 14:08:26,285] Trial 18 finished with values: [0.9281312027298483, 0.006113916219609878] and parameters: {'scalers': 'normalizer', 'knn_n_neighbors': 68, 'knn_p': 10, 'knn_weights': 'distance'}.\n",
      "[I 2025-02-19 14:08:26,918] Trial 19 finished with values: [0.9274651402849698, 0.005433033822633382] and parameters: {'scalers': 'standard', 'knn_n_neighbors': 48, 'knn_p': 3, 'knn_weights': 'distance'}.\n",
      "[I 2025-02-19 14:08:27,076] Trial 20 finished with values: [0.9271983669089527, 0.004624963932205643] and parameters: {'scalers': 'normalizer', 'knn_n_neighbors': 48, 'knn_p': 2, 'knn_weights': 'distance'}.\n",
      "[I 2025-02-19 14:08:27,909] Trial 21 finished with values: [0.9230651215710165, 0.005391121938393119] and parameters: {'scalers': 'none', 'knn_n_neighbors': 50, 'knn_p': 5, 'knn_weights': 'uniform'}.\n",
      "[I 2025-02-19 14:08:28,986] Trial 22 finished with values: [0.9269310958214133, 0.005753714449817033] and parameters: {'scalers': 'standard', 'knn_n_neighbors': 90, 'knn_p': 8, 'knn_weights': 'uniform'}.\n",
      "[I 2025-02-19 14:08:29,691] Trial 23 finished with values: [0.927464767001328, 0.005792729655551564] and parameters: {'scalers': 'minmax', 'knn_n_neighbors': 67, 'knn_p': 7, 'knn_weights': 'distance'}.\n",
      "[I 2025-02-19 14:08:30,593] Trial 24 finished with values: [0.928398100533746, 0.0059407131150828706] and parameters: {'scalers': 'standard', 'knn_n_neighbors': 57, 'knn_p': 7, 'knn_weights': 'uniform'}.\n",
      "[I 2025-02-19 14:08:30,816] Trial 25 finished with values: [0.9253318242719973, 0.004259477433259938] and parameters: {'scalers': 'normalizer', 'knn_n_neighbors': 12, 'knn_p': 5, 'knn_weights': 'distance'}.\n",
      "[I 2025-02-19 14:08:31,763] Trial 26 finished with values: [0.9269314691050551, 0.005617708540174756] and parameters: {'scalers': 'standard', 'knn_n_neighbors': 65, 'knn_p': 9, 'knn_weights': 'uniform'}.\n",
      "[I 2025-02-19 14:08:32,427] Trial 27 finished with values: [0.9242660994746158, 0.0055048106750609505] and parameters: {'scalers': 'none', 'knn_n_neighbors': 24, 'knn_p': 6, 'knn_weights': 'uniform'}.\n",
      "[I 2025-02-19 14:08:32,676] Trial 28 finished with values: [0.9277320380888675, 0.006183493108578618] and parameters: {'scalers': 'standard', 'knn_n_neighbors': 48, 'knn_p': 1, 'knn_weights': 'distance'}.\n",
      "[I 2025-02-19 14:08:33,685] Trial 29 finished with values: [0.9259977622889953, 0.005924429064967674] and parameters: {'scalers': 'normalizer', 'knn_n_neighbors': 48, 'knn_p': 10, 'knn_weights': 'uniform'}.\n",
      "[I 2025-02-19 14:08:34,714] Trial 30 finished with values: [0.9255985976480146, 0.005150549684150378] and parameters: {'scalers': 'minmax', 'knn_n_neighbors': 35, 'knn_p': 6, 'knn_weights': 'distance'}.\n",
      "[I 2025-02-19 14:08:35,269] Trial 31 finished with values: [0.9241322150750849, 0.0051206570006075295] and parameters: {'scalers': 'none', 'knn_n_neighbors': 59, 'knn_p': 1, 'knn_weights': 'uniform'}.\n",
      "[I 2025-02-19 14:08:36,338] Trial 32 finished with values: [0.9251980643003471, 0.006121114130009743] and parameters: {'scalers': 'none', 'knn_n_neighbors': 83, 'knn_p': 10, 'knn_weights': 'uniform'}.\n",
      "[I 2025-02-19 14:08:36,936] Trial 33 finished with values: [0.9270654779324666, 0.005375229054161186] and parameters: {'scalers': 'robust', 'knn_n_neighbors': 79, 'knn_p': 1, 'knn_weights': 'uniform'}.\n",
      "[I 2025-02-19 14:08:37,694] Trial 34 finished with values: [0.9247984019478439, 0.005769533982920697] and parameters: {'scalers': 'none', 'knn_n_neighbors': 90, 'knn_p': 10, 'knn_weights': 'distance'}.\n",
      "[I 2025-02-19 14:08:38,293] Trial 35 finished with values: [0.9247985263757246, 0.004165774996106922] and parameters: {'scalers': 'robust', 'knn_n_neighbors': 10, 'knn_p': 4, 'knn_weights': 'uniform'}.\n",
      "[I 2025-02-19 14:08:38,770] Trial 36 finished with values: [0.926797957989166, 0.006070319181636652] and parameters: {'scalers': 'minmax', 'knn_n_neighbors': 29, 'knn_p': 5, 'knn_weights': 'distance'}.\n",
      "[I 2025-02-19 14:08:39,115] Trial 37 finished with values: [0.9265319311804324, 0.003816977223137141] and parameters: {'scalers': 'normalizer', 'knn_n_neighbors': 33, 'knn_p': 3, 'knn_weights': 'distance'}.\n",
      "[I 2025-02-19 14:08:39,853] Trial 38 finished with values: [0.9253315754162363, 0.005039809488530996] and parameters: {'scalers': 'minmax', 'knn_n_neighbors': 29, 'knn_p': 9, 'knn_weights': 'uniform'}.\n",
      "[I 2025-02-19 14:08:40,012] Trial 39 finished with values: [0.9237329260062236, 0.004757420816178352] and parameters: {'scalers': 'none', 'knn_n_neighbors': 23, 'knn_p': 1, 'knn_weights': 'distance'}.\n",
      "[I 2025-02-19 14:08:40,604] Trial 40 finished with values: [0.9238649439875453, 0.005324292527003096] and parameters: {'scalers': 'robust', 'knn_n_neighbors': 11, 'knn_p': 10, 'knn_weights': 'uniform'}.\n",
      "[I 2025-02-19 14:08:41,415] Trial 41 finished with values: [0.9257314866245007, 0.005348843230587915] and parameters: {'scalers': 'normalizer', 'knn_n_neighbors': 89, 'knn_p': 5, 'knn_weights': 'uniform'}.\n",
      "[I 2025-02-19 14:08:42,248] Trial 42 finished with values: [0.926798580128569, 0.005030090568173901] and parameters: {'scalers': 'robust', 'knn_n_neighbors': 36, 'knn_p': 3, 'knn_weights': 'uniform'}.\n",
      "[I 2025-02-19 14:08:42,516] Trial 43 finished with values: [0.9247984019478439, 0.004108385082196605] and parameters: {'scalers': 'normalizer', 'knn_n_neighbors': 20, 'knn_p': 4, 'knn_weights': 'distance'}.\n",
      "[I 2025-02-19 14:08:43,371] Trial 44 finished with values: [0.9270651046488247, 0.0054498499794390755] and parameters: {'scalers': 'standard', 'knn_n_neighbors': 43, 'knn_p': 4, 'knn_weights': 'uniform'}.\n",
      "[I 2025-02-19 14:08:44,047] Trial 45 finished with values: [0.9265308113295071, 0.007111620714597221] and parameters: {'scalers': 'standard', 'knn_n_neighbors': 22, 'knn_p': 8, 'knn_weights': 'uniform'}.\n",
      "[I 2025-02-19 14:08:44,416] Trial 46 finished with values: [0.9242652284794515, 0.004241512559839634] and parameters: {'scalers': 'robust', 'knn_n_neighbors': 13, 'knn_p': 3, 'knn_weights': 'distance'}.\n",
      "[I 2025-02-19 14:08:45,327] Trial 47 finished with values: [0.9273311314575583, 0.006304589600565193] and parameters: {'scalers': 'standard', 'knn_n_neighbors': 62, 'knn_p': 8, 'knn_weights': 'uniform'}.\n",
      "[I 2025-02-19 14:08:46,152] Trial 48 finished with values: [0.9242646063400485, 0.0059371148039230855] and parameters: {'scalers': 'none', 'knn_n_neighbors': 56, 'knn_p': 9, 'knn_weights': 'uniform'}.\n",
      "[I 2025-02-19 14:08:46,862] Trial 49 finished with values: [0.9259977622889953, 0.006749718717587885] and parameters: {'scalers': 'robust', 'knn_n_neighbors': 27, 'knn_p': 9, 'knn_weights': 'uniform'}.\n",
      "[I 2025-02-19 14:08:47,663] Trial 50 finished with values: [0.9254653353878866, 0.0051901244352079556] and parameters: {'scalers': 'standard', 'knn_n_neighbors': 30, 'knn_p': 5, 'knn_weights': 'uniform'}.\n",
      "[I 2025-02-19 14:08:48,310] Trial 51 finished with values: [0.9278649270653536, 0.005458555501582399] and parameters: {'scalers': 'robust', 'knn_n_neighbors': 54, 'knn_p': 10, 'knn_weights': 'distance'}.\n",
      "[I 2025-02-19 14:08:49,758] Trial 52 finished with values: [0.9278649270653536, 0.005458555501582399] and parameters: {'scalers': 'robust', 'knn_n_neighbors': 54, 'knn_p': 10, 'knn_weights': 'distance'}.\n",
      "[I 2025-02-19 14:08:50,630] Trial 53 finished with values: [0.926664695729038, 0.005965896919375501] and parameters: {'scalers': 'standard', 'knn_n_neighbors': 40, 'knn_p': 8, 'knn_weights': 'uniform'}.\n",
      "[I 2025-02-19 14:08:51,651] Trial 54 finished with values: [0.9263981712087821, 0.005566292777670635] and parameters: {'scalers': 'standard', 'knn_n_neighbors': 74, 'knn_p': 6, 'knn_weights': 'uniform'}.\n",
      "[I 2025-02-19 14:08:52,048] Trial 55 finished with values: [0.9278646782095924, 0.004728609102229588] and parameters: {'scalers': 'normalizer', 'knn_n_neighbors': 46, 'knn_p': 9, 'knn_weights': 'distance'}.\n",
      "[I 2025-02-19 14:08:52,702] Trial 56 finished with values: [0.9278649270653536, 0.005458555501582399] and parameters: {'scalers': 'robust', 'knn_n_neighbors': 54, 'knn_p': 10, 'knn_weights': 'distance'}.\n",
      "[I 2025-02-19 14:08:53,088] Trial 57 finished with values: [0.9278645537817117, 0.00496139134255149] and parameters: {'scalers': 'normalizer', 'knn_n_neighbors': 46, 'knn_p': 6, 'knn_weights': 'distance'}.\n",
      "[I 2025-02-19 14:08:53,885] Trial 58 finished with values: [0.9274648914292085, 0.005006965333593964] and parameters: {'scalers': 'minmax', 'knn_n_neighbors': 82, 'knn_p': 5, 'knn_weights': 'distance'}.\n",
      "[I 2025-02-19 14:08:54,219] Trial 59 finished with values: [0.9258652465961509, 0.004931502955774304] and parameters: {'scalers': 'standard', 'knn_n_neighbors': 12, 'knn_p': 9, 'knn_weights': 'distance'}.\n",
      "[I 2025-02-19 14:08:54,645] Trial 60 finished with values: [0.9271978691974303, 0.005779789823952992] and parameters: {'scalers': 'normalizer', 'knn_n_neighbors': 54, 'knn_p': 4, 'knn_weights': 'distance'}.\n",
      "[I 2025-02-19 14:08:55,453] Trial 61 finished with values: [0.9261311489770039, 0.005747214200349604] and parameters: {'scalers': 'normalizer', 'knn_n_neighbors': 91, 'knn_p': 9, 'knn_weights': 'uniform'}.\n",
      "[I 2025-02-19 14:08:56,092] Trial 62 finished with values: [0.9285312383659933, 0.0066198007444721015] and parameters: {'scalers': 'minmax', 'knn_n_neighbors': 56, 'knn_p': 6, 'knn_weights': 'distance'}.\n",
      "[I 2025-02-19 14:08:56,634] Trial 63 finished with values: [0.9271977447695497, 0.006433111007327451] and parameters: {'scalers': 'normalizer', 'knn_n_neighbors': 87, 'knn_p': 10, 'knn_weights': 'distance'}.\n",
      "[I 2025-02-19 14:08:57,366] Trial 64 finished with values: [0.9245322507112299, 0.006466736192914699] and parameters: {'scalers': 'none', 'knn_n_neighbors': 31, 'knn_p': 4, 'knn_weights': 'uniform'}.\n",
      "[I 2025-02-19 14:08:58,183] Trial 65 finished with values: [0.9257314866245007, 0.005348843230587915] and parameters: {'scalers': 'normalizer', 'knn_n_neighbors': 89, 'knn_p': 5, 'knn_weights': 'uniform'}.\n",
      "[I 2025-02-19 14:08:58,759] Trial 66 finished with values: [0.9230652459988972, 0.005005771895923018] and parameters: {'scalers': 'standard', 'knn_n_neighbors': 8, 'knn_p': 7, 'knn_weights': 'uniform'}.\n",
      "[I 2025-02-19 14:08:59,014] Trial 67 finished with values: [0.9238651928433066, 0.00568182532989472] and parameters: {'scalers': 'none', 'knn_n_neighbors': 66, 'knn_p': 1, 'knn_weights': 'distance'}.\n",
      "[I 2025-02-19 14:08:59,686] Trial 68 finished with values: [0.9265314334689101, 0.005920310408766247] and parameters: {'scalers': 'minmax', 'knn_n_neighbors': 19, 'knn_p': 9, 'knn_weights': 'uniform'}.\n",
      "[I 2025-02-19 14:09:00,510] Trial 69 finished with values: [0.9267983312728078, 0.005156303031365725] and parameters: {'scalers': 'robust', 'knn_n_neighbors': 32, 'knn_p': 3, 'knn_weights': 'uniform'}.\n",
      "[I 2025-02-19 14:09:01,113] Trial 70 finished with values: [0.9277317892331063, 0.0051056983841474635] and parameters: {'scalers': 'minmax', 'knn_n_neighbors': 49, 'knn_p': 10, 'knn_weights': 'distance'}.\n",
      "[I 2025-02-19 14:09:01,984] Trial 71 finished with values: [0.9262642868092511, 0.007062738483326835] and parameters: {'scalers': 'robust', 'knn_n_neighbors': 48, 'knn_p': 10, 'knn_weights': 'uniform'}.\n",
      "[I 2025-02-19 14:09:03,147] Trial 72 finished with values: [0.9269310958214133, 0.006290240184704632] and parameters: {'scalers': 'standard', 'knn_n_neighbors': 99, 'knn_p': 5, 'knn_weights': 'uniform'}.\n",
      "[I 2025-02-19 14:09:03,647] Trial 73 finished with values: [0.9282647138457374, 0.0056995863610653] and parameters: {'scalers': 'normalizer', 'knn_n_neighbors': 68, 'knn_p': 9, 'knn_weights': 'distance'}.\n",
      "[I 2025-02-19 14:09:04,087] Trial 74 finished with values: [0.9283977272501042, 0.006170416564767911] and parameters: {'scalers': 'normalizer', 'knn_n_neighbors': 62, 'knn_p': 7, 'knn_weights': 'distance'}.\n",
      "[I 2025-02-19 14:09:04,504] Trial 75 finished with values: [0.9231985082590252, 0.006592175215528134] and parameters: {'scalers': 'none', 'knn_n_neighbors': 26, 'knn_p': 4, 'knn_weights': 'distance'}.\n",
      "[I 2025-02-19 14:09:05,582] Trial 76 finished with values: [0.9269315935329356, 0.005319634193953] and parameters: {'scalers': 'minmax', 'knn_n_neighbors': 93, 'knn_p': 6, 'knn_weights': 'uniform'}.\n",
      "[I 2025-02-19 14:09:06,403] Trial 77 finished with values: [0.9283982249616266, 0.004906453680937138] and parameters: {'scalers': 'standard', 'knn_n_neighbors': 89, 'knn_p': 5, 'knn_weights': 'distance'}.\n",
      "[I 2025-02-19 14:09:07,224] Trial 78 finished with values: [0.9262649089486541, 0.006252253308488238] and parameters: {'scalers': 'robust', 'knn_n_neighbors': 39, 'knn_p': 7, 'knn_weights': 'uniform'}.\n",
      "[I 2025-02-19 14:09:07,808] Trial 79 finished with values: [0.9249316642079718, 0.004754523516424991] and parameters: {'scalers': 'standard', 'knn_n_neighbors': 10, 'knn_p': 4, 'knn_weights': 'uniform'}.\n",
      "[I 2025-02-19 14:09:08,426] Trial 80 finished with values: [0.928264838273618, 0.005655219087494146] and parameters: {'scalers': 'standard', 'knn_n_neighbors': 54, 'knn_p': 10, 'knn_weights': 'distance'}.\n",
      "[I 2025-02-19 14:09:09,066] Trial 81 finished with values: [0.9269313446771745, 0.005439223564700645] and parameters: {'scalers': 'standard', 'knn_n_neighbors': 18, 'knn_p': 8, 'knn_weights': 'uniform'}.\n",
      "[I 2025-02-19 14:09:09,366] Trial 82 finished with values: [0.9273322513084837, 0.0035642873468080356] and parameters: {'scalers': 'normalizer', 'knn_n_neighbors': 27, 'knn_p': 4, 'knn_weights': 'distance'}.\n",
      "[I 2025-02-19 14:09:09,720] Trial 83 finished with values: [0.9255983487922533, 0.004980426507975065] and parameters: {'scalers': 'minmax', 'knn_n_neighbors': 14, 'knn_p': 5, 'knn_weights': 'distance'}.\n",
      "[I 2025-02-19 14:09:10,756] Trial 84 finished with values: [0.9281309538740871, 0.0061175236436683145] and parameters: {'scalers': 'robust', 'knn_n_neighbors': 82, 'knn_p': 6, 'knn_weights': 'uniform'}.\n",
      "[I 2025-02-19 14:09:11,586] Trial 85 finished with values: [0.9263982956366628, 0.006299525137070461] and parameters: {'scalers': 'robust', 'knn_n_neighbors': 43, 'knn_p': 6, 'knn_weights': 'uniform'}.\n",
      "[I 2025-02-19 14:09:11,865] Trial 86 finished with values: [0.9253314509883557, 0.004762050758245893] and parameters: {'scalers': 'normalizer', 'knn_n_neighbors': 22, 'knn_p': 10, 'knn_weights': 'distance'}.\n",
      "[I 2025-02-19 14:09:12,389] Trial 87 finished with values: [0.9259988821399208, 0.004444457781902283] and parameters: {'scalers': 'robust', 'knn_n_neighbors': 33, 'knn_p': 3, 'knn_weights': 'distance'}.\n",
      "[I 2025-02-19 14:09:13,203] Trial 88 finished with values: [0.9277316648052257, 0.005346098348290507] and parameters: {'scalers': 'standard', 'knn_n_neighbors': 91, 'knn_p': 9, 'knn_weights': 'distance'}.\n",
      "[I 2025-02-19 14:09:13,903] Trial 89 finished with values: [0.926798580128569, 0.0053430191068380255] and parameters: {'scalers': 'minmax', 'knn_n_neighbors': 24, 'knn_p': 6, 'knn_weights': 'uniform'}.\n",
      "[I 2025-02-19 14:09:14,545] Trial 90 finished with values: [0.9243974953165346, 0.005742466870087461] and parameters: {'scalers': 'robust', 'knn_n_neighbors': 13, 'knn_p': 3, 'knn_weights': 'uniform'}.\n",
      "[I 2025-02-19 14:09:15,022] Trial 91 finished with values: [0.9263991666318271, 0.005182259677557087] and parameters: {'scalers': 'robust', 'knn_n_neighbors': 30, 'knn_p': 10, 'knn_weights': 'distance'}.\n",
      "[I 2025-02-19 14:09:15,695] Trial 92 finished with values: [0.9242660994746158, 0.0055048106750609505] and parameters: {'scalers': 'none', 'knn_n_neighbors': 24, 'knn_p': 6, 'knn_weights': 'uniform'}.\n",
      "[I 2025-02-19 14:09:16,810] Trial 93 finished with values: [0.9274645181455669, 0.005817036512012499] and parameters: {'scalers': 'robust', 'knn_n_neighbors': 98, 'knn_p': 9, 'knn_weights': 'uniform'}.\n",
      "[I 2025-02-19 14:09:17,371] Trial 94 finished with values: [0.9191985251812168, 0.007327133809688815] and parameters: {'scalers': 'none', 'knn_n_neighbors': 8, 'knn_p': 3, 'knn_weights': 'uniform'}.\n",
      "[I 2025-02-19 14:09:18,139] Trial 95 finished with values: [0.9262644112371319, 0.006827167980505417] and parameters: {'scalers': 'normalizer', 'knn_n_neighbors': 78, 'knn_p': 8, 'knn_weights': 'uniform'}.\n",
      "[I 2025-02-19 14:09:18,939] Trial 96 finished with values: [0.9257314866245007, 0.005348843230587915] and parameters: {'scalers': 'normalizer', 'knn_n_neighbors': 89, 'knn_p': 5, 'knn_weights': 'uniform'}.\n",
      "[I 2025-02-19 14:09:19,805] Trial 97 finished with values: [0.927998064897601, 0.006242248401281308] and parameters: {'scalers': 'standard', 'knn_n_neighbors': 51, 'knn_p': 8, 'knn_weights': 'uniform'}.\n",
      "[I 2025-02-19 14:09:20,349] Trial 98 finished with values: [0.9267983312728078, 0.006004012366288037] and parameters: {'scalers': 'minmax', 'knn_n_neighbors': 43, 'knn_p': 10, 'knn_weights': 'distance'}.\n",
      "[I 2025-02-19 14:09:21,177] Trial 99 finished with values: [0.9273316291690807, 0.004769724934810608] and parameters: {'scalers': 'minmax', 'knn_n_neighbors': 95, 'knn_p': 6, 'knn_weights': 'distance'}.\n",
      "[I 2025-02-19 14:09:21,633] Trial 100 finished with values: [0.9274652647128504, 0.004927212088656737] and parameters: {'scalers': 'robust', 'knn_n_neighbors': 27, 'knn_p': 10, 'knn_weights': 'distance'}.\n",
      "[I 2025-02-19 14:09:22,006] Trial 101 finished with values: [0.9278646782095924, 0.004728609102229588] and parameters: {'scalers': 'normalizer', 'knn_n_neighbors': 46, 'knn_p': 9, 'knn_weights': 'distance'}.\n",
      "[I 2025-02-19 14:09:22,588] Trial 102 finished with values: [0.9263976734972597, 0.006632966437889119] and parameters: {'scalers': 'minmax', 'knn_n_neighbors': 48, 'knn_p': 6, 'knn_weights': 'distance'}.\n",
      "[I 2025-02-19 14:09:22,916] Trial 103 finished with values: [0.9247985263757246, 0.0045924864845662185] and parameters: {'scalers': 'robust', 'knn_n_neighbors': 10, 'knn_p': 4, 'knn_weights': 'distance'}.\n",
      "[I 2025-02-19 14:09:23,425] Trial 104 finished with values: [0.9147991286066667, 0.004945327873162726] and parameters: {'scalers': 'minmax', 'knn_n_neighbors': 4, 'knn_p': 5, 'knn_weights': 'uniform'}.\n",
      "[I 2025-02-19 14:09:23,645] Trial 105 finished with values: [0.9241314685078013, 0.005878420207689793] and parameters: {'scalers': 'normalizer', 'knn_n_neighbors': 12, 'knn_p': 9, 'knn_weights': 'distance'}.\n",
      "[I 2025-02-19 14:09:24,211] Trial 106 finished with values: [0.926131397832765, 0.005914314698819602] and parameters: {'scalers': 'minmax', 'knn_n_neighbors': 46, 'knn_p': 6, 'knn_weights': 'distance'}.\n",
      "[I 2025-02-19 14:09:24,932] Trial 107 finished with values: [0.9275981536893365, 0.006108395032432815] and parameters: {'scalers': 'minmax', 'knn_n_neighbors': 71, 'knn_p': 5, 'knn_weights': 'distance'}.\n",
      "[I 2025-02-19 14:09:25,275] Trial 108 finished with values: [0.9229324814502916, 0.005888944336171775] and parameters: {'scalers': 'none', 'knn_n_neighbors': 13, 'knn_p': 3, 'knn_weights': 'distance'}.\n",
      "[I 2025-02-19 14:09:26,222] Trial 109 finished with values: [0.928264216134215, 0.007190887195528145] and parameters: {'scalers': 'minmax', 'knn_n_neighbors': 62, 'knn_p': 5, 'knn_weights': 'uniform'}.\n",
      "[I 2025-02-19 14:09:27,096] Trial 110 finished with values: [0.9275984025450977, 0.004700153430169825] and parameters: {'scalers': 'minmax', 'knn_n_neighbors': 95, 'knn_p': 3, 'knn_weights': 'distance'}.\n",
      "[I 2025-02-19 14:09:27,845] Trial 111 finished with values: [0.9251984375839888, 0.005650861162539407] and parameters: {'scalers': 'none', 'knn_n_neighbors': 93, 'knn_p': 10, 'knn_weights': 'distance'}.\n",
      "[I 2025-02-19 14:09:28,605] Trial 112 finished with values: [0.9245315041439462, 0.00595631973277258] and parameters: {'scalers': 'minmax', 'knn_n_neighbors': 35, 'knn_p': 6, 'knn_weights': 'uniform'}.\n",
      "[I 2025-02-19 14:09:29,296] Trial 113 finished with values: [0.927731291521584, 0.005945623196044867] and parameters: {'scalers': 'standard', 'knn_n_neighbors': 68, 'knn_p': 10, 'knn_weights': 'distance'}.\n",
      "[I 2025-02-19 14:09:29,597] Trial 114 finished with values: [0.9273322513084837, 0.0035642873468080356] and parameters: {'scalers': 'normalizer', 'knn_n_neighbors': 27, 'knn_p': 4, 'knn_weights': 'distance'}.\n",
      "[I 2025-02-19 14:09:30,302] Trial 115 finished with values: [0.9237320550110593, 0.006645705683338805] and parameters: {'scalers': 'none', 'knn_n_neighbors': 23, 'knn_p': 5, 'knn_weights': 'uniform'}.\n",
      "[I 2025-02-19 14:09:30,482] Trial 116 finished with values: [0.9265319311804324, 0.004901805398602873] and parameters: {'scalers': 'minmax', 'knn_n_neighbors': 23, 'knn_p': 1, 'knn_weights': 'distance'}.\n",
      "[I 2025-02-19 14:09:30,940] Trial 117 finished with values: [0.9279985626091234, 0.004469101049292179] and parameters: {'scalers': 'standard', 'knn_n_neighbors': 27, 'knn_p': 9, 'knn_weights': 'distance'}.\n",
      "[I 2025-02-19 14:09:31,957] Trial 118 finished with values: [0.927465389140731, 0.004157188539184194] and parameters: {'scalers': 'robust', 'knn_n_neighbors': 70, 'knn_p': 3, 'knn_weights': 'uniform'}.\n",
      "[I 2025-02-19 14:09:32,478] Trial 119 finished with values: [0.9271989890483557, 0.004953547704785433] and parameters: {'scalers': 'robust', 'knn_n_neighbors': 37, 'knn_p': 9, 'knn_weights': 'distance'}.\n",
      "[I 2025-02-19 14:09:33,018] Trial 120 finished with values: [0.9267987045564495, 0.004722394522530304] and parameters: {'scalers': 'robust', 'knn_n_neighbors': 54, 'knn_p': 1, 'knn_weights': 'uniform'}.\n",
      "[I 2025-02-19 14:09:33,406] Trial 121 finished with values: [0.9230664902777033, 0.00511011677777282] and parameters: {'scalers': 'none', 'knn_n_neighbors': 14, 'knn_p': 2, 'knn_weights': 'uniform'}.\n",
      "[I 2025-02-19 14:09:34,130] Trial 122 finished with values: [0.9283984738173877, 0.005052728215971491] and parameters: {'scalers': 'standard', 'knn_n_neighbors': 68, 'knn_p': 4, 'knn_weights': 'distance'}.\n",
      "[I 2025-02-19 14:09:34,917] Trial 123 finished with values: [0.9267983312728078, 0.005156303031365725] and parameters: {'scalers': 'robust', 'knn_n_neighbors': 32, 'knn_p': 3, 'knn_weights': 'uniform'}.\n",
      "[I 2025-02-19 14:09:35,526] Trial 124 finished with values: [0.9245313797160657, 0.005787431318000739] and parameters: {'scalers': 'minmax', 'knn_n_neighbors': 13, 'knn_p': 6, 'knn_weights': 'uniform'}.\n",
      "[I 2025-02-19 14:09:36,103] Trial 125 finished with values: [0.9269314691050551, 0.005436517753907961] and parameters: {'scalers': 'standard', 'knn_n_neighbors': 10, 'knn_p': 5, 'knn_weights': 'uniform'}.\n",
      "[I 2025-02-19 14:09:36,911] Trial 126 finished with values: [0.9270648557930636, 0.004950887311375875] and parameters: {'scalers': 'standard', 'knn_n_neighbors': 89, 'knn_p': 10, 'knn_weights': 'distance'}.\n",
      "[I 2025-02-19 14:09:37,846] Trial 127 finished with values: [0.927598029261456, 0.006027701842632046] and parameters: {'scalers': 'minmax', 'knn_n_neighbors': 56, 'knn_p': 3, 'knn_weights': 'uniform'}.\n",
      "[I 2025-02-19 14:09:38,620] Trial 128 finished with values: [0.9251986864397502, 0.005780187942087408] and parameters: {'scalers': 'robust', 'knn_n_neighbors': 36, 'knn_p': 7, 'knn_weights': 'uniform'}.\n",
      "[I 2025-02-19 14:09:39,023] Trial 129 finished with values: [0.9274653891407311, 0.0035084583021040305] and parameters: {'scalers': 'standard', 'knn_n_neighbors': 20, 'knn_p': 9, 'knn_weights': 'distance'}.\n",
      "[I 2025-02-19 14:09:39,817] Trial 130 finished with values: [0.9274648914292085, 0.005006965333593964] and parameters: {'scalers': 'minmax', 'knn_n_neighbors': 82, 'knn_p': 5, 'knn_weights': 'distance'}.\n",
      "[I 2025-02-19 14:09:40,030] Trial 131 finished with values: [0.9275984025450977, 0.005835078106117005] and parameters: {'scalers': 'minmax', 'knn_n_neighbors': 56, 'knn_p': 2, 'knn_weights': 'distance'}.\n",
      "[I 2025-02-19 14:09:40,190] Trial 132 finished with values: [0.9278651759211148, 0.005222625716932729] and parameters: {'scalers': 'normalizer', 'knn_n_neighbors': 36, 'knn_p': 1, 'knn_weights': 'distance'}.\n",
      "[I 2025-02-19 14:09:41,013] Trial 133 finished with values: [0.9262647845207735, 0.005445005207876953] and parameters: {'scalers': 'normalizer', 'knn_n_neighbors': 91, 'knn_p': 5, 'knn_weights': 'uniform'}.\n",
      "[I 2025-02-19 14:09:41,801] Trial 134 finished with values: [0.9262650333765349, 0.004861120001372636] and parameters: {'scalers': 'normalizer', 'knn_n_neighbors': 75, 'knn_p': 9, 'knn_weights': 'uniform'}.\n",
      "[I 2025-02-19 14:09:42,381] Trial 135 finished with values: [0.9257326064754262, 0.003640911975713814] and parameters: {'scalers': 'normalizer', 'knn_n_neighbors': 30, 'knn_p': 4, 'knn_weights': 'uniform'}.\n",
      "[I 2025-02-19 14:09:42,856] Trial 136 finished with values: [0.9279978160418397, 0.006362397154568819] and parameters: {'scalers': 'normalizer', 'knn_n_neighbors': 68, 'knn_p': 7, 'knn_weights': 'distance'}.\n",
      "[I 2025-02-19 14:09:43,465] Trial 137 finished with values: [0.9278649270653536, 0.005458555501582399] and parameters: {'scalers': 'robust', 'knn_n_neighbors': 54, 'knn_p': 10, 'knn_weights': 'distance'}.\n",
      "[I 2025-02-19 14:09:44,373] Trial 138 finished with values: [0.928398100533746, 0.0059407131150828706] and parameters: {'scalers': 'standard', 'knn_n_neighbors': 57, 'knn_p': 7, 'knn_weights': 'uniform'}.\n",
      "[I 2025-02-19 14:09:45,013] Trial 139 finished with values: [0.927998064897601, 0.005634425847928473] and parameters: {'scalers': 'standard', 'knn_n_neighbors': 54, 'knn_p': 7, 'knn_weights': 'distance'}.\n",
      "[I 2025-02-19 14:09:45,927] Trial 140 finished with values: [0.9269310958214133, 0.00650506851570325] and parameters: {'scalers': 'minmax', 'knn_n_neighbors': 56, 'knn_p': 8, 'knn_weights': 'uniform'}.\n",
      "[I 2025-02-19 14:09:46,703] Trial 141 finished with values: [0.925331948699878, 0.00483238412841431] and parameters: {'scalers': 'robust', 'knn_n_neighbors': 30, 'knn_p': 5, 'knn_weights': 'uniform'}.\n",
      "[I 2025-02-19 14:09:47,538] Trial 142 finished with values: [0.9273316291690807, 0.004769724934810608] and parameters: {'scalers': 'minmax', 'knn_n_neighbors': 95, 'knn_p': 6, 'knn_weights': 'distance'}.\n",
      "[I 2025-02-19 14:09:47,940] Trial 143 finished with values: [0.9263980467809015, 0.006302589424696764] and parameters: {'scalers': 'minmax', 'knn_n_neighbors': 20, 'knn_p': 7, 'knn_weights': 'distance'}.\n",
      "[I 2025-02-19 14:09:48,932] Trial 144 finished with values: [0.9229312371714855, 0.006750575230095225] and parameters: {'scalers': 'none', 'knn_n_neighbors': 56, 'knn_p': 5, 'knn_weights': 'distance'}.\n",
      "[I 2025-02-19 14:09:49,663] Trial 145 finished with values: [0.9263986689203045, 0.00455041873104516] and parameters: {'scalers': 'minmax', 'knn_n_neighbors': 23, 'knn_p': 4, 'knn_weights': 'distance'}.\n",
      "[I 2025-02-19 14:09:50,763] Trial 146 finished with values: [0.9270652290767055, 0.004091591083220889] and parameters: {'scalers': 'robust', 'knn_n_neighbors': 75, 'knn_p': 5, 'knn_weights': 'uniform'}.\n",
      "[I 2025-02-19 14:09:51,065] Trial 147 finished with values: [0.9253315754162362, 0.004204680900485835] and parameters: {'scalers': 'normalizer', 'knn_n_neighbors': 22, 'knn_p': 3, 'knn_weights': 'distance'}.\n",
      "[I 2025-02-19 14:09:51,647] Trial 148 finished with values: [0.9278640560701893, 0.006678063158805679] and parameters: {'scalers': 'normalizer', 'knn_n_neighbors': 95, 'knn_p': 6, 'knn_weights': 'distance'}.\n",
      "[I 2025-02-19 14:09:52,212] Trial 149 finished with values: [0.9270649802209442, 0.005674653994084752] and parameters: {'scalers': 'normalizer', 'knn_n_neighbors': 82, 'knn_p': 4, 'knn_weights': 'distance'}.\n",
      "[I 2025-02-19 14:09:53,025] Trial 150 finished with values: [0.9261311489770039, 0.00634361766140471] and parameters: {'scalers': 'normalizer', 'knn_n_neighbors': 80, 'knn_p': 8, 'knn_weights': 'uniform'}.\n",
      "[I 2025-02-19 14:09:53,905] Trial 151 finished with values: [0.9273316291690807, 0.004769724934810608] and parameters: {'scalers': 'minmax', 'knn_n_neighbors': 95, 'knn_p': 6, 'knn_weights': 'distance'}.\n",
      "[I 2025-02-19 14:09:54,432] Trial 152 finished with values: [0.9271988646204752, 0.005029217284967035] and parameters: {'scalers': 'robust', 'knn_n_neighbors': 36, 'knn_p': 10, 'knn_weights': 'distance'}.\n",
      "[I 2025-02-19 14:09:55,526] Trial 153 finished with values: [0.9273312558854389, 0.005788555722450867] and parameters: {'scalers': 'robust', 'knn_n_neighbors': 89, 'knn_p': 10, 'knn_weights': 'uniform'}.\n",
      "[I 2025-02-19 14:09:56,141] Trial 154 finished with values: [0.927998064897601, 0.005385622278011586] and parameters: {'scalers': 'standard', 'knn_n_neighbors': 46, 'knn_p': 9, 'knn_weights': 'distance'}.\n",
      "[I 2025-02-19 14:09:57,174] Trial 155 finished with values: [0.9233315216633917, 0.0057209603197879155] and parameters: {'scalers': 'none', 'knn_n_neighbors': 82, 'knn_p': 3, 'knn_weights': 'uniform'}.\n",
      "[I 2025-02-19 14:09:57,494] Trial 156 finished with values: [0.9267988289843301, 0.003096989866762657] and parameters: {'scalers': 'normalizer', 'knn_n_neighbors': 30, 'knn_p': 4, 'knn_weights': 'distance'}.\n",
      "[I 2025-02-19 14:09:57,962] Trial 157 finished with values: [0.9269315935329356, 0.005225990908644868] and parameters: {'scalers': 'minmax', 'knn_n_neighbors': 27, 'knn_p': 4, 'knn_weights': 'distance'}.\n",
      "[I 2025-02-19 14:09:58,431] Trial 158 finished with values: [0.9273316291690807, 0.004717410064245898] and parameters: {'scalers': 'standard', 'knn_n_neighbors': 27, 'knn_p': 4, 'knn_weights': 'distance'}.\n",
      "[I 2025-02-19 14:09:59,053] Trial 159 finished with values: [0.9286646250540018, 0.005732398128540011] and parameters: {'scalers': 'standard', 'knn_n_neighbors': 54, 'knn_p': 9, 'knn_weights': 'distance'}.\n",
      "[I 2025-02-19 14:09:59,906] Trial 160 finished with values: [0.9278653003489954, 0.003438073134261476] and parameters: {'scalers': 'robust', 'knn_n_neighbors': 95, 'knn_p': 5, 'knn_weights': 'distance'}.\n",
      "[I 2025-02-19 14:10:00,539] Trial 161 finished with values: [0.9285311139381127, 0.00625350877016053] and parameters: {'scalers': 'minmax', 'knn_n_neighbors': 54, 'knn_p': 5, 'knn_weights': 'distance'}.\n",
      "[I 2025-02-19 14:10:00,852] Trial 162 finished with values: [0.9274652647128505, 0.0043062990744265365] and parameters: {'scalers': 'normalizer', 'knn_n_neighbors': 27, 'knn_p': 3, 'knn_weights': 'distance'}.\n",
      "[I 2025-02-19 14:10:01,452] Trial 163 finished with values: [0.9281313271577288, 0.00544568219222221] and parameters: {'scalers': 'standard', 'knn_n_neighbors': 48, 'knn_p': 9, 'knn_weights': 'distance'}.\n",
      "[I 2025-02-19 14:10:01,884] Trial 164 finished with values: [0.9263986689203045, 0.00455041873104516] and parameters: {'scalers': 'minmax', 'knn_n_neighbors': 23, 'knn_p': 4, 'knn_weights': 'distance'}.\n",
      "[I 2025-02-19 14:10:02,708] Trial 165 finished with values: [0.9282649627014986, 0.004743402295438759] and parameters: {'scalers': 'robust', 'knn_n_neighbors': 94, 'knn_p': 10, 'knn_weights': 'distance'}.\n",
      "[I 2025-02-19 14:10:03,025] Trial 166 finished with values: [0.9267988289843301, 0.003096989866762657] and parameters: {'scalers': 'normalizer', 'knn_n_neighbors': 30, 'knn_p': 4, 'knn_weights': 'distance'}.\n",
      "[I 2025-02-19 14:10:03,288] Trial 167 finished with values: [0.926131397832765, 0.004799378774023138] and parameters: {'scalers': 'normalizer', 'knn_n_neighbors': 20, 'knn_p': 10, 'knn_weights': 'distance'}.\n",
      "[I 2025-02-19 14:10:05,136] Trial 168 finished with values: [0.9274648914292085, 0.005006965333593964] and parameters: {'scalers': 'minmax', 'knn_n_neighbors': 82, 'knn_p': 5, 'knn_weights': 'distance'}.\n",
      "[I 2025-02-19 14:10:05,500] Trial 169 finished with values: [0.9289320205694219, 0.004867290092514432] and parameters: {'scalers': 'minmax', 'knn_n_neighbors': 78, 'knn_p': 1, 'knn_weights': 'distance'}.\n",
      "[I 2025-02-19 14:10:06,034] Trial 170 finished with values: [0.9281310783019677, 0.006012475172927377] and parameters: {'scalers': 'normalizer', 'knn_n_neighbors': 56, 'knn_p': 6, 'knn_weights': 'distance'}.\n",
      "[I 2025-02-19 14:10:06,719] Trial 171 finished with values: [0.9262641623813705, 0.006436541772500042] and parameters: {'scalers': 'normalizer', 'knn_n_neighbors': 54, 'knn_p': 9, 'knn_weights': 'uniform'}.\n",
      "[I 2025-02-19 14:10:07,518] Trial 172 finished with values: [0.9273316291690807, 0.004974231690421903] and parameters: {'scalers': 'minmax', 'knn_n_neighbors': 80, 'knn_p': 4, 'knn_weights': 'distance'}.\n",
      "[I 2025-02-19 14:10:08,506] Trial 173 finished with values: [0.9279983137533622, 0.005630184791517699] and parameters: {'scalers': 'standard', 'knn_n_neighbors': 56, 'knn_p': 3, 'knn_weights': 'uniform'}.\n",
      "[I 2025-02-19 14:10:09,552] Trial 174 finished with values: [0.927865424776876, 0.0037135372911305284] and parameters: {'scalers': 'robust', 'knn_n_neighbors': 75, 'knn_p': 4, 'knn_weights': 'uniform'}.\n",
      "[I 2025-02-19 14:10:09,988] Trial 175 finished with values: [0.9239985795313151, 0.006724692118149782] and parameters: {'scalers': 'none', 'knn_n_neighbors': 27, 'knn_p': 4, 'knn_weights': 'distance'}.\n",
      "[I 2025-02-19 14:10:10,302] Trial 176 finished with values: [0.9270651046488247, 0.0038748445444638374] and parameters: {'scalers': 'normalizer', 'knn_n_neighbors': 30, 'knn_p': 7, 'knn_weights': 'distance'}.\n",
      "[I 2025-02-19 14:10:10,768] Trial 177 finished with values: [0.9279985626091234, 0.004469101049292179] and parameters: {'scalers': 'standard', 'knn_n_neighbors': 27, 'knn_p': 9, 'knn_weights': 'distance'}.\n",
      "[I 2025-02-19 14:10:11,318] Trial 178 finished with values: [0.925865868735554, 0.0041840879990738015] and parameters: {'scalers': 'normalizer', 'knn_n_neighbors': 20, 'knn_p': 8, 'knn_weights': 'uniform'}.\n",
      "[I 2025-02-19 14:10:12,247] Trial 179 finished with values: [0.927598651400859, 0.004041577610371445] and parameters: {'scalers': 'robust', 'knn_n_neighbors': 91, 'knn_p': 5, 'knn_weights': 'distance'}.\n",
      "[I 2025-02-19 14:10:12,900] Trial 180 finished with values: [0.9262650333765347, 0.005665230686643883] and parameters: {'scalers': 'standard', 'knn_n_neighbors': 12, 'knn_p': 10, 'knn_weights': 'uniform'}.\n",
      "[I 2025-02-19 14:10:13,309] Trial 181 finished with values: [0.9274653891407311, 0.0035084583021040305] and parameters: {'scalers': 'standard', 'knn_n_neighbors': 20, 'knn_p': 9, 'knn_weights': 'distance'}.\n",
      "[I 2025-02-19 14:10:13,729] Trial 182 finished with values: [0.9254644643927223, 0.006519183639899334] and parameters: {'scalers': 'minmax', 'knn_n_neighbors': 20, 'knn_p': 5, 'knn_weights': 'distance'}.\n",
      "[I 2025-02-19 14:10:14,595] Trial 183 finished with values: [0.9278649270653536, 0.004956775428905776] and parameters: {'scalers': 'standard', 'knn_n_neighbors': 91, 'knn_p': 4, 'knn_weights': 'distance'}.\n",
      "[I 2025-02-19 14:10:15,567] Trial 184 finished with values: [0.9247981530920827, 0.006087943650436708] and parameters: {'scalers': 'none', 'knn_n_neighbors': 82, 'knn_p': 6, 'knn_weights': 'uniform'}.\n",
      "[I 2025-02-19 14:10:16,018] Trial 185 finished with values: [0.9283977272501042, 0.006170416564767911] and parameters: {'scalers': 'normalizer', 'knn_n_neighbors': 62, 'knn_p': 7, 'knn_weights': 'distance'}.\n",
      "[I 2025-02-19 14:10:16,452] Trial 186 finished with values: [0.9259982600005178, 0.005080851763444672] and parameters: {'scalers': 'normalizer', 'knn_n_neighbors': 36, 'knn_p': 1, 'knn_weights': 'uniform'}.\n",
      "[I 2025-02-19 14:10:17,143] Trial 187 finished with values: [0.9279979404697203, 0.005915428752151958] and parameters: {'scalers': 'minmax', 'knn_n_neighbors': 62, 'knn_p': 7, 'knn_weights': 'distance'}.\n",
      "[I 2025-02-19 14:10:17,782] Trial 188 finished with values: [0.927998064897601, 0.006340123871367873] and parameters: {'scalers': 'robust', 'knn_n_neighbors': 54, 'knn_p': 6, 'knn_weights': 'distance'}.\n",
      "[I 2025-02-19 14:10:18,705] Trial 189 finished with values: [0.9265308113295071, 0.007215256295365205] and parameters: {'scalers': 'robust', 'knn_n_neighbors': 54, 'knn_p': 5, 'knn_weights': 'uniform'}.\n",
      "[I 2025-02-19 14:10:19,521] Trial 190 finished with values: [0.9266649445847992, 0.0045957007516188985] and parameters: {'scalers': 'minmax', 'knn_n_neighbors': 92, 'knn_p': 9, 'knn_weights': 'distance'}.\n",
      "[I 2025-02-19 14:10:20,013] Trial 191 finished with values: [0.9281317004413706, 0.0052543703732064045] and parameters: {'scalers': 'standard', 'knn_n_neighbors': 33, 'knn_p': 9, 'knn_weights': 'distance'}.\n",
      "[I 2025-02-19 14:10:20,479] Trial 192 finished with values: [0.9265314334689101, 0.005640288891717168] and parameters: {'scalers': 'minmax', 'knn_n_neighbors': 29, 'knn_p': 6, 'knn_weights': 'distance'}.\n",
      "[I 2025-02-19 14:10:20,922] Trial 193 finished with values: [0.9253323219835199, 0.007065215921923862] and parameters: {'scalers': 'none', 'knn_n_neighbors': 30, 'knn_p': 4, 'knn_weights': 'distance'}.\n",
      "[I 2025-02-19 14:10:21,677] Trial 194 finished with values: [0.927064731365183, 0.005362957122482079] and parameters: {'scalers': 'minmax', 'knn_n_neighbors': 82, 'knn_p': 9, 'knn_weights': 'distance'}.\n",
      "[I 2025-02-19 14:10:22,430] Trial 195 finished with values: [0.9261312734048844, 0.006163299148151202] and parameters: {'scalers': 'normalizer', 'knn_n_neighbors': 80, 'knn_p': 9, 'knn_weights': 'uniform'}.\n",
      "[I 2025-02-19 14:10:22,715] Trial 196 finished with values: [0.9241320906472043, 0.005565820063359591] and parameters: {'scalers': 'none', 'knn_n_neighbors': 89, 'knn_p': 1, 'knn_weights': 'distance'}.\n",
      "[I 2025-02-19 14:10:23,342] Trial 197 finished with values: [0.9286646250540018, 0.005732398128540011] and parameters: {'scalers': 'standard', 'knn_n_neighbors': 54, 'knn_p': 9, 'knn_weights': 'distance'}.\n",
      "[I 2025-02-19 14:10:24,063] Trial 198 finished with values: [0.9250650508959805, 0.005788995108859492] and parameters: {'scalers': 'none', 'knn_n_neighbors': 82, 'knn_p': 9, 'knn_weights': 'distance'}.\n",
      "[I 2025-02-19 14:10:24,564] Trial 199 finished with values: [0.9281317004413706, 0.0052543703732064045] and parameters: {'scalers': 'standard', 'knn_n_neighbors': 33, 'knn_p': 9, 'knn_weights': 'distance'}.\n",
      "[I 2025-02-19 14:10:25,023] Trial 200 finished with values: [0.9279985626091234, 0.004469101049292179] and parameters: {'scalers': 'standard', 'knn_n_neighbors': 27, 'knn_p': 9, 'knn_weights': 'distance'}.\n",
      "[I 2025-02-19 14:10:25,292] Trial 201 finished with values: [0.9277319136609868, 0.006144052954967777] and parameters: {'scalers': 'minmax', 'knn_n_neighbors': 59, 'knn_p': 1, 'knn_weights': 'distance'}.\n",
      "[I 2025-02-19 14:10:25,911] Trial 202 finished with values: [0.9270649802209442, 0.005518841963308985] and parameters: {'scalers': 'robust', 'knn_n_neighbors': 48, 'knn_p': 4, 'knn_weights': 'distance'}.\n",
      "[I 2025-02-19 14:10:26,236] Trial 203 finished with values: [0.9270651046488247, 0.0038748445444638374] and parameters: {'scalers': 'normalizer', 'knn_n_neighbors': 30, 'knn_p': 7, 'knn_weights': 'distance'}.\n",
      "[I 2025-02-19 14:10:27,070] Trial 204 finished with values: [0.9277316648052257, 0.005346098348290507] and parameters: {'scalers': 'standard', 'knn_n_neighbors': 91, 'knn_p': 9, 'knn_weights': 'distance'}.\n",
      "[I 2025-02-19 14:10:27,416] Trial 205 finished with values: [0.9265319311804324, 0.003816977223137141] and parameters: {'scalers': 'normalizer', 'knn_n_neighbors': 33, 'knn_p': 3, 'knn_weights': 'distance'}.\n",
      "[I 2025-02-19 14:10:27,621] Trial 206 finished with values: [0.9286651227655243, 0.005481172516274212] and parameters: {'scalers': 'standard', 'knn_n_neighbors': 51, 'knn_p': 2, 'knn_weights': 'distance'}.\n",
      "[I 2025-02-19 14:10:28,490] Trial 207 finished with values: [0.9282649627014986, 0.005382777948662702] and parameters: {'scalers': 'standard', 'knn_n_neighbors': 100, 'knn_p': 9, 'knn_weights': 'distance'}.\n",
      "[I 2025-02-19 14:10:29,243] Trial 208 finished with values: [0.9259983844283982, 0.0055468569062097125] and parameters: {'scalers': 'none', 'knn_n_neighbors': 91, 'knn_p': 9, 'knn_weights': 'distance'}.\n",
      "[I 2025-02-19 14:10:29,909] Trial 209 finished with values: [0.9258649977403898, 0.005438289079789176] and parameters: {'scalers': 'normalizer', 'knn_n_neighbors': 46, 'knn_p': 4, 'knn_weights': 'uniform'}.\n",
      "[I 2025-02-19 14:10:30,145] Trial 210 finished with values: [0.9255987220758951, 0.0035084760505386795] and parameters: {'scalers': 'normalizer', 'knn_n_neighbors': 15, 'knn_p': 9, 'knn_weights': 'distance'}.\n",
      "[I 2025-02-19 14:10:30,644] Trial 211 finished with values: [0.9145321063748882, 0.005637849994524885] and parameters: {'scalers': 'robust', 'knn_n_neighbors': 3, 'knn_p': 4, 'knn_weights': 'uniform'}.\n",
      "[I 2025-02-19 14:10:31,290] Trial 212 finished with values: [0.9279984381812428, 0.0046351924619657085] and parameters: {'scalers': 'standard', 'knn_n_neighbors': 57, 'knn_p': 5, 'knn_weights': 'distance'}.\n",
      "[I 2025-02-19 14:10:31,752] Trial 213 finished with values: [0.9274653891407311, 0.00477101872558499] and parameters: {'scalers': 'standard', 'knn_n_neighbors': 27, 'knn_p': 7, 'knn_weights': 'distance'}.\n",
      "[I 2025-02-19 14:10:32,250] Trial 214 finished with values: [0.9281317004413706, 0.0052543703732064045] and parameters: {'scalers': 'standard', 'knn_n_neighbors': 33, 'knn_p': 9, 'knn_weights': 'distance'}.\n",
      "[I 2025-02-19 14:10:32,704] Trial 215 finished with values: [0.9270653535045861, 0.004088898210321472] and parameters: {'scalers': 'standard', 'knn_n_neighbors': 22, 'knn_p': 4, 'knn_weights': 'distance'}.\n",
      "[I 2025-02-19 14:10:33,111] Trial 216 finished with values: [0.928264838273618, 0.004639044180330477] and parameters: {'scalers': 'normalizer', 'knn_n_neighbors': 48, 'knn_p': 5, 'knn_weights': 'distance'}.\n",
      "[I 2025-02-19 14:10:33,522] Trial 217 finished with values: [0.927064731365183, 0.005744197692419556] and parameters: {'scalers': 'minmax', 'knn_n_neighbors': 20, 'knn_p': 9, 'knn_weights': 'distance'}.\n",
      "[I 2025-02-19 14:10:34,344] Trial 218 finished with values: [0.9278653003489954, 0.004335245059220247] and parameters: {'scalers': 'robust', 'knn_n_neighbors': 75, 'knn_p': 3, 'knn_weights': 'distance'}.\n",
      "[I 2025-02-19 14:10:34,641] Trial 219 finished with values: [0.9273322513084837, 0.0035642873468080356] and parameters: {'scalers': 'normalizer', 'knn_n_neighbors': 27, 'knn_p': 4, 'knn_weights': 'distance'}.\n",
      "[I 2025-02-19 14:10:35,368] Trial 220 finished with values: [0.9279979404697203, 0.005936836736866189] and parameters: {'scalers': 'standard', 'knn_n_neighbors': 70, 'knn_p': 9, 'knn_weights': 'distance'}.\n",
      "[I 2025-02-19 14:10:36,073] Trial 221 finished with values: [0.9270652290767055, 0.00492070083202754] and parameters: {'scalers': 'robust', 'knn_n_neighbors': 68, 'knn_p': 10, 'knn_weights': 'distance'}.\n",
      "[I 2025-02-19 14:10:36,937] Trial 222 finished with values: [0.9246645175483128, 0.006129589534976263] and parameters: {'scalers': 'none', 'knn_n_neighbors': 54, 'knn_p': 7, 'knn_weights': 'uniform'}.\n",
      "[I 2025-02-19 14:10:37,569] Trial 223 finished with values: [0.9281318248692514, 0.005109174285859579] and parameters: {'scalers': 'standard', 'knn_n_neighbors': 54, 'knn_p': 5, 'knn_weights': 'distance'}.\n",
      "[I 2025-02-19 14:10:38,006] Trial 224 finished with values: [0.9274650158570893, 0.0038857319247258566] and parameters: {'scalers': 'robust', 'knn_n_neighbors': 21, 'knn_p': 7, 'knn_weights': 'distance'}.\n",
      "[I 2025-02-19 14:10:38,695] Trial 225 finished with values: [0.9269313446771744, 0.006208939667143135] and parameters: {'scalers': 'minmax', 'knn_n_neighbors': 68, 'knn_p': 10, 'knn_weights': 'distance'}.\n",
      "[I 2025-02-19 14:10:39,012] Trial 226 finished with values: [0.9266654422963218, 0.003254670193407402] and parameters: {'scalers': 'normalizer', 'knn_n_neighbors': 33, 'knn_p': 7, 'knn_weights': 'distance'}.\n",
      "[I 2025-02-19 14:10:39,325] Trial 227 finished with values: [0.927465389140731, 0.0036126126304280967] and parameters: {'scalers': 'normalizer', 'knn_n_neighbors': 30, 'knn_p': 5, 'knn_weights': 'distance'}.\n",
      "[I 2025-02-19 14:10:39,553] Trial 228 finished with values: [0.9274655135686116, 0.005120756853687135] and parameters: {'scalers': 'robust', 'knn_n_neighbors': 36, 'knn_p': 1, 'knn_weights': 'distance'}.\n",
      "[I 2025-02-19 14:10:40,128] Trial 229 finished with values: [0.9273310070296776, 0.0062658296301017664] and parameters: {'scalers': 'normalizer', 'knn_n_neighbors': 95, 'knn_p': 7, 'knn_weights': 'distance'}.\n",
      "[I 2025-02-19 14:10:40,608] Trial 230 finished with values: [0.9274653891407311, 0.004004884324436384] and parameters: {'scalers': 'robust', 'knn_n_neighbors': 29, 'knn_p': 5, 'knn_weights': 'distance'}.\n",
      "[I 2025-02-19 14:10:41,153] Trial 231 finished with values: [0.9233317705191529, 0.004716853951219985] and parameters: {'scalers': 'standard', 'knn_n_neighbors': 7, 'knn_p': 10, 'knn_weights': 'uniform'}.\n",
      "[I 2025-02-19 14:10:41,845] Trial 232 finished with values: [0.926397922353021, 0.005569843869294164] and parameters: {'scalers': 'normalizer', 'knn_n_neighbors': 61, 'knn_p': 7, 'knn_weights': 'uniform'}.\n",
      "[I 2025-02-19 14:10:42,206] Trial 233 finished with values: [0.9265319311804324, 0.004449111330751516] and parameters: {'scalers': 'robust', 'knn_n_neighbors': 15, 'knn_p': 9, 'knn_weights': 'distance'}.\n",
      "[I 2025-02-19 14:10:42,661] Trial 234 finished with values: [0.9278651759211148, 0.004668307375287688] and parameters: {'scalers': 'standard', 'knn_n_neighbors': 27, 'knn_p': 6, 'knn_weights': 'distance'}.\n",
      "[I 2025-02-19 14:10:42,966] Trial 235 finished with values: [0.9273322513084837, 0.0035642873468080356] and parameters: {'scalers': 'normalizer', 'knn_n_neighbors': 27, 'knn_p': 4, 'knn_weights': 'distance'}.\n",
      "[I 2025-02-19 14:10:43,589] Trial 236 finished with values: [0.9282645894178568, 0.005788381306607457] and parameters: {'scalers': 'standard', 'knn_n_neighbors': 54, 'knn_p': 8, 'knn_weights': 'distance'}.\n",
      "[I 2025-02-19 14:10:44,109] Trial 237 finished with values: [0.9261316466885263, 0.005520221137950971] and parameters: {'scalers': 'minmax', 'knn_n_neighbors': 36, 'knn_p': 4, 'knn_weights': 'distance'}.\n",
      "[I 2025-02-19 14:10:44,727] Trial 238 finished with values: [0.9286646250540018, 0.005732398128540011] and parameters: {'scalers': 'standard', 'knn_n_neighbors': 54, 'knn_p': 9, 'knn_weights': 'distance'}.\n",
      "[I 2025-02-19 14:10:45,138] Trial 239 finished with values: [0.9266656911520829, 0.002927340093015144] and parameters: {'scalers': 'robust', 'knn_n_neighbors': 20, 'knn_p': 9, 'knn_weights': 'distance'}.\n",
      "[I 2025-02-19 14:10:45,553] Trial 240 finished with values: [0.927064731365183, 0.005744197692419556] and parameters: {'scalers': 'minmax', 'knn_n_neighbors': 20, 'knn_p': 9, 'knn_weights': 'distance'}.\n",
      "[I 2025-02-19 14:10:46,363] Trial 241 finished with values: [0.9258653710240317, 0.005317602647950096] and parameters: {'scalers': 'minmax', 'knn_n_neighbors': 36, 'knn_p': 5, 'knn_weights': 'uniform'}.\n",
      "[I 2025-02-19 14:10:46,895] Trial 242 finished with values: [0.9265315578967908, 0.005249779097191729] and parameters: {'scalers': 'normalizer', 'knn_n_neighbors': 78, 'knn_p': 3, 'knn_weights': 'distance'}.\n",
      "[I 2025-02-19 14:10:47,360] Trial 243 finished with values: [0.9269315935329356, 0.005225990908644868] and parameters: {'scalers': 'minmax', 'knn_n_neighbors': 27, 'knn_p': 4, 'knn_weights': 'distance'}.\n",
      "[I 2025-02-19 14:10:48,464] Trial 244 finished with values: [0.9273316291690807, 0.004215546947027101] and parameters: {'scalers': 'robust', 'knn_n_neighbors': 94, 'knn_p': 5, 'knn_weights': 'uniform'}.\n",
      "[I 2025-02-19 14:10:48,870] Trial 245 finished with values: [0.9274653891407311, 0.0035084583021040305] and parameters: {'scalers': 'standard', 'knn_n_neighbors': 20, 'knn_p': 9, 'knn_weights': 'distance'}.\n",
      "[I 2025-02-19 14:10:49,311] Trial 246 finished with values: [0.9253323219835199, 0.007065215921923862] and parameters: {'scalers': 'none', 'knn_n_neighbors': 30, 'knn_p': 4, 'knn_weights': 'distance'}.\n",
      "[I 2025-02-19 14:10:50,030] Trial 247 finished with values: [0.9266644468732768, 0.005799825013781302] and parameters: {'scalers': 'normalizer', 'knn_n_neighbors': 57, 'knn_p': 7, 'knn_weights': 'uniform'}.\n",
      "[I 2025-02-19 14:10:50,317] Trial 248 finished with values: [0.9279989358927653, 0.004320978899016278] and parameters: {'scalers': 'standard', 'knn_n_neighbors': 91, 'knn_p': 2, 'knn_weights': 'distance'}.\n",
      "[I 2025-02-19 14:10:50,607] Trial 249 finished with values: [0.9279988114648846, 0.00596700093223728] and parameters: {'scalers': 'robust', 'knn_n_neighbors': 46, 'knn_p': 1, 'knn_weights': 'distance'}.\n",
      "[I 2025-02-19 14:10:51,303] Trial 250 finished with values: [0.927464767001328, 0.005528544241333933] and parameters: {'scalers': 'robust', 'knn_n_neighbors': 57, 'knn_p': 7, 'knn_weights': 'distance'}.\n",
      "[I 2025-02-19 14:10:51,795] Trial 251 finished with values: [0.9266654422963215, 0.00447781136402489] and parameters: {'scalers': 'standard', 'knn_n_neighbors': 27, 'knn_p': 5, 'knn_weights': 'distance'}.\n",
      "[I 2025-02-19 14:10:52,686] Trial 252 finished with values: [0.9274645181455669, 0.0061091649148055744] and parameters: {'scalers': 'standard', 'knn_n_neighbors': 48, 'knn_p': 6, 'knn_weights': 'uniform'}.\n",
      "[I 2025-02-19 14:10:53,078] Trial 253 finished with values: [0.9281313271577288, 0.00511535212527876] and parameters: {'scalers': 'normalizer', 'knn_n_neighbors': 48, 'knn_p': 4, 'knn_weights': 'distance'}.\n",
      "[I 2025-02-19 14:10:53,335] Trial 254 finished with values: [0.9259982600005177, 0.004369811141621888] and parameters: {'scalers': 'normalizer', 'knn_n_neighbors': 20, 'knn_p': 9, 'knn_weights': 'distance'}.\n",
      "[I 2025-02-19 14:10:54,175] Trial 255 finished with values: [0.9275981536893365, 0.0049868594719693375] and parameters: {'scalers': 'standard', 'knn_n_neighbors': 88, 'knn_p': 4, 'knn_weights': 'distance'}.\n",
      "[I 2025-02-19 14:10:55,041] Trial 256 finished with values: [0.9278650514932342, 0.004222273013031433] and parameters: {'scalers': 'robust', 'knn_n_neighbors': 94, 'knn_p': 5, 'knn_weights': 'distance'}.\n",
      "[I 2025-02-19 14:10:55,619] Trial 257 finished with values: [0.9265326777477162, 0.0034958871197003495] and parameters: {'scalers': 'normalizer', 'knn_n_neighbors': 27, 'knn_p': 4, 'knn_weights': 'uniform'}.\n",
      "[I 2025-02-19 14:10:56,121] Trial 258 finished with values: [0.9281317004413706, 0.0052543703732064045] and parameters: {'scalers': 'standard', 'knn_n_neighbors': 33, 'knn_p': 9, 'knn_weights': 'distance'}.\n",
      "[I 2025-02-19 14:10:56,611] Trial 259 finished with values: [0.9278651759211148, 0.004668307375287688] and parameters: {'scalers': 'standard', 'knn_n_neighbors': 27, 'knn_p': 6, 'knn_weights': 'distance'}.\n",
      "[I 2025-02-19 14:10:57,013] Trial 260 finished with values: [0.9282645894178568, 0.005077758013655199] and parameters: {'scalers': 'normalizer', 'knn_n_neighbors': 48, 'knn_p': 7, 'knn_weights': 'distance'}.\n",
      "[I 2025-02-19 14:10:57,780] Trial 261 finished with values: [0.927865424776876, 0.0036122941259940267] and parameters: {'scalers': 'robust', 'knn_n_neighbors': 75, 'knn_p': 5, 'knn_weights': 'distance'}.\n",
      "[I 2025-02-19 14:10:58,617] Trial 262 finished with values: [0.928398722673149, 0.004584287254471589] and parameters: {'scalers': 'standard', 'knn_n_neighbors': 75, 'knn_p': 3, 'knn_weights': 'distance'}.\n",
      "[I 2025-02-19 14:10:59,342] Trial 263 finished with values: [0.9270649802209442, 0.0046375819463250825] and parameters: {'scalers': 'robust', 'knn_n_neighbors': 21, 'knn_p': 7, 'knn_weights': 'uniform'}.\n",
      "[I 2025-02-19 14:11:00,143] Trial 264 finished with values: [0.9263982956366628, 0.0053125052428173785] and parameters: {'scalers': 'robust', 'knn_n_neighbors': 27, 'knn_p': 3, 'knn_weights': 'uniform'}.\n",
      "[I 2025-02-19 14:11:01,218] Trial 265 finished with values: [0.927465389140731, 0.004157188539184194] and parameters: {'scalers': 'robust', 'knn_n_neighbors': 70, 'knn_p': 3, 'knn_weights': 'uniform'}.\n",
      "[I 2025-02-19 14:11:01,619] Trial 266 finished with values: [0.9274653891407311, 0.0035084583021040305] and parameters: {'scalers': 'standard', 'knn_n_neighbors': 20, 'knn_p': 9, 'knn_weights': 'distance'}.\n",
      "[I 2025-02-19 14:11:02,115] Trial 267 finished with values: [0.9253318242719974, 0.004911009201168289] and parameters: {'scalers': 'standard', 'knn_n_neighbors': 30, 'knn_p': 5, 'knn_weights': 'distance'}.\n",
      "[I 2025-02-19 14:11:02,596] Trial 268 finished with values: [0.9274653891407311, 0.004004884324436384] and parameters: {'scalers': 'robust', 'knn_n_neighbors': 29, 'knn_p': 5, 'knn_weights': 'distance'}.\n",
      "[I 2025-02-19 14:11:02,924] Trial 269 finished with values: [0.9273322513084837, 0.0050888171639452695] and parameters: {'scalers': 'robust', 'knn_n_neighbors': 78, 'knn_p': 1, 'knn_weights': 'distance'}.\n",
      "[I 2025-02-19 14:11:03,856] Trial 270 finished with values: [0.9266641980175157, 0.007200141414638781] and parameters: {'scalers': 'robust', 'knn_n_neighbors': 57, 'knn_p': 10, 'knn_weights': 'uniform'}.\n",
      "[I 2025-02-19 14:11:04,748] Trial 271 finished with values: [0.9278643049259506, 0.006842131792910491] and parameters: {'scalers': 'standard', 'knn_n_neighbors': 54, 'knn_p': 10, 'knn_weights': 'uniform'}.\n",
      "[I 2025-02-19 14:11:05,792] Trial 272 finished with values: [0.928264838273618, 0.005453284913895292] and parameters: {'scalers': 'standard', 'knn_n_neighbors': 51, 'knn_p': 9, 'knn_weights': 'distance'}.\n",
      "[I 2025-02-19 14:11:06,748] Trial 273 finished with values: [0.9270651046488247, 0.0038748445444638374] and parameters: {'scalers': 'normalizer', 'knn_n_neighbors': 30, 'knn_p': 7, 'knn_weights': 'distance'}.\n",
      "[I 2025-02-19 14:11:07,832] Trial 274 finished with values: [0.9281318248692514, 0.005109174285859579] and parameters: {'scalers': 'standard', 'knn_n_neighbors': 54, 'knn_p': 5, 'knn_weights': 'distance'}.\n",
      "[I 2025-02-19 14:11:08,145] Trial 275 finished with values: [0.9270649802209442, 0.004690292053752998] and parameters: {'scalers': 'normalizer', 'knn_n_neighbors': 27, 'knn_p': 9, 'knn_weights': 'distance'}.\n",
      "[I 2025-02-19 14:11:08,492] Trial 276 finished with values: [0.927465389140731, 0.0036126126304280967] and parameters: {'scalers': 'normalizer', 'knn_n_neighbors': 30, 'knn_p': 5, 'knn_weights': 'distance'}.\n",
      "[I 2025-02-19 14:11:08,916] Trial 277 finished with values: [0.9266656911520829, 0.002927340093015144] and parameters: {'scalers': 'robust', 'knn_n_neighbors': 20, 'knn_p': 9, 'knn_weights': 'distance'}.\n",
      "[I 2025-02-19 14:11:09,343] Trial 278 finished with values: [0.927865424776876, 0.003973667281893637] and parameters: {'scalers': 'standard', 'knn_n_neighbors': 20, 'knn_p': 4, 'knn_weights': 'distance'}.\n",
      "[I 2025-02-19 14:11:09,809] Trial 279 finished with values: [0.9266654422963215, 0.00447781136402489] and parameters: {'scalers': 'standard', 'knn_n_neighbors': 27, 'knn_p': 5, 'knn_weights': 'distance'}.\n",
      "[I 2025-02-19 14:11:10,209] Trial 280 finished with values: [0.927064731365183, 0.005744197692419556] and parameters: {'scalers': 'minmax', 'knn_n_neighbors': 20, 'knn_p': 9, 'knn_weights': 'distance'}.\n",
      "[I 2025-02-19 14:11:10,529] Trial 281 finished with values: [0.9267988289843301, 0.003096989866762657] and parameters: {'scalers': 'normalizer', 'knn_n_neighbors': 30, 'knn_p': 4, 'knn_weights': 'distance'}.\n",
      "[I 2025-02-19 14:11:11,149] Trial 282 finished with values: [0.9279983137533622, 0.0052420746609582155] and parameters: {'scalers': 'standard', 'knn_n_neighbors': 54, 'knn_p': 6, 'knn_weights': 'distance'}.\n",
      "[I 2025-02-19 14:11:11,555] Trial 283 finished with values: [0.9274653891407311, 0.0035084583021040305] and parameters: {'scalers': 'standard', 'knn_n_neighbors': 20, 'knn_p': 9, 'knn_weights': 'distance'}.\n",
      "[I 2025-02-19 14:11:12,047] Trial 284 finished with values: [0.9281317004413706, 0.0052543703732064045] and parameters: {'scalers': 'standard', 'knn_n_neighbors': 33, 'knn_p': 9, 'knn_weights': 'distance'}.\n",
      "[I 2025-02-19 14:11:12,469] Trial 285 finished with values: [0.924932286347375, 0.003975158799871752] and parameters: {'scalers': 'normalizer', 'knn_n_neighbors': 30, 'knn_p': 1, 'knn_weights': 'uniform'}.\n",
      "[I 2025-02-19 14:11:13,163] Trial 286 finished with values: [0.9266644468732768, 0.005799825013781302] and parameters: {'scalers': 'normalizer', 'knn_n_neighbors': 57, 'knn_p': 7, 'knn_weights': 'uniform'}.\n",
      "[I 2025-02-19 14:11:13,614] Trial 287 finished with values: [0.9281309538740871, 0.0063952523177087306] and parameters: {'scalers': 'normalizer', 'knn_n_neighbors': 64, 'knn_p': 9, 'knn_weights': 'distance'}.\n",
      "[I 2025-02-19 14:11:14,226] Trial 288 finished with values: [0.927998064897601, 0.006359956432488485] and parameters: {'scalers': 'robust', 'knn_n_neighbors': 54, 'knn_p': 9, 'knn_weights': 'distance'}.\n",
      "[I 2025-02-19 14:11:14,697] Trial 289 finished with values: [0.9271984913368333, 0.005299332500800837] and parameters: {'scalers': 'standard', 'knn_n_neighbors': 30, 'knn_p': 10, 'knn_weights': 'distance'}.\n",
      "[I 2025-02-19 14:11:15,011] Trial 290 finished with values: [0.9267988289843301, 0.003096989866762657] and parameters: {'scalers': 'normalizer', 'knn_n_neighbors': 30, 'knn_p': 4, 'knn_weights': 'distance'}.\n",
      "[I 2025-02-19 14:11:15,479] Trial 291 finished with values: [0.9267982068449271, 0.004703761565782963] and parameters: {'scalers': 'robust', 'knn_n_neighbors': 27, 'knn_p': 4, 'knn_weights': 'distance'}.\n",
      "[I 2025-02-19 14:11:16,570] Trial 292 finished with values: [0.9263981712087821, 0.005361096689212553] and parameters: {'scalers': 'standard', 'knn_n_neighbors': 91, 'knn_p': 5, 'knn_weights': 'uniform'}.\n",
      "[I 2025-02-19 14:11:17,160] Trial 293 finished with values: [0.9273312558854389, 0.005999312923058821] and parameters: {'scalers': 'normalizer', 'knn_n_neighbors': 95, 'knn_p': 4, 'knn_weights': 'distance'}.\n",
      "[I 2025-02-19 14:11:17,327] Trial 294 finished with values: [0.927598651400859, 0.004338484041301456] and parameters: {'scalers': 'standard', 'knn_n_neighbors': 32, 'knn_p': 2, 'knn_weights': 'distance'}.\n",
      "[I 2025-02-19 14:11:17,953] Trial 295 finished with values: [0.9286646250540018, 0.005732398128540011] and parameters: {'scalers': 'standard', 'knn_n_neighbors': 54, 'knn_p': 9, 'knn_weights': 'distance'}.\n",
      "[I 2025-02-19 14:11:18,865] Trial 296 finished with values: [0.928398100533746, 0.0059407131150828706] and parameters: {'scalers': 'standard', 'knn_n_neighbors': 57, 'knn_p': 7, 'knn_weights': 'uniform'}.\n",
      "[I 2025-02-19 14:11:19,605] Trial 297 finished with values: [0.9278643049259506, 0.006370581840309012] and parameters: {'scalers': 'minmax', 'knn_n_neighbors': 78, 'knn_p': 9, 'knn_weights': 'distance'}.\n",
      "[I 2025-02-19 14:11:20,183] Trial 298 finished with values: [0.926797957989166, 0.006191296769401258] and parameters: {'scalers': 'normalizer', 'knn_n_neighbors': 94, 'knn_p': 4, 'knn_weights': 'distance'}.\n",
      "[I 2025-02-19 14:11:20,819] Trial 299 finished with values: [0.9281312027298483, 0.0057150412742063336] and parameters: {'scalers': 'standard', 'knn_n_neighbors': 57, 'knn_p': 10, 'knn_weights': 'distance'}.\n"
     ]
    }
   ],
   "source": [
    "def objective(trial):\n",
    "    # Препроцессинг\n",
    "    ## Список скалеров в препроцессинге\n",
    "    scalers = trial.suggest_categorical(\"scalers\", ['minmax', 'standard', 'robust', 'normalizer', 'none'])\n",
    "\n",
    "    ## Определение скалеров\n",
    "    if scalers == \"minmax\":\n",
    "        scaler = MinMaxScaler()\n",
    "    elif scalers == \"standard\":\n",
    "        scaler = StandardScaler()\n",
    "    elif scalers == \"robust\":\n",
    "        scaler = RobustScaler()\n",
    "    elif scalers == \"normalizer\":\n",
    "        scaler = Normalizer()\n",
    "    else:\n",
    "        scaler = 'passthrough'\n",
    "\n",
    "    # Определяем модель машинного обучения\n",
    "    ## количество соседей\n",
    "    knn_n_neighbors=trial.suggest_int(\"knn_n_neighbors\", 1, 100, step=1) \n",
    "    ## степень метрики миньковского\n",
    "    knn_p = trial.suggest_int(\"knn_p\", 1, 10, step=1)\n",
    "    ## влияние растояния\n",
    "    knn_weights=trial.suggest_categorical(\"knn_weights\", ['uniform', 'distance'])\n",
    "\n",
    "    estimator=KNeighborsClassifier(n_neighbors=knn_n_neighbors, p = knn_p, weights=knn_weights)\n",
    "\n",
    "    # Собираем контейнер\n",
    "    pipeline = make_pipeline(scaler, estimator)\n",
    "\n",
    "    # Вычисляем средний результат на кроссвалидации\n",
    "    cv_score = cross_val_score(pipeline, X, y, cv=7)\n",
    "    score_mean = cv_score.mean()\n",
    "    score_std = cv_score.std()\n",
    "    return score_mean, score_std\n",
    "    \n",
    "study = optuna.create_study(directions=[\"maximize\", \"minimize\"]) \n",
    "study.optimize(objective, n_trials=300, show_progress_bar=True)"
   ]
  },
  {
   "cell_type": "code",
   "execution_count": 20,
   "id": "e3d64113-526d-4e29-bed0-ceeaf3b3f131",
   "metadata": {},
   "outputs": [
    {
     "data": {
      "text/plain": [
       "[FrozenTrial(number=156, state=1, values=[0.9267988289843301, 0.003096989866762657], datetime_start=datetime.datetime(2025, 2, 19, 14, 9, 57, 175277), datetime_complete=datetime.datetime(2025, 2, 19, 14, 9, 57, 493962), params={'scalers': 'normalizer', 'knn_n_neighbors': 30, 'knn_p': 4, 'knn_weights': 'distance'}, user_attrs={}, system_attrs={'nsga2:generation': 3}, intermediate_values={}, distributions={'scalers': CategoricalDistribution(choices=('minmax', 'standard', 'robust', 'normalizer', 'none')), 'knn_n_neighbors': IntDistribution(high=100, log=False, low=1, step=1), 'knn_p': IntDistribution(high=10, log=False, low=1, step=1), 'knn_weights': CategoricalDistribution(choices=('uniform', 'distance'))}, trial_id=156, value=None),\n",
       " FrozenTrial(number=160, state=1, values=[0.9278653003489954, 0.003438073134261476], datetime_start=datetime.datetime(2025, 2, 19, 14, 9, 59, 55101), datetime_complete=datetime.datetime(2025, 2, 19, 14, 9, 59, 906302), params={'scalers': 'robust', 'knn_n_neighbors': 95, 'knn_p': 5, 'knn_weights': 'distance'}, user_attrs={}, system_attrs={'nsga2:generation': 3}, intermediate_values={}, distributions={'scalers': CategoricalDistribution(choices=('minmax', 'standard', 'robust', 'normalizer', 'none')), 'knn_n_neighbors': IntDistribution(high=100, log=False, low=1, step=1), 'knn_p': IntDistribution(high=10, log=False, low=1, step=1), 'knn_weights': CategoricalDistribution(choices=('uniform', 'distance'))}, trial_id=160, value=None),\n",
       " FrozenTrial(number=166, state=1, values=[0.9267988289843301, 0.003096989866762657], datetime_start=datetime.datetime(2025, 2, 19, 14, 10, 2, 709442), datetime_complete=datetime.datetime(2025, 2, 19, 14, 10, 3, 25565), params={'scalers': 'normalizer', 'knn_n_neighbors': 30, 'knn_p': 4, 'knn_weights': 'distance'}, user_attrs={}, system_attrs={'nsga2:generation': 3}, intermediate_values={}, distributions={'scalers': CategoricalDistribution(choices=('minmax', 'standard', 'robust', 'normalizer', 'none')), 'knn_n_neighbors': IntDistribution(high=100, log=False, low=1, step=1), 'knn_p': IntDistribution(high=10, log=False, low=1, step=1), 'knn_weights': CategoricalDistribution(choices=('uniform', 'distance'))}, trial_id=166, value=None),\n",
       " FrozenTrial(number=169, state=1, values=[0.9289320205694219, 0.004867290092514432], datetime_start=datetime.datetime(2025, 2, 19, 14, 10, 5, 137497), datetime_complete=datetime.datetime(2025, 2, 19, 14, 10, 5, 500108), params={'scalers': 'minmax', 'knn_n_neighbors': 78, 'knn_p': 1, 'knn_weights': 'distance'}, user_attrs={}, system_attrs={'nsga2:generation': 3}, intermediate_values={}, distributions={'scalers': CategoricalDistribution(choices=('minmax', 'standard', 'robust', 'normalizer', 'none')), 'knn_n_neighbors': IntDistribution(high=100, log=False, low=1, step=1), 'knn_p': IntDistribution(high=10, log=False, low=1, step=1), 'knn_weights': CategoricalDistribution(choices=('uniform', 'distance'))}, trial_id=169, value=None),\n",
       " FrozenTrial(number=239, state=1, values=[0.9266656911520829, 0.002927340093015144], datetime_start=datetime.datetime(2025, 2, 19, 14, 10, 44, 729003), datetime_complete=datetime.datetime(2025, 2, 19, 14, 10, 45, 138410), params={'scalers': 'robust', 'knn_n_neighbors': 20, 'knn_p': 9, 'knn_weights': 'distance'}, user_attrs={}, system_attrs={'nsga2:generation': 4}, intermediate_values={}, distributions={'scalers': CategoricalDistribution(choices=('minmax', 'standard', 'robust', 'normalizer', 'none')), 'knn_n_neighbors': IntDistribution(high=100, log=False, low=1, step=1), 'knn_p': IntDistribution(high=10, log=False, low=1, step=1), 'knn_weights': CategoricalDistribution(choices=('uniform', 'distance'))}, trial_id=239, value=None),\n",
       " FrozenTrial(number=248, state=1, values=[0.9279989358927653, 0.004320978899016278], datetime_start=datetime.datetime(2025, 2, 19, 14, 10, 50, 31742), datetime_complete=datetime.datetime(2025, 2, 19, 14, 10, 50, 316939), params={'scalers': 'standard', 'knn_n_neighbors': 91, 'knn_p': 2, 'knn_weights': 'distance'}, user_attrs={}, system_attrs={'nsga2:generation': 4}, intermediate_values={}, distributions={'scalers': CategoricalDistribution(choices=('minmax', 'standard', 'robust', 'normalizer', 'none')), 'knn_n_neighbors': IntDistribution(high=100, log=False, low=1, step=1), 'knn_p': IntDistribution(high=10, log=False, low=1, step=1), 'knn_weights': CategoricalDistribution(choices=('uniform', 'distance'))}, trial_id=248, value=None),\n",
       " FrozenTrial(number=261, state=1, values=[0.927865424776876, 0.0036122941259940267], datetime_start=datetime.datetime(2025, 2, 19, 14, 10, 57, 14243), datetime_complete=datetime.datetime(2025, 2, 19, 14, 10, 57, 779990), params={'scalers': 'robust', 'knn_n_neighbors': 75, 'knn_p': 5, 'knn_weights': 'distance'}, user_attrs={}, system_attrs={'nsga2:generation': 5}, intermediate_values={}, distributions={'scalers': CategoricalDistribution(choices=('minmax', 'standard', 'robust', 'normalizer', 'none')), 'knn_n_neighbors': IntDistribution(high=100, log=False, low=1, step=1), 'knn_p': IntDistribution(high=10, log=False, low=1, step=1), 'knn_weights': CategoricalDistribution(choices=('uniform', 'distance'))}, trial_id=261, value=None),\n",
       " FrozenTrial(number=262, state=1, values=[0.928398722673149, 0.004584287254471589], datetime_start=datetime.datetime(2025, 2, 19, 14, 10, 57, 781416), datetime_complete=datetime.datetime(2025, 2, 19, 14, 10, 58, 617523), params={'scalers': 'standard', 'knn_n_neighbors': 75, 'knn_p': 3, 'knn_weights': 'distance'}, user_attrs={}, system_attrs={'nsga2:generation': 5}, intermediate_values={}, distributions={'scalers': CategoricalDistribution(choices=('minmax', 'standard', 'robust', 'normalizer', 'none')), 'knn_n_neighbors': IntDistribution(high=100, log=False, low=1, step=1), 'knn_p': IntDistribution(high=10, log=False, low=1, step=1), 'knn_weights': CategoricalDistribution(choices=('uniform', 'distance'))}, trial_id=262, value=None),\n",
       " FrozenTrial(number=277, state=1, values=[0.9266656911520829, 0.002927340093015144], datetime_start=datetime.datetime(2025, 2, 19, 14, 11, 8, 493523), datetime_complete=datetime.datetime(2025, 2, 19, 14, 11, 8, 916086), params={'scalers': 'robust', 'knn_n_neighbors': 20, 'knn_p': 9, 'knn_weights': 'distance'}, user_attrs={}, system_attrs={'nsga2:generation': 5}, intermediate_values={}, distributions={'scalers': CategoricalDistribution(choices=('minmax', 'standard', 'robust', 'normalizer', 'none')), 'knn_n_neighbors': IntDistribution(high=100, log=False, low=1, step=1), 'knn_p': IntDistribution(high=10, log=False, low=1, step=1), 'knn_weights': CategoricalDistribution(choices=('uniform', 'distance'))}, trial_id=277, value=None),\n",
       " FrozenTrial(number=281, state=1, values=[0.9267988289843301, 0.003096989866762657], datetime_start=datetime.datetime(2025, 2, 19, 14, 11, 10, 210538), datetime_complete=datetime.datetime(2025, 2, 19, 14, 11, 10, 528941), params={'scalers': 'normalizer', 'knn_n_neighbors': 30, 'knn_p': 4, 'knn_weights': 'distance'}, user_attrs={}, system_attrs={'nsga2:generation': 5}, intermediate_values={}, distributions={'scalers': CategoricalDistribution(choices=('minmax', 'standard', 'robust', 'normalizer', 'none')), 'knn_n_neighbors': IntDistribution(high=100, log=False, low=1, step=1), 'knn_p': IntDistribution(high=10, log=False, low=1, step=1), 'knn_weights': CategoricalDistribution(choices=('uniform', 'distance'))}, trial_id=281, value=None),\n",
       " FrozenTrial(number=290, state=1, values=[0.9267988289843301, 0.003096989866762657], datetime_start=datetime.datetime(2025, 2, 19, 14, 11, 14, 699050), datetime_complete=datetime.datetime(2025, 2, 19, 14, 11, 15, 10948), params={'scalers': 'normalizer', 'knn_n_neighbors': 30, 'knn_p': 4, 'knn_weights': 'distance'}, user_attrs={}, system_attrs={'nsga2:generation': 5}, intermediate_values={}, distributions={'scalers': CategoricalDistribution(choices=('minmax', 'standard', 'robust', 'normalizer', 'none')), 'knn_n_neighbors': IntDistribution(high=100, log=False, low=1, step=1), 'knn_p': IntDistribution(high=10, log=False, low=1, step=1), 'knn_weights': CategoricalDistribution(choices=('uniform', 'distance'))}, trial_id=290, value=None)]"
      ]
     },
     "execution_count": 20,
     "metadata": {},
     "output_type": "execute_result"
    }
   ],
   "source": [
    "study.best_trials"
   ]
  },
  {
   "cell_type": "code",
   "execution_count": 11,
   "id": "6fd77e85-f2f3-4663-890e-609b596e76ea",
   "metadata": {},
   "outputs": [
    {
     "name": "stdout",
     "output_type": "stream",
     "text": [
      "Number of trials on the Pareto front: 11\n",
      "Trial with highest accuracy: \n",
      "\tnumber: 169\n",
      "\tparams: {'scalers': 'minmax', 'knn_n_neighbors': 78, 'knn_p': 1, 'knn_weights': 'distance'}\n",
      "\tvalues: [0.9289320205694219, 0.004867290092514432]\n"
     ]
    }
   ],
   "source": [
    "print(f\"Number of trials on the Pareto front: {len(study.best_trials)}\")\n",
    "\n",
    "trial_with_highest_accuracy = max(study.best_trials, key=lambda t: t.values[0])\n",
    "print(\"Trial with highest accuracy: \")\n",
    "print(f\"\\tnumber: {trial_with_highest_accuracy.number}\")\n",
    "print(f\"\\tparams: {trial_with_highest_accuracy.params}\")\n",
    "print(f\"\\tvalues: {trial_with_highest_accuracy.values}\")"
   ]
  },
  {
   "cell_type": "code",
   "execution_count": 28,
   "id": "129b8531-6430-495e-b81f-2deafdb05d00",
   "metadata": {},
   "outputs": [
    {
     "name": "stdout",
     "output_type": "stream",
     "text": [
      "Trial with highest accuracy: \n",
      "\tnumber: 239\n",
      "\tparams: {'scalers': 'robust', 'knn_n_neighbors': 20, 'knn_p': 9, 'knn_weights': 'distance'}\n",
      "\tvalues: [0.9266656911520829, 0.002927340093015144]\n"
     ]
    }
   ],
   "source": [
    "trial_with_min_std = min(study.best_trials, key=lambda t: t.values[1])\n",
    "print(\"Trial with highest accuracy: \")\n",
    "print(f\"\\tnumber: {trial_with_min_std.number}\")\n",
    "print(f\"\\tparams: {trial_with_min_std.params}\")\n",
    "print(f\"\\tvalues: {trial_with_min_std.values}\")"
   ]
  },
  {
   "cell_type": "code",
   "execution_count": 12,
   "id": "565e2ed5-ab6a-4518-81fc-c9b7976a1fe8",
   "metadata": {},
   "outputs": [
    {
     "data": {
      "application/vnd.plotly.v1+json": {
       "config": {
        "plotlyServerURL": "https://plot.ly"
       },
       "data": [
        {
         "cliponaxis": false,
         "hovertemplate": [
          "knn_weights (CategoricalDistribution): 0.0053112793862257965<extra></extra>",
          "knn_p (IntDistribution): 0.008947146475758507<extra></extra>",
          "scalers (CategoricalDistribution): 0.20366355380807588<extra></extra>",
          "knn_n_neighbors (IntDistribution): 0.7820780203299399<extra></extra>"
         ],
         "name": "mean",
         "orientation": "h",
         "text": [
          "<0.01",
          "<0.01",
          "0.20",
          "0.78"
         ],
         "textposition": "outside",
         "type": "bar",
         "x": [
          0.0053112793862257965,
          0.008947146475758507,
          0.20366355380807588,
          0.7820780203299399
         ],
         "y": [
          "knn_weights",
          "knn_p",
          "scalers",
          "knn_n_neighbors"
         ]
        }
       ],
       "layout": {
        "template": {
         "data": {
          "bar": [
           {
            "error_x": {
             "color": "#2a3f5f"
            },
            "error_y": {
             "color": "#2a3f5f"
            },
            "marker": {
             "line": {
              "color": "#E5ECF6",
              "width": 0.5
             },
             "pattern": {
              "fillmode": "overlay",
              "size": 10,
              "solidity": 0.2
             }
            },
            "type": "bar"
           }
          ],
          "barpolar": [
           {
            "marker": {
             "line": {
              "color": "#E5ECF6",
              "width": 0.5
             },
             "pattern": {
              "fillmode": "overlay",
              "size": 10,
              "solidity": 0.2
             }
            },
            "type": "barpolar"
           }
          ],
          "carpet": [
           {
            "aaxis": {
             "endlinecolor": "#2a3f5f",
             "gridcolor": "white",
             "linecolor": "white",
             "minorgridcolor": "white",
             "startlinecolor": "#2a3f5f"
            },
            "baxis": {
             "endlinecolor": "#2a3f5f",
             "gridcolor": "white",
             "linecolor": "white",
             "minorgridcolor": "white",
             "startlinecolor": "#2a3f5f"
            },
            "type": "carpet"
           }
          ],
          "choropleth": [
           {
            "colorbar": {
             "outlinewidth": 0,
             "ticks": ""
            },
            "type": "choropleth"
           }
          ],
          "contour": [
           {
            "colorbar": {
             "outlinewidth": 0,
             "ticks": ""
            },
            "colorscale": [
             [
              0,
              "#0d0887"
             ],
             [
              0.1111111111111111,
              "#46039f"
             ],
             [
              0.2222222222222222,
              "#7201a8"
             ],
             [
              0.3333333333333333,
              "#9c179e"
             ],
             [
              0.4444444444444444,
              "#bd3786"
             ],
             [
              0.5555555555555556,
              "#d8576b"
             ],
             [
              0.6666666666666666,
              "#ed7953"
             ],
             [
              0.7777777777777778,
              "#fb9f3a"
             ],
             [
              0.8888888888888888,
              "#fdca26"
             ],
             [
              1,
              "#f0f921"
             ]
            ],
            "type": "contour"
           }
          ],
          "contourcarpet": [
           {
            "colorbar": {
             "outlinewidth": 0,
             "ticks": ""
            },
            "type": "contourcarpet"
           }
          ],
          "heatmap": [
           {
            "colorbar": {
             "outlinewidth": 0,
             "ticks": ""
            },
            "colorscale": [
             [
              0,
              "#0d0887"
             ],
             [
              0.1111111111111111,
              "#46039f"
             ],
             [
              0.2222222222222222,
              "#7201a8"
             ],
             [
              0.3333333333333333,
              "#9c179e"
             ],
             [
              0.4444444444444444,
              "#bd3786"
             ],
             [
              0.5555555555555556,
              "#d8576b"
             ],
             [
              0.6666666666666666,
              "#ed7953"
             ],
             [
              0.7777777777777778,
              "#fb9f3a"
             ],
             [
              0.8888888888888888,
              "#fdca26"
             ],
             [
              1,
              "#f0f921"
             ]
            ],
            "type": "heatmap"
           }
          ],
          "heatmapgl": [
           {
            "colorbar": {
             "outlinewidth": 0,
             "ticks": ""
            },
            "colorscale": [
             [
              0,
              "#0d0887"
             ],
             [
              0.1111111111111111,
              "#46039f"
             ],
             [
              0.2222222222222222,
              "#7201a8"
             ],
             [
              0.3333333333333333,
              "#9c179e"
             ],
             [
              0.4444444444444444,
              "#bd3786"
             ],
             [
              0.5555555555555556,
              "#d8576b"
             ],
             [
              0.6666666666666666,
              "#ed7953"
             ],
             [
              0.7777777777777778,
              "#fb9f3a"
             ],
             [
              0.8888888888888888,
              "#fdca26"
             ],
             [
              1,
              "#f0f921"
             ]
            ],
            "type": "heatmapgl"
           }
          ],
          "histogram": [
           {
            "marker": {
             "pattern": {
              "fillmode": "overlay",
              "size": 10,
              "solidity": 0.2
             }
            },
            "type": "histogram"
           }
          ],
          "histogram2d": [
           {
            "colorbar": {
             "outlinewidth": 0,
             "ticks": ""
            },
            "colorscale": [
             [
              0,
              "#0d0887"
             ],
             [
              0.1111111111111111,
              "#46039f"
             ],
             [
              0.2222222222222222,
              "#7201a8"
             ],
             [
              0.3333333333333333,
              "#9c179e"
             ],
             [
              0.4444444444444444,
              "#bd3786"
             ],
             [
              0.5555555555555556,
              "#d8576b"
             ],
             [
              0.6666666666666666,
              "#ed7953"
             ],
             [
              0.7777777777777778,
              "#fb9f3a"
             ],
             [
              0.8888888888888888,
              "#fdca26"
             ],
             [
              1,
              "#f0f921"
             ]
            ],
            "type": "histogram2d"
           }
          ],
          "histogram2dcontour": [
           {
            "colorbar": {
             "outlinewidth": 0,
             "ticks": ""
            },
            "colorscale": [
             [
              0,
              "#0d0887"
             ],
             [
              0.1111111111111111,
              "#46039f"
             ],
             [
              0.2222222222222222,
              "#7201a8"
             ],
             [
              0.3333333333333333,
              "#9c179e"
             ],
             [
              0.4444444444444444,
              "#bd3786"
             ],
             [
              0.5555555555555556,
              "#d8576b"
             ],
             [
              0.6666666666666666,
              "#ed7953"
             ],
             [
              0.7777777777777778,
              "#fb9f3a"
             ],
             [
              0.8888888888888888,
              "#fdca26"
             ],
             [
              1,
              "#f0f921"
             ]
            ],
            "type": "histogram2dcontour"
           }
          ],
          "mesh3d": [
           {
            "colorbar": {
             "outlinewidth": 0,
             "ticks": ""
            },
            "type": "mesh3d"
           }
          ],
          "parcoords": [
           {
            "line": {
             "colorbar": {
              "outlinewidth": 0,
              "ticks": ""
             }
            },
            "type": "parcoords"
           }
          ],
          "pie": [
           {
            "automargin": true,
            "type": "pie"
           }
          ],
          "scatter": [
           {
            "fillpattern": {
             "fillmode": "overlay",
             "size": 10,
             "solidity": 0.2
            },
            "type": "scatter"
           }
          ],
          "scatter3d": [
           {
            "line": {
             "colorbar": {
              "outlinewidth": 0,
              "ticks": ""
             }
            },
            "marker": {
             "colorbar": {
              "outlinewidth": 0,
              "ticks": ""
             }
            },
            "type": "scatter3d"
           }
          ],
          "scattercarpet": [
           {
            "marker": {
             "colorbar": {
              "outlinewidth": 0,
              "ticks": ""
             }
            },
            "type": "scattercarpet"
           }
          ],
          "scattergeo": [
           {
            "marker": {
             "colorbar": {
              "outlinewidth": 0,
              "ticks": ""
             }
            },
            "type": "scattergeo"
           }
          ],
          "scattergl": [
           {
            "marker": {
             "colorbar": {
              "outlinewidth": 0,
              "ticks": ""
             }
            },
            "type": "scattergl"
           }
          ],
          "scattermapbox": [
           {
            "marker": {
             "colorbar": {
              "outlinewidth": 0,
              "ticks": ""
             }
            },
            "type": "scattermapbox"
           }
          ],
          "scatterpolar": [
           {
            "marker": {
             "colorbar": {
              "outlinewidth": 0,
              "ticks": ""
             }
            },
            "type": "scatterpolar"
           }
          ],
          "scatterpolargl": [
           {
            "marker": {
             "colorbar": {
              "outlinewidth": 0,
              "ticks": ""
             }
            },
            "type": "scatterpolargl"
           }
          ],
          "scatterternary": [
           {
            "marker": {
             "colorbar": {
              "outlinewidth": 0,
              "ticks": ""
             }
            },
            "type": "scatterternary"
           }
          ],
          "surface": [
           {
            "colorbar": {
             "outlinewidth": 0,
             "ticks": ""
            },
            "colorscale": [
             [
              0,
              "#0d0887"
             ],
             [
              0.1111111111111111,
              "#46039f"
             ],
             [
              0.2222222222222222,
              "#7201a8"
             ],
             [
              0.3333333333333333,
              "#9c179e"
             ],
             [
              0.4444444444444444,
              "#bd3786"
             ],
             [
              0.5555555555555556,
              "#d8576b"
             ],
             [
              0.6666666666666666,
              "#ed7953"
             ],
             [
              0.7777777777777778,
              "#fb9f3a"
             ],
             [
              0.8888888888888888,
              "#fdca26"
             ],
             [
              1,
              "#f0f921"
             ]
            ],
            "type": "surface"
           }
          ],
          "table": [
           {
            "cells": {
             "fill": {
              "color": "#EBF0F8"
             },
             "line": {
              "color": "white"
             }
            },
            "header": {
             "fill": {
              "color": "#C8D4E3"
             },
             "line": {
              "color": "white"
             }
            },
            "type": "table"
           }
          ]
         },
         "layout": {
          "annotationdefaults": {
           "arrowcolor": "#2a3f5f",
           "arrowhead": 0,
           "arrowwidth": 1
          },
          "autotypenumbers": "strict",
          "coloraxis": {
           "colorbar": {
            "outlinewidth": 0,
            "ticks": ""
           }
          },
          "colorscale": {
           "diverging": [
            [
             0,
             "#8e0152"
            ],
            [
             0.1,
             "#c51b7d"
            ],
            [
             0.2,
             "#de77ae"
            ],
            [
             0.3,
             "#f1b6da"
            ],
            [
             0.4,
             "#fde0ef"
            ],
            [
             0.5,
             "#f7f7f7"
            ],
            [
             0.6,
             "#e6f5d0"
            ],
            [
             0.7,
             "#b8e186"
            ],
            [
             0.8,
             "#7fbc41"
            ],
            [
             0.9,
             "#4d9221"
            ],
            [
             1,
             "#276419"
            ]
           ],
           "sequential": [
            [
             0,
             "#0d0887"
            ],
            [
             0.1111111111111111,
             "#46039f"
            ],
            [
             0.2222222222222222,
             "#7201a8"
            ],
            [
             0.3333333333333333,
             "#9c179e"
            ],
            [
             0.4444444444444444,
             "#bd3786"
            ],
            [
             0.5555555555555556,
             "#d8576b"
            ],
            [
             0.6666666666666666,
             "#ed7953"
            ],
            [
             0.7777777777777778,
             "#fb9f3a"
            ],
            [
             0.8888888888888888,
             "#fdca26"
            ],
            [
             1,
             "#f0f921"
            ]
           ],
           "sequentialminus": [
            [
             0,
             "#0d0887"
            ],
            [
             0.1111111111111111,
             "#46039f"
            ],
            [
             0.2222222222222222,
             "#7201a8"
            ],
            [
             0.3333333333333333,
             "#9c179e"
            ],
            [
             0.4444444444444444,
             "#bd3786"
            ],
            [
             0.5555555555555556,
             "#d8576b"
            ],
            [
             0.6666666666666666,
             "#ed7953"
            ],
            [
             0.7777777777777778,
             "#fb9f3a"
            ],
            [
             0.8888888888888888,
             "#fdca26"
            ],
            [
             1,
             "#f0f921"
            ]
           ]
          },
          "colorway": [
           "#636efa",
           "#EF553B",
           "#00cc96",
           "#ab63fa",
           "#FFA15A",
           "#19d3f3",
           "#FF6692",
           "#B6E880",
           "#FF97FF",
           "#FECB52"
          ],
          "font": {
           "color": "#2a3f5f"
          },
          "geo": {
           "bgcolor": "white",
           "lakecolor": "white",
           "landcolor": "#E5ECF6",
           "showlakes": true,
           "showland": true,
           "subunitcolor": "white"
          },
          "hoverlabel": {
           "align": "left"
          },
          "hovermode": "closest",
          "mapbox": {
           "style": "light"
          },
          "paper_bgcolor": "white",
          "plot_bgcolor": "#E5ECF6",
          "polar": {
           "angularaxis": {
            "gridcolor": "white",
            "linecolor": "white",
            "ticks": ""
           },
           "bgcolor": "#E5ECF6",
           "radialaxis": {
            "gridcolor": "white",
            "linecolor": "white",
            "ticks": ""
           }
          },
          "scene": {
           "xaxis": {
            "backgroundcolor": "#E5ECF6",
            "gridcolor": "white",
            "gridwidth": 2,
            "linecolor": "white",
            "showbackground": true,
            "ticks": "",
            "zerolinecolor": "white"
           },
           "yaxis": {
            "backgroundcolor": "#E5ECF6",
            "gridcolor": "white",
            "gridwidth": 2,
            "linecolor": "white",
            "showbackground": true,
            "ticks": "",
            "zerolinecolor": "white"
           },
           "zaxis": {
            "backgroundcolor": "#E5ECF6",
            "gridcolor": "white",
            "gridwidth": 2,
            "linecolor": "white",
            "showbackground": true,
            "ticks": "",
            "zerolinecolor": "white"
           }
          },
          "shapedefaults": {
           "line": {
            "color": "#2a3f5f"
           }
          },
          "ternary": {
           "aaxis": {
            "gridcolor": "white",
            "linecolor": "white",
            "ticks": ""
           },
           "baxis": {
            "gridcolor": "white",
            "linecolor": "white",
            "ticks": ""
           },
           "bgcolor": "#E5ECF6",
           "caxis": {
            "gridcolor": "white",
            "linecolor": "white",
            "ticks": ""
           }
          },
          "title": {
           "x": 0.05
          },
          "xaxis": {
           "automargin": true,
           "gridcolor": "white",
           "linecolor": "white",
           "ticks": "",
           "title": {
            "standoff": 15
           },
           "zerolinecolor": "white",
           "zerolinewidth": 2
          },
          "yaxis": {
           "automargin": true,
           "gridcolor": "white",
           "linecolor": "white",
           "ticks": "",
           "title": {
            "standoff": 15
           },
           "zerolinecolor": "white",
           "zerolinewidth": 2
          }
         }
        },
        "title": {
         "text": "Hyperparameter Importances"
        },
        "xaxis": {
         "title": {
          "text": "Hyperparameter Importance"
         }
        },
        "yaxis": {
         "title": {
          "text": "Hyperparameter"
         }
        }
       }
      },
      "image/png": "[encoded data removed]",
      "text/html": [
       "<div>                            <div id=\"70806012-30b3-4b1b-95cb-bb63f6526890\" class=\"plotly-graph-div\" style=\"height:525px; width:100%;\"></div>            <script type=\"text/javascript\">                require([\"plotly\"], function(Plotly) {                    window.PLOTLYENV=window.PLOTLYENV || {};                                    if (document.getElementById(\"70806012-30b3-4b1b-95cb-bb63f6526890\")) {                    Plotly.newPlot(                        \"70806012-30b3-4b1b-95cb-bb63f6526890\",                        [{\"cliponaxis\":false,\"hovertemplate\":[\"knn_weights (CategoricalDistribution): 0.0053112793862257965\\u003cextra\\u003e\\u003c\\u002fextra\\u003e\",\"knn_p (IntDistribution): 0.008947146475758507\\u003cextra\\u003e\\u003c\\u002fextra\\u003e\",\"scalers (CategoricalDistribution): 0.20366355380807588\\u003cextra\\u003e\\u003c\\u002fextra\\u003e\",\"knn_n_neighbors (IntDistribution): 0.7820780203299399\\u003cextra\\u003e\\u003c\\u002fextra\\u003e\"],\"name\":\"mean\",\"orientation\":\"h\",\"text\":[\"\\u003c0.01\",\"\\u003c0.01\",\"0.20\",\"0.78\"],\"textposition\":\"outside\",\"x\":[0.0053112793862257965,0.008947146475758507,0.20366355380807588,0.7820780203299399],\"y\":[\"knn_weights\",\"knn_p\",\"scalers\",\"knn_n_neighbors\"],\"type\":\"bar\"}],                        {\"title\":{\"text\":\"Hyperparameter Importances\"},\"xaxis\":{\"title\":{\"text\":\"Hyperparameter Importance\"}},\"yaxis\":{\"title\":{\"text\":\"Hyperparameter\"}},\"template\":{\"data\":{\"histogram2dcontour\":[{\"type\":\"histogram2dcontour\",\"colorbar\":{\"outlinewidth\":0,\"ticks\":\"\"},\"colorscale\":[[0.0,\"#0d0887\"],[0.1111111111111111,\"#46039f\"],[0.2222222222222222,\"#7201a8\"],[0.3333333333333333,\"#9c179e\"],[0.4444444444444444,\"#bd3786\"],[0.5555555555555556,\"#d8576b\"],[0.6666666666666666,\"#ed7953\"],[0.7777777777777778,\"#fb9f3a\"],[0.8888888888888888,\"#fdca26\"],[1.0,\"#f0f921\"]]}],\"choropleth\":[{\"type\":\"choropleth\",\"colorbar\":{\"outlinewidth\":0,\"ticks\":\"\"}}],\"histogram2d\":[{\"type\":\"histogram2d\",\"colorbar\":{\"outlinewidth\":0,\"ticks\":\"\"},\"colorscale\":[[0.0,\"#0d0887\"],[0.1111111111111111,\"#46039f\"],[0.2222222222222222,\"#7201a8\"],[0.3333333333333333,\"#9c179e\"],[0.4444444444444444,\"#bd3786\"],[0.5555555555555556,\"#d8576b\"],[0.6666666666666666,\"#ed7953\"],[0.7777777777777778,\"#fb9f3a\"],[0.8888888888888888,\"#fdca26\"],[1.0,\"#f0f921\"]]}],\"heatmap\":[{\"type\":\"heatmap\",\"colorbar\":{\"outlinewidth\":0,\"ticks\":\"\"},\"colorscale\":[[0.0,\"#0d0887\"],[0.1111111111111111,\"#46039f\"],[0.2222222222222222,\"#7201a8\"],[0.3333333333333333,\"#9c179e\"],[0.4444444444444444,\"#bd3786\"],[0.5555555555555556,\"#d8576b\"],[0.6666666666666666,\"#ed7953\"],[0.7777777777777778,\"#fb9f3a\"],[0.8888888888888888,\"#fdca26\"],[1.0,\"#f0f921\"]]}],\"heatmapgl\":[{\"type\":\"heatmapgl\",\"colorbar\":{\"outlinewidth\":0,\"ticks\":\"\"},\"colorscale\":[[0.0,\"#0d0887\"],[0.1111111111111111,\"#46039f\"],[0.2222222222222222,\"#7201a8\"],[0.3333333333333333,\"#9c179e\"],[0.4444444444444444,\"#bd3786\"],[0.5555555555555556,\"#d8576b\"],[0.6666666666666666,\"#ed7953\"],[0.7777777777777778,\"#fb9f3a\"],[0.8888888888888888,\"#fdca26\"],[1.0,\"#f0f921\"]]}],\"contourcarpet\":[{\"type\":\"contourcarpet\",\"colorbar\":{\"outlinewidth\":0,\"ticks\":\"\"}}],\"contour\":[{\"type\":\"contour\",\"colorbar\":{\"outlinewidth\":0,\"ticks\":\"\"},\"colorscale\":[[0.0,\"#0d0887\"],[0.1111111111111111,\"#46039f\"],[0.2222222222222222,\"#7201a8\"],[0.3333333333333333,\"#9c179e\"],[0.4444444444444444,\"#bd3786\"],[0.5555555555555556,\"#d8576b\"],[0.6666666666666666,\"#ed7953\"],[0.7777777777777778,\"#fb9f3a\"],[0.8888888888888888,\"#fdca26\"],[1.0,\"#f0f921\"]]}],\"surface\":[{\"type\":\"surface\",\"colorbar\":{\"outlinewidth\":0,\"ticks\":\"\"},\"colorscale\":[[0.0,\"#0d0887\"],[0.1111111111111111,\"#46039f\"],[0.2222222222222222,\"#7201a8\"],[0.3333333333333333,\"#9c179e\"],[0.4444444444444444,\"#bd3786\"],[0.5555555555555556,\"#d8576b\"],[0.6666666666666666,\"#ed7953\"],[0.7777777777777778,\"#fb9f3a\"],[0.8888888888888888,\"#fdca26\"],[1.0,\"#f0f921\"]]}],\"mesh3d\":[{\"type\":\"mesh3d\",\"colorbar\":{\"outlinewidth\":0,\"ticks\":\"\"}}],\"scatter\":[{\"fillpattern\":{\"fillmode\":\"overlay\",\"size\":10,\"solidity\":0.2},\"type\":\"scatter\"}],\"parcoords\":[{\"type\":\"parcoords\",\"line\":{\"colorbar\":{\"outlinewidth\":0,\"ticks\":\"\"}}}],\"scatterpolargl\":[{\"type\":\"scatterpolargl\",\"marker\":{\"colorbar\":{\"outlinewidth\":0,\"ticks\":\"\"}}}],\"bar\":[{\"error_x\":{\"color\":\"#2a3f5f\"},\"error_y\":{\"color\":\"#2a3f5f\"},\"marker\":{\"line\":{\"color\":\"#E5ECF6\",\"width\":0.5},\"pattern\":{\"fillmode\":\"overlay\",\"size\":10,\"solidity\":0.2}},\"type\":\"bar\"}],\"scattergeo\":[{\"type\":\"scattergeo\",\"marker\":{\"colorbar\":{\"outlinewidth\":0,\"ticks\":\"\"}}}],\"scatterpolar\":[{\"type\":\"scatterpolar\",\"marker\":{\"colorbar\":{\"outlinewidth\":0,\"ticks\":\"\"}}}],\"histogram\":[{\"marker\":{\"pattern\":{\"fillmode\":\"overlay\",\"size\":10,\"solidity\":0.2}},\"type\":\"histogram\"}],\"scattergl\":[{\"type\":\"scattergl\",\"marker\":{\"colorbar\":{\"outlinewidth\":0,\"ticks\":\"\"}}}],\"scatter3d\":[{\"type\":\"scatter3d\",\"line\":{\"colorbar\":{\"outlinewidth\":0,\"ticks\":\"\"}},\"marker\":{\"colorbar\":{\"outlinewidth\":0,\"ticks\":\"\"}}}],\"scattermapbox\":[{\"type\":\"scattermapbox\",\"marker\":{\"colorbar\":{\"outlinewidth\":0,\"ticks\":\"\"}}}],\"scatterternary\":[{\"type\":\"scatterternary\",\"marker\":{\"colorbar\":{\"outlinewidth\":0,\"ticks\":\"\"}}}],\"scattercarpet\":[{\"type\":\"scattercarpet\",\"marker\":{\"colorbar\":{\"outlinewidth\":0,\"ticks\":\"\"}}}],\"carpet\":[{\"aaxis\":{\"endlinecolor\":\"#2a3f5f\",\"gridcolor\":\"white\",\"linecolor\":\"white\",\"minorgridcolor\":\"white\",\"startlinecolor\":\"#2a3f5f\"},\"baxis\":{\"endlinecolor\":\"#2a3f5f\",\"gridcolor\":\"white\",\"linecolor\":\"white\",\"minorgridcolor\":\"white\",\"startlinecolor\":\"#2a3f5f\"},\"type\":\"carpet\"}],\"table\":[{\"cells\":{\"fill\":{\"color\":\"#EBF0F8\"},\"line\":{\"color\":\"white\"}},\"header\":{\"fill\":{\"color\":\"#C8D4E3\"},\"line\":{\"color\":\"white\"}},\"type\":\"table\"}],\"barpolar\":[{\"marker\":{\"line\":{\"color\":\"#E5ECF6\",\"width\":0.5},\"pattern\":{\"fillmode\":\"overlay\",\"size\":10,\"solidity\":0.2}},\"type\":\"barpolar\"}],\"pie\":[{\"automargin\":true,\"type\":\"pie\"}]},\"layout\":{\"autotypenumbers\":\"strict\",\"colorway\":[\"#636efa\",\"#EF553B\",\"#00cc96\",\"#ab63fa\",\"#FFA15A\",\"#19d3f3\",\"#FF6692\",\"#B6E880\",\"#FF97FF\",\"#FECB52\"],\"font\":{\"color\":\"#2a3f5f\"},\"hovermode\":\"closest\",\"hoverlabel\":{\"align\":\"left\"},\"paper_bgcolor\":\"white\",\"plot_bgcolor\":\"#E5ECF6\",\"polar\":{\"bgcolor\":\"#E5ECF6\",\"angularaxis\":{\"gridcolor\":\"white\",\"linecolor\":\"white\",\"ticks\":\"\"},\"radialaxis\":{\"gridcolor\":\"white\",\"linecolor\":\"white\",\"ticks\":\"\"}},\"ternary\":{\"bgcolor\":\"#E5ECF6\",\"aaxis\":{\"gridcolor\":\"white\",\"linecolor\":\"white\",\"ticks\":\"\"},\"baxis\":{\"gridcolor\":\"white\",\"linecolor\":\"white\",\"ticks\":\"\"},\"caxis\":{\"gridcolor\":\"white\",\"linecolor\":\"white\",\"ticks\":\"\"}},\"coloraxis\":{\"colorbar\":{\"outlinewidth\":0,\"ticks\":\"\"}},\"colorscale\":{\"sequential\":[[0.0,\"#0d0887\"],[0.1111111111111111,\"#46039f\"],[0.2222222222222222,\"#7201a8\"],[0.3333333333333333,\"#9c179e\"],[0.4444444444444444,\"#bd3786\"],[0.5555555555555556,\"#d8576b\"],[0.6666666666666666,\"#ed7953\"],[0.7777777777777778,\"#fb9f3a\"],[0.8888888888888888,\"#fdca26\"],[1.0,\"#f0f921\"]],\"sequentialminus\":[[0.0,\"#0d0887\"],[0.1111111111111111,\"#46039f\"],[0.2222222222222222,\"#7201a8\"],[0.3333333333333333,\"#9c179e\"],[0.4444444444444444,\"#bd3786\"],[0.5555555555555556,\"#d8576b\"],[0.6666666666666666,\"#ed7953\"],[0.7777777777777778,\"#fb9f3a\"],[0.8888888888888888,\"#fdca26\"],[1.0,\"#f0f921\"]],\"diverging\":[[0,\"#8e0152\"],[0.1,\"#c51b7d\"],[0.2,\"#de77ae\"],[0.3,\"#f1b6da\"],[0.4,\"#fde0ef\"],[0.5,\"#f7f7f7\"],[0.6,\"#e6f5d0\"],[0.7,\"#b8e186\"],[0.8,\"#7fbc41\"],[0.9,\"#4d9221\"],[1,\"#276419\"]]},\"xaxis\":{\"gridcolor\":\"white\",\"linecolor\":\"white\",\"ticks\":\"\",\"title\":{\"standoff\":15},\"zerolinecolor\":\"white\",\"automargin\":true,\"zerolinewidth\":2},\"yaxis\":{\"gridcolor\":\"white\",\"linecolor\":\"white\",\"ticks\":\"\",\"title\":{\"standoff\":15},\"zerolinecolor\":\"white\",\"automargin\":true,\"zerolinewidth\":2},\"scene\":{\"xaxis\":{\"backgroundcolor\":\"#E5ECF6\",\"gridcolor\":\"white\",\"linecolor\":\"white\",\"showbackground\":true,\"ticks\":\"\",\"zerolinecolor\":\"white\",\"gridwidth\":2},\"yaxis\":{\"backgroundcolor\":\"#E5ECF6\",\"gridcolor\":\"white\",\"linecolor\":\"white\",\"showbackground\":true,\"ticks\":\"\",\"zerolinecolor\":\"white\",\"gridwidth\":2},\"zaxis\":{\"backgroundcolor\":\"#E5ECF6\",\"gridcolor\":\"white\",\"linecolor\":\"white\",\"showbackground\":true,\"ticks\":\"\",\"zerolinecolor\":\"white\",\"gridwidth\":2}},\"shapedefaults\":{\"line\":{\"color\":\"#2a3f5f\"}},\"annotationdefaults\":{\"arrowcolor\":\"#2a3f5f\",\"arrowhead\":0,\"arrowwidth\":1},\"geo\":{\"bgcolor\":\"white\",\"landcolor\":\"#E5ECF6\",\"subunitcolor\":\"white\",\"showland\":true,\"showlakes\":true,\"lakecolor\":\"white\"},\"title\":{\"x\":0.05},\"mapbox\":{\"style\":\"light\"}}}},                        {\"responsive\": true}                    ).then(function(){\n",
       "                            \n",
       "var gd = document.getElementById('70806012-30b3-4b1b-95cb-bb63f6526890');\n",
       "var x = new MutationObserver(function (mutations, observer) {{\n",
       "        var display = window.getComputedStyle(gd).display;\n",
       "        if (!display || display === 'none') {{\n",
       "            console.log([gd, 'removed!']);\n",
       "            Plotly.purge(gd);\n",
       "            observer.disconnect();\n",
       "        }}\n",
       "}});\n",
       "\n",
       "// Listen for the removal of the full notebook cells\n",
       "var notebookContainer = gd.closest('#notebook-container');\n",
       "if (notebookContainer) {{\n",
       "    x.observe(notebookContainer, {childList: true});\n",
       "}}\n",
       "\n",
       "// Listen for the clearing of the current output cell\n",
       "var outputEl = gd.closest('.output');\n",
       "if (outputEl) {{\n",
       "    x.observe(outputEl, {childList: true});\n",
       "}}\n",
       "\n",
       "                        })                };                });            </script>        </div>"
      ]
     },
     "metadata": {},
     "output_type": "display_data"
    }
   ],
   "source": [
    "optuna.visualization.plot_param_importances(\n",
    "    study, target=lambda t: t.values[0], target_name=\"mean\"\n",
    ")"
   ]
  },
  {
   "cell_type": "code",
   "execution_count": 13,
   "id": "2f59e6f9-65bc-4bc4-b89e-1887d4591960",
   "metadata": {},
   "outputs": [
    {
     "data": {
      "application/vnd.plotly.v1+json": {
       "config": {
        "plotlyServerURL": "https://plot.ly"
       },
       "data": [
        {
         "cliponaxis": false,
         "hovertemplate": [
          "knn_weights (CategoricalDistribution): 0.03328957082144464<extra></extra>",
          "knn_p (IntDistribution): 0.20307308892373616<extra></extra>",
          "scalers (CategoricalDistribution): 0.27275259721047357<extra></extra>",
          "knn_n_neighbors (IntDistribution): 0.49088474304434554<extra></extra>"
         ],
         "name": "std",
         "orientation": "h",
         "text": [
          "0.03",
          "0.20",
          "0.27",
          "0.49"
         ],
         "textposition": "outside",
         "type": "bar",
         "x": [
          0.03328957082144464,
          0.20307308892373616,
          0.27275259721047357,
          0.49088474304434554
         ],
         "y": [
          "knn_weights",
          "knn_p",
          "scalers",
          "knn_n_neighbors"
         ]
        }
       ],
       "layout": {
        "template": {
         "data": {
          "bar": [
           {
            "error_x": {
             "color": "#2a3f5f"
            },
            "error_y": {
             "color": "#2a3f5f"
            },
            "marker": {
             "line": {
              "color": "#E5ECF6",
              "width": 0.5
             },
             "pattern": {
              "fillmode": "overlay",
              "size": 10,
              "solidity": 0.2
             }
            },
            "type": "bar"
           }
          ],
          "barpolar": [
           {
            "marker": {
             "line": {
              "color": "#E5ECF6",
              "width": 0.5
             },
             "pattern": {
              "fillmode": "overlay",
              "size": 10,
              "solidity": 0.2
             }
            },
            "type": "barpolar"
           }
          ],
          "carpet": [
           {
            "aaxis": {
             "endlinecolor": "#2a3f5f",
             "gridcolor": "white",
             "linecolor": "white",
             "minorgridcolor": "white",
             "startlinecolor": "#2a3f5f"
            },
            "baxis": {
             "endlinecolor": "#2a3f5f",
             "gridcolor": "white",
             "linecolor": "white",
             "minorgridcolor": "white",
             "startlinecolor": "#2a3f5f"
            },
            "type": "carpet"
           }
          ],
          "choropleth": [
           {
            "colorbar": {
             "outlinewidth": 0,
             "ticks": ""
            },
            "type": "choropleth"
           }
          ],
          "contour": [
           {
            "colorbar": {
             "outlinewidth": 0,
             "ticks": ""
            },
            "colorscale": [
             [
              0,
              "#0d0887"
             ],
             [
              0.1111111111111111,
              "#46039f"
             ],
             [
              0.2222222222222222,
              "#7201a8"
             ],
             [
              0.3333333333333333,
              "#9c179e"
             ],
             [
              0.4444444444444444,
              "#bd3786"
             ],
             [
              0.5555555555555556,
              "#d8576b"
             ],
             [
              0.6666666666666666,
              "#ed7953"
             ],
             [
              0.7777777777777778,
              "#fb9f3a"
             ],
             [
              0.8888888888888888,
              "#fdca26"
             ],
             [
              1,
              "#f0f921"
             ]
            ],
            "type": "contour"
           }
          ],
          "contourcarpet": [
           {
            "colorbar": {
             "outlinewidth": 0,
             "ticks": ""
            },
            "type": "contourcarpet"
           }
          ],
          "heatmap": [
           {
            "colorbar": {
             "outlinewidth": 0,
             "ticks": ""
            },
            "colorscale": [
             [
              0,
              "#0d0887"
             ],
             [
              0.1111111111111111,
              "#46039f"
             ],
             [
              0.2222222222222222,
              "#7201a8"
             ],
             [
              0.3333333333333333,
              "#9c179e"
             ],
             [
              0.4444444444444444,
              "#bd3786"
             ],
             [
              0.5555555555555556,
              "#d8576b"
             ],
             [
              0.6666666666666666,
              "#ed7953"
             ],
             [
              0.7777777777777778,
              "#fb9f3a"
             ],
             [
              0.8888888888888888,
              "#fdca26"
             ],
             [
              1,
              "#f0f921"
             ]
            ],
            "type": "heatmap"
           }
          ],
          "heatmapgl": [
           {
            "colorbar": {
             "outlinewidth": 0,
             "ticks": ""
            },
            "colorscale": [
             [
              0,
              "#0d0887"
             ],
             [
              0.1111111111111111,
              "#46039f"
             ],
             [
              0.2222222222222222,
              "#7201a8"
             ],
             [
              0.3333333333333333,
              "#9c179e"
             ],
             [
              0.4444444444444444,
              "#bd3786"
             ],
             [
              0.5555555555555556,
              "#d8576b"
             ],
             [
              0.6666666666666666,
              "#ed7953"
             ],
             [
              0.7777777777777778,
              "#fb9f3a"
             ],
             [
              0.8888888888888888,
              "#fdca26"
             ],
             [
              1,
              "#f0f921"
             ]
            ],
            "type": "heatmapgl"
           }
          ],
          "histogram": [
           {
            "marker": {
             "pattern": {
              "fillmode": "overlay",
              "size": 10,
              "solidity": 0.2
             }
            },
            "type": "histogram"
           }
          ],
          "histogram2d": [
           {
            "colorbar": {
             "outlinewidth": 0,
             "ticks": ""
            },
            "colorscale": [
             [
              0,
              "#0d0887"
             ],
             [
              0.1111111111111111,
              "#46039f"
             ],
             [
              0.2222222222222222,
              "#7201a8"
             ],
             [
              0.3333333333333333,
              "#9c179e"
             ],
             [
              0.4444444444444444,
              "#bd3786"
             ],
             [
              0.5555555555555556,
              "#d8576b"
             ],
             [
              0.6666666666666666,
              "#ed7953"
             ],
             [
              0.7777777777777778,
              "#fb9f3a"
             ],
             [
              0.8888888888888888,
              "#fdca26"
             ],
             [
              1,
              "#f0f921"
             ]
            ],
            "type": "histogram2d"
           }
          ],
          "histogram2dcontour": [
           {
            "colorbar": {
             "outlinewidth": 0,
             "ticks": ""
            },
            "colorscale": [
             [
              0,
              "#0d0887"
             ],
             [
              0.1111111111111111,
              "#46039f"
             ],
             [
              0.2222222222222222,
              "#7201a8"
             ],
             [
              0.3333333333333333,
              "#9c179e"
             ],
             [
              0.4444444444444444,
              "#bd3786"
             ],
             [
              0.5555555555555556,
              "#d8576b"
             ],
             [
              0.6666666666666666,
              "#ed7953"
             ],
             [
              0.7777777777777778,
              "#fb9f3a"
             ],
             [
              0.8888888888888888,
              "#fdca26"
             ],
             [
              1,
              "#f0f921"
             ]
            ],
            "type": "histogram2dcontour"
           }
          ],
          "mesh3d": [
           {
            "colorbar": {
             "outlinewidth": 0,
             "ticks": ""
            },
            "type": "mesh3d"
           }
          ],
          "parcoords": [
           {
            "line": {
             "colorbar": {
              "outlinewidth": 0,
              "ticks": ""
             }
            },
            "type": "parcoords"
           }
          ],
          "pie": [
           {
            "automargin": true,
            "type": "pie"
           }
          ],
          "scatter": [
           {
            "fillpattern": {
             "fillmode": "overlay",
             "size": 10,
             "solidity": 0.2
            },
            "type": "scatter"
           }
          ],
          "scatter3d": [
           {
            "line": {
             "colorbar": {
              "outlinewidth": 0,
              "ticks": ""
             }
            },
            "marker": {
             "colorbar": {
              "outlinewidth": 0,
              "ticks": ""
             }
            },
            "type": "scatter3d"
           }
          ],
          "scattercarpet": [
           {
            "marker": {
             "colorbar": {
              "outlinewidth": 0,
              "ticks": ""
             }
            },
            "type": "scattercarpet"
           }
          ],
          "scattergeo": [
           {
            "marker": {
             "colorbar": {
              "outlinewidth": 0,
              "ticks": ""
             }
            },
            "type": "scattergeo"
           }
          ],
          "scattergl": [
           {
            "marker": {
             "colorbar": {
              "outlinewidth": 0,
              "ticks": ""
             }
            },
            "type": "scattergl"
           }
          ],
          "scattermapbox": [
           {
            "marker": {
             "colorbar": {
              "outlinewidth": 0,
              "ticks": ""
             }
            },
            "type": "scattermapbox"
           }
          ],
          "scatterpolar": [
           {
            "marker": {
             "colorbar": {
              "outlinewidth": 0,
              "ticks": ""
             }
            },
            "type": "scatterpolar"
           }
          ],
          "scatterpolargl": [
           {
            "marker": {
             "colorbar": {
              "outlinewidth": 0,
              "ticks": ""
             }
            },
            "type": "scatterpolargl"
           }
          ],
          "scatterternary": [
           {
            "marker": {
             "colorbar": {
              "outlinewidth": 0,
              "ticks": ""
             }
            },
            "type": "scatterternary"
           }
          ],
          "surface": [
           {
            "colorbar": {
             "outlinewidth": 0,
             "ticks": ""
            },
            "colorscale": [
             [
              0,
              "#0d0887"
             ],
             [
              0.1111111111111111,
              "#46039f"
             ],
             [
              0.2222222222222222,
              "#7201a8"
             ],
             [
              0.3333333333333333,
              "#9c179e"
             ],
             [
              0.4444444444444444,
              "#bd3786"
             ],
             [
              0.5555555555555556,
              "#d8576b"
             ],
             [
              0.6666666666666666,
              "#ed7953"
             ],
             [
              0.7777777777777778,
              "#fb9f3a"
             ],
             [
              0.8888888888888888,
              "#fdca26"
             ],
             [
              1,
              "#f0f921"
             ]
            ],
            "type": "surface"
           }
          ],
          "table": [
           {
            "cells": {
             "fill": {
              "color": "#EBF0F8"
             },
             "line": {
              "color": "white"
             }
            },
            "header": {
             "fill": {
              "color": "#C8D4E3"
             },
             "line": {
              "color": "white"
             }
            },
            "type": "table"
           }
          ]
         },
         "layout": {
          "annotationdefaults": {
           "arrowcolor": "#2a3f5f",
           "arrowhead": 0,
           "arrowwidth": 1
          },
          "autotypenumbers": "strict",
          "coloraxis": {
           "colorbar": {
            "outlinewidth": 0,
            "ticks": ""
           }
          },
          "colorscale": {
           "diverging": [
            [
             0,
             "#8e0152"
            ],
            [
             0.1,
             "#c51b7d"
            ],
            [
             0.2,
             "#de77ae"
            ],
            [
             0.3,
             "#f1b6da"
            ],
            [
             0.4,
             "#fde0ef"
            ],
            [
             0.5,
             "#f7f7f7"
            ],
            [
             0.6,
             "#e6f5d0"
            ],
            [
             0.7,
             "#b8e186"
            ],
            [
             0.8,
             "#7fbc41"
            ],
            [
             0.9,
             "#4d9221"
            ],
            [
             1,
             "#276419"
            ]
           ],
           "sequential": [
            [
             0,
             "#0d0887"
            ],
            [
             0.1111111111111111,
             "#46039f"
            ],
            [
             0.2222222222222222,
             "#7201a8"
            ],
            [
             0.3333333333333333,
             "#9c179e"
            ],
            [
             0.4444444444444444,
             "#bd3786"
            ],
            [
             0.5555555555555556,
             "#d8576b"
            ],
            [
             0.6666666666666666,
             "#ed7953"
            ],
            [
             0.7777777777777778,
             "#fb9f3a"
            ],
            [
             0.8888888888888888,
             "#fdca26"
            ],
            [
             1,
             "#f0f921"
            ]
           ],
           "sequentialminus": [
            [
             0,
             "#0d0887"
            ],
            [
             0.1111111111111111,
             "#46039f"
            ],
            [
             0.2222222222222222,
             "#7201a8"
            ],
            [
             0.3333333333333333,
             "#9c179e"
            ],
            [
             0.4444444444444444,
             "#bd3786"
            ],
            [
             0.5555555555555556,
             "#d8576b"
            ],
            [
             0.6666666666666666,
             "#ed7953"
            ],
            [
             0.7777777777777778,
             "#fb9f3a"
            ],
            [
             0.8888888888888888,
             "#fdca26"
            ],
            [
             1,
             "#f0f921"
            ]
           ]
          },
          "colorway": [
           "#636efa",
           "#EF553B",
           "#00cc96",
           "#ab63fa",
           "#FFA15A",
           "#19d3f3",
           "#FF6692",
           "#B6E880",
           "#FF97FF",
           "#FECB52"
          ],
          "font": {
           "color": "#2a3f5f"
          },
          "geo": {
           "bgcolor": "white",
           "lakecolor": "white",
           "landcolor": "#E5ECF6",
           "showlakes": true,
           "showland": true,
           "subunitcolor": "white"
          },
          "hoverlabel": {
           "align": "left"
          },
          "hovermode": "closest",
          "mapbox": {
           "style": "light"
          },
          "paper_bgcolor": "white",
          "plot_bgcolor": "#E5ECF6",
          "polar": {
           "angularaxis": {
            "gridcolor": "white",
            "linecolor": "white",
            "ticks": ""
           },
           "bgcolor": "#E5ECF6",
           "radialaxis": {
            "gridcolor": "white",
            "linecolor": "white",
            "ticks": ""
           }
          },
          "scene": {
           "xaxis": {
            "backgroundcolor": "#E5ECF6",
            "gridcolor": "white",
            "gridwidth": 2,
            "linecolor": "white",
            "showbackground": true,
            "ticks": "",
            "zerolinecolor": "white"
           },
           "yaxis": {
            "backgroundcolor": "#E5ECF6",
            "gridcolor": "white",
            "gridwidth": 2,
            "linecolor": "white",
            "showbackground": true,
            "ticks": "",
            "zerolinecolor": "white"
           },
           "zaxis": {
            "backgroundcolor": "#E5ECF6",
            "gridcolor": "white",
            "gridwidth": 2,
            "linecolor": "white",
            "showbackground": true,
            "ticks": "",
            "zerolinecolor": "white"
           }
          },
          "shapedefaults": {
           "line": {
            "color": "#2a3f5f"
           }
          },
          "ternary": {
           "aaxis": {
            "gridcolor": "white",
            "linecolor": "white",
            "ticks": ""
           },
           "baxis": {
            "gridcolor": "white",
            "linecolor": "white",
            "ticks": ""
           },
           "bgcolor": "#E5ECF6",
           "caxis": {
            "gridcolor": "white",
            "linecolor": "white",
            "ticks": ""
           }
          },
          "title": {
           "x": 0.05
          },
          "xaxis": {
           "automargin": true,
           "gridcolor": "white",
           "linecolor": "white",
           "ticks": "",
           "title": {
            "standoff": 15
           },
           "zerolinecolor": "white",
           "zerolinewidth": 2
          },
          "yaxis": {
           "automargin": true,
           "gridcolor": "white",
           "linecolor": "white",
           "ticks": "",
           "title": {
            "standoff": 15
           },
           "zerolinecolor": "white",
           "zerolinewidth": 2
          }
         }
        },
        "title": {
         "text": "Hyperparameter Importances"
        },
        "xaxis": {
         "title": {
          "text": "Hyperparameter Importance"
         }
        },
        "yaxis": {
         "title": {
          "text": "Hyperparameter"
         }
        }
       }
      },
      "image/png": "[encoded data removed]",
      "text/html": [
       "<div>                            <div id=\"80587a06-3f5a-4672-8afe-aa93b41ac4c3\" class=\"plotly-graph-div\" style=\"height:525px; width:100%;\"></div>            <script type=\"text/javascript\">                require([\"plotly\"], function(Plotly) {                    window.PLOTLYENV=window.PLOTLYENV || {};                                    if (document.getElementById(\"80587a06-3f5a-4672-8afe-aa93b41ac4c3\")) {                    Plotly.newPlot(                        \"80587a06-3f5a-4672-8afe-aa93b41ac4c3\",                        [{\"cliponaxis\":false,\"hovertemplate\":[\"knn_weights (CategoricalDistribution): 0.03328957082144464\\u003cextra\\u003e\\u003c\\u002fextra\\u003e\",\"knn_p (IntDistribution): 0.20307308892373616\\u003cextra\\u003e\\u003c\\u002fextra\\u003e\",\"scalers (CategoricalDistribution): 0.27275259721047357\\u003cextra\\u003e\\u003c\\u002fextra\\u003e\",\"knn_n_neighbors (IntDistribution): 0.49088474304434554\\u003cextra\\u003e\\u003c\\u002fextra\\u003e\"],\"name\":\"std\",\"orientation\":\"h\",\"text\":[\"0.03\",\"0.20\",\"0.27\",\"0.49\"],\"textposition\":\"outside\",\"x\":[0.03328957082144464,0.20307308892373616,0.27275259721047357,0.49088474304434554],\"y\":[\"knn_weights\",\"knn_p\",\"scalers\",\"knn_n_neighbors\"],\"type\":\"bar\"}],                        {\"title\":{\"text\":\"Hyperparameter Importances\"},\"xaxis\":{\"title\":{\"text\":\"Hyperparameter Importance\"}},\"yaxis\":{\"title\":{\"text\":\"Hyperparameter\"}},\"template\":{\"data\":{\"histogram2dcontour\":[{\"type\":\"histogram2dcontour\",\"colorbar\":{\"outlinewidth\":0,\"ticks\":\"\"},\"colorscale\":[[0.0,\"#0d0887\"],[0.1111111111111111,\"#46039f\"],[0.2222222222222222,\"#7201a8\"],[0.3333333333333333,\"#9c179e\"],[0.4444444444444444,\"#bd3786\"],[0.5555555555555556,\"#d8576b\"],[0.6666666666666666,\"#ed7953\"],[0.7777777777777778,\"#fb9f3a\"],[0.8888888888888888,\"#fdca26\"],[1.0,\"#f0f921\"]]}],\"choropleth\":[{\"type\":\"choropleth\",\"colorbar\":{\"outlinewidth\":0,\"ticks\":\"\"}}],\"histogram2d\":[{\"type\":\"histogram2d\",\"colorbar\":{\"outlinewidth\":0,\"ticks\":\"\"},\"colorscale\":[[0.0,\"#0d0887\"],[0.1111111111111111,\"#46039f\"],[0.2222222222222222,\"#7201a8\"],[0.3333333333333333,\"#9c179e\"],[0.4444444444444444,\"#bd3786\"],[0.5555555555555556,\"#d8576b\"],[0.6666666666666666,\"#ed7953\"],[0.7777777777777778,\"#fb9f3a\"],[0.8888888888888888,\"#fdca26\"],[1.0,\"#f0f921\"]]}],\"heatmap\":[{\"type\":\"heatmap\",\"colorbar\":{\"outlinewidth\":0,\"ticks\":\"\"},\"colorscale\":[[0.0,\"#0d0887\"],[0.1111111111111111,\"#46039f\"],[0.2222222222222222,\"#7201a8\"],[0.3333333333333333,\"#9c179e\"],[0.4444444444444444,\"#bd3786\"],[0.5555555555555556,\"#d8576b\"],[0.6666666666666666,\"#ed7953\"],[0.7777777777777778,\"#fb9f3a\"],[0.8888888888888888,\"#fdca26\"],[1.0,\"#f0f921\"]]}],\"heatmapgl\":[{\"type\":\"heatmapgl\",\"colorbar\":{\"outlinewidth\":0,\"ticks\":\"\"},\"colorscale\":[[0.0,\"#0d0887\"],[0.1111111111111111,\"#46039f\"],[0.2222222222222222,\"#7201a8\"],[0.3333333333333333,\"#9c179e\"],[0.4444444444444444,\"#bd3786\"],[0.5555555555555556,\"#d8576b\"],[0.6666666666666666,\"#ed7953\"],[0.7777777777777778,\"#fb9f3a\"],[0.8888888888888888,\"#fdca26\"],[1.0,\"#f0f921\"]]}],\"contourcarpet\":[{\"type\":\"contourcarpet\",\"colorbar\":{\"outlinewidth\":0,\"ticks\":\"\"}}],\"contour\":[{\"type\":\"contour\",\"colorbar\":{\"outlinewidth\":0,\"ticks\":\"\"},\"colorscale\":[[0.0,\"#0d0887\"],[0.1111111111111111,\"#46039f\"],[0.2222222222222222,\"#7201a8\"],[0.3333333333333333,\"#9c179e\"],[0.4444444444444444,\"#bd3786\"],[0.5555555555555556,\"#d8576b\"],[0.6666666666666666,\"#ed7953\"],[0.7777777777777778,\"#fb9f3a\"],[0.8888888888888888,\"#fdca26\"],[1.0,\"#f0f921\"]]}],\"surface\":[{\"type\":\"surface\",\"colorbar\":{\"outlinewidth\":0,\"ticks\":\"\"},\"colorscale\":[[0.0,\"#0d0887\"],[0.1111111111111111,\"#46039f\"],[0.2222222222222222,\"#7201a8\"],[0.3333333333333333,\"#9c179e\"],[0.4444444444444444,\"#bd3786\"],[0.5555555555555556,\"#d8576b\"],[0.6666666666666666,\"#ed7953\"],[0.7777777777777778,\"#fb9f3a\"],[0.8888888888888888,\"#fdca26\"],[1.0,\"#f0f921\"]]}],\"mesh3d\":[{\"type\":\"mesh3d\",\"colorbar\":{\"outlinewidth\":0,\"ticks\":\"\"}}],\"scatter\":[{\"fillpattern\":{\"fillmode\":\"overlay\",\"size\":10,\"solidity\":0.2},\"type\":\"scatter\"}],\"parcoords\":[{\"type\":\"parcoords\",\"line\":{\"colorbar\":{\"outlinewidth\":0,\"ticks\":\"\"}}}],\"scatterpolargl\":[{\"type\":\"scatterpolargl\",\"marker\":{\"colorbar\":{\"outlinewidth\":0,\"ticks\":\"\"}}}],\"bar\":[{\"error_x\":{\"color\":\"#2a3f5f\"},\"error_y\":{\"color\":\"#2a3f5f\"},\"marker\":{\"line\":{\"color\":\"#E5ECF6\",\"width\":0.5},\"pattern\":{\"fillmode\":\"overlay\",\"size\":10,\"solidity\":0.2}},\"type\":\"bar\"}],\"scattergeo\":[{\"type\":\"scattergeo\",\"marker\":{\"colorbar\":{\"outlinewidth\":0,\"ticks\":\"\"}}}],\"scatterpolar\":[{\"type\":\"scatterpolar\",\"marker\":{\"colorbar\":{\"outlinewidth\":0,\"ticks\":\"\"}}}],\"histogram\":[{\"marker\":{\"pattern\":{\"fillmode\":\"overlay\",\"size\":10,\"solidity\":0.2}},\"type\":\"histogram\"}],\"scattergl\":[{\"type\":\"scattergl\",\"marker\":{\"colorbar\":{\"outlinewidth\":0,\"ticks\":\"\"}}}],\"scatter3d\":[{\"type\":\"scatter3d\",\"line\":{\"colorbar\":{\"outlinewidth\":0,\"ticks\":\"\"}},\"marker\":{\"colorbar\":{\"outlinewidth\":0,\"ticks\":\"\"}}}],\"scattermapbox\":[{\"type\":\"scattermapbox\",\"marker\":{\"colorbar\":{\"outlinewidth\":0,\"ticks\":\"\"}}}],\"scatterternary\":[{\"type\":\"scatterternary\",\"marker\":{\"colorbar\":{\"outlinewidth\":0,\"ticks\":\"\"}}}],\"scattercarpet\":[{\"type\":\"scattercarpet\",\"marker\":{\"colorbar\":{\"outlinewidth\":0,\"ticks\":\"\"}}}],\"carpet\":[{\"aaxis\":{\"endlinecolor\":\"#2a3f5f\",\"gridcolor\":\"white\",\"linecolor\":\"white\",\"minorgridcolor\":\"white\",\"startlinecolor\":\"#2a3f5f\"},\"baxis\":{\"endlinecolor\":\"#2a3f5f\",\"gridcolor\":\"white\",\"linecolor\":\"white\",\"minorgridcolor\":\"white\",\"startlinecolor\":\"#2a3f5f\"},\"type\":\"carpet\"}],\"table\":[{\"cells\":{\"fill\":{\"color\":\"#EBF0F8\"},\"line\":{\"color\":\"white\"}},\"header\":{\"fill\":{\"color\":\"#C8D4E3\"},\"line\":{\"color\":\"white\"}},\"type\":\"table\"}],\"barpolar\":[{\"marker\":{\"line\":{\"color\":\"#E5ECF6\",\"width\":0.5},\"pattern\":{\"fillmode\":\"overlay\",\"size\":10,\"solidity\":0.2}},\"type\":\"barpolar\"}],\"pie\":[{\"automargin\":true,\"type\":\"pie\"}]},\"layout\":{\"autotypenumbers\":\"strict\",\"colorway\":[\"#636efa\",\"#EF553B\",\"#00cc96\",\"#ab63fa\",\"#FFA15A\",\"#19d3f3\",\"#FF6692\",\"#B6E880\",\"#FF97FF\",\"#FECB52\"],\"font\":{\"color\":\"#2a3f5f\"},\"hovermode\":\"closest\",\"hoverlabel\":{\"align\":\"left\"},\"paper_bgcolor\":\"white\",\"plot_bgcolor\":\"#E5ECF6\",\"polar\":{\"bgcolor\":\"#E5ECF6\",\"angularaxis\":{\"gridcolor\":\"white\",\"linecolor\":\"white\",\"ticks\":\"\"},\"radialaxis\":{\"gridcolor\":\"white\",\"linecolor\":\"white\",\"ticks\":\"\"}},\"ternary\":{\"bgcolor\":\"#E5ECF6\",\"aaxis\":{\"gridcolor\":\"white\",\"linecolor\":\"white\",\"ticks\":\"\"},\"baxis\":{\"gridcolor\":\"white\",\"linecolor\":\"white\",\"ticks\":\"\"},\"caxis\":{\"gridcolor\":\"white\",\"linecolor\":\"white\",\"ticks\":\"\"}},\"coloraxis\":{\"colorbar\":{\"outlinewidth\":0,\"ticks\":\"\"}},\"colorscale\":{\"sequential\":[[0.0,\"#0d0887\"],[0.1111111111111111,\"#46039f\"],[0.2222222222222222,\"#7201a8\"],[0.3333333333333333,\"#9c179e\"],[0.4444444444444444,\"#bd3786\"],[0.5555555555555556,\"#d8576b\"],[0.6666666666666666,\"#ed7953\"],[0.7777777777777778,\"#fb9f3a\"],[0.8888888888888888,\"#fdca26\"],[1.0,\"#f0f921\"]],\"sequentialminus\":[[0.0,\"#0d0887\"],[0.1111111111111111,\"#46039f\"],[0.2222222222222222,\"#7201a8\"],[0.3333333333333333,\"#9c179e\"],[0.4444444444444444,\"#bd3786\"],[0.5555555555555556,\"#d8576b\"],[0.6666666666666666,\"#ed7953\"],[0.7777777777777778,\"#fb9f3a\"],[0.8888888888888888,\"#fdca26\"],[1.0,\"#f0f921\"]],\"diverging\":[[0,\"#8e0152\"],[0.1,\"#c51b7d\"],[0.2,\"#de77ae\"],[0.3,\"#f1b6da\"],[0.4,\"#fde0ef\"],[0.5,\"#f7f7f7\"],[0.6,\"#e6f5d0\"],[0.7,\"#b8e186\"],[0.8,\"#7fbc41\"],[0.9,\"#4d9221\"],[1,\"#276419\"]]},\"xaxis\":{\"gridcolor\":\"white\",\"linecolor\":\"white\",\"ticks\":\"\",\"title\":{\"standoff\":15},\"zerolinecolor\":\"white\",\"automargin\":true,\"zerolinewidth\":2},\"yaxis\":{\"gridcolor\":\"white\",\"linecolor\":\"white\",\"ticks\":\"\",\"title\":{\"standoff\":15},\"zerolinecolor\":\"white\",\"automargin\":true,\"zerolinewidth\":2},\"scene\":{\"xaxis\":{\"backgroundcolor\":\"#E5ECF6\",\"gridcolor\":\"white\",\"linecolor\":\"white\",\"showbackground\":true,\"ticks\":\"\",\"zerolinecolor\":\"white\",\"gridwidth\":2},\"yaxis\":{\"backgroundcolor\":\"#E5ECF6\",\"gridcolor\":\"white\",\"linecolor\":\"white\",\"showbackground\":true,\"ticks\":\"\",\"zerolinecolor\":\"white\",\"gridwidth\":2},\"zaxis\":{\"backgroundcolor\":\"#E5ECF6\",\"gridcolor\":\"white\",\"linecolor\":\"white\",\"showbackground\":true,\"ticks\":\"\",\"zerolinecolor\":\"white\",\"gridwidth\":2}},\"shapedefaults\":{\"line\":{\"color\":\"#2a3f5f\"}},\"annotationdefaults\":{\"arrowcolor\":\"#2a3f5f\",\"arrowhead\":0,\"arrowwidth\":1},\"geo\":{\"bgcolor\":\"white\",\"landcolor\":\"#E5ECF6\",\"subunitcolor\":\"white\",\"showland\":true,\"showlakes\":true,\"lakecolor\":\"white\"},\"title\":{\"x\":0.05},\"mapbox\":{\"style\":\"light\"}}}},                        {\"responsive\": true}                    ).then(function(){\n",
       "                            \n",
       "var gd = document.getElementById('80587a06-3f5a-4672-8afe-aa93b41ac4c3');\n",
       "var x = new MutationObserver(function (mutations, observer) {{\n",
       "        var display = window.getComputedStyle(gd).display;\n",
       "        if (!display || display === 'none') {{\n",
       "            console.log([gd, 'removed!']);\n",
       "            Plotly.purge(gd);\n",
       "            observer.disconnect();\n",
       "        }}\n",
       "}});\n",
       "\n",
       "// Listen for the removal of the full notebook cells\n",
       "var notebookContainer = gd.closest('#notebook-container');\n",
       "if (notebookContainer) {{\n",
       "    x.observe(notebookContainer, {childList: true});\n",
       "}}\n",
       "\n",
       "// Listen for the clearing of the current output cell\n",
       "var outputEl = gd.closest('.output');\n",
       "if (outputEl) {{\n",
       "    x.observe(outputEl, {childList: true});\n",
       "}}\n",
       "\n",
       "                        })                };                });            </script>        </div>"
      ]
     },
     "metadata": {},
     "output_type": "display_data"
    }
   ],
   "source": [
    "optuna.visualization.plot_param_importances(\n",
    "    study, target=lambda t: t.values[1], target_name=\"std\"\n",
    ")"
   ]
  },
  {
   "cell_type": "code",
   "execution_count": 29,
   "id": "cb6726ff-f960-4ba2-9d31-ebe7e4fdbf5e",
   "metadata": {},
   "outputs": [
    {
     "data": {
      "application/vnd.plotly.v1+json": {
       "config": {
        "plotlyServerURL": "https://plot.ly"
       },
       "data": [
        {
         "hovertemplate": "%{text}<extra>Trial</extra>",
         "marker": {
          "color": [
           0,
           1,
           2,
           3,
           4,
           5,
           6,
           7,
           8,
           9,
           10,
           11,
           12,
           13,
           14,
           15,
           16,
           17,
           18,
           19,
           20,
           21,
           22,
           23,
           24,
           25,
           26,
           27,
           28,
           29,
           30,
           31,
           32,
           33,
           34,
           35,
           36,
           37,
           38,
           39,
           40,
           41,
           42,
           43,
           44,
           45,
           46,
           47,
           48,
           49,
           50,
           51,
           52,
           53,
           54,
           55,
           56,
           57,
           58,
           59,
           60,
           61,
           62,
           63,
           64,
           65,
           66,
           67,
           68,
           69,
           70,
           71,
           72,
           73,
           74,
           75,
           76,
           77,
           78,
           79,
           80,
           81,
           82,
           83,
           84,
           85,
           86,
           87,
           88,
           89,
           90,
           91,
           92,
           93,
           94,
           95,
           96,
           97,
           98,
           99,
           100,
           101,
           102,
           103,
           104,
           105,
           106,
           107,
           108,
           109,
           110,
           111,
           112,
           113,
           114,
           115,
           116,
           117,
           118,
           119,
           120,
           121,
           122,
           123,
           124,
           125,
           126,
           127,
           128,
           129,
           130,
           131,
           132,
           133,
           134,
           135,
           136,
           137,
           138,
           139,
           140,
           141,
           142,
           143,
           144,
           145,
           146,
           147,
           148,
           149,
           150,
           151,
           152,
           153,
           154,
           155,
           157,
           158,
           159,
           161,
           162,
           163,
           164,
           165,
           167,
           168,
           170,
           171,
           172,
           173,
           174,
           175,
           176,
           177,
           178,
           179,
           180,
           181,
           182,
           183,
           184,
           185,
           186,
           187,
           188,
           189,
           190,
           191,
           192,
           193,
           194,
           195,
           196,
           197,
           198,
           199,
           200,
           201,
           202,
           203,
           204,
           205,
           206,
           207,
           208,
           209,
           210,
           211,
           212,
           213,
           214,
           215,
           216,
           217,
           218,
           219,
           220,
           221,
           222,
           223,
           224,
           225,
           226,
           227,
           228,
           229,
           230,
           231,
           232,
           233,
           234,
           235,
           236,
           237,
           238,
           240,
           241,
           242,
           243,
           244,
           245,
           246,
           247,
           249,
           250,
           251,
           252,
           253,
           254,
           255,
           256,
           257,
           258,
           259,
           260,
           263,
           264,
           265,
           266,
           267,
           268,
           269,
           270,
           271,
           272,
           273,
           274,
           275,
           276,
           278,
           279,
           280,
           282,
           283,
           284,
           285,
           286,
           287,
           288,
           289,
           291,
           292,
           293,
           294,
           295,
           296,
           297,
           298,
           299
          ],
          "colorbar": {
           "title": {
            "text": "Trial"
           }
          },
          "colorscale": [
           [
            0,
            "rgb(247,251,255)"
           ],
           [
            0.125,
            "rgb(222,235,247)"
           ],
           [
            0.25,
            "rgb(198,219,239)"
           ],
           [
            0.375,
            "rgb(158,202,225)"
           ],
           [
            0.5,
            "rgb(107,174,214)"
           ],
           [
            0.625,
            "rgb(66,146,198)"
           ],
           [
            0.75,
            "rgb(33,113,181)"
           ],
           [
            0.875,
            "rgb(8,81,156)"
           ],
           [
            1,
            "rgb(8,48,107)"
           ]
          ],
          "line": {
           "color": "Grey",
           "width": 0.5
          }
         },
         "mode": "markers",
         "showlegend": false,
         "text": [
          "{<br>  \"number\": 0,<br>  \"values\": [<br>    0.9238648195596648,<br>    0.005687591309562411<br>  ],<br>  \"params\": {<br>    \"scalers\": \"none\",<br>    \"knn_n_neighbors\": 49,<br>    \"knn_p\": 9,<br>    \"knn_weights\": \"distance\"<br>  }<br>}",
          "{<br>  \"number\": 1,<br>  \"values\": [<br>    0.926397922353021,<br>    0.006143606022259835<br>  ],<br>  \"params\": {<br>    \"scalers\": \"normalizer\",<br>    \"knn_n_neighbors\": 98,<br>    \"knn_p\": 9,<br>    \"knn_weights\": \"uniform\"<br>  }<br>}",
          "{<br>  \"number\": 2,<br>  \"values\": [<br>    0.927998064897601,<br>    0.005914057379820871<br>  ],<br>  \"params\": {<br>    \"scalers\": \"standard\",<br>    \"knn_n_neighbors\": 78,<br>    \"knn_p\": 4,<br>    \"knn_weights\": \"distance\"<br>  }<br>}",
          "{<br>  \"number\": 3,<br>  \"values\": [<br>    0.8983972942410795,<br>    0.007945843722841711<br>  ],<br>  \"params\": {<br>    \"scalers\": \"standard\",<br>    \"knn_n_neighbors\": 1,<br>    \"knn_p\": 8,<br>    \"knn_weights\": \"uniform\"<br>  }<br>}",
          "{<br>  \"number\": 4,<br>  \"values\": [<br>    0.925331948699878,<br>    0.00483238412841431<br>  ],<br>  \"params\": {<br>    \"scalers\": \"robust\",<br>    \"knn_n_neighbors\": 30,<br>    \"knn_p\": 5,<br>    \"knn_weights\": \"uniform\"<br>  }<br>}",
          "{<br>  \"number\": 5,<br>  \"values\": [<br>    0.9278649270653536,<br>    0.005458555501582399<br>  ],<br>  \"params\": {<br>    \"scalers\": \"robust\",<br>    \"knn_n_neighbors\": 54,<br>    \"knn_p\": 10,<br>    \"knn_weights\": \"distance\"<br>  }<br>}",
          "{<br>  \"number\": 6,<br>  \"values\": [<br>    0.9257319843360231,<br>    0.0038854511739917948<br>  ],<br>  \"params\": {<br>    \"scalers\": \"robust\",<br>    \"knn_n_neighbors\": 19,<br>    \"knn_p\": 5,<br>    \"knn_weights\": \"distance\"<br>  }<br>}",
          "{<br>  \"number\": 7,<br>  \"values\": [<br>    0.9262649089486541,<br>    0.006252253308488238<br>  ],<br>  \"params\": {<br>    \"scalers\": \"robust\",<br>    \"knn_n_neighbors\": 39,<br>    \"knn_p\": 7,<br>    \"knn_weights\": \"uniform\"<br>  }<br>}",
          "{<br>  \"number\": 8,<br>  \"values\": [<br>    0.925465210960006,<br>    0.004714433553055131<br>  ],<br>  \"params\": {<br>    \"scalers\": \"normalizer\",<br>    \"knn_n_neighbors\": 75,<br>    \"knn_p\": 5,<br>    \"knn_weights\": \"uniform\"<br>  }<br>}",
          "{<br>  \"number\": 9,<br>  \"values\": [<br>    0.9233316460912724,<br>    0.005676377266843285<br>  ],<br>  \"params\": {<br>    \"scalers\": \"none\",<br>    \"knn_n_neighbors\": 49,<br>    \"knn_p\": 3,<br>    \"knn_weights\": \"distance\"<br>  }<br>}",
          "{<br>  \"number\": 10,<br>  \"values\": [<br>    0.9278645537817117,<br>    0.005730332058276834<br>  ],<br>  \"params\": {<br>    \"scalers\": \"robust\",<br>    \"knn_n_neighbors\": 91,<br>    \"knn_p\": 9,<br>    \"knn_weights\": \"distance\"<br>  }<br>}",
          "{<br>  \"number\": 11,<br>  \"values\": [<br>    0.9270646069373024,<br>    0.0068341839358954885<br>  ],<br>  \"params\": {<br>    \"scalers\": \"robust\",<br>    \"knn_n_neighbors\": 42,<br>    \"knn_p\": 10,<br>    \"knn_weights\": \"uniform\"<br>  }<br>}",
          "{<br>  \"number\": 12,<br>  \"values\": [<br>    0.9261316466885262,<br>    0.005609161335846917<br>  ],<br>  \"params\": {<br>    \"scalers\": \"standard\",<br>    \"knn_n_neighbors\": 12,<br>    \"knn_p\": 9,<br>    \"knn_weights\": \"uniform\"<br>  }<br>}",
          "{<br>  \"number\": 13,<br>  \"values\": [<br>    0.927998064897601,<br>    0.005385622278011586<br>  ],<br>  \"params\": {<br>    \"scalers\": \"standard\",<br>    \"knn_n_neighbors\": 46,<br>    \"knn_p\": 9,<br>    \"knn_weights\": \"distance\"<br>  }<br>}",
          "{<br>  \"number\": 14,<br>  \"values\": [<br>    0.9273316291690807,<br>    0.004769724934810608<br>  ],<br>  \"params\": {<br>    \"scalers\": \"minmax\",<br>    \"knn_n_neighbors\": 95,<br>    \"knn_p\": 6,<br>    \"knn_weights\": \"distance\"<br>  }<br>}",
          "{<br>  \"number\": 15,<br>  \"values\": [<br>    0.9222652991544876,<br>    0.004901690794655387<br>  ],<br>  \"params\": {<br>    \"scalers\": \"standard\",<br>    \"knn_n_neighbors\": 7,<br>    \"knn_p\": 8,<br>    \"knn_weights\": \"uniform\"<br>  }<br>}",
          "{<br>  \"number\": 16,<br>  \"values\": [<br>    0.9253314509883557,<br>    0.004762050758245893<br>  ],<br>  \"params\": {<br>    \"scalers\": \"normalizer\",<br>    \"knn_n_neighbors\": 22,<br>    \"knn_p\": 10,<br>    \"knn_weights\": \"distance\"<br>  }<br>}",
          "{<br>  \"number\": 17,<br>  \"values\": [<br>    0.9269317179608162,<br>    0.0055918531033203175<br>  ],<br>  \"params\": {<br>    \"scalers\": \"standard\",<br>    \"knn_n_neighbors\": 36,<br>    \"knn_p\": 6,<br>    \"knn_weights\": \"distance\"<br>  }<br>}",
          "{<br>  \"number\": 18,<br>  \"values\": [<br>    0.9281312027298483,<br>    0.006113916219609878<br>  ],<br>  \"params\": {<br>    \"scalers\": \"normalizer\",<br>    \"knn_n_neighbors\": 68,<br>    \"knn_p\": 10,<br>    \"knn_weights\": \"distance\"<br>  }<br>}",
          "{<br>  \"number\": 19,<br>  \"values\": [<br>    0.9274651402849698,<br>    0.005433033822633382<br>  ],<br>  \"params\": {<br>    \"scalers\": \"standard\",<br>    \"knn_n_neighbors\": 48,<br>    \"knn_p\": 3,<br>    \"knn_weights\": \"distance\"<br>  }<br>}",
          "{<br>  \"number\": 20,<br>  \"values\": [<br>    0.9271983669089527,<br>    0.004624963932205643<br>  ],<br>  \"params\": {<br>    \"scalers\": \"normalizer\",<br>    \"knn_n_neighbors\": 48,<br>    \"knn_p\": 2,<br>    \"knn_weights\": \"distance\"<br>  }<br>}",
          "{<br>  \"number\": 21,<br>  \"values\": [<br>    0.9230651215710165,<br>    0.005391121938393119<br>  ],<br>  \"params\": {<br>    \"scalers\": \"none\",<br>    \"knn_n_neighbors\": 50,<br>    \"knn_p\": 5,<br>    \"knn_weights\": \"uniform\"<br>  }<br>}",
          "{<br>  \"number\": 22,<br>  \"values\": [<br>    0.9269310958214133,<br>    0.005753714449817033<br>  ],<br>  \"params\": {<br>    \"scalers\": \"standard\",<br>    \"knn_n_neighbors\": 90,<br>    \"knn_p\": 8,<br>    \"knn_weights\": \"uniform\"<br>  }<br>}",
          "{<br>  \"number\": 23,<br>  \"values\": [<br>    0.927464767001328,<br>    0.005792729655551564<br>  ],<br>  \"params\": {<br>    \"scalers\": \"minmax\",<br>    \"knn_n_neighbors\": 67,<br>    \"knn_p\": 7,<br>    \"knn_weights\": \"distance\"<br>  }<br>}",
          "{<br>  \"number\": 24,<br>  \"values\": [<br>    0.928398100533746,<br>    0.0059407131150828706<br>  ],<br>  \"params\": {<br>    \"scalers\": \"standard\",<br>    \"knn_n_neighbors\": 57,<br>    \"knn_p\": 7,<br>    \"knn_weights\": \"uniform\"<br>  }<br>}",
          "{<br>  \"number\": 25,<br>  \"values\": [<br>    0.9253318242719973,<br>    0.004259477433259938<br>  ],<br>  \"params\": {<br>    \"scalers\": \"normalizer\",<br>    \"knn_n_neighbors\": 12,<br>    \"knn_p\": 5,<br>    \"knn_weights\": \"distance\"<br>  }<br>}",
          "{<br>  \"number\": 26,<br>  \"values\": [<br>    0.9269314691050551,<br>    0.005617708540174756<br>  ],<br>  \"params\": {<br>    \"scalers\": \"standard\",<br>    \"knn_n_neighbors\": 65,<br>    \"knn_p\": 9,<br>    \"knn_weights\": \"uniform\"<br>  }<br>}",
          "{<br>  \"number\": 27,<br>  \"values\": [<br>    0.9242660994746158,<br>    0.0055048106750609505<br>  ],<br>  \"params\": {<br>    \"scalers\": \"none\",<br>    \"knn_n_neighbors\": 24,<br>    \"knn_p\": 6,<br>    \"knn_weights\": \"uniform\"<br>  }<br>}",
          "{<br>  \"number\": 28,<br>  \"values\": [<br>    0.9277320380888675,<br>    0.006183493108578618<br>  ],<br>  \"params\": {<br>    \"scalers\": \"standard\",<br>    \"knn_n_neighbors\": 48,<br>    \"knn_p\": 1,<br>    \"knn_weights\": \"distance\"<br>  }<br>}",
          "{<br>  \"number\": 29,<br>  \"values\": [<br>    0.9259977622889953,<br>    0.005924429064967674<br>  ],<br>  \"params\": {<br>    \"scalers\": \"normalizer\",<br>    \"knn_n_neighbors\": 48,<br>    \"knn_p\": 10,<br>    \"knn_weights\": \"uniform\"<br>  }<br>}",
          "{<br>  \"number\": 30,<br>  \"values\": [<br>    0.9255985976480146,<br>    0.005150549684150378<br>  ],<br>  \"params\": {<br>    \"scalers\": \"minmax\",<br>    \"knn_n_neighbors\": 35,<br>    \"knn_p\": 6,<br>    \"knn_weights\": \"distance\"<br>  }<br>}",
          "{<br>  \"number\": 31,<br>  \"values\": [<br>    0.9241322150750849,<br>    0.0051206570006075295<br>  ],<br>  \"params\": {<br>    \"scalers\": \"none\",<br>    \"knn_n_neighbors\": 59,<br>    \"knn_p\": 1,<br>    \"knn_weights\": \"uniform\"<br>  }<br>}",
          "{<br>  \"number\": 32,<br>  \"values\": [<br>    0.9251980643003471,<br>    0.006121114130009743<br>  ],<br>  \"params\": {<br>    \"scalers\": \"none\",<br>    \"knn_n_neighbors\": 83,<br>    \"knn_p\": 10,<br>    \"knn_weights\": \"uniform\"<br>  }<br>}",
          "{<br>  \"number\": 33,<br>  \"values\": [<br>    0.9270654779324666,<br>    0.005375229054161186<br>  ],<br>  \"params\": {<br>    \"scalers\": \"robust\",<br>    \"knn_n_neighbors\": 79,<br>    \"knn_p\": 1,<br>    \"knn_weights\": \"uniform\"<br>  }<br>}",
          "{<br>  \"number\": 34,<br>  \"values\": [<br>    0.9247984019478439,<br>    0.005769533982920697<br>  ],<br>  \"params\": {<br>    \"scalers\": \"none\",<br>    \"knn_n_neighbors\": 90,<br>    \"knn_p\": 10,<br>    \"knn_weights\": \"distance\"<br>  }<br>}",
          "{<br>  \"number\": 35,<br>  \"values\": [<br>    0.9247985263757246,<br>    0.004165774996106922<br>  ],<br>  \"params\": {<br>    \"scalers\": \"robust\",<br>    \"knn_n_neighbors\": 10,<br>    \"knn_p\": 4,<br>    \"knn_weights\": \"uniform\"<br>  }<br>}",
          "{<br>  \"number\": 36,<br>  \"values\": [<br>    0.926797957989166,<br>    0.006070319181636652<br>  ],<br>  \"params\": {<br>    \"scalers\": \"minmax\",<br>    \"knn_n_neighbors\": 29,<br>    \"knn_p\": 5,<br>    \"knn_weights\": \"distance\"<br>  }<br>}",
          "{<br>  \"number\": 37,<br>  \"values\": [<br>    0.9265319311804324,<br>    0.003816977223137141<br>  ],<br>  \"params\": {<br>    \"scalers\": \"normalizer\",<br>    \"knn_n_neighbors\": 33,<br>    \"knn_p\": 3,<br>    \"knn_weights\": \"distance\"<br>  }<br>}",
          "{<br>  \"number\": 38,<br>  \"values\": [<br>    0.9253315754162363,<br>    0.005039809488530996<br>  ],<br>  \"params\": {<br>    \"scalers\": \"minmax\",<br>    \"knn_n_neighbors\": 29,<br>    \"knn_p\": 9,<br>    \"knn_weights\": \"uniform\"<br>  }<br>}",
          "{<br>  \"number\": 39,<br>  \"values\": [<br>    0.9237329260062236,<br>    0.004757420816178352<br>  ],<br>  \"params\": {<br>    \"scalers\": \"none\",<br>    \"knn_n_neighbors\": 23,<br>    \"knn_p\": 1,<br>    \"knn_weights\": \"distance\"<br>  }<br>}",
          "{<br>  \"number\": 40,<br>  \"values\": [<br>    0.9238649439875453,<br>    0.005324292527003096<br>  ],<br>  \"params\": {<br>    \"scalers\": \"robust\",<br>    \"knn_n_neighbors\": 11,<br>    \"knn_p\": 10,<br>    \"knn_weights\": \"uniform\"<br>  }<br>}",
          "{<br>  \"number\": 41,<br>  \"values\": [<br>    0.9257314866245007,<br>    0.005348843230587915<br>  ],<br>  \"params\": {<br>    \"scalers\": \"normalizer\",<br>    \"knn_n_neighbors\": 89,<br>    \"knn_p\": 5,<br>    \"knn_weights\": \"uniform\"<br>  }<br>}",
          "{<br>  \"number\": 42,<br>  \"values\": [<br>    0.926798580128569,<br>    0.005030090568173901<br>  ],<br>  \"params\": {<br>    \"scalers\": \"robust\",<br>    \"knn_n_neighbors\": 36,<br>    \"knn_p\": 3,<br>    \"knn_weights\": \"uniform\"<br>  }<br>}",
          "{<br>  \"number\": 43,<br>  \"values\": [<br>    0.9247984019478439,<br>    0.004108385082196605<br>  ],<br>  \"params\": {<br>    \"scalers\": \"normalizer\",<br>    \"knn_n_neighbors\": 20,<br>    \"knn_p\": 4,<br>    \"knn_weights\": \"distance\"<br>  }<br>}",
          "{<br>  \"number\": 44,<br>  \"values\": [<br>    0.9270651046488247,<br>    0.0054498499794390755<br>  ],<br>  \"params\": {<br>    \"scalers\": \"standard\",<br>    \"knn_n_neighbors\": 43,<br>    \"knn_p\": 4,<br>    \"knn_weights\": \"uniform\"<br>  }<br>}",
          "{<br>  \"number\": 45,<br>  \"values\": [<br>    0.9265308113295071,<br>    0.007111620714597221<br>  ],<br>  \"params\": {<br>    \"scalers\": \"standard\",<br>    \"knn_n_neighbors\": 22,<br>    \"knn_p\": 8,<br>    \"knn_weights\": \"uniform\"<br>  }<br>}",
          "{<br>  \"number\": 46,<br>  \"values\": [<br>    0.9242652284794515,<br>    0.004241512559839634<br>  ],<br>  \"params\": {<br>    \"scalers\": \"robust\",<br>    \"knn_n_neighbors\": 13,<br>    \"knn_p\": 3,<br>    \"knn_weights\": \"distance\"<br>  }<br>}",
          "{<br>  \"number\": 47,<br>  \"values\": [<br>    0.9273311314575583,<br>    0.006304589600565193<br>  ],<br>  \"params\": {<br>    \"scalers\": \"standard\",<br>    \"knn_n_neighbors\": 62,<br>    \"knn_p\": 8,<br>    \"knn_weights\": \"uniform\"<br>  }<br>}",
          "{<br>  \"number\": 48,<br>  \"values\": [<br>    0.9242646063400485,<br>    0.0059371148039230855<br>  ],<br>  \"params\": {<br>    \"scalers\": \"none\",<br>    \"knn_n_neighbors\": 56,<br>    \"knn_p\": 9,<br>    \"knn_weights\": \"uniform\"<br>  }<br>}",
          "{<br>  \"number\": 49,<br>  \"values\": [<br>    0.9259977622889953,<br>    0.006749718717587885<br>  ],<br>  \"params\": {<br>    \"scalers\": \"robust\",<br>    \"knn_n_neighbors\": 27,<br>    \"knn_p\": 9,<br>    \"knn_weights\": \"uniform\"<br>  }<br>}",
          "{<br>  \"number\": 50,<br>  \"values\": [<br>    0.9254653353878866,<br>    0.0051901244352079556<br>  ],<br>  \"params\": {<br>    \"scalers\": \"standard\",<br>    \"knn_n_neighbors\": 30,<br>    \"knn_p\": 5,<br>    \"knn_weights\": \"uniform\"<br>  }<br>}",
          "{<br>  \"number\": 51,<br>  \"values\": [<br>    0.9278649270653536,<br>    0.005458555501582399<br>  ],<br>  \"params\": {<br>    \"scalers\": \"robust\",<br>    \"knn_n_neighbors\": 54,<br>    \"knn_p\": 10,<br>    \"knn_weights\": \"distance\"<br>  }<br>}",
          "{<br>  \"number\": 52,<br>  \"values\": [<br>    0.9278649270653536,<br>    0.005458555501582399<br>  ],<br>  \"params\": {<br>    \"scalers\": \"robust\",<br>    \"knn_n_neighbors\": 54,<br>    \"knn_p\": 10,<br>    \"knn_weights\": \"distance\"<br>  }<br>}",
          "{<br>  \"number\": 53,<br>  \"values\": [<br>    0.926664695729038,<br>    0.005965896919375501<br>  ],<br>  \"params\": {<br>    \"scalers\": \"standard\",<br>    \"knn_n_neighbors\": 40,<br>    \"knn_p\": 8,<br>    \"knn_weights\": \"uniform\"<br>  }<br>}",
          "{<br>  \"number\": 54,<br>  \"values\": [<br>    0.9263981712087821,<br>    0.005566292777670635<br>  ],<br>  \"params\": {<br>    \"scalers\": \"standard\",<br>    \"knn_n_neighbors\": 74,<br>    \"knn_p\": 6,<br>    \"knn_weights\": \"uniform\"<br>  }<br>}",
          "{<br>  \"number\": 55,<br>  \"values\": [<br>    0.9278646782095924,<br>    0.004728609102229588<br>  ],<br>  \"params\": {<br>    \"scalers\": \"normalizer\",<br>    \"knn_n_neighbors\": 46,<br>    \"knn_p\": 9,<br>    \"knn_weights\": \"distance\"<br>  }<br>}",
          "{<br>  \"number\": 56,<br>  \"values\": [<br>    0.9278649270653536,<br>    0.005458555501582399<br>  ],<br>  \"params\": {<br>    \"scalers\": \"robust\",<br>    \"knn_n_neighbors\": 54,<br>    \"knn_p\": 10,<br>    \"knn_weights\": \"distance\"<br>  }<br>}",
          "{<br>  \"number\": 57,<br>  \"values\": [<br>    0.9278645537817117,<br>    0.00496139134255149<br>  ],<br>  \"params\": {<br>    \"scalers\": \"normalizer\",<br>    \"knn_n_neighbors\": 46,<br>    \"knn_p\": 6,<br>    \"knn_weights\": \"distance\"<br>  }<br>}",
          "{<br>  \"number\": 58,<br>  \"values\": [<br>    0.9274648914292085,<br>    0.005006965333593964<br>  ],<br>  \"params\": {<br>    \"scalers\": \"minmax\",<br>    \"knn_n_neighbors\": 82,<br>    \"knn_p\": 5,<br>    \"knn_weights\": \"distance\"<br>  }<br>}",
          "{<br>  \"number\": 59,<br>  \"values\": [<br>    0.9258652465961509,<br>    0.004931502955774304<br>  ],<br>  \"params\": {<br>    \"scalers\": \"standard\",<br>    \"knn_n_neighbors\": 12,<br>    \"knn_p\": 9,<br>    \"knn_weights\": \"distance\"<br>  }<br>}",
          "{<br>  \"number\": 60,<br>  \"values\": [<br>    0.9271978691974303,<br>    0.005779789823952992<br>  ],<br>  \"params\": {<br>    \"scalers\": \"normalizer\",<br>    \"knn_n_neighbors\": 54,<br>    \"knn_p\": 4,<br>    \"knn_weights\": \"distance\"<br>  }<br>}",
          "{<br>  \"number\": 61,<br>  \"values\": [<br>    0.9261311489770039,<br>    0.005747214200349604<br>  ],<br>  \"params\": {<br>    \"scalers\": \"normalizer\",<br>    \"knn_n_neighbors\": 91,<br>    \"knn_p\": 9,<br>    \"knn_weights\": \"uniform\"<br>  }<br>}",
          "{<br>  \"number\": 62,<br>  \"values\": [<br>    0.9285312383659933,<br>    0.0066198007444721015<br>  ],<br>  \"params\": {<br>    \"scalers\": \"minmax\",<br>    \"knn_n_neighbors\": 56,<br>    \"knn_p\": 6,<br>    \"knn_weights\": \"distance\"<br>  }<br>}",
          "{<br>  \"number\": 63,<br>  \"values\": [<br>    0.9271977447695497,<br>    0.006433111007327451<br>  ],<br>  \"params\": {<br>    \"scalers\": \"normalizer\",<br>    \"knn_n_neighbors\": 87,<br>    \"knn_p\": 10,<br>    \"knn_weights\": \"distance\"<br>  }<br>}",
          "{<br>  \"number\": 64,<br>  \"values\": [<br>    0.9245322507112299,<br>    0.006466736192914699<br>  ],<br>  \"params\": {<br>    \"scalers\": \"none\",<br>    \"knn_n_neighbors\": 31,<br>    \"knn_p\": 4,<br>    \"knn_weights\": \"uniform\"<br>  }<br>}",
          "{<br>  \"number\": 65,<br>  \"values\": [<br>    0.9257314866245007,<br>    0.005348843230587915<br>  ],<br>  \"params\": {<br>    \"scalers\": \"normalizer\",<br>    \"knn_n_neighbors\": 89,<br>    \"knn_p\": 5,<br>    \"knn_weights\": \"uniform\"<br>  }<br>}",
          "{<br>  \"number\": 66,<br>  \"values\": [<br>    0.9230652459988972,<br>    0.005005771895923018<br>  ],<br>  \"params\": {<br>    \"scalers\": \"standard\",<br>    \"knn_n_neighbors\": 8,<br>    \"knn_p\": 7,<br>    \"knn_weights\": \"uniform\"<br>  }<br>}",
          "{<br>  \"number\": 67,<br>  \"values\": [<br>    0.9238651928433066,<br>    0.00568182532989472<br>  ],<br>  \"params\": {<br>    \"scalers\": \"none\",<br>    \"knn_n_neighbors\": 66,<br>    \"knn_p\": 1,<br>    \"knn_weights\": \"distance\"<br>  }<br>}",
          "{<br>  \"number\": 68,<br>  \"values\": [<br>    0.9265314334689101,<br>    0.005920310408766247<br>  ],<br>  \"params\": {<br>    \"scalers\": \"minmax\",<br>    \"knn_n_neighbors\": 19,<br>    \"knn_p\": 9,<br>    \"knn_weights\": \"uniform\"<br>  }<br>}",
          "{<br>  \"number\": 69,<br>  \"values\": [<br>    0.9267983312728078,<br>    0.005156303031365725<br>  ],<br>  \"params\": {<br>    \"scalers\": \"robust\",<br>    \"knn_n_neighbors\": 32,<br>    \"knn_p\": 3,<br>    \"knn_weights\": \"uniform\"<br>  }<br>}",
          "{<br>  \"number\": 70,<br>  \"values\": [<br>    0.9277317892331063,<br>    0.0051056983841474635<br>  ],<br>  \"params\": {<br>    \"scalers\": \"minmax\",<br>    \"knn_n_neighbors\": 49,<br>    \"knn_p\": 10,<br>    \"knn_weights\": \"distance\"<br>  }<br>}",
          "{<br>  \"number\": 71,<br>  \"values\": [<br>    0.9262642868092511,<br>    0.007062738483326835<br>  ],<br>  \"params\": {<br>    \"scalers\": \"robust\",<br>    \"knn_n_neighbors\": 48,<br>    \"knn_p\": 10,<br>    \"knn_weights\": \"uniform\"<br>  }<br>}",
          "{<br>  \"number\": 72,<br>  \"values\": [<br>    0.9269310958214133,<br>    0.006290240184704632<br>  ],<br>  \"params\": {<br>    \"scalers\": \"standard\",<br>    \"knn_n_neighbors\": 99,<br>    \"knn_p\": 5,<br>    \"knn_weights\": \"uniform\"<br>  }<br>}",
          "{<br>  \"number\": 73,<br>  \"values\": [<br>    0.9282647138457374,<br>    0.0056995863610653<br>  ],<br>  \"params\": {<br>    \"scalers\": \"normalizer\",<br>    \"knn_n_neighbors\": 68,<br>    \"knn_p\": 9,<br>    \"knn_weights\": \"distance\"<br>  }<br>}",
          "{<br>  \"number\": 74,<br>  \"values\": [<br>    0.9283977272501042,<br>    0.006170416564767911<br>  ],<br>  \"params\": {<br>    \"scalers\": \"normalizer\",<br>    \"knn_n_neighbors\": 62,<br>    \"knn_p\": 7,<br>    \"knn_weights\": \"distance\"<br>  }<br>}",
          "{<br>  \"number\": 75,<br>  \"values\": [<br>    0.9231985082590252,<br>    0.006592175215528134<br>  ],<br>  \"params\": {<br>    \"scalers\": \"none\",<br>    \"knn_n_neighbors\": 26,<br>    \"knn_p\": 4,<br>    \"knn_weights\": \"distance\"<br>  }<br>}",
          "{<br>  \"number\": 76,<br>  \"values\": [<br>    0.9269315935329356,<br>    0.005319634193953<br>  ],<br>  \"params\": {<br>    \"scalers\": \"minmax\",<br>    \"knn_n_neighbors\": 93,<br>    \"knn_p\": 6,<br>    \"knn_weights\": \"uniform\"<br>  }<br>}",
          "{<br>  \"number\": 77,<br>  \"values\": [<br>    0.9283982249616266,<br>    0.004906453680937138<br>  ],<br>  \"params\": {<br>    \"scalers\": \"standard\",<br>    \"knn_n_neighbors\": 89,<br>    \"knn_p\": 5,<br>    \"knn_weights\": \"distance\"<br>  }<br>}",
          "{<br>  \"number\": 78,<br>  \"values\": [<br>    0.9262649089486541,<br>    0.006252253308488238<br>  ],<br>  \"params\": {<br>    \"scalers\": \"robust\",<br>    \"knn_n_neighbors\": 39,<br>    \"knn_p\": 7,<br>    \"knn_weights\": \"uniform\"<br>  }<br>}",
          "{<br>  \"number\": 79,<br>  \"values\": [<br>    0.9249316642079718,<br>    0.004754523516424991<br>  ],<br>  \"params\": {<br>    \"scalers\": \"standard\",<br>    \"knn_n_neighbors\": 10,<br>    \"knn_p\": 4,<br>    \"knn_weights\": \"uniform\"<br>  }<br>}",
          "{<br>  \"number\": 80,<br>  \"values\": [<br>    0.928264838273618,<br>    0.005655219087494146<br>  ],<br>  \"params\": {<br>    \"scalers\": \"standard\",<br>    \"knn_n_neighbors\": 54,<br>    \"knn_p\": 10,<br>    \"knn_weights\": \"distance\"<br>  }<br>}",
          "{<br>  \"number\": 81,<br>  \"values\": [<br>    0.9269313446771745,<br>    0.005439223564700645<br>  ],<br>  \"params\": {<br>    \"scalers\": \"standard\",<br>    \"knn_n_neighbors\": 18,<br>    \"knn_p\": 8,<br>    \"knn_weights\": \"uniform\"<br>  }<br>}",
          "{<br>  \"number\": 82,<br>  \"values\": [<br>    0.9273322513084837,<br>    0.0035642873468080356<br>  ],<br>  \"params\": {<br>    \"scalers\": \"normalizer\",<br>    \"knn_n_neighbors\": 27,<br>    \"knn_p\": 4,<br>    \"knn_weights\": \"distance\"<br>  }<br>}",
          "{<br>  \"number\": 83,<br>  \"values\": [<br>    0.9255983487922533,<br>    0.004980426507975065<br>  ],<br>  \"params\": {<br>    \"scalers\": \"minmax\",<br>    \"knn_n_neighbors\": 14,<br>    \"knn_p\": 5,<br>    \"knn_weights\": \"distance\"<br>  }<br>}",
          "{<br>  \"number\": 84,<br>  \"values\": [<br>    0.9281309538740871,<br>    0.0061175236436683145<br>  ],<br>  \"params\": {<br>    \"scalers\": \"robust\",<br>    \"knn_n_neighbors\": 82,<br>    \"knn_p\": 6,<br>    \"knn_weights\": \"uniform\"<br>  }<br>}",
          "{<br>  \"number\": 85,<br>  \"values\": [<br>    0.9263982956366628,<br>    0.006299525137070461<br>  ],<br>  \"params\": {<br>    \"scalers\": \"robust\",<br>    \"knn_n_neighbors\": 43,<br>    \"knn_p\": 6,<br>    \"knn_weights\": \"uniform\"<br>  }<br>}",
          "{<br>  \"number\": 86,<br>  \"values\": [<br>    0.9253314509883557,<br>    0.004762050758245893<br>  ],<br>  \"params\": {<br>    \"scalers\": \"normalizer\",<br>    \"knn_n_neighbors\": 22,<br>    \"knn_p\": 10,<br>    \"knn_weights\": \"distance\"<br>  }<br>}",
          "{<br>  \"number\": 87,<br>  \"values\": [<br>    0.9259988821399208,<br>    0.004444457781902283<br>  ],<br>  \"params\": {<br>    \"scalers\": \"robust\",<br>    \"knn_n_neighbors\": 33,<br>    \"knn_p\": 3,<br>    \"knn_weights\": \"distance\"<br>  }<br>}",
          "{<br>  \"number\": 88,<br>  \"values\": [<br>    0.9277316648052257,<br>    0.005346098348290507<br>  ],<br>  \"params\": {<br>    \"scalers\": \"standard\",<br>    \"knn_n_neighbors\": 91,<br>    \"knn_p\": 9,<br>    \"knn_weights\": \"distance\"<br>  }<br>}",
          "{<br>  \"number\": 89,<br>  \"values\": [<br>    0.926798580128569,<br>    0.0053430191068380255<br>  ],<br>  \"params\": {<br>    \"scalers\": \"minmax\",<br>    \"knn_n_neighbors\": 24,<br>    \"knn_p\": 6,<br>    \"knn_weights\": \"uniform\"<br>  }<br>}",
          "{<br>  \"number\": 90,<br>  \"values\": [<br>    0.9243974953165346,<br>    0.005742466870087461<br>  ],<br>  \"params\": {<br>    \"scalers\": \"robust\",<br>    \"knn_n_neighbors\": 13,<br>    \"knn_p\": 3,<br>    \"knn_weights\": \"uniform\"<br>  }<br>}",
          "{<br>  \"number\": 91,<br>  \"values\": [<br>    0.9263991666318271,<br>    0.005182259677557087<br>  ],<br>  \"params\": {<br>    \"scalers\": \"robust\",<br>    \"knn_n_neighbors\": 30,<br>    \"knn_p\": 10,<br>    \"knn_weights\": \"distance\"<br>  }<br>}",
          "{<br>  \"number\": 92,<br>  \"values\": [<br>    0.9242660994746158,<br>    0.0055048106750609505<br>  ],<br>  \"params\": {<br>    \"scalers\": \"none\",<br>    \"knn_n_neighbors\": 24,<br>    \"knn_p\": 6,<br>    \"knn_weights\": \"uniform\"<br>  }<br>}",
          "{<br>  \"number\": 93,<br>  \"values\": [<br>    0.9274645181455669,<br>    0.005817036512012499<br>  ],<br>  \"params\": {<br>    \"scalers\": \"robust\",<br>    \"knn_n_neighbors\": 98,<br>    \"knn_p\": 9,<br>    \"knn_weights\": \"uniform\"<br>  }<br>}",
          "{<br>  \"number\": 94,<br>  \"values\": [<br>    0.9191985251812168,<br>    0.007327133809688815<br>  ],<br>  \"params\": {<br>    \"scalers\": \"none\",<br>    \"knn_n_neighbors\": 8,<br>    \"knn_p\": 3,<br>    \"knn_weights\": \"uniform\"<br>  }<br>}",
          "{<br>  \"number\": 95,<br>  \"values\": [<br>    0.9262644112371319,<br>    0.006827167980505417<br>  ],<br>  \"params\": {<br>    \"scalers\": \"normalizer\",<br>    \"knn_n_neighbors\": 78,<br>    \"knn_p\": 8,<br>    \"knn_weights\": \"uniform\"<br>  }<br>}",
          "{<br>  \"number\": 96,<br>  \"values\": [<br>    0.9257314866245007,<br>    0.005348843230587915<br>  ],<br>  \"params\": {<br>    \"scalers\": \"normalizer\",<br>    \"knn_n_neighbors\": 89,<br>    \"knn_p\": 5,<br>    \"knn_weights\": \"uniform\"<br>  }<br>}",
          "{<br>  \"number\": 97,<br>  \"values\": [<br>    0.927998064897601,<br>    0.006242248401281308<br>  ],<br>  \"params\": {<br>    \"scalers\": \"standard\",<br>    \"knn_n_neighbors\": 51,<br>    \"knn_p\": 8,<br>    \"knn_weights\": \"uniform\"<br>  }<br>}",
          "{<br>  \"number\": 98,<br>  \"values\": [<br>    0.9267983312728078,<br>    0.006004012366288037<br>  ],<br>  \"params\": {<br>    \"scalers\": \"minmax\",<br>    \"knn_n_neighbors\": 43,<br>    \"knn_p\": 10,<br>    \"knn_weights\": \"distance\"<br>  }<br>}",
          "{<br>  \"number\": 99,<br>  \"values\": [<br>    0.9273316291690807,<br>    0.004769724934810608<br>  ],<br>  \"params\": {<br>    \"scalers\": \"minmax\",<br>    \"knn_n_neighbors\": 95,<br>    \"knn_p\": 6,<br>    \"knn_weights\": \"distance\"<br>  }<br>}",
          "{<br>  \"number\": 100,<br>  \"values\": [<br>    0.9274652647128504,<br>    0.004927212088656737<br>  ],<br>  \"params\": {<br>    \"scalers\": \"robust\",<br>    \"knn_n_neighbors\": 27,<br>    \"knn_p\": 10,<br>    \"knn_weights\": \"distance\"<br>  }<br>}",
          "{<br>  \"number\": 101,<br>  \"values\": [<br>    0.9278646782095924,<br>    0.004728609102229588<br>  ],<br>  \"params\": {<br>    \"scalers\": \"normalizer\",<br>    \"knn_n_neighbors\": 46,<br>    \"knn_p\": 9,<br>    \"knn_weights\": \"distance\"<br>  }<br>}",
          "{<br>  \"number\": 102,<br>  \"values\": [<br>    0.9263976734972597,<br>    0.006632966437889119<br>  ],<br>  \"params\": {<br>    \"scalers\": \"minmax\",<br>    \"knn_n_neighbors\": 48,<br>    \"knn_p\": 6,<br>    \"knn_weights\": \"distance\"<br>  }<br>}",
          "{<br>  \"number\": 103,<br>  \"values\": [<br>    0.9247985263757246,<br>    0.0045924864845662185<br>  ],<br>  \"params\": {<br>    \"scalers\": \"robust\",<br>    \"knn_n_neighbors\": 10,<br>    \"knn_p\": 4,<br>    \"knn_weights\": \"distance\"<br>  }<br>}",
          "{<br>  \"number\": 104,<br>  \"values\": [<br>    0.9147991286066667,<br>    0.004945327873162726<br>  ],<br>  \"params\": {<br>    \"scalers\": \"minmax\",<br>    \"knn_n_neighbors\": 4,<br>    \"knn_p\": 5,<br>    \"knn_weights\": \"uniform\"<br>  }<br>}",
          "{<br>  \"number\": 105,<br>  \"values\": [<br>    0.9241314685078013,<br>    0.005878420207689793<br>  ],<br>  \"params\": {<br>    \"scalers\": \"normalizer\",<br>    \"knn_n_neighbors\": 12,<br>    \"knn_p\": 9,<br>    \"knn_weights\": \"distance\"<br>  }<br>}",
          "{<br>  \"number\": 106,<br>  \"values\": [<br>    0.926131397832765,<br>    0.005914314698819602<br>  ],<br>  \"params\": {<br>    \"scalers\": \"minmax\",<br>    \"knn_n_neighbors\": 46,<br>    \"knn_p\": 6,<br>    \"knn_weights\": \"distance\"<br>  }<br>}",
          "{<br>  \"number\": 107,<br>  \"values\": [<br>    0.9275981536893365,<br>    0.006108395032432815<br>  ],<br>  \"params\": {<br>    \"scalers\": \"minmax\",<br>    \"knn_n_neighbors\": 71,<br>    \"knn_p\": 5,<br>    \"knn_weights\": \"distance\"<br>  }<br>}",
          "{<br>  \"number\": 108,<br>  \"values\": [<br>    0.9229324814502916,<br>    0.005888944336171775<br>  ],<br>  \"params\": {<br>    \"scalers\": \"none\",<br>    \"knn_n_neighbors\": 13,<br>    \"knn_p\": 3,<br>    \"knn_weights\": \"distance\"<br>  }<br>}",
          "{<br>  \"number\": 109,<br>  \"values\": [<br>    0.928264216134215,<br>    0.007190887195528145<br>  ],<br>  \"params\": {<br>    \"scalers\": \"minmax\",<br>    \"knn_n_neighbors\": 62,<br>    \"knn_p\": 5,<br>    \"knn_weights\": \"uniform\"<br>  }<br>}",
          "{<br>  \"number\": 110,<br>  \"values\": [<br>    0.9275984025450977,<br>    0.004700153430169825<br>  ],<br>  \"params\": {<br>    \"scalers\": \"minmax\",<br>    \"knn_n_neighbors\": 95,<br>    \"knn_p\": 3,<br>    \"knn_weights\": \"distance\"<br>  }<br>}",
          "{<br>  \"number\": 111,<br>  \"values\": [<br>    0.9251984375839888,<br>    0.005650861162539407<br>  ],<br>  \"params\": {<br>    \"scalers\": \"none\",<br>    \"knn_n_neighbors\": 93,<br>    \"knn_p\": 10,<br>    \"knn_weights\": \"distance\"<br>  }<br>}",
          "{<br>  \"number\": 112,<br>  \"values\": [<br>    0.9245315041439462,<br>    0.00595631973277258<br>  ],<br>  \"params\": {<br>    \"scalers\": \"minmax\",<br>    \"knn_n_neighbors\": 35,<br>    \"knn_p\": 6,<br>    \"knn_weights\": \"uniform\"<br>  }<br>}",
          "{<br>  \"number\": 113,<br>  \"values\": [<br>    0.927731291521584,<br>    0.005945623196044867<br>  ],<br>  \"params\": {<br>    \"scalers\": \"standard\",<br>    \"knn_n_neighbors\": 68,<br>    \"knn_p\": 10,<br>    \"knn_weights\": \"distance\"<br>  }<br>}",
          "{<br>  \"number\": 114,<br>  \"values\": [<br>    0.9273322513084837,<br>    0.0035642873468080356<br>  ],<br>  \"params\": {<br>    \"scalers\": \"normalizer\",<br>    \"knn_n_neighbors\": 27,<br>    \"knn_p\": 4,<br>    \"knn_weights\": \"distance\"<br>  }<br>}",
          "{<br>  \"number\": 115,<br>  \"values\": [<br>    0.9237320550110593,<br>    0.006645705683338805<br>  ],<br>  \"params\": {<br>    \"scalers\": \"none\",<br>    \"knn_n_neighbors\": 23,<br>    \"knn_p\": 5,<br>    \"knn_weights\": \"uniform\"<br>  }<br>}",
          "{<br>  \"number\": 116,<br>  \"values\": [<br>    0.9265319311804324,<br>    0.004901805398602873<br>  ],<br>  \"params\": {<br>    \"scalers\": \"minmax\",<br>    \"knn_n_neighbors\": 23,<br>    \"knn_p\": 1,<br>    \"knn_weights\": \"distance\"<br>  }<br>}",
          "{<br>  \"number\": 117,<br>  \"values\": [<br>    0.9279985626091234,<br>    0.004469101049292179<br>  ],<br>  \"params\": {<br>    \"scalers\": \"standard\",<br>    \"knn_n_neighbors\": 27,<br>    \"knn_p\": 9,<br>    \"knn_weights\": \"distance\"<br>  }<br>}",
          "{<br>  \"number\": 118,<br>  \"values\": [<br>    0.927465389140731,<br>    0.004157188539184194<br>  ],<br>  \"params\": {<br>    \"scalers\": \"robust\",<br>    \"knn_n_neighbors\": 70,<br>    \"knn_p\": 3,<br>    \"knn_weights\": \"uniform\"<br>  }<br>}",
          "{<br>  \"number\": 119,<br>  \"values\": [<br>    0.9271989890483557,<br>    0.004953547704785433<br>  ],<br>  \"params\": {<br>    \"scalers\": \"robust\",<br>    \"knn_n_neighbors\": 37,<br>    \"knn_p\": 9,<br>    \"knn_weights\": \"distance\"<br>  }<br>}",
          "{<br>  \"number\": 120,<br>  \"values\": [<br>    0.9267987045564495,<br>    0.004722394522530304<br>  ],<br>  \"params\": {<br>    \"scalers\": \"robust\",<br>    \"knn_n_neighbors\": 54,<br>    \"knn_p\": 1,<br>    \"knn_weights\": \"uniform\"<br>  }<br>}",
          "{<br>  \"number\": 121,<br>  \"values\": [<br>    0.9230664902777033,<br>    0.00511011677777282<br>  ],<br>  \"params\": {<br>    \"scalers\": \"none\",<br>    \"knn_n_neighbors\": 14,<br>    \"knn_p\": 2,<br>    \"knn_weights\": \"uniform\"<br>  }<br>}",
          "{<br>  \"number\": 122,<br>  \"values\": [<br>    0.9283984738173877,<br>    0.005052728215971491<br>  ],<br>  \"params\": {<br>    \"scalers\": \"standard\",<br>    \"knn_n_neighbors\": 68,<br>    \"knn_p\": 4,<br>    \"knn_weights\": \"distance\"<br>  }<br>}",
          "{<br>  \"number\": 123,<br>  \"values\": [<br>    0.9267983312728078,<br>    0.005156303031365725<br>  ],<br>  \"params\": {<br>    \"scalers\": \"robust\",<br>    \"knn_n_neighbors\": 32,<br>    \"knn_p\": 3,<br>    \"knn_weights\": \"uniform\"<br>  }<br>}",
          "{<br>  \"number\": 124,<br>  \"values\": [<br>    0.9245313797160657,<br>    0.005787431318000739<br>  ],<br>  \"params\": {<br>    \"scalers\": \"minmax\",<br>    \"knn_n_neighbors\": 13,<br>    \"knn_p\": 6,<br>    \"knn_weights\": \"uniform\"<br>  }<br>}",
          "{<br>  \"number\": 125,<br>  \"values\": [<br>    0.9269314691050551,<br>    0.005436517753907961<br>  ],<br>  \"params\": {<br>    \"scalers\": \"standard\",<br>    \"knn_n_neighbors\": 10,<br>    \"knn_p\": 5,<br>    \"knn_weights\": \"uniform\"<br>  }<br>}",
          "{<br>  \"number\": 126,<br>  \"values\": [<br>    0.9270648557930636,<br>    0.004950887311375875<br>  ],<br>  \"params\": {<br>    \"scalers\": \"standard\",<br>    \"knn_n_neighbors\": 89,<br>    \"knn_p\": 10,<br>    \"knn_weights\": \"distance\"<br>  }<br>}",
          "{<br>  \"number\": 127,<br>  \"values\": [<br>    0.927598029261456,<br>    0.006027701842632046<br>  ],<br>  \"params\": {<br>    \"scalers\": \"minmax\",<br>    \"knn_n_neighbors\": 56,<br>    \"knn_p\": 3,<br>    \"knn_weights\": \"uniform\"<br>  }<br>}",
          "{<br>  \"number\": 128,<br>  \"values\": [<br>    0.9251986864397502,<br>    0.005780187942087408<br>  ],<br>  \"params\": {<br>    \"scalers\": \"robust\",<br>    \"knn_n_neighbors\": 36,<br>    \"knn_p\": 7,<br>    \"knn_weights\": \"uniform\"<br>  }<br>}",
          "{<br>  \"number\": 129,<br>  \"values\": [<br>    0.9274653891407311,<br>    0.0035084583021040305<br>  ],<br>  \"params\": {<br>    \"scalers\": \"standard\",<br>    \"knn_n_neighbors\": 20,<br>    \"knn_p\": 9,<br>    \"knn_weights\": \"distance\"<br>  }<br>}",
          "{<br>  \"number\": 130,<br>  \"values\": [<br>    0.9274648914292085,<br>    0.005006965333593964<br>  ],<br>  \"params\": {<br>    \"scalers\": \"minmax\",<br>    \"knn_n_neighbors\": 82,<br>    \"knn_p\": 5,<br>    \"knn_weights\": \"distance\"<br>  }<br>}",
          "{<br>  \"number\": 131,<br>  \"values\": [<br>    0.9275984025450977,<br>    0.005835078106117005<br>  ],<br>  \"params\": {<br>    \"scalers\": \"minmax\",<br>    \"knn_n_neighbors\": 56,<br>    \"knn_p\": 2,<br>    \"knn_weights\": \"distance\"<br>  }<br>}",
          "{<br>  \"number\": 132,<br>  \"values\": [<br>    0.9278651759211148,<br>    0.005222625716932729<br>  ],<br>  \"params\": {<br>    \"scalers\": \"normalizer\",<br>    \"knn_n_neighbors\": 36,<br>    \"knn_p\": 1,<br>    \"knn_weights\": \"distance\"<br>  }<br>}",
          "{<br>  \"number\": 133,<br>  \"values\": [<br>    0.9262647845207735,<br>    0.005445005207876953<br>  ],<br>  \"params\": {<br>    \"scalers\": \"normalizer\",<br>    \"knn_n_neighbors\": 91,<br>    \"knn_p\": 5,<br>    \"knn_weights\": \"uniform\"<br>  }<br>}",
          "{<br>  \"number\": 134,<br>  \"values\": [<br>    0.9262650333765349,<br>    0.004861120001372636<br>  ],<br>  \"params\": {<br>    \"scalers\": \"normalizer\",<br>    \"knn_n_neighbors\": 75,<br>    \"knn_p\": 9,<br>    \"knn_weights\": \"uniform\"<br>  }<br>}",
          "{<br>  \"number\": 135,<br>  \"values\": [<br>    0.9257326064754262,<br>    0.003640911975713814<br>  ],<br>  \"params\": {<br>    \"scalers\": \"normalizer\",<br>    \"knn_n_neighbors\": 30,<br>    \"knn_p\": 4,<br>    \"knn_weights\": \"uniform\"<br>  }<br>}",
          "{<br>  \"number\": 136,<br>  \"values\": [<br>    0.9279978160418397,<br>    0.006362397154568819<br>  ],<br>  \"params\": {<br>    \"scalers\": \"normalizer\",<br>    \"knn_n_neighbors\": 68,<br>    \"knn_p\": 7,<br>    \"knn_weights\": \"distance\"<br>  }<br>}",
          "{<br>  \"number\": 137,<br>  \"values\": [<br>    0.9278649270653536,<br>    0.005458555501582399<br>  ],<br>  \"params\": {<br>    \"scalers\": \"robust\",<br>    \"knn_n_neighbors\": 54,<br>    \"knn_p\": 10,<br>    \"knn_weights\": \"distance\"<br>  }<br>}",
          "{<br>  \"number\": 138,<br>  \"values\": [<br>    0.928398100533746,<br>    0.0059407131150828706<br>  ],<br>  \"params\": {<br>    \"scalers\": \"standard\",<br>    \"knn_n_neighbors\": 57,<br>    \"knn_p\": 7,<br>    \"knn_weights\": \"uniform\"<br>  }<br>}",
          "{<br>  \"number\": 139,<br>  \"values\": [<br>    0.927998064897601,<br>    0.005634425847928473<br>  ],<br>  \"params\": {<br>    \"scalers\": \"standard\",<br>    \"knn_n_neighbors\": 54,<br>    \"knn_p\": 7,<br>    \"knn_weights\": \"distance\"<br>  }<br>}",
          "{<br>  \"number\": 140,<br>  \"values\": [<br>    0.9269310958214133,<br>    0.00650506851570325<br>  ],<br>  \"params\": {<br>    \"scalers\": \"minmax\",<br>    \"knn_n_neighbors\": 56,<br>    \"knn_p\": 8,<br>    \"knn_weights\": \"uniform\"<br>  }<br>}",
          "{<br>  \"number\": 141,<br>  \"values\": [<br>    0.925331948699878,<br>    0.00483238412841431<br>  ],<br>  \"params\": {<br>    \"scalers\": \"robust\",<br>    \"knn_n_neighbors\": 30,<br>    \"knn_p\": 5,<br>    \"knn_weights\": \"uniform\"<br>  }<br>}",
          "{<br>  \"number\": 142,<br>  \"values\": [<br>    0.9273316291690807,<br>    0.004769724934810608<br>  ],<br>  \"params\": {<br>    \"scalers\": \"minmax\",<br>    \"knn_n_neighbors\": 95,<br>    \"knn_p\": 6,<br>    \"knn_weights\": \"distance\"<br>  }<br>}",
          "{<br>  \"number\": 143,<br>  \"values\": [<br>    0.9263980467809015,<br>    0.006302589424696764<br>  ],<br>  \"params\": {<br>    \"scalers\": \"minmax\",<br>    \"knn_n_neighbors\": 20,<br>    \"knn_p\": 7,<br>    \"knn_weights\": \"distance\"<br>  }<br>}",
          "{<br>  \"number\": 144,<br>  \"values\": [<br>    0.9229312371714855,<br>    0.006750575230095225<br>  ],<br>  \"params\": {<br>    \"scalers\": \"none\",<br>    \"knn_n_neighbors\": 56,<br>    \"knn_p\": 5,<br>    \"knn_weights\": \"distance\"<br>  }<br>}",
          "{<br>  \"number\": 145,<br>  \"values\": [<br>    0.9263986689203045,<br>    0.00455041873104516<br>  ],<br>  \"params\": {<br>    \"scalers\": \"minmax\",<br>    \"knn_n_neighbors\": 23,<br>    \"knn_p\": 4,<br>    \"knn_weights\": \"distance\"<br>  }<br>}",
          "{<br>  \"number\": 146,<br>  \"values\": [<br>    0.9270652290767055,<br>    0.004091591083220889<br>  ],<br>  \"params\": {<br>    \"scalers\": \"robust\",<br>    \"knn_n_neighbors\": 75,<br>    \"knn_p\": 5,<br>    \"knn_weights\": \"uniform\"<br>  }<br>}",
          "{<br>  \"number\": 147,<br>  \"values\": [<br>    0.9253315754162362,<br>    0.004204680900485835<br>  ],<br>  \"params\": {<br>    \"scalers\": \"normalizer\",<br>    \"knn_n_neighbors\": 22,<br>    \"knn_p\": 3,<br>    \"knn_weights\": \"distance\"<br>  }<br>}",
          "{<br>  \"number\": 148,<br>  \"values\": [<br>    0.9278640560701893,<br>    0.006678063158805679<br>  ],<br>  \"params\": {<br>    \"scalers\": \"normalizer\",<br>    \"knn_n_neighbors\": 95,<br>    \"knn_p\": 6,<br>    \"knn_weights\": \"distance\"<br>  }<br>}",
          "{<br>  \"number\": 149,<br>  \"values\": [<br>    0.9270649802209442,<br>    0.005674653994084752<br>  ],<br>  \"params\": {<br>    \"scalers\": \"normalizer\",<br>    \"knn_n_neighbors\": 82,<br>    \"knn_p\": 4,<br>    \"knn_weights\": \"distance\"<br>  }<br>}",
          "{<br>  \"number\": 150,<br>  \"values\": [<br>    0.9261311489770039,<br>    0.00634361766140471<br>  ],<br>  \"params\": {<br>    \"scalers\": \"normalizer\",<br>    \"knn_n_neighbors\": 80,<br>    \"knn_p\": 8,<br>    \"knn_weights\": \"uniform\"<br>  }<br>}",
          "{<br>  \"number\": 151,<br>  \"values\": [<br>    0.9273316291690807,<br>    0.004769724934810608<br>  ],<br>  \"params\": {<br>    \"scalers\": \"minmax\",<br>    \"knn_n_neighbors\": 95,<br>    \"knn_p\": 6,<br>    \"knn_weights\": \"distance\"<br>  }<br>}",
          "{<br>  \"number\": 152,<br>  \"values\": [<br>    0.9271988646204752,<br>    0.005029217284967035<br>  ],<br>  \"params\": {<br>    \"scalers\": \"robust\",<br>    \"knn_n_neighbors\": 36,<br>    \"knn_p\": 10,<br>    \"knn_weights\": \"distance\"<br>  }<br>}",
          "{<br>  \"number\": 153,<br>  \"values\": [<br>    0.9273312558854389,<br>    0.005788555722450867<br>  ],<br>  \"params\": {<br>    \"scalers\": \"robust\",<br>    \"knn_n_neighbors\": 89,<br>    \"knn_p\": 10,<br>    \"knn_weights\": \"uniform\"<br>  }<br>}",
          "{<br>  \"number\": 154,<br>  \"values\": [<br>    0.927998064897601,<br>    0.005385622278011586<br>  ],<br>  \"params\": {<br>    \"scalers\": \"standard\",<br>    \"knn_n_neighbors\": 46,<br>    \"knn_p\": 9,<br>    \"knn_weights\": \"distance\"<br>  }<br>}",
          "{<br>  \"number\": 155,<br>  \"values\": [<br>    0.9233315216633917,<br>    0.0057209603197879155<br>  ],<br>  \"params\": {<br>    \"scalers\": \"none\",<br>    \"knn_n_neighbors\": 82,<br>    \"knn_p\": 3,<br>    \"knn_weights\": \"uniform\"<br>  }<br>}",
          "{<br>  \"number\": 157,<br>  \"values\": [<br>    0.9269315935329356,<br>    0.005225990908644868<br>  ],<br>  \"params\": {<br>    \"scalers\": \"minmax\",<br>    \"knn_n_neighbors\": 27,<br>    \"knn_p\": 4,<br>    \"knn_weights\": \"distance\"<br>  }<br>}",
          "{<br>  \"number\": 158,<br>  \"values\": [<br>    0.9273316291690807,<br>    0.004717410064245898<br>  ],<br>  \"params\": {<br>    \"scalers\": \"standard\",<br>    \"knn_n_neighbors\": 27,<br>    \"knn_p\": 4,<br>    \"knn_weights\": \"distance\"<br>  }<br>}",
          "{<br>  \"number\": 159,<br>  \"values\": [<br>    0.9286646250540018,<br>    0.005732398128540011<br>  ],<br>  \"params\": {<br>    \"scalers\": \"standard\",<br>    \"knn_n_neighbors\": 54,<br>    \"knn_p\": 9,<br>    \"knn_weights\": \"distance\"<br>  }<br>}",
          "{<br>  \"number\": 161,<br>  \"values\": [<br>    0.9285311139381127,<br>    0.00625350877016053<br>  ],<br>  \"params\": {<br>    \"scalers\": \"minmax\",<br>    \"knn_n_neighbors\": 54,<br>    \"knn_p\": 5,<br>    \"knn_weights\": \"distance\"<br>  }<br>}",
          "{<br>  \"number\": 162,<br>  \"values\": [<br>    0.9274652647128505,<br>    0.0043062990744265365<br>  ],<br>  \"params\": {<br>    \"scalers\": \"normalizer\",<br>    \"knn_n_neighbors\": 27,<br>    \"knn_p\": 3,<br>    \"knn_weights\": \"distance\"<br>  }<br>}",
          "{<br>  \"number\": 163,<br>  \"values\": [<br>    0.9281313271577288,<br>    0.00544568219222221<br>  ],<br>  \"params\": {<br>    \"scalers\": \"standard\",<br>    \"knn_n_neighbors\": 48,<br>    \"knn_p\": 9,<br>    \"knn_weights\": \"distance\"<br>  }<br>}",
          "{<br>  \"number\": 164,<br>  \"values\": [<br>    0.9263986689203045,<br>    0.00455041873104516<br>  ],<br>  \"params\": {<br>    \"scalers\": \"minmax\",<br>    \"knn_n_neighbors\": 23,<br>    \"knn_p\": 4,<br>    \"knn_weights\": \"distance\"<br>  }<br>}",
          "{<br>  \"number\": 165,<br>  \"values\": [<br>    0.9282649627014986,<br>    0.004743402295438759<br>  ],<br>  \"params\": {<br>    \"scalers\": \"robust\",<br>    \"knn_n_neighbors\": 94,<br>    \"knn_p\": 10,<br>    \"knn_weights\": \"distance\"<br>  }<br>}",
          "{<br>  \"number\": 167,<br>  \"values\": [<br>    0.926131397832765,<br>    0.004799378774023138<br>  ],<br>  \"params\": {<br>    \"scalers\": \"normalizer\",<br>    \"knn_n_neighbors\": 20,<br>    \"knn_p\": 10,<br>    \"knn_weights\": \"distance\"<br>  }<br>}",
          "{<br>  \"number\": 168,<br>  \"values\": [<br>    0.9274648914292085,<br>    0.005006965333593964<br>  ],<br>  \"params\": {<br>    \"scalers\": \"minmax\",<br>    \"knn_n_neighbors\": 82,<br>    \"knn_p\": 5,<br>    \"knn_weights\": \"distance\"<br>  }<br>}",
          "{<br>  \"number\": 170,<br>  \"values\": [<br>    0.9281310783019677,<br>    0.006012475172927377<br>  ],<br>  \"params\": {<br>    \"scalers\": \"normalizer\",<br>    \"knn_n_neighbors\": 56,<br>    \"knn_p\": 6,<br>    \"knn_weights\": \"distance\"<br>  }<br>}",
          "{<br>  \"number\": 171,<br>  \"values\": [<br>    0.9262641623813705,<br>    0.006436541772500042<br>  ],<br>  \"params\": {<br>    \"scalers\": \"normalizer\",<br>    \"knn_n_neighbors\": 54,<br>    \"knn_p\": 9,<br>    \"knn_weights\": \"uniform\"<br>  }<br>}",
          "{<br>  \"number\": 172,<br>  \"values\": [<br>    0.9273316291690807,<br>    0.004974231690421903<br>  ],<br>  \"params\": {<br>    \"scalers\": \"minmax\",<br>    \"knn_n_neighbors\": 80,<br>    \"knn_p\": 4,<br>    \"knn_weights\": \"distance\"<br>  }<br>}",
          "{<br>  \"number\": 173,<br>  \"values\": [<br>    0.9279983137533622,<br>    0.005630184791517699<br>  ],<br>  \"params\": {<br>    \"scalers\": \"standard\",<br>    \"knn_n_neighbors\": 56,<br>    \"knn_p\": 3,<br>    \"knn_weights\": \"uniform\"<br>  }<br>}",
          "{<br>  \"number\": 174,<br>  \"values\": [<br>    0.927865424776876,<br>    0.0037135372911305284<br>  ],<br>  \"params\": {<br>    \"scalers\": \"robust\",<br>    \"knn_n_neighbors\": 75,<br>    \"knn_p\": 4,<br>    \"knn_weights\": \"uniform\"<br>  }<br>}",
          "{<br>  \"number\": 175,<br>  \"values\": [<br>    0.9239985795313151,<br>    0.006724692118149782<br>  ],<br>  \"params\": {<br>    \"scalers\": \"none\",<br>    \"knn_n_neighbors\": 27,<br>    \"knn_p\": 4,<br>    \"knn_weights\": \"distance\"<br>  }<br>}",
          "{<br>  \"number\": 176,<br>  \"values\": [<br>    0.9270651046488247,<br>    0.0038748445444638374<br>  ],<br>  \"params\": {<br>    \"scalers\": \"normalizer\",<br>    \"knn_n_neighbors\": 30,<br>    \"knn_p\": 7,<br>    \"knn_weights\": \"distance\"<br>  }<br>}",
          "{<br>  \"number\": 177,<br>  \"values\": [<br>    0.9279985626091234,<br>    0.004469101049292179<br>  ],<br>  \"params\": {<br>    \"scalers\": \"standard\",<br>    \"knn_n_neighbors\": 27,<br>    \"knn_p\": 9,<br>    \"knn_weights\": \"distance\"<br>  }<br>}",
          "{<br>  \"number\": 178,<br>  \"values\": [<br>    0.925865868735554,<br>    0.0041840879990738015<br>  ],<br>  \"params\": {<br>    \"scalers\": \"normalizer\",<br>    \"knn_n_neighbors\": 20,<br>    \"knn_p\": 8,<br>    \"knn_weights\": \"uniform\"<br>  }<br>}",
          "{<br>  \"number\": 179,<br>  \"values\": [<br>    0.927598651400859,<br>    0.004041577610371445<br>  ],<br>  \"params\": {<br>    \"scalers\": \"robust\",<br>    \"knn_n_neighbors\": 91,<br>    \"knn_p\": 5,<br>    \"knn_weights\": \"distance\"<br>  }<br>}",
          "{<br>  \"number\": 180,<br>  \"values\": [<br>    0.9262650333765347,<br>    0.005665230686643883<br>  ],<br>  \"params\": {<br>    \"scalers\": \"standard\",<br>    \"knn_n_neighbors\": 12,<br>    \"knn_p\": 10,<br>    \"knn_weights\": \"uniform\"<br>  }<br>}",
          "{<br>  \"number\": 181,<br>  \"values\": [<br>    0.9274653891407311,<br>    0.0035084583021040305<br>  ],<br>  \"params\": {<br>    \"scalers\": \"standard\",<br>    \"knn_n_neighbors\": 20,<br>    \"knn_p\": 9,<br>    \"knn_weights\": \"distance\"<br>  }<br>}",
          "{<br>  \"number\": 182,<br>  \"values\": [<br>    0.9254644643927223,<br>    0.006519183639899334<br>  ],<br>  \"params\": {<br>    \"scalers\": \"minmax\",<br>    \"knn_n_neighbors\": 20,<br>    \"knn_p\": 5,<br>    \"knn_weights\": \"distance\"<br>  }<br>}",
          "{<br>  \"number\": 183,<br>  \"values\": [<br>    0.9278649270653536,<br>    0.004956775428905776<br>  ],<br>  \"params\": {<br>    \"scalers\": \"standard\",<br>    \"knn_n_neighbors\": 91,<br>    \"knn_p\": 4,<br>    \"knn_weights\": \"distance\"<br>  }<br>}",
          "{<br>  \"number\": 184,<br>  \"values\": [<br>    0.9247981530920827,<br>    0.006087943650436708<br>  ],<br>  \"params\": {<br>    \"scalers\": \"none\",<br>    \"knn_n_neighbors\": 82,<br>    \"knn_p\": 6,<br>    \"knn_weights\": \"uniform\"<br>  }<br>}",
          "{<br>  \"number\": 185,<br>  \"values\": [<br>    0.9283977272501042,<br>    0.006170416564767911<br>  ],<br>  \"params\": {<br>    \"scalers\": \"normalizer\",<br>    \"knn_n_neighbors\": 62,<br>    \"knn_p\": 7,<br>    \"knn_weights\": \"distance\"<br>  }<br>}",
          "{<br>  \"number\": 186,<br>  \"values\": [<br>    0.9259982600005178,<br>    0.005080851763444672<br>  ],<br>  \"params\": {<br>    \"scalers\": \"normalizer\",<br>    \"knn_n_neighbors\": 36,<br>    \"knn_p\": 1,<br>    \"knn_weights\": \"uniform\"<br>  }<br>}",
          "{<br>  \"number\": 187,<br>  \"values\": [<br>    0.9279979404697203,<br>    0.005915428752151958<br>  ],<br>  \"params\": {<br>    \"scalers\": \"minmax\",<br>    \"knn_n_neighbors\": 62,<br>    \"knn_p\": 7,<br>    \"knn_weights\": \"distance\"<br>  }<br>}",
          "{<br>  \"number\": 188,<br>  \"values\": [<br>    0.927998064897601,<br>    0.006340123871367873<br>  ],<br>  \"params\": {<br>    \"scalers\": \"robust\",<br>    \"knn_n_neighbors\": 54,<br>    \"knn_p\": 6,<br>    \"knn_weights\": \"distance\"<br>  }<br>}",
          "{<br>  \"number\": 189,<br>  \"values\": [<br>    0.9265308113295071,<br>    0.007215256295365205<br>  ],<br>  \"params\": {<br>    \"scalers\": \"robust\",<br>    \"knn_n_neighbors\": 54,<br>    \"knn_p\": 5,<br>    \"knn_weights\": \"uniform\"<br>  }<br>}",
          "{<br>  \"number\": 190,<br>  \"values\": [<br>    0.9266649445847992,<br>    0.0045957007516188985<br>  ],<br>  \"params\": {<br>    \"scalers\": \"minmax\",<br>    \"knn_n_neighbors\": 92,<br>    \"knn_p\": 9,<br>    \"knn_weights\": \"distance\"<br>  }<br>}",
          "{<br>  \"number\": 191,<br>  \"values\": [<br>    0.9281317004413706,<br>    0.0052543703732064045<br>  ],<br>  \"params\": {<br>    \"scalers\": \"standard\",<br>    \"knn_n_neighbors\": 33,<br>    \"knn_p\": 9,<br>    \"knn_weights\": \"distance\"<br>  }<br>}",
          "{<br>  \"number\": 192,<br>  \"values\": [<br>    0.9265314334689101,<br>    0.005640288891717168<br>  ],<br>  \"params\": {<br>    \"scalers\": \"minmax\",<br>    \"knn_n_neighbors\": 29,<br>    \"knn_p\": 6,<br>    \"knn_weights\": \"distance\"<br>  }<br>}",
          "{<br>  \"number\": 193,<br>  \"values\": [<br>    0.9253323219835199,<br>    0.007065215921923862<br>  ],<br>  \"params\": {<br>    \"scalers\": \"none\",<br>    \"knn_n_neighbors\": 30,<br>    \"knn_p\": 4,<br>    \"knn_weights\": \"distance\"<br>  }<br>}",
          "{<br>  \"number\": 194,<br>  \"values\": [<br>    0.927064731365183,<br>    0.005362957122482079<br>  ],<br>  \"params\": {<br>    \"scalers\": \"minmax\",<br>    \"knn_n_neighbors\": 82,<br>    \"knn_p\": 9,<br>    \"knn_weights\": \"distance\"<br>  }<br>}",
          "{<br>  \"number\": 195,<br>  \"values\": [<br>    0.9261312734048844,<br>    0.006163299148151202<br>  ],<br>  \"params\": {<br>    \"scalers\": \"normalizer\",<br>    \"knn_n_neighbors\": 80,<br>    \"knn_p\": 9,<br>    \"knn_weights\": \"uniform\"<br>  }<br>}",
          "{<br>  \"number\": 196,<br>  \"values\": [<br>    0.9241320906472043,<br>    0.005565820063359591<br>  ],<br>  \"params\": {<br>    \"scalers\": \"none\",<br>    \"knn_n_neighbors\": 89,<br>    \"knn_p\": 1,<br>    \"knn_weights\": \"distance\"<br>  }<br>}",
          "{<br>  \"number\": 197,<br>  \"values\": [<br>    0.9286646250540018,<br>    0.005732398128540011<br>  ],<br>  \"params\": {<br>    \"scalers\": \"standard\",<br>    \"knn_n_neighbors\": 54,<br>    \"knn_p\": 9,<br>    \"knn_weights\": \"distance\"<br>  }<br>}",
          "{<br>  \"number\": 198,<br>  \"values\": [<br>    0.9250650508959805,<br>    0.005788995108859492<br>  ],<br>  \"params\": {<br>    \"scalers\": \"none\",<br>    \"knn_n_neighbors\": 82,<br>    \"knn_p\": 9,<br>    \"knn_weights\": \"distance\"<br>  }<br>}",
          "{<br>  \"number\": 199,<br>  \"values\": [<br>    0.9281317004413706,<br>    0.0052543703732064045<br>  ],<br>  \"params\": {<br>    \"scalers\": \"standard\",<br>    \"knn_n_neighbors\": 33,<br>    \"knn_p\": 9,<br>    \"knn_weights\": \"distance\"<br>  }<br>}",
          "{<br>  \"number\": 200,<br>  \"values\": [<br>    0.9279985626091234,<br>    0.004469101049292179<br>  ],<br>  \"params\": {<br>    \"scalers\": \"standard\",<br>    \"knn_n_neighbors\": 27,<br>    \"knn_p\": 9,<br>    \"knn_weights\": \"distance\"<br>  }<br>}",
          "{<br>  \"number\": 201,<br>  \"values\": [<br>    0.9277319136609868,<br>    0.006144052954967777<br>  ],<br>  \"params\": {<br>    \"scalers\": \"minmax\",<br>    \"knn_n_neighbors\": 59,<br>    \"knn_p\": 1,<br>    \"knn_weights\": \"distance\"<br>  }<br>}",
          "{<br>  \"number\": 202,<br>  \"values\": [<br>    0.9270649802209442,<br>    0.005518841963308985<br>  ],<br>  \"params\": {<br>    \"scalers\": \"robust\",<br>    \"knn_n_neighbors\": 48,<br>    \"knn_p\": 4,<br>    \"knn_weights\": \"distance\"<br>  }<br>}",
          "{<br>  \"number\": 203,<br>  \"values\": [<br>    0.9270651046488247,<br>    0.0038748445444638374<br>  ],<br>  \"params\": {<br>    \"scalers\": \"normalizer\",<br>    \"knn_n_neighbors\": 30,<br>    \"knn_p\": 7,<br>    \"knn_weights\": \"distance\"<br>  }<br>}",
          "{<br>  \"number\": 204,<br>  \"values\": [<br>    0.9277316648052257,<br>    0.005346098348290507<br>  ],<br>  \"params\": {<br>    \"scalers\": \"standard\",<br>    \"knn_n_neighbors\": 91,<br>    \"knn_p\": 9,<br>    \"knn_weights\": \"distance\"<br>  }<br>}",
          "{<br>  \"number\": 205,<br>  \"values\": [<br>    0.9265319311804324,<br>    0.003816977223137141<br>  ],<br>  \"params\": {<br>    \"scalers\": \"normalizer\",<br>    \"knn_n_neighbors\": 33,<br>    \"knn_p\": 3,<br>    \"knn_weights\": \"distance\"<br>  }<br>}",
          "{<br>  \"number\": 206,<br>  \"values\": [<br>    0.9286651227655243,<br>    0.005481172516274212<br>  ],<br>  \"params\": {<br>    \"scalers\": \"standard\",<br>    \"knn_n_neighbors\": 51,<br>    \"knn_p\": 2,<br>    \"knn_weights\": \"distance\"<br>  }<br>}",
          "{<br>  \"number\": 207,<br>  \"values\": [<br>    0.9282649627014986,<br>    0.005382777948662702<br>  ],<br>  \"params\": {<br>    \"scalers\": \"standard\",<br>    \"knn_n_neighbors\": 100,<br>    \"knn_p\": 9,<br>    \"knn_weights\": \"distance\"<br>  }<br>}",
          "{<br>  \"number\": 208,<br>  \"values\": [<br>    0.9259983844283982,<br>    0.0055468569062097125<br>  ],<br>  \"params\": {<br>    \"scalers\": \"none\",<br>    \"knn_n_neighbors\": 91,<br>    \"knn_p\": 9,<br>    \"knn_weights\": \"distance\"<br>  }<br>}",
          "{<br>  \"number\": 209,<br>  \"values\": [<br>    0.9258649977403898,<br>    0.005438289079789176<br>  ],<br>  \"params\": {<br>    \"scalers\": \"normalizer\",<br>    \"knn_n_neighbors\": 46,<br>    \"knn_p\": 4,<br>    \"knn_weights\": \"uniform\"<br>  }<br>}",
          "{<br>  \"number\": 210,<br>  \"values\": [<br>    0.9255987220758951,<br>    0.0035084760505386795<br>  ],<br>  \"params\": {<br>    \"scalers\": \"normalizer\",<br>    \"knn_n_neighbors\": 15,<br>    \"knn_p\": 9,<br>    \"knn_weights\": \"distance\"<br>  }<br>}",
          "{<br>  \"number\": 211,<br>  \"values\": [<br>    0.9145321063748882,<br>    0.005637849994524885<br>  ],<br>  \"params\": {<br>    \"scalers\": \"robust\",<br>    \"knn_n_neighbors\": 3,<br>    \"knn_p\": 4,<br>    \"knn_weights\": \"uniform\"<br>  }<br>}",
          "{<br>  \"number\": 212,<br>  \"values\": [<br>    0.9279984381812428,<br>    0.0046351924619657085<br>  ],<br>  \"params\": {<br>    \"scalers\": \"standard\",<br>    \"knn_n_neighbors\": 57,<br>    \"knn_p\": 5,<br>    \"knn_weights\": \"distance\"<br>  }<br>}",
          "{<br>  \"number\": 213,<br>  \"values\": [<br>    0.9274653891407311,<br>    0.00477101872558499<br>  ],<br>  \"params\": {<br>    \"scalers\": \"standard\",<br>    \"knn_n_neighbors\": 27,<br>    \"knn_p\": 7,<br>    \"knn_weights\": \"distance\"<br>  }<br>}",
          "{<br>  \"number\": 214,<br>  \"values\": [<br>    0.9281317004413706,<br>    0.0052543703732064045<br>  ],<br>  \"params\": {<br>    \"scalers\": \"standard\",<br>    \"knn_n_neighbors\": 33,<br>    \"knn_p\": 9,<br>    \"knn_weights\": \"distance\"<br>  }<br>}",
          "{<br>  \"number\": 215,<br>  \"values\": [<br>    0.9270653535045861,<br>    0.004088898210321472<br>  ],<br>  \"params\": {<br>    \"scalers\": \"standard\",<br>    \"knn_n_neighbors\": 22,<br>    \"knn_p\": 4,<br>    \"knn_weights\": \"distance\"<br>  }<br>}",
          "{<br>  \"number\": 216,<br>  \"values\": [<br>    0.928264838273618,<br>    0.004639044180330477<br>  ],<br>  \"params\": {<br>    \"scalers\": \"normalizer\",<br>    \"knn_n_neighbors\": 48,<br>    \"knn_p\": 5,<br>    \"knn_weights\": \"distance\"<br>  }<br>}",
          "{<br>  \"number\": 217,<br>  \"values\": [<br>    0.927064731365183,<br>    0.005744197692419556<br>  ],<br>  \"params\": {<br>    \"scalers\": \"minmax\",<br>    \"knn_n_neighbors\": 20,<br>    \"knn_p\": 9,<br>    \"knn_weights\": \"distance\"<br>  }<br>}",
          "{<br>  \"number\": 218,<br>  \"values\": [<br>    0.9278653003489954,<br>    0.004335245059220247<br>  ],<br>  \"params\": {<br>    \"scalers\": \"robust\",<br>    \"knn_n_neighbors\": 75,<br>    \"knn_p\": 3,<br>    \"knn_weights\": \"distance\"<br>  }<br>}",
          "{<br>  \"number\": 219,<br>  \"values\": [<br>    0.9273322513084837,<br>    0.0035642873468080356<br>  ],<br>  \"params\": {<br>    \"scalers\": \"normalizer\",<br>    \"knn_n_neighbors\": 27,<br>    \"knn_p\": 4,<br>    \"knn_weights\": \"distance\"<br>  }<br>}",
          "{<br>  \"number\": 220,<br>  \"values\": [<br>    0.9279979404697203,<br>    0.005936836736866189<br>  ],<br>  \"params\": {<br>    \"scalers\": \"standard\",<br>    \"knn_n_neighbors\": 70,<br>    \"knn_p\": 9,<br>    \"knn_weights\": \"distance\"<br>  }<br>}",
          "{<br>  \"number\": 221,<br>  \"values\": [<br>    0.9270652290767055,<br>    0.00492070083202754<br>  ],<br>  \"params\": {<br>    \"scalers\": \"robust\",<br>    \"knn_n_neighbors\": 68,<br>    \"knn_p\": 10,<br>    \"knn_weights\": \"distance\"<br>  }<br>}",
          "{<br>  \"number\": 222,<br>  \"values\": [<br>    0.9246645175483128,<br>    0.006129589534976263<br>  ],<br>  \"params\": {<br>    \"scalers\": \"none\",<br>    \"knn_n_neighbors\": 54,<br>    \"knn_p\": 7,<br>    \"knn_weights\": \"uniform\"<br>  }<br>}",
          "{<br>  \"number\": 223,<br>  \"values\": [<br>    0.9281318248692514,<br>    0.005109174285859579<br>  ],<br>  \"params\": {<br>    \"scalers\": \"standard\",<br>    \"knn_n_neighbors\": 54,<br>    \"knn_p\": 5,<br>    \"knn_weights\": \"distance\"<br>  }<br>}",
          "{<br>  \"number\": 224,<br>  \"values\": [<br>    0.9274650158570893,<br>    0.0038857319247258566<br>  ],<br>  \"params\": {<br>    \"scalers\": \"robust\",<br>    \"knn_n_neighbors\": 21,<br>    \"knn_p\": 7,<br>    \"knn_weights\": \"distance\"<br>  }<br>}",
          "{<br>  \"number\": 225,<br>  \"values\": [<br>    0.9269313446771744,<br>    0.006208939667143135<br>  ],<br>  \"params\": {<br>    \"scalers\": \"minmax\",<br>    \"knn_n_neighbors\": 68,<br>    \"knn_p\": 10,<br>    \"knn_weights\": \"distance\"<br>  }<br>}",
          "{<br>  \"number\": 226,<br>  \"values\": [<br>    0.9266654422963218,<br>    0.003254670193407402<br>  ],<br>  \"params\": {<br>    \"scalers\": \"normalizer\",<br>    \"knn_n_neighbors\": 33,<br>    \"knn_p\": 7,<br>    \"knn_weights\": \"distance\"<br>  }<br>}",
          "{<br>  \"number\": 227,<br>  \"values\": [<br>    0.927465389140731,<br>    0.0036126126304280967<br>  ],<br>  \"params\": {<br>    \"scalers\": \"normalizer\",<br>    \"knn_n_neighbors\": 30,<br>    \"knn_p\": 5,<br>    \"knn_weights\": \"distance\"<br>  }<br>}",
          "{<br>  \"number\": 228,<br>  \"values\": [<br>    0.9274655135686116,<br>    0.005120756853687135<br>  ],<br>  \"params\": {<br>    \"scalers\": \"robust\",<br>    \"knn_n_neighbors\": 36,<br>    \"knn_p\": 1,<br>    \"knn_weights\": \"distance\"<br>  }<br>}",
          "{<br>  \"number\": 229,<br>  \"values\": [<br>    0.9273310070296776,<br>    0.0062658296301017664<br>  ],<br>  \"params\": {<br>    \"scalers\": \"normalizer\",<br>    \"knn_n_neighbors\": 95,<br>    \"knn_p\": 7,<br>    \"knn_weights\": \"distance\"<br>  }<br>}",
          "{<br>  \"number\": 230,<br>  \"values\": [<br>    0.9274653891407311,<br>    0.004004884324436384<br>  ],<br>  \"params\": {<br>    \"scalers\": \"robust\",<br>    \"knn_n_neighbors\": 29,<br>    \"knn_p\": 5,<br>    \"knn_weights\": \"distance\"<br>  }<br>}",
          "{<br>  \"number\": 231,<br>  \"values\": [<br>    0.9233317705191529,<br>    0.004716853951219985<br>  ],<br>  \"params\": {<br>    \"scalers\": \"standard\",<br>    \"knn_n_neighbors\": 7,<br>    \"knn_p\": 10,<br>    \"knn_weights\": \"uniform\"<br>  }<br>}",
          "{<br>  \"number\": 232,<br>  \"values\": [<br>    0.926397922353021,<br>    0.005569843869294164<br>  ],<br>  \"params\": {<br>    \"scalers\": \"normalizer\",<br>    \"knn_n_neighbors\": 61,<br>    \"knn_p\": 7,<br>    \"knn_weights\": \"uniform\"<br>  }<br>}",
          "{<br>  \"number\": 233,<br>  \"values\": [<br>    0.9265319311804324,<br>    0.004449111330751516<br>  ],<br>  \"params\": {<br>    \"scalers\": \"robust\",<br>    \"knn_n_neighbors\": 15,<br>    \"knn_p\": 9,<br>    \"knn_weights\": \"distance\"<br>  }<br>}",
          "{<br>  \"number\": 234,<br>  \"values\": [<br>    0.9278651759211148,<br>    0.004668307375287688<br>  ],<br>  \"params\": {<br>    \"scalers\": \"standard\",<br>    \"knn_n_neighbors\": 27,<br>    \"knn_p\": 6,<br>    \"knn_weights\": \"distance\"<br>  }<br>}",
          "{<br>  \"number\": 235,<br>  \"values\": [<br>    0.9273322513084837,<br>    0.0035642873468080356<br>  ],<br>  \"params\": {<br>    \"scalers\": \"normalizer\",<br>    \"knn_n_neighbors\": 27,<br>    \"knn_p\": 4,<br>    \"knn_weights\": \"distance\"<br>  }<br>}",
          "{<br>  \"number\": 236,<br>  \"values\": [<br>    0.9282645894178568,<br>    0.005788381306607457<br>  ],<br>  \"params\": {<br>    \"scalers\": \"standard\",<br>    \"knn_n_neighbors\": 54,<br>    \"knn_p\": 8,<br>    \"knn_weights\": \"distance\"<br>  }<br>}",
          "{<br>  \"number\": 237,<br>  \"values\": [<br>    0.9261316466885263,<br>    0.005520221137950971<br>  ],<br>  \"params\": {<br>    \"scalers\": \"minmax\",<br>    \"knn_n_neighbors\": 36,<br>    \"knn_p\": 4,<br>    \"knn_weights\": \"distance\"<br>  }<br>}",
          "{<br>  \"number\": 238,<br>  \"values\": [<br>    0.9286646250540018,<br>    0.005732398128540011<br>  ],<br>  \"params\": {<br>    \"scalers\": \"standard\",<br>    \"knn_n_neighbors\": 54,<br>    \"knn_p\": 9,<br>    \"knn_weights\": \"distance\"<br>  }<br>}",
          "{<br>  \"number\": 240,<br>  \"values\": [<br>    0.927064731365183,<br>    0.005744197692419556<br>  ],<br>  \"params\": {<br>    \"scalers\": \"minmax\",<br>    \"knn_n_neighbors\": 20,<br>    \"knn_p\": 9,<br>    \"knn_weights\": \"distance\"<br>  }<br>}",
          "{<br>  \"number\": 241,<br>  \"values\": [<br>    0.9258653710240317,<br>    0.005317602647950096<br>  ],<br>  \"params\": {<br>    \"scalers\": \"minmax\",<br>    \"knn_n_neighbors\": 36,<br>    \"knn_p\": 5,<br>    \"knn_weights\": \"uniform\"<br>  }<br>}",
          "{<br>  \"number\": 242,<br>  \"values\": [<br>    0.9265315578967908,<br>    0.005249779097191729<br>  ],<br>  \"params\": {<br>    \"scalers\": \"normalizer\",<br>    \"knn_n_neighbors\": 78,<br>    \"knn_p\": 3,<br>    \"knn_weights\": \"distance\"<br>  }<br>}",
          "{<br>  \"number\": 243,<br>  \"values\": [<br>    0.9269315935329356,<br>    0.005225990908644868<br>  ],<br>  \"params\": {<br>    \"scalers\": \"minmax\",<br>    \"knn_n_neighbors\": 27,<br>    \"knn_p\": 4,<br>    \"knn_weights\": \"distance\"<br>  }<br>}",
          "{<br>  \"number\": 244,<br>  \"values\": [<br>    0.9273316291690807,<br>    0.004215546947027101<br>  ],<br>  \"params\": {<br>    \"scalers\": \"robust\",<br>    \"knn_n_neighbors\": 94,<br>    \"knn_p\": 5,<br>    \"knn_weights\": \"uniform\"<br>  }<br>}",
          "{<br>  \"number\": 245,<br>  \"values\": [<br>    0.9274653891407311,<br>    0.0035084583021040305<br>  ],<br>  \"params\": {<br>    \"scalers\": \"standard\",<br>    \"knn_n_neighbors\": 20,<br>    \"knn_p\": 9,<br>    \"knn_weights\": \"distance\"<br>  }<br>}",
          "{<br>  \"number\": 246,<br>  \"values\": [<br>    0.9253323219835199,<br>    0.007065215921923862<br>  ],<br>  \"params\": {<br>    \"scalers\": \"none\",<br>    \"knn_n_neighbors\": 30,<br>    \"knn_p\": 4,<br>    \"knn_weights\": \"distance\"<br>  }<br>}",
          "{<br>  \"number\": 247,<br>  \"values\": [<br>    0.9266644468732768,<br>    0.005799825013781302<br>  ],<br>  \"params\": {<br>    \"scalers\": \"normalizer\",<br>    \"knn_n_neighbors\": 57,<br>    \"knn_p\": 7,<br>    \"knn_weights\": \"uniform\"<br>  }<br>}",
          "{<br>  \"number\": 249,<br>  \"values\": [<br>    0.9279988114648846,<br>    0.00596700093223728<br>  ],<br>  \"params\": {<br>    \"scalers\": \"robust\",<br>    \"knn_n_neighbors\": 46,<br>    \"knn_p\": 1,<br>    \"knn_weights\": \"distance\"<br>  }<br>}",
          "{<br>  \"number\": 250,<br>  \"values\": [<br>    0.927464767001328,<br>    0.005528544241333933<br>  ],<br>  \"params\": {<br>    \"scalers\": \"robust\",<br>    \"knn_n_neighbors\": 57,<br>    \"knn_p\": 7,<br>    \"knn_weights\": \"distance\"<br>  }<br>}",
          "{<br>  \"number\": 251,<br>  \"values\": [<br>    0.9266654422963215,<br>    0.00447781136402489<br>  ],<br>  \"params\": {<br>    \"scalers\": \"standard\",<br>    \"knn_n_neighbors\": 27,<br>    \"knn_p\": 5,<br>    \"knn_weights\": \"distance\"<br>  }<br>}",
          "{<br>  \"number\": 252,<br>  \"values\": [<br>    0.9274645181455669,<br>    0.0061091649148055744<br>  ],<br>  \"params\": {<br>    \"scalers\": \"standard\",<br>    \"knn_n_neighbors\": 48,<br>    \"knn_p\": 6,<br>    \"knn_weights\": \"uniform\"<br>  }<br>}",
          "{<br>  \"number\": 253,<br>  \"values\": [<br>    0.9281313271577288,<br>    0.00511535212527876<br>  ],<br>  \"params\": {<br>    \"scalers\": \"normalizer\",<br>    \"knn_n_neighbors\": 48,<br>    \"knn_p\": 4,<br>    \"knn_weights\": \"distance\"<br>  }<br>}",
          "{<br>  \"number\": 254,<br>  \"values\": [<br>    0.9259982600005177,<br>    0.004369811141621888<br>  ],<br>  \"params\": {<br>    \"scalers\": \"normalizer\",<br>    \"knn_n_neighbors\": 20,<br>    \"knn_p\": 9,<br>    \"knn_weights\": \"distance\"<br>  }<br>}",
          "{<br>  \"number\": 255,<br>  \"values\": [<br>    0.9275981536893365,<br>    0.0049868594719693375<br>  ],<br>  \"params\": {<br>    \"scalers\": \"standard\",<br>    \"knn_n_neighbors\": 88,<br>    \"knn_p\": 4,<br>    \"knn_weights\": \"distance\"<br>  }<br>}",
          "{<br>  \"number\": 256,<br>  \"values\": [<br>    0.9278650514932342,<br>    0.004222273013031433<br>  ],<br>  \"params\": {<br>    \"scalers\": \"robust\",<br>    \"knn_n_neighbors\": 94,<br>    \"knn_p\": 5,<br>    \"knn_weights\": \"distance\"<br>  }<br>}",
          "{<br>  \"number\": 257,<br>  \"values\": [<br>    0.9265326777477162,<br>    0.0034958871197003495<br>  ],<br>  \"params\": {<br>    \"scalers\": \"normalizer\",<br>    \"knn_n_neighbors\": 27,<br>    \"knn_p\": 4,<br>    \"knn_weights\": \"uniform\"<br>  }<br>}",
          "{<br>  \"number\": 258,<br>  \"values\": [<br>    0.9281317004413706,<br>    0.0052543703732064045<br>  ],<br>  \"params\": {<br>    \"scalers\": \"standard\",<br>    \"knn_n_neighbors\": 33,<br>    \"knn_p\": 9,<br>    \"knn_weights\": \"distance\"<br>  }<br>}",
          "{<br>  \"number\": 259,<br>  \"values\": [<br>    0.9278651759211148,<br>    0.004668307375287688<br>  ],<br>  \"params\": {<br>    \"scalers\": \"standard\",<br>    \"knn_n_neighbors\": 27,<br>    \"knn_p\": 6,<br>    \"knn_weights\": \"distance\"<br>  }<br>}",
          "{<br>  \"number\": 260,<br>  \"values\": [<br>    0.9282645894178568,<br>    0.005077758013655199<br>  ],<br>  \"params\": {<br>    \"scalers\": \"normalizer\",<br>    \"knn_n_neighbors\": 48,<br>    \"knn_p\": 7,<br>    \"knn_weights\": \"distance\"<br>  }<br>}",
          "{<br>  \"number\": 263,<br>  \"values\": [<br>    0.9270649802209442,<br>    0.0046375819463250825<br>  ],<br>  \"params\": {<br>    \"scalers\": \"robust\",<br>    \"knn_n_neighbors\": 21,<br>    \"knn_p\": 7,<br>    \"knn_weights\": \"uniform\"<br>  }<br>}",
          "{<br>  \"number\": 264,<br>  \"values\": [<br>    0.9263982956366628,<br>    0.0053125052428173785<br>  ],<br>  \"params\": {<br>    \"scalers\": \"robust\",<br>    \"knn_n_neighbors\": 27,<br>    \"knn_p\": 3,<br>    \"knn_weights\": \"uniform\"<br>  }<br>}",
          "{<br>  \"number\": 265,<br>  \"values\": [<br>    0.927465389140731,<br>    0.004157188539184194<br>  ],<br>  \"params\": {<br>    \"scalers\": \"robust\",<br>    \"knn_n_neighbors\": 70,<br>    \"knn_p\": 3,<br>    \"knn_weights\": \"uniform\"<br>  }<br>}",
          "{<br>  \"number\": 266,<br>  \"values\": [<br>    0.9274653891407311,<br>    0.0035084583021040305<br>  ],<br>  \"params\": {<br>    \"scalers\": \"standard\",<br>    \"knn_n_neighbors\": 20,<br>    \"knn_p\": 9,<br>    \"knn_weights\": \"distance\"<br>  }<br>}",
          "{<br>  \"number\": 267,<br>  \"values\": [<br>    0.9253318242719974,<br>    0.004911009201168289<br>  ],<br>  \"params\": {<br>    \"scalers\": \"standard\",<br>    \"knn_n_neighbors\": 30,<br>    \"knn_p\": 5,<br>    \"knn_weights\": \"distance\"<br>  }<br>}",
          "{<br>  \"number\": 268,<br>  \"values\": [<br>    0.9274653891407311,<br>    0.004004884324436384<br>  ],<br>  \"params\": {<br>    \"scalers\": \"robust\",<br>    \"knn_n_neighbors\": 29,<br>    \"knn_p\": 5,<br>    \"knn_weights\": \"distance\"<br>  }<br>}",
          "{<br>  \"number\": 269,<br>  \"values\": [<br>    0.9273322513084837,<br>    0.0050888171639452695<br>  ],<br>  \"params\": {<br>    \"scalers\": \"robust\",<br>    \"knn_n_neighbors\": 78,<br>    \"knn_p\": 1,<br>    \"knn_weights\": \"distance\"<br>  }<br>}",
          "{<br>  \"number\": 270,<br>  \"values\": [<br>    0.9266641980175157,<br>    0.007200141414638781<br>  ],<br>  \"params\": {<br>    \"scalers\": \"robust\",<br>    \"knn_n_neighbors\": 57,<br>    \"knn_p\": 10,<br>    \"knn_weights\": \"uniform\"<br>  }<br>}",
          "{<br>  \"number\": 271,<br>  \"values\": [<br>    0.9278643049259506,<br>    0.006842131792910491<br>  ],<br>  \"params\": {<br>    \"scalers\": \"standard\",<br>    \"knn_n_neighbors\": 54,<br>    \"knn_p\": 10,<br>    \"knn_weights\": \"uniform\"<br>  }<br>}",
          "{<br>  \"number\": 272,<br>  \"values\": [<br>    0.928264838273618,<br>    0.005453284913895292<br>  ],<br>  \"params\": {<br>    \"scalers\": \"standard\",<br>    \"knn_n_neighbors\": 51,<br>    \"knn_p\": 9,<br>    \"knn_weights\": \"distance\"<br>  }<br>}",
          "{<br>  \"number\": 273,<br>  \"values\": [<br>    0.9270651046488247,<br>    0.0038748445444638374<br>  ],<br>  \"params\": {<br>    \"scalers\": \"normalizer\",<br>    \"knn_n_neighbors\": 30,<br>    \"knn_p\": 7,<br>    \"knn_weights\": \"distance\"<br>  }<br>}",
          "{<br>  \"number\": 274,<br>  \"values\": [<br>    0.9281318248692514,<br>    0.005109174285859579<br>  ],<br>  \"params\": {<br>    \"scalers\": \"standard\",<br>    \"knn_n_neighbors\": 54,<br>    \"knn_p\": 5,<br>    \"knn_weights\": \"distance\"<br>  }<br>}",
          "{<br>  \"number\": 275,<br>  \"values\": [<br>    0.9270649802209442,<br>    0.004690292053752998<br>  ],<br>  \"params\": {<br>    \"scalers\": \"normalizer\",<br>    \"knn_n_neighbors\": 27,<br>    \"knn_p\": 9,<br>    \"knn_weights\": \"distance\"<br>  }<br>}",
          "{<br>  \"number\": 276,<br>  \"values\": [<br>    0.927465389140731,<br>    0.0036126126304280967<br>  ],<br>  \"params\": {<br>    \"scalers\": \"normalizer\",<br>    \"knn_n_neighbors\": 30,<br>    \"knn_p\": 5,<br>    \"knn_weights\": \"distance\"<br>  }<br>}",
          "{<br>  \"number\": 278,<br>  \"values\": [<br>    0.927865424776876,<br>    0.003973667281893637<br>  ],<br>  \"params\": {<br>    \"scalers\": \"standard\",<br>    \"knn_n_neighbors\": 20,<br>    \"knn_p\": 4,<br>    \"knn_weights\": \"distance\"<br>  }<br>}",
          "{<br>  \"number\": 279,<br>  \"values\": [<br>    0.9266654422963215,<br>    0.00447781136402489<br>  ],<br>  \"params\": {<br>    \"scalers\": \"standard\",<br>    \"knn_n_neighbors\": 27,<br>    \"knn_p\": 5,<br>    \"knn_weights\": \"distance\"<br>  }<br>}",
          "{<br>  \"number\": 280,<br>  \"values\": [<br>    0.927064731365183,<br>    0.005744197692419556<br>  ],<br>  \"params\": {<br>    \"scalers\": \"minmax\",<br>    \"knn_n_neighbors\": 20,<br>    \"knn_p\": 9,<br>    \"knn_weights\": \"distance\"<br>  }<br>}",
          "{<br>  \"number\": 282,<br>  \"values\": [<br>    0.9279983137533622,<br>    0.0052420746609582155<br>  ],<br>  \"params\": {<br>    \"scalers\": \"standard\",<br>    \"knn_n_neighbors\": 54,<br>    \"knn_p\": 6,<br>    \"knn_weights\": \"distance\"<br>  }<br>}",
          "{<br>  \"number\": 283,<br>  \"values\": [<br>    0.9274653891407311,<br>    0.0035084583021040305<br>  ],<br>  \"params\": {<br>    \"scalers\": \"standard\",<br>    \"knn_n_neighbors\": 20,<br>    \"knn_p\": 9,<br>    \"knn_weights\": \"distance\"<br>  }<br>}",
          "{<br>  \"number\": 284,<br>  \"values\": [<br>    0.9281317004413706,<br>    0.0052543703732064045<br>  ],<br>  \"params\": {<br>    \"scalers\": \"standard\",<br>    \"knn_n_neighbors\": 33,<br>    \"knn_p\": 9,<br>    \"knn_weights\": \"distance\"<br>  }<br>}",
          "{<br>  \"number\": 285,<br>  \"values\": [<br>    0.924932286347375,<br>    0.003975158799871752<br>  ],<br>  \"params\": {<br>    \"scalers\": \"normalizer\",<br>    \"knn_n_neighbors\": 30,<br>    \"knn_p\": 1,<br>    \"knn_weights\": \"uniform\"<br>  }<br>}",
          "{<br>  \"number\": 286,<br>  \"values\": [<br>    0.9266644468732768,<br>    0.005799825013781302<br>  ],<br>  \"params\": {<br>    \"scalers\": \"normalizer\",<br>    \"knn_n_neighbors\": 57,<br>    \"knn_p\": 7,<br>    \"knn_weights\": \"uniform\"<br>  }<br>}",
          "{<br>  \"number\": 287,<br>  \"values\": [<br>    0.9281309538740871,<br>    0.0063952523177087306<br>  ],<br>  \"params\": {<br>    \"scalers\": \"normalizer\",<br>    \"knn_n_neighbors\": 64,<br>    \"knn_p\": 9,<br>    \"knn_weights\": \"distance\"<br>  }<br>}",
          "{<br>  \"number\": 288,<br>  \"values\": [<br>    0.927998064897601,<br>    0.006359956432488485<br>  ],<br>  \"params\": {<br>    \"scalers\": \"robust\",<br>    \"knn_n_neighbors\": 54,<br>    \"knn_p\": 9,<br>    \"knn_weights\": \"distance\"<br>  }<br>}",
          "{<br>  \"number\": 289,<br>  \"values\": [<br>    0.9271984913368333,<br>    0.005299332500800837<br>  ],<br>  \"params\": {<br>    \"scalers\": \"standard\",<br>    \"knn_n_neighbors\": 30,<br>    \"knn_p\": 10,<br>    \"knn_weights\": \"distance\"<br>  }<br>}",
          "{<br>  \"number\": 291,<br>  \"values\": [<br>    0.9267982068449271,<br>    0.004703761565782963<br>  ],<br>  \"params\": {<br>    \"scalers\": \"robust\",<br>    \"knn_n_neighbors\": 27,<br>    \"knn_p\": 4,<br>    \"knn_weights\": \"distance\"<br>  }<br>}",
          "{<br>  \"number\": 292,<br>  \"values\": [<br>    0.9263981712087821,<br>    0.005361096689212553<br>  ],<br>  \"params\": {<br>    \"scalers\": \"standard\",<br>    \"knn_n_neighbors\": 91,<br>    \"knn_p\": 5,<br>    \"knn_weights\": \"uniform\"<br>  }<br>}",
          "{<br>  \"number\": 293,<br>  \"values\": [<br>    0.9273312558854389,<br>    0.005999312923058821<br>  ],<br>  \"params\": {<br>    \"scalers\": \"normalizer\",<br>    \"knn_n_neighbors\": 95,<br>    \"knn_p\": 4,<br>    \"knn_weights\": \"distance\"<br>  }<br>}",
          "{<br>  \"number\": 294,<br>  \"values\": [<br>    0.927598651400859,<br>    0.004338484041301456<br>  ],<br>  \"params\": {<br>    \"scalers\": \"standard\",<br>    \"knn_n_neighbors\": 32,<br>    \"knn_p\": 2,<br>    \"knn_weights\": \"distance\"<br>  }<br>}",
          "{<br>  \"number\": 295,<br>  \"values\": [<br>    0.9286646250540018,<br>    0.005732398128540011<br>  ],<br>  \"params\": {<br>    \"scalers\": \"standard\",<br>    \"knn_n_neighbors\": 54,<br>    \"knn_p\": 9,<br>    \"knn_weights\": \"distance\"<br>  }<br>}",
          "{<br>  \"number\": 296,<br>  \"values\": [<br>    0.928398100533746,<br>    0.0059407131150828706<br>  ],<br>  \"params\": {<br>    \"scalers\": \"standard\",<br>    \"knn_n_neighbors\": 57,<br>    \"knn_p\": 7,<br>    \"knn_weights\": \"uniform\"<br>  }<br>}",
          "{<br>  \"number\": 297,<br>  \"values\": [<br>    0.9278643049259506,<br>    0.006370581840309012<br>  ],<br>  \"params\": {<br>    \"scalers\": \"minmax\",<br>    \"knn_n_neighbors\": 78,<br>    \"knn_p\": 9,<br>    \"knn_weights\": \"distance\"<br>  }<br>}",
          "{<br>  \"number\": 298,<br>  \"values\": [<br>    0.926797957989166,<br>    0.006191296769401258<br>  ],<br>  \"params\": {<br>    \"scalers\": \"normalizer\",<br>    \"knn_n_neighbors\": 94,<br>    \"knn_p\": 4,<br>    \"knn_weights\": \"distance\"<br>  }<br>}",
          "{<br>  \"number\": 299,<br>  \"values\": [<br>    0.9281312027298483,<br>    0.0057150412742063336<br>  ],<br>  \"params\": {<br>    \"scalers\": \"standard\",<br>    \"knn_n_neighbors\": 57,<br>    \"knn_p\": 10,<br>    \"knn_weights\": \"distance\"<br>  }<br>}"
         ],
         "type": "scatter",
         "x": [
          0.9238648195596648,
          0.926397922353021,
          0.927998064897601,
          0.8983972942410795,
          0.925331948699878,
          0.9278649270653536,
          0.9257319843360231,
          0.9262649089486541,
          0.925465210960006,
          0.9233316460912724,
          0.9278645537817117,
          0.9270646069373024,
          0.9261316466885262,
          0.927998064897601,
          0.9273316291690807,
          0.9222652991544876,
          0.9253314509883557,
          0.9269317179608162,
          0.9281312027298483,
          0.9274651402849698,
          0.9271983669089527,
          0.9230651215710165,
          0.9269310958214133,
          0.927464767001328,
          0.928398100533746,
          0.9253318242719973,
          0.9269314691050551,
          0.9242660994746158,
          0.9277320380888675,
          0.9259977622889953,
          0.9255985976480146,
          0.9241322150750849,
          0.9251980643003471,
          0.9270654779324666,
          0.9247984019478439,
          0.9247985263757246,
          0.926797957989166,
          0.9265319311804324,
          0.9253315754162363,
          0.9237329260062236,
          0.9238649439875453,
          0.9257314866245007,
          0.926798580128569,
          0.9247984019478439,
          0.9270651046488247,
          0.9265308113295071,
          0.9242652284794515,
          0.9273311314575583,
          0.9242646063400485,
          0.9259977622889953,
          0.9254653353878866,
          0.9278649270653536,
          0.9278649270653536,
          0.926664695729038,
          0.9263981712087821,
          0.9278646782095924,
          0.9278649270653536,
          0.9278645537817117,
          0.9274648914292085,
          0.9258652465961509,
          0.9271978691974303,
          0.9261311489770039,
          0.9285312383659933,
          0.9271977447695497,
          0.9245322507112299,
          0.9257314866245007,
          0.9230652459988972,
          0.9238651928433066,
          0.9265314334689101,
          0.9267983312728078,
          0.9277317892331063,
          0.9262642868092511,
          0.9269310958214133,
          0.9282647138457374,
          0.9283977272501042,
          0.9231985082590252,
          0.9269315935329356,
          0.9283982249616266,
          0.9262649089486541,
          0.9249316642079718,
          0.928264838273618,
          0.9269313446771745,
          0.9273322513084837,
          0.9255983487922533,
          0.9281309538740871,
          0.9263982956366628,
          0.9253314509883557,
          0.9259988821399208,
          0.9277316648052257,
          0.926798580128569,
          0.9243974953165346,
          0.9263991666318271,
          0.9242660994746158,
          0.9274645181455669,
          0.9191985251812168,
          0.9262644112371319,
          0.9257314866245007,
          0.927998064897601,
          0.9267983312728078,
          0.9273316291690807,
          0.9274652647128504,
          0.9278646782095924,
          0.9263976734972597,
          0.9247985263757246,
          0.9147991286066667,
          0.9241314685078013,
          0.926131397832765,
          0.9275981536893365,
          0.9229324814502916,
          0.928264216134215,
          0.9275984025450977,
          0.9251984375839888,
          0.9245315041439462,
          0.927731291521584,
          0.9273322513084837,
          0.9237320550110593,
          0.9265319311804324,
          0.9279985626091234,
          0.927465389140731,
          0.9271989890483557,
          0.9267987045564495,
          0.9230664902777033,
          0.9283984738173877,
          0.9267983312728078,
          0.9245313797160657,
          0.9269314691050551,
          0.9270648557930636,
          0.927598029261456,
          0.9251986864397502,
          0.9274653891407311,
          0.9274648914292085,
          0.9275984025450977,
          0.9278651759211148,
          0.9262647845207735,
          0.9262650333765349,
          0.9257326064754262,
          0.9279978160418397,
          0.9278649270653536,
          0.928398100533746,
          0.927998064897601,
          0.9269310958214133,
          0.925331948699878,
          0.9273316291690807,
          0.9263980467809015,
          0.9229312371714855,
          0.9263986689203045,
          0.9270652290767055,
          0.9253315754162362,
          0.9278640560701893,
          0.9270649802209442,
          0.9261311489770039,
          0.9273316291690807,
          0.9271988646204752,
          0.9273312558854389,
          0.927998064897601,
          0.9233315216633917,
          0.9269315935329356,
          0.9273316291690807,
          0.9286646250540018,
          0.9285311139381127,
          0.9274652647128505,
          0.9281313271577288,
          0.9263986689203045,
          0.9282649627014986,
          0.926131397832765,
          0.9274648914292085,
          0.9281310783019677,
          0.9262641623813705,
          0.9273316291690807,
          0.9279983137533622,
          0.927865424776876,
          0.9239985795313151,
          0.9270651046488247,
          0.9279985626091234,
          0.925865868735554,
          0.927598651400859,
          0.9262650333765347,
          0.9274653891407311,
          0.9254644643927223,
          0.9278649270653536,
          0.9247981530920827,
          0.9283977272501042,
          0.9259982600005178,
          0.9279979404697203,
          0.927998064897601,
          0.9265308113295071,
          0.9266649445847992,
          0.9281317004413706,
          0.9265314334689101,
          0.9253323219835199,
          0.927064731365183,
          0.9261312734048844,
          0.9241320906472043,
          0.9286646250540018,
          0.9250650508959805,
          0.9281317004413706,
          0.9279985626091234,
          0.9277319136609868,
          0.9270649802209442,
          0.9270651046488247,
          0.9277316648052257,
          0.9265319311804324,
          0.9286651227655243,
          0.9282649627014986,
          0.9259983844283982,
          0.9258649977403898,
          0.9255987220758951,
          0.9145321063748882,
          0.9279984381812428,
          0.9274653891407311,
          0.9281317004413706,
          0.9270653535045861,
          0.928264838273618,
          0.927064731365183,
          0.9278653003489954,
          0.9273322513084837,
          0.9279979404697203,
          0.9270652290767055,
          0.9246645175483128,
          0.9281318248692514,
          0.9274650158570893,
          0.9269313446771744,
          0.9266654422963218,
          0.927465389140731,
          0.9274655135686116,
          0.9273310070296776,
          0.9274653891407311,
          0.9233317705191529,
          0.926397922353021,
          0.9265319311804324,
          0.9278651759211148,
          0.9273322513084837,
          0.9282645894178568,
          0.9261316466885263,
          0.9286646250540018,
          0.927064731365183,
          0.9258653710240317,
          0.9265315578967908,
          0.9269315935329356,
          0.9273316291690807,
          0.9274653891407311,
          0.9253323219835199,
          0.9266644468732768,
          0.9279988114648846,
          0.927464767001328,
          0.9266654422963215,
          0.9274645181455669,
          0.9281313271577288,
          0.9259982600005177,
          0.9275981536893365,
          0.9278650514932342,
          0.9265326777477162,
          0.9281317004413706,
          0.9278651759211148,
          0.9282645894178568,
          0.9270649802209442,
          0.9263982956366628,
          0.927465389140731,
          0.9274653891407311,
          0.9253318242719974,
          0.9274653891407311,
          0.9273322513084837,
          0.9266641980175157,
          0.9278643049259506,
          0.928264838273618,
          0.9270651046488247,
          0.9281318248692514,
          0.9270649802209442,
          0.927465389140731,
          0.927865424776876,
          0.9266654422963215,
          0.927064731365183,
          0.9279983137533622,
          0.9274653891407311,
          0.9281317004413706,
          0.924932286347375,
          0.9266644468732768,
          0.9281309538740871,
          0.927998064897601,
          0.9271984913368333,
          0.9267982068449271,
          0.9263981712087821,
          0.9273312558854389,
          0.927598651400859,
          0.9286646250540018,
          0.928398100533746,
          0.9278643049259506,
          0.926797957989166,
          0.9281312027298483
         ],
         "y": [
          0.005687591309562411,
          0.006143606022259835,
          0.005914057379820871,
          0.007945843722841711,
          0.00483238412841431,
          0.005458555501582399,
          0.0038854511739917948,
          0.006252253308488238,
          0.004714433553055131,
          0.005676377266843285,
          0.005730332058276834,
          0.0068341839358954885,
          0.005609161335846917,
          0.005385622278011586,
          0.004769724934810608,
          0.004901690794655387,
          0.004762050758245893,
          0.0055918531033203175,
          0.006113916219609878,
          0.005433033822633382,
          0.004624963932205643,
          0.005391121938393119,
          0.005753714449817033,
          0.005792729655551564,
          0.0059407131150828706,
          0.004259477433259938,
          0.005617708540174756,
          0.0055048106750609505,
          0.006183493108578618,
          0.005924429064967674,
          0.005150549684150378,
          0.0051206570006075295,
          0.006121114130009743,
          0.005375229054161186,
          0.005769533982920697,
          0.004165774996106922,
          0.006070319181636652,
          0.003816977223137141,
          0.005039809488530996,
          0.004757420816178352,
          0.005324292527003096,
          0.005348843230587915,
          0.005030090568173901,
          0.004108385082196605,
          0.0054498499794390755,
          0.007111620714597221,
          0.004241512559839634,
          0.006304589600565193,
          0.0059371148039230855,
          0.006749718717587885,
          0.0051901244352079556,
          0.005458555501582399,
          0.005458555501582399,
          0.005965896919375501,
          0.005566292777670635,
          0.004728609102229588,
          0.005458555501582399,
          0.00496139134255149,
          0.005006965333593964,
          0.004931502955774304,
          0.005779789823952992,
          0.005747214200349604,
          0.0066198007444721015,
          0.006433111007327451,
          0.006466736192914699,
          0.005348843230587915,
          0.005005771895923018,
          0.00568182532989472,
          0.005920310408766247,
          0.005156303031365725,
          0.0051056983841474635,
          0.007062738483326835,
          0.006290240184704632,
          0.0056995863610653,
          0.006170416564767911,
          0.006592175215528134,
          0.005319634193953,
          0.004906453680937138,
          0.006252253308488238,
          0.004754523516424991,
          0.005655219087494146,
          0.005439223564700645,
          0.0035642873468080356,
          0.004980426507975065,
          0.0061175236436683145,
          0.006299525137070461,
          0.004762050758245893,
          0.004444457781902283,
          0.005346098348290507,
          0.0053430191068380255,
          0.005742466870087461,
          0.005182259677557087,
          0.0055048106750609505,
          0.005817036512012499,
          0.007327133809688815,
          0.006827167980505417,
          0.005348843230587915,
          0.006242248401281308,
          0.006004012366288037,
          0.004769724934810608,
          0.004927212088656737,
          0.004728609102229588,
          0.006632966437889119,
          0.0045924864845662185,
          0.004945327873162726,
          0.005878420207689793,
          0.005914314698819602,
          0.006108395032432815,
          0.005888944336171775,
          0.007190887195528145,
          0.004700153430169825,
          0.005650861162539407,
          0.00595631973277258,
          0.005945623196044867,
          0.0035642873468080356,
          0.006645705683338805,
          0.004901805398602873,
          0.004469101049292179,
          0.004157188539184194,
          0.004953547704785433,
          0.004722394522530304,
          0.00511011677777282,
          0.005052728215971491,
          0.005156303031365725,
          0.005787431318000739,
          0.005436517753907961,
          0.004950887311375875,
          0.006027701842632046,
          0.005780187942087408,
          0.0035084583021040305,
          0.005006965333593964,
          0.005835078106117005,
          0.005222625716932729,
          0.005445005207876953,
          0.004861120001372636,
          0.003640911975713814,
          0.006362397154568819,
          0.005458555501582399,
          0.0059407131150828706,
          0.005634425847928473,
          0.00650506851570325,
          0.00483238412841431,
          0.004769724934810608,
          0.006302589424696764,
          0.006750575230095225,
          0.00455041873104516,
          0.004091591083220889,
          0.004204680900485835,
          0.006678063158805679,
          0.005674653994084752,
          0.00634361766140471,
          0.004769724934810608,
          0.005029217284967035,
          0.005788555722450867,
          0.005385622278011586,
          0.0057209603197879155,
          0.005225990908644868,
          0.004717410064245898,
          0.005732398128540011,
          0.00625350877016053,
          0.0043062990744265365,
          0.00544568219222221,
          0.00455041873104516,
          0.004743402295438759,
          0.004799378774023138,
          0.005006965333593964,
          0.006012475172927377,
          0.006436541772500042,
          0.004974231690421903,
          0.005630184791517699,
          0.0037135372911305284,
          0.006724692118149782,
          0.0038748445444638374,
          0.004469101049292179,
          0.0041840879990738015,
          0.004041577610371445,
          0.005665230686643883,
          0.0035084583021040305,
          0.006519183639899334,
          0.004956775428905776,
          0.006087943650436708,
          0.006170416564767911,
          0.005080851763444672,
          0.005915428752151958,
          0.006340123871367873,
          0.007215256295365205,
          0.0045957007516188985,
          0.0052543703732064045,
          0.005640288891717168,
          0.007065215921923862,
          0.005362957122482079,
          0.006163299148151202,
          0.005565820063359591,
          0.005732398128540011,
          0.005788995108859492,
          0.0052543703732064045,
          0.004469101049292179,
          0.006144052954967777,
          0.005518841963308985,
          0.0038748445444638374,
          0.005346098348290507,
          0.003816977223137141,
          0.005481172516274212,
          0.005382777948662702,
          0.0055468569062097125,
          0.005438289079789176,
          0.0035084760505386795,
          0.005637849994524885,
          0.0046351924619657085,
          0.00477101872558499,
          0.0052543703732064045,
          0.004088898210321472,
          0.004639044180330477,
          0.005744197692419556,
          0.004335245059220247,
          0.0035642873468080356,
          0.005936836736866189,
          0.00492070083202754,
          0.006129589534976263,
          0.005109174285859579,
          0.0038857319247258566,
          0.006208939667143135,
          0.003254670193407402,
          0.0036126126304280967,
          0.005120756853687135,
          0.0062658296301017664,
          0.004004884324436384,
          0.004716853951219985,
          0.005569843869294164,
          0.004449111330751516,
          0.004668307375287688,
          0.0035642873468080356,
          0.005788381306607457,
          0.005520221137950971,
          0.005732398128540011,
          0.005744197692419556,
          0.005317602647950096,
          0.005249779097191729,
          0.005225990908644868,
          0.004215546947027101,
          0.0035084583021040305,
          0.007065215921923862,
          0.005799825013781302,
          0.00596700093223728,
          0.005528544241333933,
          0.00447781136402489,
          0.0061091649148055744,
          0.00511535212527876,
          0.004369811141621888,
          0.0049868594719693375,
          0.004222273013031433,
          0.0034958871197003495,
          0.0052543703732064045,
          0.004668307375287688,
          0.005077758013655199,
          0.0046375819463250825,
          0.0053125052428173785,
          0.004157188539184194,
          0.0035084583021040305,
          0.004911009201168289,
          0.004004884324436384,
          0.0050888171639452695,
          0.007200141414638781,
          0.006842131792910491,
          0.005453284913895292,
          0.0038748445444638374,
          0.005109174285859579,
          0.004690292053752998,
          0.0036126126304280967,
          0.003973667281893637,
          0.00447781136402489,
          0.005744197692419556,
          0.0052420746609582155,
          0.0035084583021040305,
          0.0052543703732064045,
          0.003975158799871752,
          0.005799825013781302,
          0.0063952523177087306,
          0.006359956432488485,
          0.005299332500800837,
          0.004703761565782963,
          0.005361096689212553,
          0.005999312923058821,
          0.004338484041301456,
          0.005732398128540011,
          0.0059407131150828706,
          0.006370581840309012,
          0.006191296769401258,
          0.0057150412742063336
         ]
        },
        {
         "hovertemplate": "%{text}<extra>Best Trial</extra>",
         "marker": {
          "color": [
           156,
           160,
           166,
           169,
           239,
           248,
           261,
           262,
           277,
           281,
           290
          ],
          "colorbar": {
           "title": {
            "text": "Best Trial"
           },
           "x": 1.1,
           "xpad": 40
          },
          "colorscale": [
           [
            0,
            "rgb(255,245,240)"
           ],
           [
            0.125,
            "rgb(254,224,210)"
           ],
           [
            0.25,
            "rgb(252,187,161)"
           ],
           [
            0.375,
            "rgb(252,146,114)"
           ],
           [
            0.5,
            "rgb(251,106,74)"
           ],
           [
            0.625,
            "rgb(239,59,44)"
           ],
           [
            0.75,
            "rgb(203,24,29)"
           ],
           [
            0.875,
            "rgb(165,15,21)"
           ],
           [
            1,
            "rgb(103,0,13)"
           ]
          ],
          "line": {
           "color": "Grey",
           "width": 0.5
          }
         },
         "mode": "markers",
         "showlegend": false,
         "text": [
          "{<br>  \"number\": 156,<br>  \"values\": [<br>    0.9267988289843301,<br>    0.003096989866762657<br>  ],<br>  \"params\": {<br>    \"scalers\": \"normalizer\",<br>    \"knn_n_neighbors\": 30,<br>    \"knn_p\": 4,<br>    \"knn_weights\": \"distance\"<br>  }<br>}",
          "{<br>  \"number\": 160,<br>  \"values\": [<br>    0.9278653003489954,<br>    0.003438073134261476<br>  ],<br>  \"params\": {<br>    \"scalers\": \"robust\",<br>    \"knn_n_neighbors\": 95,<br>    \"knn_p\": 5,<br>    \"knn_weights\": \"distance\"<br>  }<br>}",
          "{<br>  \"number\": 166,<br>  \"values\": [<br>    0.9267988289843301,<br>    0.003096989866762657<br>  ],<br>  \"params\": {<br>    \"scalers\": \"normalizer\",<br>    \"knn_n_neighbors\": 30,<br>    \"knn_p\": 4,<br>    \"knn_weights\": \"distance\"<br>  }<br>}",
          "{<br>  \"number\": 169,<br>  \"values\": [<br>    0.9289320205694219,<br>    0.004867290092514432<br>  ],<br>  \"params\": {<br>    \"scalers\": \"minmax\",<br>    \"knn_n_neighbors\": 78,<br>    \"knn_p\": 1,<br>    \"knn_weights\": \"distance\"<br>  }<br>}",
          "{<br>  \"number\": 239,<br>  \"values\": [<br>    0.9266656911520829,<br>    0.002927340093015144<br>  ],<br>  \"params\": {<br>    \"scalers\": \"robust\",<br>    \"knn_n_neighbors\": 20,<br>    \"knn_p\": 9,<br>    \"knn_weights\": \"distance\"<br>  }<br>}",
          "{<br>  \"number\": 248,<br>  \"values\": [<br>    0.9279989358927653,<br>    0.004320978899016278<br>  ],<br>  \"params\": {<br>    \"scalers\": \"standard\",<br>    \"knn_n_neighbors\": 91,<br>    \"knn_p\": 2,<br>    \"knn_weights\": \"distance\"<br>  }<br>}",
          "{<br>  \"number\": 261,<br>  \"values\": [<br>    0.927865424776876,<br>    0.0036122941259940267<br>  ],<br>  \"params\": {<br>    \"scalers\": \"robust\",<br>    \"knn_n_neighbors\": 75,<br>    \"knn_p\": 5,<br>    \"knn_weights\": \"distance\"<br>  }<br>}",
          "{<br>  \"number\": 262,<br>  \"values\": [<br>    0.928398722673149,<br>    0.004584287254471589<br>  ],<br>  \"params\": {<br>    \"scalers\": \"standard\",<br>    \"knn_n_neighbors\": 75,<br>    \"knn_p\": 3,<br>    \"knn_weights\": \"distance\"<br>  }<br>}",
          "{<br>  \"number\": 277,<br>  \"values\": [<br>    0.9266656911520829,<br>    0.002927340093015144<br>  ],<br>  \"params\": {<br>    \"scalers\": \"robust\",<br>    \"knn_n_neighbors\": 20,<br>    \"knn_p\": 9,<br>    \"knn_weights\": \"distance\"<br>  }<br>}",
          "{<br>  \"number\": 281,<br>  \"values\": [<br>    0.9267988289843301,<br>    0.003096989866762657<br>  ],<br>  \"params\": {<br>    \"scalers\": \"normalizer\",<br>    \"knn_n_neighbors\": 30,<br>    \"knn_p\": 4,<br>    \"knn_weights\": \"distance\"<br>  }<br>}",
          "{<br>  \"number\": 290,<br>  \"values\": [<br>    0.9267988289843301,<br>    0.003096989866762657<br>  ],<br>  \"params\": {<br>    \"scalers\": \"normalizer\",<br>    \"knn_n_neighbors\": 30,<br>    \"knn_p\": 4,<br>    \"knn_weights\": \"distance\"<br>  }<br>}"
         ],
         "type": "scatter",
         "x": [
          0.9267988289843301,
          0.9278653003489954,
          0.9267988289843301,
          0.9289320205694219,
          0.9266656911520829,
          0.9279989358927653,
          0.927865424776876,
          0.928398722673149,
          0.9266656911520829,
          0.9267988289843301,
          0.9267988289843301
         ],
         "y": [
          0.003096989866762657,
          0.003438073134261476,
          0.003096989866762657,
          0.004867290092514432,
          0.002927340093015144,
          0.004320978899016278,
          0.0036122941259940267,
          0.004584287254471589,
          0.002927340093015144,
          0.003096989866762657,
          0.003096989866762657
         ]
        }
       ],
       "layout": {
        "template": {
         "data": {
          "bar": [
           {
            "error_x": {
             "color": "#2a3f5f"
            },
            "error_y": {
             "color": "#2a3f5f"
            },
            "marker": {
             "line": {
              "color": "#E5ECF6",
              "width": 0.5
             },
             "pattern": {
              "fillmode": "overlay",
              "size": 10,
              "solidity": 0.2
             }
            },
            "type": "bar"
           }
          ],
          "barpolar": [
           {
            "marker": {
             "line": {
              "color": "#E5ECF6",
              "width": 0.5
             },
             "pattern": {
              "fillmode": "overlay",
              "size": 10,
              "solidity": 0.2
             }
            },
            "type": "barpolar"
           }
          ],
          "carpet": [
           {
            "aaxis": {
             "endlinecolor": "#2a3f5f",
             "gridcolor": "white",
             "linecolor": "white",
             "minorgridcolor": "white",
             "startlinecolor": "#2a3f5f"
            },
            "baxis": {
             "endlinecolor": "#2a3f5f",
             "gridcolor": "white",
             "linecolor": "white",
             "minorgridcolor": "white",
             "startlinecolor": "#2a3f5f"
            },
            "type": "carpet"
           }
          ],
          "choropleth": [
           {
            "colorbar": {
             "outlinewidth": 0,
             "ticks": ""
            },
            "type": "choropleth"
           }
          ],
          "contour": [
           {
            "colorbar": {
             "outlinewidth": 0,
             "ticks": ""
            },
            "colorscale": [
             [
              0,
              "#0d0887"
             ],
             [
              0.1111111111111111,
              "#46039f"
             ],
             [
              0.2222222222222222,
              "#7201a8"
             ],
             [
              0.3333333333333333,
              "#9c179e"
             ],
             [
              0.4444444444444444,
              "#bd3786"
             ],
             [
              0.5555555555555556,
              "#d8576b"
             ],
             [
              0.6666666666666666,
              "#ed7953"
             ],
             [
              0.7777777777777778,
              "#fb9f3a"
             ],
             [
              0.8888888888888888,
              "#fdca26"
             ],
             [
              1,
              "#f0f921"
             ]
            ],
            "type": "contour"
           }
          ],
          "contourcarpet": [
           {
            "colorbar": {
             "outlinewidth": 0,
             "ticks": ""
            },
            "type": "contourcarpet"
           }
          ],
          "heatmap": [
           {
            "colorbar": {
             "outlinewidth": 0,
             "ticks": ""
            },
            "colorscale": [
             [
              0,
              "#0d0887"
             ],
             [
              0.1111111111111111,
              "#46039f"
             ],
             [
              0.2222222222222222,
              "#7201a8"
             ],
             [
              0.3333333333333333,
              "#9c179e"
             ],
             [
              0.4444444444444444,
              "#bd3786"
             ],
             [
              0.5555555555555556,
              "#d8576b"
             ],
             [
              0.6666666666666666,
              "#ed7953"
             ],
             [
              0.7777777777777778,
              "#fb9f3a"
             ],
             [
              0.8888888888888888,
              "#fdca26"
             ],
             [
              1,
              "#f0f921"
             ]
            ],
            "type": "heatmap"
           }
          ],
          "heatmapgl": [
           {
            "colorbar": {
             "outlinewidth": 0,
             "ticks": ""
            },
            "colorscale": [
             [
              0,
              "#0d0887"
             ],
             [
              0.1111111111111111,
              "#46039f"
             ],
             [
              0.2222222222222222,
              "#7201a8"
             ],
             [
              0.3333333333333333,
              "#9c179e"
             ],
             [
              0.4444444444444444,
              "#bd3786"
             ],
             [
              0.5555555555555556,
              "#d8576b"
             ],
             [
              0.6666666666666666,
              "#ed7953"
             ],
             [
              0.7777777777777778,
              "#fb9f3a"
             ],
             [
              0.8888888888888888,
              "#fdca26"
             ],
             [
              1,
              "#f0f921"
             ]
            ],
            "type": "heatmapgl"
           }
          ],
          "histogram": [
           {
            "marker": {
             "pattern": {
              "fillmode": "overlay",
              "size": 10,
              "solidity": 0.2
             }
            },
            "type": "histogram"
           }
          ],
          "histogram2d": [
           {
            "colorbar": {
             "outlinewidth": 0,
             "ticks": ""
            },
            "colorscale": [
             [
              0,
              "#0d0887"
             ],
             [
              0.1111111111111111,
              "#46039f"
             ],
             [
              0.2222222222222222,
              "#7201a8"
             ],
             [
              0.3333333333333333,
              "#9c179e"
             ],
             [
              0.4444444444444444,
              "#bd3786"
             ],
             [
              0.5555555555555556,
              "#d8576b"
             ],
             [
              0.6666666666666666,
              "#ed7953"
             ],
             [
              0.7777777777777778,
              "#fb9f3a"
             ],
             [
              0.8888888888888888,
              "#fdca26"
             ],
             [
              1,
              "#f0f921"
             ]
            ],
            "type": "histogram2d"
           }
          ],
          "histogram2dcontour": [
           {
            "colorbar": {
             "outlinewidth": 0,
             "ticks": ""
            },
            "colorscale": [
             [
              0,
              "#0d0887"
             ],
             [
              0.1111111111111111,
              "#46039f"
             ],
             [
              0.2222222222222222,
              "#7201a8"
             ],
             [
              0.3333333333333333,
              "#9c179e"
             ],
             [
              0.4444444444444444,
              "#bd3786"
             ],
             [
              0.5555555555555556,
              "#d8576b"
             ],
             [
              0.6666666666666666,
              "#ed7953"
             ],
             [
              0.7777777777777778,
              "#fb9f3a"
             ],
             [
              0.8888888888888888,
              "#fdca26"
             ],
             [
              1,
              "#f0f921"
             ]
            ],
            "type": "histogram2dcontour"
           }
          ],
          "mesh3d": [
           {
            "colorbar": {
             "outlinewidth": 0,
             "ticks": ""
            },
            "type": "mesh3d"
           }
          ],
          "parcoords": [
           {
            "line": {
             "colorbar": {
              "outlinewidth": 0,
              "ticks": ""
             }
            },
            "type": "parcoords"
           }
          ],
          "pie": [
           {
            "automargin": true,
            "type": "pie"
           }
          ],
          "scatter": [
           {
            "fillpattern": {
             "fillmode": "overlay",
             "size": 10,
             "solidity": 0.2
            },
            "type": "scatter"
           }
          ],
          "scatter3d": [
           {
            "line": {
             "colorbar": {
              "outlinewidth": 0,
              "ticks": ""
             }
            },
            "marker": {
             "colorbar": {
              "outlinewidth": 0,
              "ticks": ""
             }
            },
            "type": "scatter3d"
           }
          ],
          "scattercarpet": [
           {
            "marker": {
             "colorbar": {
              "outlinewidth": 0,
              "ticks": ""
             }
            },
            "type": "scattercarpet"
           }
          ],
          "scattergeo": [
           {
            "marker": {
             "colorbar": {
              "outlinewidth": 0,
              "ticks": ""
             }
            },
            "type": "scattergeo"
           }
          ],
          "scattergl": [
           {
            "marker": {
             "colorbar": {
              "outlinewidth": 0,
              "ticks": ""
             }
            },
            "type": "scattergl"
           }
          ],
          "scattermapbox": [
           {
            "marker": {
             "colorbar": {
              "outlinewidth": 0,
              "ticks": ""
             }
            },
            "type": "scattermapbox"
           }
          ],
          "scatterpolar": [
           {
            "marker": {
             "colorbar": {
              "outlinewidth": 0,
              "ticks": ""
             }
            },
            "type": "scatterpolar"
           }
          ],
          "scatterpolargl": [
           {
            "marker": {
             "colorbar": {
              "outlinewidth": 0,
              "ticks": ""
             }
            },
            "type": "scatterpolargl"
           }
          ],
          "scatterternary": [
           {
            "marker": {
             "colorbar": {
              "outlinewidth": 0,
              "ticks": ""
             }
            },
            "type": "scatterternary"
           }
          ],
          "surface": [
           {
            "colorbar": {
             "outlinewidth": 0,
             "ticks": ""
            },
            "colorscale": [
             [
              0,
              "#0d0887"
             ],
             [
              0.1111111111111111,
              "#46039f"
             ],
             [
              0.2222222222222222,
              "#7201a8"
             ],
             [
              0.3333333333333333,
              "#9c179e"
             ],
             [
              0.4444444444444444,
              "#bd3786"
             ],
             [
              0.5555555555555556,
              "#d8576b"
             ],
             [
              0.6666666666666666,
              "#ed7953"
             ],
             [
              0.7777777777777778,
              "#fb9f3a"
             ],
             [
              0.8888888888888888,
              "#fdca26"
             ],
             [
              1,
              "#f0f921"
             ]
            ],
            "type": "surface"
           }
          ],
          "table": [
           {
            "cells": {
             "fill": {
              "color": "#EBF0F8"
             },
             "line": {
              "color": "white"
             }
            },
            "header": {
             "fill": {
              "color": "#C8D4E3"
             },
             "line": {
              "color": "white"
             }
            },
            "type": "table"
           }
          ]
         },
         "layout": {
          "annotationdefaults": {
           "arrowcolor": "#2a3f5f",
           "arrowhead": 0,
           "arrowwidth": 1
          },
          "autotypenumbers": "strict",
          "coloraxis": {
           "colorbar": {
            "outlinewidth": 0,
            "ticks": ""
           }
          },
          "colorscale": {
           "diverging": [
            [
             0,
             "#8e0152"
            ],
            [
             0.1,
             "#c51b7d"
            ],
            [
             0.2,
             "#de77ae"
            ],
            [
             0.3,
             "#f1b6da"
            ],
            [
             0.4,
             "#fde0ef"
            ],
            [
             0.5,
             "#f7f7f7"
            ],
            [
             0.6,
             "#e6f5d0"
            ],
            [
             0.7,
             "#b8e186"
            ],
            [
             0.8,
             "#7fbc41"
            ],
            [
             0.9,
             "#4d9221"
            ],
            [
             1,
             "#276419"
            ]
           ],
           "sequential": [
            [
             0,
             "#0d0887"
            ],
            [
             0.1111111111111111,
             "#46039f"
            ],
            [
             0.2222222222222222,
             "#7201a8"
            ],
            [
             0.3333333333333333,
             "#9c179e"
            ],
            [
             0.4444444444444444,
             "#bd3786"
            ],
            [
             0.5555555555555556,
             "#d8576b"
            ],
            [
             0.6666666666666666,
             "#ed7953"
            ],
            [
             0.7777777777777778,
             "#fb9f3a"
            ],
            [
             0.8888888888888888,
             "#fdca26"
            ],
            [
             1,
             "#f0f921"
            ]
           ],
           "sequentialminus": [
            [
             0,
             "#0d0887"
            ],
            [
             0.1111111111111111,
             "#46039f"
            ],
            [
             0.2222222222222222,
             "#7201a8"
            ],
            [
             0.3333333333333333,
             "#9c179e"
            ],
            [
             0.4444444444444444,
             "#bd3786"
            ],
            [
             0.5555555555555556,
             "#d8576b"
            ],
            [
             0.6666666666666666,
             "#ed7953"
            ],
            [
             0.7777777777777778,
             "#fb9f3a"
            ],
            [
             0.8888888888888888,
             "#fdca26"
            ],
            [
             1,
             "#f0f921"
            ]
           ]
          },
          "colorway": [
           "#636efa",
           "#EF553B",
           "#00cc96",
           "#ab63fa",
           "#FFA15A",
           "#19d3f3",
           "#FF6692",
           "#B6E880",
           "#FF97FF",
           "#FECB52"
          ],
          "font": {
           "color": "#2a3f5f"
          },
          "geo": {
           "bgcolor": "white",
           "lakecolor": "white",
           "landcolor": "#E5ECF6",
           "showlakes": true,
           "showland": true,
           "subunitcolor": "white"
          },
          "hoverlabel": {
           "align": "left"
          },
          "hovermode": "closest",
          "mapbox": {
           "style": "light"
          },
          "paper_bgcolor": "white",
          "plot_bgcolor": "#E5ECF6",
          "polar": {
           "angularaxis": {
            "gridcolor": "white",
            "linecolor": "white",
            "ticks": ""
           },
           "bgcolor": "#E5ECF6",
           "radialaxis": {
            "gridcolor": "white",
            "linecolor": "white",
            "ticks": ""
           }
          },
          "scene": {
           "xaxis": {
            "backgroundcolor": "#E5ECF6",
            "gridcolor": "white",
            "gridwidth": 2,
            "linecolor": "white",
            "showbackground": true,
            "ticks": "",
            "zerolinecolor": "white"
           },
           "yaxis": {
            "backgroundcolor": "#E5ECF6",
            "gridcolor": "white",
            "gridwidth": 2,
            "linecolor": "white",
            "showbackground": true,
            "ticks": "",
            "zerolinecolor": "white"
           },
           "zaxis": {
            "backgroundcolor": "#E5ECF6",
            "gridcolor": "white",
            "gridwidth": 2,
            "linecolor": "white",
            "showbackground": true,
            "ticks": "",
            "zerolinecolor": "white"
           }
          },
          "shapedefaults": {
           "line": {
            "color": "#2a3f5f"
           }
          },
          "ternary": {
           "aaxis": {
            "gridcolor": "white",
            "linecolor": "white",
            "ticks": ""
           },
           "baxis": {
            "gridcolor": "white",
            "linecolor": "white",
            "ticks": ""
           },
           "bgcolor": "#E5ECF6",
           "caxis": {
            "gridcolor": "white",
            "linecolor": "white",
            "ticks": ""
           }
          },
          "title": {
           "x": 0.05
          },
          "xaxis": {
           "automargin": true,
           "gridcolor": "white",
           "linecolor": "white",
           "ticks": "",
           "title": {
            "standoff": 15
           },
           "zerolinecolor": "white",
           "zerolinewidth": 2
          },
          "yaxis": {
           "automargin": true,
           "gridcolor": "white",
           "linecolor": "white",
           "ticks": "",
           "title": {
            "standoff": 15
           },
           "zerolinecolor": "white",
           "zerolinewidth": 2
          }
         }
        },
        "title": {
         "text": "Pareto-front Plot"
        },
        "xaxis": {
         "title": {
          "text": "mean"
         }
        },
        "yaxis": {
         "title": {
          "text": "std"
         }
        }
       }
      },
      "image/png": "[encoded data removed]",
      "text/html": [
       "<div>                            <div id=\"d7731ce9-a9b2-430f-8002-e61dcb67377e\" class=\"plotly-graph-div\" style=\"height:525px; width:100%;\"></div>            <script type=\"text/javascript\">                require([\"plotly\"], function(Plotly) {                    window.PLOTLYENV=window.PLOTLYENV || {};                                    if (document.getElementById(\"d7731ce9-a9b2-430f-8002-e61dcb67377e\")) {                    Plotly.newPlot(                        \"d7731ce9-a9b2-430f-8002-e61dcb67377e\",                        [{\"hovertemplate\":\"%{text}\\u003cextra\\u003eTrial\\u003c\\u002fextra\\u003e\",\"marker\":{\"color\":[0,1,2,3,4,5,6,7,8,9,10,11,12,13,14,15,16,17,18,19,20,21,22,23,24,25,26,27,28,29,30,31,32,33,34,35,36,37,38,39,40,41,42,43,44,45,46,47,48,49,50,51,52,53,54,55,56,57,58,59,60,61,62,63,64,65,66,67,68,69,70,71,72,73,74,75,76,77,78,79,80,81,82,83,84,85,86,87,88,89,90,91,92,93,94,95,96,97,98,99,100,101,102,103,104,105,106,107,108,109,110,111,112,113,114,115,116,117,118,119,120,121,122,123,124,125,126,127,128,129,130,131,132,133,134,135,136,137,138,139,140,141,142,143,144,145,146,147,148,149,150,151,152,153,154,155,157,158,159,161,162,163,164,165,167,168,170,171,172,173,174,175,176,177,178,179,180,181,182,183,184,185,186,187,188,189,190,191,192,193,194,195,196,197,198,199,200,201,202,203,204,205,206,207,208,209,210,211,212,213,214,215,216,217,218,219,220,221,222,223,224,225,226,227,228,229,230,231,232,233,234,235,236,237,238,240,241,242,243,244,245,246,247,249,250,251,252,253,254,255,256,257,258,259,260,263,264,265,266,267,268,269,270,271,272,273,274,275,276,278,279,280,282,283,284,285,286,287,288,289,291,292,293,294,295,296,297,298,299],\"colorbar\":{\"title\":{\"text\":\"Trial\"}},\"colorscale\":[[0.0,\"rgb(247,251,255)\"],[0.125,\"rgb(222,235,247)\"],[0.25,\"rgb(198,219,239)\"],[0.375,\"rgb(158,202,225)\"],[0.5,\"rgb(107,174,214)\"],[0.625,\"rgb(66,146,198)\"],[0.75,\"rgb(33,113,181)\"],[0.875,\"rgb(8,81,156)\"],[1.0,\"rgb(8,48,107)\"]],\"line\":{\"color\":\"Grey\",\"width\":0.5}},\"mode\":\"markers\",\"showlegend\":false,\"text\":[\"{\\u003cbr\\u003e  \\\"number\\\": 0,\\u003cbr\\u003e  \\\"values\\\": [\\u003cbr\\u003e    0.9238648195596648,\\u003cbr\\u003e    0.005687591309562411\\u003cbr\\u003e  ],\\u003cbr\\u003e  \\\"params\\\": {\\u003cbr\\u003e    \\\"scalers\\\": \\\"none\\\",\\u003cbr\\u003e    \\\"knn_n_neighbors\\\": 49,\\u003cbr\\u003e    \\\"knn_p\\\": 9,\\u003cbr\\u003e    \\\"knn_weights\\\": \\\"distance\\\"\\u003cbr\\u003e  }\\u003cbr\\u003e}\",\"{\\u003cbr\\u003e  \\\"number\\\": 1,\\u003cbr\\u003e  \\\"values\\\": [\\u003cbr\\u003e    0.926397922353021,\\u003cbr\\u003e    0.006143606022259835\\u003cbr\\u003e  ],\\u003cbr\\u003e  \\\"params\\\": {\\u003cbr\\u003e    \\\"scalers\\\": \\\"normalizer\\\",\\u003cbr\\u003e    \\\"knn_n_neighbors\\\": 98,\\u003cbr\\u003e    \\\"knn_p\\\": 9,\\u003cbr\\u003e    \\\"knn_weights\\\": \\\"uniform\\\"\\u003cbr\\u003e  }\\u003cbr\\u003e}\",\"{\\u003cbr\\u003e  \\\"number\\\": 2,\\u003cbr\\u003e  \\\"values\\\": [\\u003cbr\\u003e    0.927998064897601,\\u003cbr\\u003e    0.005914057379820871\\u003cbr\\u003e  ],\\u003cbr\\u003e  \\\"params\\\": {\\u003cbr\\u003e    \\\"scalers\\\": \\\"standard\\\",\\u003cbr\\u003e    \\\"knn_n_neighbors\\\": 78,\\u003cbr\\u003e    \\\"knn_p\\\": 4,\\u003cbr\\u003e    \\\"knn_weights\\\": \\\"distance\\\"\\u003cbr\\u003e  }\\u003cbr\\u003e}\",\"{\\u003cbr\\u003e  \\\"number\\\": 3,\\u003cbr\\u003e  \\\"values\\\": [\\u003cbr\\u003e    0.8983972942410795,\\u003cbr\\u003e    0.007945843722841711\\u003cbr\\u003e  ],\\u003cbr\\u003e  \\\"params\\\": {\\u003cbr\\u003e    \\\"scalers\\\": \\\"standard\\\",\\u003cbr\\u003e    \\\"knn_n_neighbors\\\": 1,\\u003cbr\\u003e    \\\"knn_p\\\": 8,\\u003cbr\\u003e    \\\"knn_weights\\\": \\\"uniform\\\"\\u003cbr\\u003e  }\\u003cbr\\u003e}\",\"{\\u003cbr\\u003e  \\\"number\\\": 4,\\u003cbr\\u003e  \\\"values\\\": [\\u003cbr\\u003e    0.925331948699878,\\u003cbr\\u003e    0.00483238412841431\\u003cbr\\u003e  ],\\u003cbr\\u003e  \\\"params\\\": {\\u003cbr\\u003e    \\\"scalers\\\": \\\"robust\\\",\\u003cbr\\u003e    \\\"knn_n_neighbors\\\": 30,\\u003cbr\\u003e    \\\"knn_p\\\": 5,\\u003cbr\\u003e    \\\"knn_weights\\\": \\\"uniform\\\"\\u003cbr\\u003e  }\\u003cbr\\u003e}\",\"{\\u003cbr\\u003e  \\\"number\\\": 5,\\u003cbr\\u003e  \\\"values\\\": [\\u003cbr\\u003e    0.9278649270653536,\\u003cbr\\u003e    0.005458555501582399\\u003cbr\\u003e  ],\\u003cbr\\u003e  \\\"params\\\": {\\u003cbr\\u003e    \\\"scalers\\\": \\\"robust\\\",\\u003cbr\\u003e    \\\"knn_n_neighbors\\\": 54,\\u003cbr\\u003e    \\\"knn_p\\\": 10,\\u003cbr\\u003e    \\\"knn_weights\\\": \\\"distance\\\"\\u003cbr\\u003e  }\\u003cbr\\u003e}\",\"{\\u003cbr\\u003e  \\\"number\\\": 6,\\u003cbr\\u003e  \\\"values\\\": [\\u003cbr\\u003e    0.9257319843360231,\\u003cbr\\u003e    0.0038854511739917948\\u003cbr\\u003e  ],\\u003cbr\\u003e  \\\"params\\\": {\\u003cbr\\u003e    \\\"scalers\\\": \\\"robust\\\",\\u003cbr\\u003e    \\\"knn_n_neighbors\\\": 19,\\u003cbr\\u003e    \\\"knn_p\\\": 5,\\u003cbr\\u003e    \\\"knn_weights\\\": \\\"distance\\\"\\u003cbr\\u003e  }\\u003cbr\\u003e}\",\"{\\u003cbr\\u003e  \\\"number\\\": 7,\\u003cbr\\u003e  \\\"values\\\": [\\u003cbr\\u003e    0.9262649089486541,\\u003cbr\\u003e    0.006252253308488238\\u003cbr\\u003e  ],\\u003cbr\\u003e  \\\"params\\\": {\\u003cbr\\u003e    \\\"scalers\\\": \\\"robust\\\",\\u003cbr\\u003e    \\\"knn_n_neighbors\\\": 39,\\u003cbr\\u003e    \\\"knn_p\\\": 7,\\u003cbr\\u003e    \\\"knn_weights\\\": \\\"uniform\\\"\\u003cbr\\u003e  }\\u003cbr\\u003e}\",\"{\\u003cbr\\u003e  \\\"number\\\": 8,\\u003cbr\\u003e  \\\"values\\\": [\\u003cbr\\u003e    0.925465210960006,\\u003cbr\\u003e    0.004714433553055131\\u003cbr\\u003e  ],\\u003cbr\\u003e  \\\"params\\\": {\\u003cbr\\u003e    \\\"scalers\\\": \\\"normalizer\\\",\\u003cbr\\u003e    \\\"knn_n_neighbors\\\": 75,\\u003cbr\\u003e    \\\"knn_p\\\": 5,\\u003cbr\\u003e    \\\"knn_weights\\\": \\\"uniform\\\"\\u003cbr\\u003e  }\\u003cbr\\u003e}\",\"{\\u003cbr\\u003e  \\\"number\\\": 9,\\u003cbr\\u003e  \\\"values\\\": [\\u003cbr\\u003e    0.9233316460912724,\\u003cbr\\u003e    0.005676377266843285\\u003cbr\\u003e  ],\\u003cbr\\u003e  \\\"params\\\": {\\u003cbr\\u003e    \\\"scalers\\\": \\\"none\\\",\\u003cbr\\u003e    \\\"knn_n_neighbors\\\": 49,\\u003cbr\\u003e    \\\"knn_p\\\": 3,\\u003cbr\\u003e    \\\"knn_weights\\\": \\\"distance\\\"\\u003cbr\\u003e  }\\u003cbr\\u003e}\",\"{\\u003cbr\\u003e  \\\"number\\\": 10,\\u003cbr\\u003e  \\\"values\\\": [\\u003cbr\\u003e    0.9278645537817117,\\u003cbr\\u003e    0.005730332058276834\\u003cbr\\u003e  ],\\u003cbr\\u003e  \\\"params\\\": {\\u003cbr\\u003e    \\\"scalers\\\": \\\"robust\\\",\\u003cbr\\u003e    \\\"knn_n_neighbors\\\": 91,\\u003cbr\\u003e    \\\"knn_p\\\": 9,\\u003cbr\\u003e    \\\"knn_weights\\\": \\\"distance\\\"\\u003cbr\\u003e  }\\u003cbr\\u003e}\",\"{\\u003cbr\\u003e  \\\"number\\\": 11,\\u003cbr\\u003e  \\\"values\\\": [\\u003cbr\\u003e    0.9270646069373024,\\u003cbr\\u003e    0.0068341839358954885\\u003cbr\\u003e  ],\\u003cbr\\u003e  \\\"params\\\": {\\u003cbr\\u003e    \\\"scalers\\\": \\\"robust\\\",\\u003cbr\\u003e    \\\"knn_n_neighbors\\\": 42,\\u003cbr\\u003e    \\\"knn_p\\\": 10,\\u003cbr\\u003e    \\\"knn_weights\\\": \\\"uniform\\\"\\u003cbr\\u003e  }\\u003cbr\\u003e}\",\"{\\u003cbr\\u003e  \\\"number\\\": 12,\\u003cbr\\u003e  \\\"values\\\": [\\u003cbr\\u003e    0.9261316466885262,\\u003cbr\\u003e    0.005609161335846917\\u003cbr\\u003e  ],\\u003cbr\\u003e  \\\"params\\\": {\\u003cbr\\u003e    \\\"scalers\\\": \\\"standard\\\",\\u003cbr\\u003e    \\\"knn_n_neighbors\\\": 12,\\u003cbr\\u003e    \\\"knn_p\\\": 9,\\u003cbr\\u003e    \\\"knn_weights\\\": \\\"uniform\\\"\\u003cbr\\u003e  }\\u003cbr\\u003e}\",\"{\\u003cbr\\u003e  \\\"number\\\": 13,\\u003cbr\\u003e  \\\"values\\\": [\\u003cbr\\u003e    0.927998064897601,\\u003cbr\\u003e    0.005385622278011586\\u003cbr\\u003e  ],\\u003cbr\\u003e  \\\"params\\\": {\\u003cbr\\u003e    \\\"scalers\\\": \\\"standard\\\",\\u003cbr\\u003e    \\\"knn_n_neighbors\\\": 46,\\u003cbr\\u003e    \\\"knn_p\\\": 9,\\u003cbr\\u003e    \\\"knn_weights\\\": \\\"distance\\\"\\u003cbr\\u003e  }\\u003cbr\\u003e}\",\"{\\u003cbr\\u003e  \\\"number\\\": 14,\\u003cbr\\u003e  \\\"values\\\": [\\u003cbr\\u003e    0.9273316291690807,\\u003cbr\\u003e    0.004769724934810608\\u003cbr\\u003e  ],\\u003cbr\\u003e  \\\"params\\\": {\\u003cbr\\u003e    \\\"scalers\\\": \\\"minmax\\\",\\u003cbr\\u003e    \\\"knn_n_neighbors\\\": 95,\\u003cbr\\u003e    \\\"knn_p\\\": 6,\\u003cbr\\u003e    \\\"knn_weights\\\": \\\"distance\\\"\\u003cbr\\u003e  }\\u003cbr\\u003e}\",\"{\\u003cbr\\u003e  \\\"number\\\": 15,\\u003cbr\\u003e  \\\"values\\\": [\\u003cbr\\u003e    0.9222652991544876,\\u003cbr\\u003e    0.004901690794655387\\u003cbr\\u003e  ],\\u003cbr\\u003e  \\\"params\\\": {\\u003cbr\\u003e    \\\"scalers\\\": \\\"standard\\\",\\u003cbr\\u003e    \\\"knn_n_neighbors\\\": 7,\\u003cbr\\u003e    \\\"knn_p\\\": 8,\\u003cbr\\u003e    \\\"knn_weights\\\": \\\"uniform\\\"\\u003cbr\\u003e  }\\u003cbr\\u003e}\",\"{\\u003cbr\\u003e  \\\"number\\\": 16,\\u003cbr\\u003e  \\\"values\\\": [\\u003cbr\\u003e    0.9253314509883557,\\u003cbr\\u003e    0.004762050758245893\\u003cbr\\u003e  ],\\u003cbr\\u003e  \\\"params\\\": {\\u003cbr\\u003e    \\\"scalers\\\": \\\"normalizer\\\",\\u003cbr\\u003e    \\\"knn_n_neighbors\\\": 22,\\u003cbr\\u003e    \\\"knn_p\\\": 10,\\u003cbr\\u003e    \\\"knn_weights\\\": \\\"distance\\\"\\u003cbr\\u003e  }\\u003cbr\\u003e}\",\"{\\u003cbr\\u003e  \\\"number\\\": 17,\\u003cbr\\u003e  \\\"values\\\": [\\u003cbr\\u003e    0.9269317179608162,\\u003cbr\\u003e    0.0055918531033203175\\u003cbr\\u003e  ],\\u003cbr\\u003e  \\\"params\\\": {\\u003cbr\\u003e    \\\"scalers\\\": \\\"standard\\\",\\u003cbr\\u003e    \\\"knn_n_neighbors\\\": 36,\\u003cbr\\u003e    \\\"knn_p\\\": 6,\\u003cbr\\u003e    \\\"knn_weights\\\": \\\"distance\\\"\\u003cbr\\u003e  }\\u003cbr\\u003e}\",\"{\\u003cbr\\u003e  \\\"number\\\": 18,\\u003cbr\\u003e  \\\"values\\\": [\\u003cbr\\u003e    0.9281312027298483,\\u003cbr\\u003e    0.006113916219609878\\u003cbr\\u003e  ],\\u003cbr\\u003e  \\\"params\\\": {\\u003cbr\\u003e    \\\"scalers\\\": \\\"normalizer\\\",\\u003cbr\\u003e    \\\"knn_n_neighbors\\\": 68,\\u003cbr\\u003e    \\\"knn_p\\\": 10,\\u003cbr\\u003e    \\\"knn_weights\\\": \\\"distance\\\"\\u003cbr\\u003e  }\\u003cbr\\u003e}\",\"{\\u003cbr\\u003e  \\\"number\\\": 19,\\u003cbr\\u003e  \\\"values\\\": [\\u003cbr\\u003e    0.9274651402849698,\\u003cbr\\u003e    0.005433033822633382\\u003cbr\\u003e  ],\\u003cbr\\u003e  \\\"params\\\": {\\u003cbr\\u003e    \\\"scalers\\\": \\\"standard\\\",\\u003cbr\\u003e    \\\"knn_n_neighbors\\\": 48,\\u003cbr\\u003e    \\\"knn_p\\\": 3,\\u003cbr\\u003e    \\\"knn_weights\\\": \\\"distance\\\"\\u003cbr\\u003e  }\\u003cbr\\u003e}\",\"{\\u003cbr\\u003e  \\\"number\\\": 20,\\u003cbr\\u003e  \\\"values\\\": [\\u003cbr\\u003e    0.9271983669089527,\\u003cbr\\u003e    0.004624963932205643\\u003cbr\\u003e  ],\\u003cbr\\u003e  \\\"params\\\": {\\u003cbr\\u003e    \\\"scalers\\\": \\\"normalizer\\\",\\u003cbr\\u003e    \\\"knn_n_neighbors\\\": 48,\\u003cbr\\u003e    \\\"knn_p\\\": 2,\\u003cbr\\u003e    \\\"knn_weights\\\": \\\"distance\\\"\\u003cbr\\u003e  }\\u003cbr\\u003e}\",\"{\\u003cbr\\u003e  \\\"number\\\": 21,\\u003cbr\\u003e  \\\"values\\\": [\\u003cbr\\u003e    0.9230651215710165,\\u003cbr\\u003e    0.005391121938393119\\u003cbr\\u003e  ],\\u003cbr\\u003e  \\\"params\\\": {\\u003cbr\\u003e    \\\"scalers\\\": \\\"none\\\",\\u003cbr\\u003e    \\\"knn_n_neighbors\\\": 50,\\u003cbr\\u003e    \\\"knn_p\\\": 5,\\u003cbr\\u003e    \\\"knn_weights\\\": \\\"uniform\\\"\\u003cbr\\u003e  }\\u003cbr\\u003e}\",\"{\\u003cbr\\u003e  \\\"number\\\": 22,\\u003cbr\\u003e  \\\"values\\\": [\\u003cbr\\u003e    0.9269310958214133,\\u003cbr\\u003e    0.005753714449817033\\u003cbr\\u003e  ],\\u003cbr\\u003e  \\\"params\\\": {\\u003cbr\\u003e    \\\"scalers\\\": \\\"standard\\\",\\u003cbr\\u003e    \\\"knn_n_neighbors\\\": 90,\\u003cbr\\u003e    \\\"knn_p\\\": 8,\\u003cbr\\u003e    \\\"knn_weights\\\": \\\"uniform\\\"\\u003cbr\\u003e  }\\u003cbr\\u003e}\",\"{\\u003cbr\\u003e  \\\"number\\\": 23,\\u003cbr\\u003e  \\\"values\\\": [\\u003cbr\\u003e    0.927464767001328,\\u003cbr\\u003e    0.005792729655551564\\u003cbr\\u003e  ],\\u003cbr\\u003e  \\\"params\\\": {\\u003cbr\\u003e    \\\"scalers\\\": \\\"minmax\\\",\\u003cbr\\u003e    \\\"knn_n_neighbors\\\": 67,\\u003cbr\\u003e    \\\"knn_p\\\": 7,\\u003cbr\\u003e    \\\"knn_weights\\\": \\\"distance\\\"\\u003cbr\\u003e  }\\u003cbr\\u003e}\",\"{\\u003cbr\\u003e  \\\"number\\\": 24,\\u003cbr\\u003e  \\\"values\\\": [\\u003cbr\\u003e    0.928398100533746,\\u003cbr\\u003e    0.0059407131150828706\\u003cbr\\u003e  ],\\u003cbr\\u003e  \\\"params\\\": {\\u003cbr\\u003e    \\\"scalers\\\": \\\"standard\\\",\\u003cbr\\u003e    \\\"knn_n_neighbors\\\": 57,\\u003cbr\\u003e    \\\"knn_p\\\": 7,\\u003cbr\\u003e    \\\"knn_weights\\\": \\\"uniform\\\"\\u003cbr\\u003e  }\\u003cbr\\u003e}\",\"{\\u003cbr\\u003e  \\\"number\\\": 25,\\u003cbr\\u003e  \\\"values\\\": [\\u003cbr\\u003e    0.9253318242719973,\\u003cbr\\u003e    0.004259477433259938\\u003cbr\\u003e  ],\\u003cbr\\u003e  \\\"params\\\": {\\u003cbr\\u003e    \\\"scalers\\\": \\\"normalizer\\\",\\u003cbr\\u003e    \\\"knn_n_neighbors\\\": 12,\\u003cbr\\u003e    \\\"knn_p\\\": 5,\\u003cbr\\u003e    \\\"knn_weights\\\": \\\"distance\\\"\\u003cbr\\u003e  }\\u003cbr\\u003e}\",\"{\\u003cbr\\u003e  \\\"number\\\": 26,\\u003cbr\\u003e  \\\"values\\\": [\\u003cbr\\u003e    0.9269314691050551,\\u003cbr\\u003e    0.005617708540174756\\u003cbr\\u003e  ],\\u003cbr\\u003e  \\\"params\\\": {\\u003cbr\\u003e    \\\"scalers\\\": \\\"standard\\\",\\u003cbr\\u003e    \\\"knn_n_neighbors\\\": 65,\\u003cbr\\u003e    \\\"knn_p\\\": 9,\\u003cbr\\u003e    \\\"knn_weights\\\": \\\"uniform\\\"\\u003cbr\\u003e  }\\u003cbr\\u003e}\",\"{\\u003cbr\\u003e  \\\"number\\\": 27,\\u003cbr\\u003e  \\\"values\\\": [\\u003cbr\\u003e    0.9242660994746158,\\u003cbr\\u003e    0.0055048106750609505\\u003cbr\\u003e  ],\\u003cbr\\u003e  \\\"params\\\": {\\u003cbr\\u003e    \\\"scalers\\\": \\\"none\\\",\\u003cbr\\u003e    \\\"knn_n_neighbors\\\": 24,\\u003cbr\\u003e    \\\"knn_p\\\": 6,\\u003cbr\\u003e    \\\"knn_weights\\\": \\\"uniform\\\"\\u003cbr\\u003e  }\\u003cbr\\u003e}\",\"{\\u003cbr\\u003e  \\\"number\\\": 28,\\u003cbr\\u003e  \\\"values\\\": [\\u003cbr\\u003e    0.9277320380888675,\\u003cbr\\u003e    0.006183493108578618\\u003cbr\\u003e  ],\\u003cbr\\u003e  \\\"params\\\": {\\u003cbr\\u003e    \\\"scalers\\\": \\\"standard\\\",\\u003cbr\\u003e    \\\"knn_n_neighbors\\\": 48,\\u003cbr\\u003e    \\\"knn_p\\\": 1,\\u003cbr\\u003e    \\\"knn_weights\\\": \\\"distance\\\"\\u003cbr\\u003e  }\\u003cbr\\u003e}\",\"{\\u003cbr\\u003e  \\\"number\\\": 29,\\u003cbr\\u003e  \\\"values\\\": [\\u003cbr\\u003e    0.9259977622889953,\\u003cbr\\u003e    0.005924429064967674\\u003cbr\\u003e  ],\\u003cbr\\u003e  \\\"params\\\": {\\u003cbr\\u003e    \\\"scalers\\\": \\\"normalizer\\\",\\u003cbr\\u003e    \\\"knn_n_neighbors\\\": 48,\\u003cbr\\u003e    \\\"knn_p\\\": 10,\\u003cbr\\u003e    \\\"knn_weights\\\": \\\"uniform\\\"\\u003cbr\\u003e  }\\u003cbr\\u003e}\",\"{\\u003cbr\\u003e  \\\"number\\\": 30,\\u003cbr\\u003e  \\\"values\\\": [\\u003cbr\\u003e    0.9255985976480146,\\u003cbr\\u003e    0.005150549684150378\\u003cbr\\u003e  ],\\u003cbr\\u003e  \\\"params\\\": {\\u003cbr\\u003e    \\\"scalers\\\": \\\"minmax\\\",\\u003cbr\\u003e    \\\"knn_n_neighbors\\\": 35,\\u003cbr\\u003e    \\\"knn_p\\\": 6,\\u003cbr\\u003e    \\\"knn_weights\\\": \\\"distance\\\"\\u003cbr\\u003e  }\\u003cbr\\u003e}\",\"{\\u003cbr\\u003e  \\\"number\\\": 31,\\u003cbr\\u003e  \\\"values\\\": [\\u003cbr\\u003e    0.9241322150750849,\\u003cbr\\u003e    0.0051206570006075295\\u003cbr\\u003e  ],\\u003cbr\\u003e  \\\"params\\\": {\\u003cbr\\u003e    \\\"scalers\\\": \\\"none\\\",\\u003cbr\\u003e    \\\"knn_n_neighbors\\\": 59,\\u003cbr\\u003e    \\\"knn_p\\\": 1,\\u003cbr\\u003e    \\\"knn_weights\\\": \\\"uniform\\\"\\u003cbr\\u003e  }\\u003cbr\\u003e}\",\"{\\u003cbr\\u003e  \\\"number\\\": 32,\\u003cbr\\u003e  \\\"values\\\": [\\u003cbr\\u003e    0.9251980643003471,\\u003cbr\\u003e    0.006121114130009743\\u003cbr\\u003e  ],\\u003cbr\\u003e  \\\"params\\\": {\\u003cbr\\u003e    \\\"scalers\\\": \\\"none\\\",\\u003cbr\\u003e    \\\"knn_n_neighbors\\\": 83,\\u003cbr\\u003e    \\\"knn_p\\\": 10,\\u003cbr\\u003e    \\\"knn_weights\\\": \\\"uniform\\\"\\u003cbr\\u003e  }\\u003cbr\\u003e}\",\"{\\u003cbr\\u003e  \\\"number\\\": 33,\\u003cbr\\u003e  \\\"values\\\": [\\u003cbr\\u003e    0.9270654779324666,\\u003cbr\\u003e    0.005375229054161186\\u003cbr\\u003e  ],\\u003cbr\\u003e  \\\"params\\\": {\\u003cbr\\u003e    \\\"scalers\\\": \\\"robust\\\",\\u003cbr\\u003e    \\\"knn_n_neighbors\\\": 79,\\u003cbr\\u003e    \\\"knn_p\\\": 1,\\u003cbr\\u003e    \\\"knn_weights\\\": \\\"uniform\\\"\\u003cbr\\u003e  }\\u003cbr\\u003e}\",\"{\\u003cbr\\u003e  \\\"number\\\": 34,\\u003cbr\\u003e  \\\"values\\\": [\\u003cbr\\u003e    0.9247984019478439,\\u003cbr\\u003e    0.005769533982920697\\u003cbr\\u003e  ],\\u003cbr\\u003e  \\\"params\\\": {\\u003cbr\\u003e    \\\"scalers\\\": \\\"none\\\",\\u003cbr\\u003e    \\\"knn_n_neighbors\\\": 90,\\u003cbr\\u003e    \\\"knn_p\\\": 10,\\u003cbr\\u003e    \\\"knn_weights\\\": \\\"distance\\\"\\u003cbr\\u003e  }\\u003cbr\\u003e}\",\"{\\u003cbr\\u003e  \\\"number\\\": 35,\\u003cbr\\u003e  \\\"values\\\": [\\u003cbr\\u003e    0.9247985263757246,\\u003cbr\\u003e    0.004165774996106922\\u003cbr\\u003e  ],\\u003cbr\\u003e  \\\"params\\\": {\\u003cbr\\u003e    \\\"scalers\\\": \\\"robust\\\",\\u003cbr\\u003e    \\\"knn_n_neighbors\\\": 10,\\u003cbr\\u003e    \\\"knn_p\\\": 4,\\u003cbr\\u003e    \\\"knn_weights\\\": \\\"uniform\\\"\\u003cbr\\u003e  }\\u003cbr\\u003e}\",\"{\\u003cbr\\u003e  \\\"number\\\": 36,\\u003cbr\\u003e  \\\"values\\\": [\\u003cbr\\u003e    0.926797957989166,\\u003cbr\\u003e    0.006070319181636652\\u003cbr\\u003e  ],\\u003cbr\\u003e  \\\"params\\\": {\\u003cbr\\u003e    \\\"scalers\\\": \\\"minmax\\\",\\u003cbr\\u003e    \\\"knn_n_neighbors\\\": 29,\\u003cbr\\u003e    \\\"knn_p\\\": 5,\\u003cbr\\u003e    \\\"knn_weights\\\": \\\"distance\\\"\\u003cbr\\u003e  }\\u003cbr\\u003e}\",\"{\\u003cbr\\u003e  \\\"number\\\": 37,\\u003cbr\\u003e  \\\"values\\\": [\\u003cbr\\u003e    0.9265319311804324,\\u003cbr\\u003e    0.003816977223137141\\u003cbr\\u003e  ],\\u003cbr\\u003e  \\\"params\\\": {\\u003cbr\\u003e    \\\"scalers\\\": \\\"normalizer\\\",\\u003cbr\\u003e    \\\"knn_n_neighbors\\\": 33,\\u003cbr\\u003e    \\\"knn_p\\\": 3,\\u003cbr\\u003e    \\\"knn_weights\\\": \\\"distance\\\"\\u003cbr\\u003e  }\\u003cbr\\u003e}\",\"{\\u003cbr\\u003e  \\\"number\\\": 38,\\u003cbr\\u003e  \\\"values\\\": [\\u003cbr\\u003e    0.9253315754162363,\\u003cbr\\u003e    0.005039809488530996\\u003cbr\\u003e  ],\\u003cbr\\u003e  \\\"params\\\": {\\u003cbr\\u003e    \\\"scalers\\\": \\\"minmax\\\",\\u003cbr\\u003e    \\\"knn_n_neighbors\\\": 29,\\u003cbr\\u003e    \\\"knn_p\\\": 9,\\u003cbr\\u003e    \\\"knn_weights\\\": \\\"uniform\\\"\\u003cbr\\u003e  }\\u003cbr\\u003e}\",\"{\\u003cbr\\u003e  \\\"number\\\": 39,\\u003cbr\\u003e  \\\"values\\\": [\\u003cbr\\u003e    0.9237329260062236,\\u003cbr\\u003e    0.004757420816178352\\u003cbr\\u003e  ],\\u003cbr\\u003e  \\\"params\\\": {\\u003cbr\\u003e    \\\"scalers\\\": \\\"none\\\",\\u003cbr\\u003e    \\\"knn_n_neighbors\\\": 23,\\u003cbr\\u003e    \\\"knn_p\\\": 1,\\u003cbr\\u003e    \\\"knn_weights\\\": \\\"distance\\\"\\u003cbr\\u003e  }\\u003cbr\\u003e}\",\"{\\u003cbr\\u003e  \\\"number\\\": 40,\\u003cbr\\u003e  \\\"values\\\": [\\u003cbr\\u003e    0.9238649439875453,\\u003cbr\\u003e    0.005324292527003096\\u003cbr\\u003e  ],\\u003cbr\\u003e  \\\"params\\\": {\\u003cbr\\u003e    \\\"scalers\\\": \\\"robust\\\",\\u003cbr\\u003e    \\\"knn_n_neighbors\\\": 11,\\u003cbr\\u003e    \\\"knn_p\\\": 10,\\u003cbr\\u003e    \\\"knn_weights\\\": \\\"uniform\\\"\\u003cbr\\u003e  }\\u003cbr\\u003e}\",\"{\\u003cbr\\u003e  \\\"number\\\": 41,\\u003cbr\\u003e  \\\"values\\\": [\\u003cbr\\u003e    0.9257314866245007,\\u003cbr\\u003e    0.005348843230587915\\u003cbr\\u003e  ],\\u003cbr\\u003e  \\\"params\\\": {\\u003cbr\\u003e    \\\"scalers\\\": \\\"normalizer\\\",\\u003cbr\\u003e    \\\"knn_n_neighbors\\\": 89,\\u003cbr\\u003e    \\\"knn_p\\\": 5,\\u003cbr\\u003e    \\\"knn_weights\\\": \\\"uniform\\\"\\u003cbr\\u003e  }\\u003cbr\\u003e}\",\"{\\u003cbr\\u003e  \\\"number\\\": 42,\\u003cbr\\u003e  \\\"values\\\": [\\u003cbr\\u003e    0.926798580128569,\\u003cbr\\u003e    0.005030090568173901\\u003cbr\\u003e  ],\\u003cbr\\u003e  \\\"params\\\": {\\u003cbr\\u003e    \\\"scalers\\\": \\\"robust\\\",\\u003cbr\\u003e    \\\"knn_n_neighbors\\\": 36,\\u003cbr\\u003e    \\\"knn_p\\\": 3,\\u003cbr\\u003e    \\\"knn_weights\\\": \\\"uniform\\\"\\u003cbr\\u003e  }\\u003cbr\\u003e}\",\"{\\u003cbr\\u003e  \\\"number\\\": 43,\\u003cbr\\u003e  \\\"values\\\": [\\u003cbr\\u003e    0.9247984019478439,\\u003cbr\\u003e    0.004108385082196605\\u003cbr\\u003e  ],\\u003cbr\\u003e  \\\"params\\\": {\\u003cbr\\u003e    \\\"scalers\\\": \\\"normalizer\\\",\\u003cbr\\u003e    \\\"knn_n_neighbors\\\": 20,\\u003cbr\\u003e    \\\"knn_p\\\": 4,\\u003cbr\\u003e    \\\"knn_weights\\\": \\\"distance\\\"\\u003cbr\\u003e  }\\u003cbr\\u003e}\",\"{\\u003cbr\\u003e  \\\"number\\\": 44,\\u003cbr\\u003e  \\\"values\\\": [\\u003cbr\\u003e    0.9270651046488247,\\u003cbr\\u003e    0.0054498499794390755\\u003cbr\\u003e  ],\\u003cbr\\u003e  \\\"params\\\": {\\u003cbr\\u003e    \\\"scalers\\\": \\\"standard\\\",\\u003cbr\\u003e    \\\"knn_n_neighbors\\\": 43,\\u003cbr\\u003e    \\\"knn_p\\\": 4,\\u003cbr\\u003e    \\\"knn_weights\\\": \\\"uniform\\\"\\u003cbr\\u003e  }\\u003cbr\\u003e}\",\"{\\u003cbr\\u003e  \\\"number\\\": 45,\\u003cbr\\u003e  \\\"values\\\": [\\u003cbr\\u003e    0.9265308113295071,\\u003cbr\\u003e    0.007111620714597221\\u003cbr\\u003e  ],\\u003cbr\\u003e  \\\"params\\\": {\\u003cbr\\u003e    \\\"scalers\\\": \\\"standard\\\",\\u003cbr\\u003e    \\\"knn_n_neighbors\\\": 22,\\u003cbr\\u003e    \\\"knn_p\\\": 8,\\u003cbr\\u003e    \\\"knn_weights\\\": \\\"uniform\\\"\\u003cbr\\u003e  }\\u003cbr\\u003e}\",\"{\\u003cbr\\u003e  \\\"number\\\": 46,\\u003cbr\\u003e  \\\"values\\\": [\\u003cbr\\u003e    0.9242652284794515,\\u003cbr\\u003e    0.004241512559839634\\u003cbr\\u003e  ],\\u003cbr\\u003e  \\\"params\\\": {\\u003cbr\\u003e    \\\"scalers\\\": \\\"robust\\\",\\u003cbr\\u003e    \\\"knn_n_neighbors\\\": 13,\\u003cbr\\u003e    \\\"knn_p\\\": 3,\\u003cbr\\u003e    \\\"knn_weights\\\": \\\"distance\\\"\\u003cbr\\u003e  }\\u003cbr\\u003e}\",\"{\\u003cbr\\u003e  \\\"number\\\": 47,\\u003cbr\\u003e  \\\"values\\\": [\\u003cbr\\u003e    0.9273311314575583,\\u003cbr\\u003e    0.006304589600565193\\u003cbr\\u003e  ],\\u003cbr\\u003e  \\\"params\\\": {\\u003cbr\\u003e    \\\"scalers\\\": \\\"standard\\\",\\u003cbr\\u003e    \\\"knn_n_neighbors\\\": 62,\\u003cbr\\u003e    \\\"knn_p\\\": 8,\\u003cbr\\u003e    \\\"knn_weights\\\": \\\"uniform\\\"\\u003cbr\\u003e  }\\u003cbr\\u003e}\",\"{\\u003cbr\\u003e  \\\"number\\\": 48,\\u003cbr\\u003e  \\\"values\\\": [\\u003cbr\\u003e    0.9242646063400485,\\u003cbr\\u003e    0.0059371148039230855\\u003cbr\\u003e  ],\\u003cbr\\u003e  \\\"params\\\": {\\u003cbr\\u003e    \\\"scalers\\\": \\\"none\\\",\\u003cbr\\u003e    \\\"knn_n_neighbors\\\": 56,\\u003cbr\\u003e    \\\"knn_p\\\": 9,\\u003cbr\\u003e    \\\"knn_weights\\\": \\\"uniform\\\"\\u003cbr\\u003e  }\\u003cbr\\u003e}\",\"{\\u003cbr\\u003e  \\\"number\\\": 49,\\u003cbr\\u003e  \\\"values\\\": [\\u003cbr\\u003e    0.9259977622889953,\\u003cbr\\u003e    0.006749718717587885\\u003cbr\\u003e  ],\\u003cbr\\u003e  \\\"params\\\": {\\u003cbr\\u003e    \\\"scalers\\\": \\\"robust\\\",\\u003cbr\\u003e    \\\"knn_n_neighbors\\\": 27,\\u003cbr\\u003e    \\\"knn_p\\\": 9,\\u003cbr\\u003e    \\\"knn_weights\\\": \\\"uniform\\\"\\u003cbr\\u003e  }\\u003cbr\\u003e}\",\"{\\u003cbr\\u003e  \\\"number\\\": 50,\\u003cbr\\u003e  \\\"values\\\": [\\u003cbr\\u003e    0.9254653353878866,\\u003cbr\\u003e    0.0051901244352079556\\u003cbr\\u003e  ],\\u003cbr\\u003e  \\\"params\\\": {\\u003cbr\\u003e    \\\"scalers\\\": \\\"standard\\\",\\u003cbr\\u003e    \\\"knn_n_neighbors\\\": 30,\\u003cbr\\u003e    \\\"knn_p\\\": 5,\\u003cbr\\u003e    \\\"knn_weights\\\": \\\"uniform\\\"\\u003cbr\\u003e  }\\u003cbr\\u003e}\",\"{\\u003cbr\\u003e  \\\"number\\\": 51,\\u003cbr\\u003e  \\\"values\\\": [\\u003cbr\\u003e    0.9278649270653536,\\u003cbr\\u003e    0.005458555501582399\\u003cbr\\u003e  ],\\u003cbr\\u003e  \\\"params\\\": {\\u003cbr\\u003e    \\\"scalers\\\": \\\"robust\\\",\\u003cbr\\u003e    \\\"knn_n_neighbors\\\": 54,\\u003cbr\\u003e    \\\"knn_p\\\": 10,\\u003cbr\\u003e    \\\"knn_weights\\\": \\\"distance\\\"\\u003cbr\\u003e  }\\u003cbr\\u003e}\",\"{\\u003cbr\\u003e  \\\"number\\\": 52,\\u003cbr\\u003e  \\\"values\\\": [\\u003cbr\\u003e    0.9278649270653536,\\u003cbr\\u003e    0.005458555501582399\\u003cbr\\u003e  ],\\u003cbr\\u003e  \\\"params\\\": {\\u003cbr\\u003e    \\\"scalers\\\": \\\"robust\\\",\\u003cbr\\u003e    \\\"knn_n_neighbors\\\": 54,\\u003cbr\\u003e    \\\"knn_p\\\": 10,\\u003cbr\\u003e    \\\"knn_weights\\\": \\\"distance\\\"\\u003cbr\\u003e  }\\u003cbr\\u003e}\",\"{\\u003cbr\\u003e  \\\"number\\\": 53,\\u003cbr\\u003e  \\\"values\\\": [\\u003cbr\\u003e    0.926664695729038,\\u003cbr\\u003e    0.005965896919375501\\u003cbr\\u003e  ],\\u003cbr\\u003e  \\\"params\\\": {\\u003cbr\\u003e    \\\"scalers\\\": \\\"standard\\\",\\u003cbr\\u003e    \\\"knn_n_neighbors\\\": 40,\\u003cbr\\u003e    \\\"knn_p\\\": 8,\\u003cbr\\u003e    \\\"knn_weights\\\": \\\"uniform\\\"\\u003cbr\\u003e  }\\u003cbr\\u003e}\",\"{\\u003cbr\\u003e  \\\"number\\\": 54,\\u003cbr\\u003e  \\\"values\\\": [\\u003cbr\\u003e    0.9263981712087821,\\u003cbr\\u003e    0.005566292777670635\\u003cbr\\u003e  ],\\u003cbr\\u003e  \\\"params\\\": {\\u003cbr\\u003e    \\\"scalers\\\": \\\"standard\\\",\\u003cbr\\u003e    \\\"knn_n_neighbors\\\": 74,\\u003cbr\\u003e    \\\"knn_p\\\": 6,\\u003cbr\\u003e    \\\"knn_weights\\\": \\\"uniform\\\"\\u003cbr\\u003e  }\\u003cbr\\u003e}\",\"{\\u003cbr\\u003e  \\\"number\\\": 55,\\u003cbr\\u003e  \\\"values\\\": [\\u003cbr\\u003e    0.9278646782095924,\\u003cbr\\u003e    0.004728609102229588\\u003cbr\\u003e  ],\\u003cbr\\u003e  \\\"params\\\": {\\u003cbr\\u003e    \\\"scalers\\\": \\\"normalizer\\\",\\u003cbr\\u003e    \\\"knn_n_neighbors\\\": 46,\\u003cbr\\u003e    \\\"knn_p\\\": 9,\\u003cbr\\u003e    \\\"knn_weights\\\": \\\"distance\\\"\\u003cbr\\u003e  }\\u003cbr\\u003e}\",\"{\\u003cbr\\u003e  \\\"number\\\": 56,\\u003cbr\\u003e  \\\"values\\\": [\\u003cbr\\u003e    0.9278649270653536,\\u003cbr\\u003e    0.005458555501582399\\u003cbr\\u003e  ],\\u003cbr\\u003e  \\\"params\\\": {\\u003cbr\\u003e    \\\"scalers\\\": \\\"robust\\\",\\u003cbr\\u003e    \\\"knn_n_neighbors\\\": 54,\\u003cbr\\u003e    \\\"knn_p\\\": 10,\\u003cbr\\u003e    \\\"knn_weights\\\": \\\"distance\\\"\\u003cbr\\u003e  }\\u003cbr\\u003e}\",\"{\\u003cbr\\u003e  \\\"number\\\": 57,\\u003cbr\\u003e  \\\"values\\\": [\\u003cbr\\u003e    0.9278645537817117,\\u003cbr\\u003e    0.00496139134255149\\u003cbr\\u003e  ],\\u003cbr\\u003e  \\\"params\\\": {\\u003cbr\\u003e    \\\"scalers\\\": \\\"normalizer\\\",\\u003cbr\\u003e    \\\"knn_n_neighbors\\\": 46,\\u003cbr\\u003e    \\\"knn_p\\\": 6,\\u003cbr\\u003e    \\\"knn_weights\\\": \\\"distance\\\"\\u003cbr\\u003e  }\\u003cbr\\u003e}\",\"{\\u003cbr\\u003e  \\\"number\\\": 58,\\u003cbr\\u003e  \\\"values\\\": [\\u003cbr\\u003e    0.9274648914292085,\\u003cbr\\u003e    0.005006965333593964\\u003cbr\\u003e  ],\\u003cbr\\u003e  \\\"params\\\": {\\u003cbr\\u003e    \\\"scalers\\\": \\\"minmax\\\",\\u003cbr\\u003e    \\\"knn_n_neighbors\\\": 82,\\u003cbr\\u003e    \\\"knn_p\\\": 5,\\u003cbr\\u003e    \\\"knn_weights\\\": \\\"distance\\\"\\u003cbr\\u003e  }\\u003cbr\\u003e}\",\"{\\u003cbr\\u003e  \\\"number\\\": 59,\\u003cbr\\u003e  \\\"values\\\": [\\u003cbr\\u003e    0.9258652465961509,\\u003cbr\\u003e    0.004931502955774304\\u003cbr\\u003e  ],\\u003cbr\\u003e  \\\"params\\\": {\\u003cbr\\u003e    \\\"scalers\\\": \\\"standard\\\",\\u003cbr\\u003e    \\\"knn_n_neighbors\\\": 12,\\u003cbr\\u003e    \\\"knn_p\\\": 9,\\u003cbr\\u003e    \\\"knn_weights\\\": \\\"distance\\\"\\u003cbr\\u003e  }\\u003cbr\\u003e}\",\"{\\u003cbr\\u003e  \\\"number\\\": 60,\\u003cbr\\u003e  \\\"values\\\": [\\u003cbr\\u003e    0.9271978691974303,\\u003cbr\\u003e    0.005779789823952992\\u003cbr\\u003e  ],\\u003cbr\\u003e  \\\"params\\\": {\\u003cbr\\u003e    \\\"scalers\\\": \\\"normalizer\\\",\\u003cbr\\u003e    \\\"knn_n_neighbors\\\": 54,\\u003cbr\\u003e    \\\"knn_p\\\": 4,\\u003cbr\\u003e    \\\"knn_weights\\\": \\\"distance\\\"\\u003cbr\\u003e  }\\u003cbr\\u003e}\",\"{\\u003cbr\\u003e  \\\"number\\\": 61,\\u003cbr\\u003e  \\\"values\\\": [\\u003cbr\\u003e    0.9261311489770039,\\u003cbr\\u003e    0.005747214200349604\\u003cbr\\u003e  ],\\u003cbr\\u003e  \\\"params\\\": {\\u003cbr\\u003e    \\\"scalers\\\": \\\"normalizer\\\",\\u003cbr\\u003e    \\\"knn_n_neighbors\\\": 91,\\u003cbr\\u003e    \\\"knn_p\\\": 9,\\u003cbr\\u003e    \\\"knn_weights\\\": \\\"uniform\\\"\\u003cbr\\u003e  }\\u003cbr\\u003e}\",\"{\\u003cbr\\u003e  \\\"number\\\": 62,\\u003cbr\\u003e  \\\"values\\\": [\\u003cbr\\u003e    0.9285312383659933,\\u003cbr\\u003e    0.0066198007444721015\\u003cbr\\u003e  ],\\u003cbr\\u003e  \\\"params\\\": {\\u003cbr\\u003e    \\\"scalers\\\": \\\"minmax\\\",\\u003cbr\\u003e    \\\"knn_n_neighbors\\\": 56,\\u003cbr\\u003e    \\\"knn_p\\\": 6,\\u003cbr\\u003e    \\\"knn_weights\\\": \\\"distance\\\"\\u003cbr\\u003e  }\\u003cbr\\u003e}\",\"{\\u003cbr\\u003e  \\\"number\\\": 63,\\u003cbr\\u003e  \\\"values\\\": [\\u003cbr\\u003e    0.9271977447695497,\\u003cbr\\u003e    0.006433111007327451\\u003cbr\\u003e  ],\\u003cbr\\u003e  \\\"params\\\": {\\u003cbr\\u003e    \\\"scalers\\\": \\\"normalizer\\\",\\u003cbr\\u003e    \\\"knn_n_neighbors\\\": 87,\\u003cbr\\u003e    \\\"knn_p\\\": 10,\\u003cbr\\u003e    \\\"knn_weights\\\": \\\"distance\\\"\\u003cbr\\u003e  }\\u003cbr\\u003e}\",\"{\\u003cbr\\u003e  \\\"number\\\": 64,\\u003cbr\\u003e  \\\"values\\\": [\\u003cbr\\u003e    0.9245322507112299,\\u003cbr\\u003e    0.006466736192914699\\u003cbr\\u003e  ],\\u003cbr\\u003e  \\\"params\\\": {\\u003cbr\\u003e    \\\"scalers\\\": \\\"none\\\",\\u003cbr\\u003e    \\\"knn_n_neighbors\\\": 31,\\u003cbr\\u003e    \\\"knn_p\\\": 4,\\u003cbr\\u003e    \\\"knn_weights\\\": \\\"uniform\\\"\\u003cbr\\u003e  }\\u003cbr\\u003e}\",\"{\\u003cbr\\u003e  \\\"number\\\": 65,\\u003cbr\\u003e  \\\"values\\\": [\\u003cbr\\u003e    0.9257314866245007,\\u003cbr\\u003e    0.005348843230587915\\u003cbr\\u003e  ],\\u003cbr\\u003e  \\\"params\\\": {\\u003cbr\\u003e    \\\"scalers\\\": \\\"normalizer\\\",\\u003cbr\\u003e    \\\"knn_n_neighbors\\\": 89,\\u003cbr\\u003e    \\\"knn_p\\\": 5,\\u003cbr\\u003e    \\\"knn_weights\\\": \\\"uniform\\\"\\u003cbr\\u003e  }\\u003cbr\\u003e}\",\"{\\u003cbr\\u003e  \\\"number\\\": 66,\\u003cbr\\u003e  \\\"values\\\": [\\u003cbr\\u003e    0.9230652459988972,\\u003cbr\\u003e    0.005005771895923018\\u003cbr\\u003e  ],\\u003cbr\\u003e  \\\"params\\\": {\\u003cbr\\u003e    \\\"scalers\\\": \\\"standard\\\",\\u003cbr\\u003e    \\\"knn_n_neighbors\\\": 8,\\u003cbr\\u003e    \\\"knn_p\\\": 7,\\u003cbr\\u003e    \\\"knn_weights\\\": \\\"uniform\\\"\\u003cbr\\u003e  }\\u003cbr\\u003e}\",\"{\\u003cbr\\u003e  \\\"number\\\": 67,\\u003cbr\\u003e  \\\"values\\\": [\\u003cbr\\u003e    0.9238651928433066,\\u003cbr\\u003e    0.00568182532989472\\u003cbr\\u003e  ],\\u003cbr\\u003e  \\\"params\\\": {\\u003cbr\\u003e    \\\"scalers\\\": \\\"none\\\",\\u003cbr\\u003e    \\\"knn_n_neighbors\\\": 66,\\u003cbr\\u003e    \\\"knn_p\\\": 1,\\u003cbr\\u003e    \\\"knn_weights\\\": \\\"distance\\\"\\u003cbr\\u003e  }\\u003cbr\\u003e}\",\"{\\u003cbr\\u003e  \\\"number\\\": 68,\\u003cbr\\u003e  \\\"values\\\": [\\u003cbr\\u003e    0.9265314334689101,\\u003cbr\\u003e    0.005920310408766247\\u003cbr\\u003e  ],\\u003cbr\\u003e  \\\"params\\\": {\\u003cbr\\u003e    \\\"scalers\\\": \\\"minmax\\\",\\u003cbr\\u003e    \\\"knn_n_neighbors\\\": 19,\\u003cbr\\u003e    \\\"knn_p\\\": 9,\\u003cbr\\u003e    \\\"knn_weights\\\": \\\"uniform\\\"\\u003cbr\\u003e  }\\u003cbr\\u003e}\",\"{\\u003cbr\\u003e  \\\"number\\\": 69,\\u003cbr\\u003e  \\\"values\\\": [\\u003cbr\\u003e    0.9267983312728078,\\u003cbr\\u003e    0.005156303031365725\\u003cbr\\u003e  ],\\u003cbr\\u003e  \\\"params\\\": {\\u003cbr\\u003e    \\\"scalers\\\": \\\"robust\\\",\\u003cbr\\u003e    \\\"knn_n_neighbors\\\": 32,\\u003cbr\\u003e    \\\"knn_p\\\": 3,\\u003cbr\\u003e    \\\"knn_weights\\\": \\\"uniform\\\"\\u003cbr\\u003e  }\\u003cbr\\u003e}\",\"{\\u003cbr\\u003e  \\\"number\\\": 70,\\u003cbr\\u003e  \\\"values\\\": [\\u003cbr\\u003e    0.9277317892331063,\\u003cbr\\u003e    0.0051056983841474635\\u003cbr\\u003e  ],\\u003cbr\\u003e  \\\"params\\\": {\\u003cbr\\u003e    \\\"scalers\\\": \\\"minmax\\\",\\u003cbr\\u003e    \\\"knn_n_neighbors\\\": 49,\\u003cbr\\u003e    \\\"knn_p\\\": 10,\\u003cbr\\u003e    \\\"knn_weights\\\": \\\"distance\\\"\\u003cbr\\u003e  }\\u003cbr\\u003e}\",\"{\\u003cbr\\u003e  \\\"number\\\": 71,\\u003cbr\\u003e  \\\"values\\\": [\\u003cbr\\u003e    0.9262642868092511,\\u003cbr\\u003e    0.007062738483326835\\u003cbr\\u003e  ],\\u003cbr\\u003e  \\\"params\\\": {\\u003cbr\\u003e    \\\"scalers\\\": \\\"robust\\\",\\u003cbr\\u003e    \\\"knn_n_neighbors\\\": 48,\\u003cbr\\u003e    \\\"knn_p\\\": 10,\\u003cbr\\u003e    \\\"knn_weights\\\": \\\"uniform\\\"\\u003cbr\\u003e  }\\u003cbr\\u003e}\",\"{\\u003cbr\\u003e  \\\"number\\\": 72,\\u003cbr\\u003e  \\\"values\\\": [\\u003cbr\\u003e    0.9269310958214133,\\u003cbr\\u003e    0.006290240184704632\\u003cbr\\u003e  ],\\u003cbr\\u003e  \\\"params\\\": {\\u003cbr\\u003e    \\\"scalers\\\": \\\"standard\\\",\\u003cbr\\u003e    \\\"knn_n_neighbors\\\": 99,\\u003cbr\\u003e    \\\"knn_p\\\": 5,\\u003cbr\\u003e    \\\"knn_weights\\\": \\\"uniform\\\"\\u003cbr\\u003e  }\\u003cbr\\u003e}\",\"{\\u003cbr\\u003e  \\\"number\\\": 73,\\u003cbr\\u003e  \\\"values\\\": [\\u003cbr\\u003e    0.9282647138457374,\\u003cbr\\u003e    0.0056995863610653\\u003cbr\\u003e  ],\\u003cbr\\u003e  \\\"params\\\": {\\u003cbr\\u003e    \\\"scalers\\\": \\\"normalizer\\\",\\u003cbr\\u003e    \\\"knn_n_neighbors\\\": 68,\\u003cbr\\u003e    \\\"knn_p\\\": 9,\\u003cbr\\u003e    \\\"knn_weights\\\": \\\"distance\\\"\\u003cbr\\u003e  }\\u003cbr\\u003e}\",\"{\\u003cbr\\u003e  \\\"number\\\": 74,\\u003cbr\\u003e  \\\"values\\\": [\\u003cbr\\u003e    0.9283977272501042,\\u003cbr\\u003e    0.006170416564767911\\u003cbr\\u003e  ],\\u003cbr\\u003e  \\\"params\\\": {\\u003cbr\\u003e    \\\"scalers\\\": \\\"normalizer\\\",\\u003cbr\\u003e    \\\"knn_n_neighbors\\\": 62,\\u003cbr\\u003e    \\\"knn_p\\\": 7,\\u003cbr\\u003e    \\\"knn_weights\\\": \\\"distance\\\"\\u003cbr\\u003e  }\\u003cbr\\u003e}\",\"{\\u003cbr\\u003e  \\\"number\\\": 75,\\u003cbr\\u003e  \\\"values\\\": [\\u003cbr\\u003e    0.9231985082590252,\\u003cbr\\u003e    0.006592175215528134\\u003cbr\\u003e  ],\\u003cbr\\u003e  \\\"params\\\": {\\u003cbr\\u003e    \\\"scalers\\\": \\\"none\\\",\\u003cbr\\u003e    \\\"knn_n_neighbors\\\": 26,\\u003cbr\\u003e    \\\"knn_p\\\": 4,\\u003cbr\\u003e    \\\"knn_weights\\\": \\\"distance\\\"\\u003cbr\\u003e  }\\u003cbr\\u003e}\",\"{\\u003cbr\\u003e  \\\"number\\\": 76,\\u003cbr\\u003e  \\\"values\\\": [\\u003cbr\\u003e    0.9269315935329356,\\u003cbr\\u003e    0.005319634193953\\u003cbr\\u003e  ],\\u003cbr\\u003e  \\\"params\\\": {\\u003cbr\\u003e    \\\"scalers\\\": \\\"minmax\\\",\\u003cbr\\u003e    \\\"knn_n_neighbors\\\": 93,\\u003cbr\\u003e    \\\"knn_p\\\": 6,\\u003cbr\\u003e    \\\"knn_weights\\\": \\\"uniform\\\"\\u003cbr\\u003e  }\\u003cbr\\u003e}\",\"{\\u003cbr\\u003e  \\\"number\\\": 77,\\u003cbr\\u003e  \\\"values\\\": [\\u003cbr\\u003e    0.9283982249616266,\\u003cbr\\u003e    0.004906453680937138\\u003cbr\\u003e  ],\\u003cbr\\u003e  \\\"params\\\": {\\u003cbr\\u003e    \\\"scalers\\\": \\\"standard\\\",\\u003cbr\\u003e    \\\"knn_n_neighbors\\\": 89,\\u003cbr\\u003e    \\\"knn_p\\\": 5,\\u003cbr\\u003e    \\\"knn_weights\\\": \\\"distance\\\"\\u003cbr\\u003e  }\\u003cbr\\u003e}\",\"{\\u003cbr\\u003e  \\\"number\\\": 78,\\u003cbr\\u003e  \\\"values\\\": [\\u003cbr\\u003e    0.9262649089486541,\\u003cbr\\u003e    0.006252253308488238\\u003cbr\\u003e  ],\\u003cbr\\u003e  \\\"params\\\": {\\u003cbr\\u003e    \\\"scalers\\\": \\\"robust\\\",\\u003cbr\\u003e    \\\"knn_n_neighbors\\\": 39,\\u003cbr\\u003e    \\\"knn_p\\\": 7,\\u003cbr\\u003e    \\\"knn_weights\\\": \\\"uniform\\\"\\u003cbr\\u003e  }\\u003cbr\\u003e}\",\"{\\u003cbr\\u003e  \\\"number\\\": 79,\\u003cbr\\u003e  \\\"values\\\": [\\u003cbr\\u003e    0.9249316642079718,\\u003cbr\\u003e    0.004754523516424991\\u003cbr\\u003e  ],\\u003cbr\\u003e  \\\"params\\\": {\\u003cbr\\u003e    \\\"scalers\\\": \\\"standard\\\",\\u003cbr\\u003e    \\\"knn_n_neighbors\\\": 10,\\u003cbr\\u003e    \\\"knn_p\\\": 4,\\u003cbr\\u003e    \\\"knn_weights\\\": \\\"uniform\\\"\\u003cbr\\u003e  }\\u003cbr\\u003e}\",\"{\\u003cbr\\u003e  \\\"number\\\": 80,\\u003cbr\\u003e  \\\"values\\\": [\\u003cbr\\u003e    0.928264838273618,\\u003cbr\\u003e    0.005655219087494146\\u003cbr\\u003e  ],\\u003cbr\\u003e  \\\"params\\\": {\\u003cbr\\u003e    \\\"scalers\\\": \\\"standard\\\",\\u003cbr\\u003e    \\\"knn_n_neighbors\\\": 54,\\u003cbr\\u003e    \\\"knn_p\\\": 10,\\u003cbr\\u003e    \\\"knn_weights\\\": \\\"distance\\\"\\u003cbr\\u003e  }\\u003cbr\\u003e}\",\"{\\u003cbr\\u003e  \\\"number\\\": 81,\\u003cbr\\u003e  \\\"values\\\": [\\u003cbr\\u003e    0.9269313446771745,\\u003cbr\\u003e    0.005439223564700645\\u003cbr\\u003e  ],\\u003cbr\\u003e  \\\"params\\\": {\\u003cbr\\u003e    \\\"scalers\\\": \\\"standard\\\",\\u003cbr\\u003e    \\\"knn_n_neighbors\\\": 18,\\u003cbr\\u003e    \\\"knn_p\\\": 8,\\u003cbr\\u003e    \\\"knn_weights\\\": \\\"uniform\\\"\\u003cbr\\u003e  }\\u003cbr\\u003e}\",\"{\\u003cbr\\u003e  \\\"number\\\": 82,\\u003cbr\\u003e  \\\"values\\\": [\\u003cbr\\u003e    0.9273322513084837,\\u003cbr\\u003e    0.0035642873468080356\\u003cbr\\u003e  ],\\u003cbr\\u003e  \\\"params\\\": {\\u003cbr\\u003e    \\\"scalers\\\": \\\"normalizer\\\",\\u003cbr\\u003e    \\\"knn_n_neighbors\\\": 27,\\u003cbr\\u003e    \\\"knn_p\\\": 4,\\u003cbr\\u003e    \\\"knn_weights\\\": \\\"distance\\\"\\u003cbr\\u003e  }\\u003cbr\\u003e}\",\"{\\u003cbr\\u003e  \\\"number\\\": 83,\\u003cbr\\u003e  \\\"values\\\": [\\u003cbr\\u003e    0.9255983487922533,\\u003cbr\\u003e    0.004980426507975065\\u003cbr\\u003e  ],\\u003cbr\\u003e  \\\"params\\\": {\\u003cbr\\u003e    \\\"scalers\\\": \\\"minmax\\\",\\u003cbr\\u003e    \\\"knn_n_neighbors\\\": 14,\\u003cbr\\u003e    \\\"knn_p\\\": 5,\\u003cbr\\u003e    \\\"knn_weights\\\": \\\"distance\\\"\\u003cbr\\u003e  }\\u003cbr\\u003e}\",\"{\\u003cbr\\u003e  \\\"number\\\": 84,\\u003cbr\\u003e  \\\"values\\\": [\\u003cbr\\u003e    0.9281309538740871,\\u003cbr\\u003e    0.0061175236436683145\\u003cbr\\u003e  ],\\u003cbr\\u003e  \\\"params\\\": {\\u003cbr\\u003e    \\\"scalers\\\": \\\"robust\\\",\\u003cbr\\u003e    \\\"knn_n_neighbors\\\": 82,\\u003cbr\\u003e    \\\"knn_p\\\": 6,\\u003cbr\\u003e    \\\"knn_weights\\\": \\\"uniform\\\"\\u003cbr\\u003e  }\\u003cbr\\u003e}\",\"{\\u003cbr\\u003e  \\\"number\\\": 85,\\u003cbr\\u003e  \\\"values\\\": [\\u003cbr\\u003e    0.9263982956366628,\\u003cbr\\u003e    0.006299525137070461\\u003cbr\\u003e  ],\\u003cbr\\u003e  \\\"params\\\": {\\u003cbr\\u003e    \\\"scalers\\\": \\\"robust\\\",\\u003cbr\\u003e    \\\"knn_n_neighbors\\\": 43,\\u003cbr\\u003e    \\\"knn_p\\\": 6,\\u003cbr\\u003e    \\\"knn_weights\\\": \\\"uniform\\\"\\u003cbr\\u003e  }\\u003cbr\\u003e}\",\"{\\u003cbr\\u003e  \\\"number\\\": 86,\\u003cbr\\u003e  \\\"values\\\": [\\u003cbr\\u003e    0.9253314509883557,\\u003cbr\\u003e    0.004762050758245893\\u003cbr\\u003e  ],\\u003cbr\\u003e  \\\"params\\\": {\\u003cbr\\u003e    \\\"scalers\\\": \\\"normalizer\\\",\\u003cbr\\u003e    \\\"knn_n_neighbors\\\": 22,\\u003cbr\\u003e    \\\"knn_p\\\": 10,\\u003cbr\\u003e    \\\"knn_weights\\\": \\\"distance\\\"\\u003cbr\\u003e  }\\u003cbr\\u003e}\",\"{\\u003cbr\\u003e  \\\"number\\\": 87,\\u003cbr\\u003e  \\\"values\\\": [\\u003cbr\\u003e    0.9259988821399208,\\u003cbr\\u003e    0.004444457781902283\\u003cbr\\u003e  ],\\u003cbr\\u003e  \\\"params\\\": {\\u003cbr\\u003e    \\\"scalers\\\": \\\"robust\\\",\\u003cbr\\u003e    \\\"knn_n_neighbors\\\": 33,\\u003cbr\\u003e    \\\"knn_p\\\": 3,\\u003cbr\\u003e    \\\"knn_weights\\\": \\\"distance\\\"\\u003cbr\\u003e  }\\u003cbr\\u003e}\",\"{\\u003cbr\\u003e  \\\"number\\\": 88,\\u003cbr\\u003e  \\\"values\\\": [\\u003cbr\\u003e    0.9277316648052257,\\u003cbr\\u003e    0.005346098348290507\\u003cbr\\u003e  ],\\u003cbr\\u003e  \\\"params\\\": {\\u003cbr\\u003e    \\\"scalers\\\": \\\"standard\\\",\\u003cbr\\u003e    \\\"knn_n_neighbors\\\": 91,\\u003cbr\\u003e    \\\"knn_p\\\": 9,\\u003cbr\\u003e    \\\"knn_weights\\\": \\\"distance\\\"\\u003cbr\\u003e  }\\u003cbr\\u003e}\",\"{\\u003cbr\\u003e  \\\"number\\\": 89,\\u003cbr\\u003e  \\\"values\\\": [\\u003cbr\\u003e    0.926798580128569,\\u003cbr\\u003e    0.0053430191068380255\\u003cbr\\u003e  ],\\u003cbr\\u003e  \\\"params\\\": {\\u003cbr\\u003e    \\\"scalers\\\": \\\"minmax\\\",\\u003cbr\\u003e    \\\"knn_n_neighbors\\\": 24,\\u003cbr\\u003e    \\\"knn_p\\\": 6,\\u003cbr\\u003e    \\\"knn_weights\\\": \\\"uniform\\\"\\u003cbr\\u003e  }\\u003cbr\\u003e}\",\"{\\u003cbr\\u003e  \\\"number\\\": 90,\\u003cbr\\u003e  \\\"values\\\": [\\u003cbr\\u003e    0.9243974953165346,\\u003cbr\\u003e    0.005742466870087461\\u003cbr\\u003e  ],\\u003cbr\\u003e  \\\"params\\\": {\\u003cbr\\u003e    \\\"scalers\\\": \\\"robust\\\",\\u003cbr\\u003e    \\\"knn_n_neighbors\\\": 13,\\u003cbr\\u003e    \\\"knn_p\\\": 3,\\u003cbr\\u003e    \\\"knn_weights\\\": \\\"uniform\\\"\\u003cbr\\u003e  }\\u003cbr\\u003e}\",\"{\\u003cbr\\u003e  \\\"number\\\": 91,\\u003cbr\\u003e  \\\"values\\\": [\\u003cbr\\u003e    0.9263991666318271,\\u003cbr\\u003e    0.005182259677557087\\u003cbr\\u003e  ],\\u003cbr\\u003e  \\\"params\\\": {\\u003cbr\\u003e    \\\"scalers\\\": \\\"robust\\\",\\u003cbr\\u003e    \\\"knn_n_neighbors\\\": 30,\\u003cbr\\u003e    \\\"knn_p\\\": 10,\\u003cbr\\u003e    \\\"knn_weights\\\": \\\"distance\\\"\\u003cbr\\u003e  }\\u003cbr\\u003e}\",\"{\\u003cbr\\u003e  \\\"number\\\": 92,\\u003cbr\\u003e  \\\"values\\\": [\\u003cbr\\u003e    0.9242660994746158,\\u003cbr\\u003e    0.0055048106750609505\\u003cbr\\u003e  ],\\u003cbr\\u003e  \\\"params\\\": {\\u003cbr\\u003e    \\\"scalers\\\": \\\"none\\\",\\u003cbr\\u003e    \\\"knn_n_neighbors\\\": 24,\\u003cbr\\u003e    \\\"knn_p\\\": 6,\\u003cbr\\u003e    \\\"knn_weights\\\": \\\"uniform\\\"\\u003cbr\\u003e  }\\u003cbr\\u003e}\",\"{\\u003cbr\\u003e  \\\"number\\\": 93,\\u003cbr\\u003e  \\\"values\\\": [\\u003cbr\\u003e    0.9274645181455669,\\u003cbr\\u003e    0.005817036512012499\\u003cbr\\u003e  ],\\u003cbr\\u003e  \\\"params\\\": {\\u003cbr\\u003e    \\\"scalers\\\": \\\"robust\\\",\\u003cbr\\u003e    \\\"knn_n_neighbors\\\": 98,\\u003cbr\\u003e    \\\"knn_p\\\": 9,\\u003cbr\\u003e    \\\"knn_weights\\\": \\\"uniform\\\"\\u003cbr\\u003e  }\\u003cbr\\u003e}\",\"{\\u003cbr\\u003e  \\\"number\\\": 94,\\u003cbr\\u003e  \\\"values\\\": [\\u003cbr\\u003e    0.9191985251812168,\\u003cbr\\u003e    0.007327133809688815\\u003cbr\\u003e  ],\\u003cbr\\u003e  \\\"params\\\": {\\u003cbr\\u003e    \\\"scalers\\\": \\\"none\\\",\\u003cbr\\u003e    \\\"knn_n_neighbors\\\": 8,\\u003cbr\\u003e    \\\"knn_p\\\": 3,\\u003cbr\\u003e    \\\"knn_weights\\\": \\\"uniform\\\"\\u003cbr\\u003e  }\\u003cbr\\u003e}\",\"{\\u003cbr\\u003e  \\\"number\\\": 95,\\u003cbr\\u003e  \\\"values\\\": [\\u003cbr\\u003e    0.9262644112371319,\\u003cbr\\u003e    0.006827167980505417\\u003cbr\\u003e  ],\\u003cbr\\u003e  \\\"params\\\": {\\u003cbr\\u003e    \\\"scalers\\\": \\\"normalizer\\\",\\u003cbr\\u003e    \\\"knn_n_neighbors\\\": 78,\\u003cbr\\u003e    \\\"knn_p\\\": 8,\\u003cbr\\u003e    \\\"knn_weights\\\": \\\"uniform\\\"\\u003cbr\\u003e  }\\u003cbr\\u003e}\",\"{\\u003cbr\\u003e  \\\"number\\\": 96,\\u003cbr\\u003e  \\\"values\\\": [\\u003cbr\\u003e    0.9257314866245007,\\u003cbr\\u003e    0.005348843230587915\\u003cbr\\u003e  ],\\u003cbr\\u003e  \\\"params\\\": {\\u003cbr\\u003e    \\\"scalers\\\": \\\"normalizer\\\",\\u003cbr\\u003e    \\\"knn_n_neighbors\\\": 89,\\u003cbr\\u003e    \\\"knn_p\\\": 5,\\u003cbr\\u003e    \\\"knn_weights\\\": \\\"uniform\\\"\\u003cbr\\u003e  }\\u003cbr\\u003e}\",\"{\\u003cbr\\u003e  \\\"number\\\": 97,\\u003cbr\\u003e  \\\"values\\\": [\\u003cbr\\u003e    0.927998064897601,\\u003cbr\\u003e    0.006242248401281308\\u003cbr\\u003e  ],\\u003cbr\\u003e  \\\"params\\\": {\\u003cbr\\u003e    \\\"scalers\\\": \\\"standard\\\",\\u003cbr\\u003e    \\\"knn_n_neighbors\\\": 51,\\u003cbr\\u003e    \\\"knn_p\\\": 8,\\u003cbr\\u003e    \\\"knn_weights\\\": \\\"uniform\\\"\\u003cbr\\u003e  }\\u003cbr\\u003e}\",\"{\\u003cbr\\u003e  \\\"number\\\": 98,\\u003cbr\\u003e  \\\"values\\\": [\\u003cbr\\u003e    0.9267983312728078,\\u003cbr\\u003e    0.006004012366288037\\u003cbr\\u003e  ],\\u003cbr\\u003e  \\\"params\\\": {\\u003cbr\\u003e    \\\"scalers\\\": \\\"minmax\\\",\\u003cbr\\u003e    \\\"knn_n_neighbors\\\": 43,\\u003cbr\\u003e    \\\"knn_p\\\": 10,\\u003cbr\\u003e    \\\"knn_weights\\\": \\\"distance\\\"\\u003cbr\\u003e  }\\u003cbr\\u003e}\",\"{\\u003cbr\\u003e  \\\"number\\\": 99,\\u003cbr\\u003e  \\\"values\\\": [\\u003cbr\\u003e    0.9273316291690807,\\u003cbr\\u003e    0.004769724934810608\\u003cbr\\u003e  ],\\u003cbr\\u003e  \\\"params\\\": {\\u003cbr\\u003e    \\\"scalers\\\": \\\"minmax\\\",\\u003cbr\\u003e    \\\"knn_n_neighbors\\\": 95,\\u003cbr\\u003e    \\\"knn_p\\\": 6,\\u003cbr\\u003e    \\\"knn_weights\\\": \\\"distance\\\"\\u003cbr\\u003e  }\\u003cbr\\u003e}\",\"{\\u003cbr\\u003e  \\\"number\\\": 100,\\u003cbr\\u003e  \\\"values\\\": [\\u003cbr\\u003e    0.9274652647128504,\\u003cbr\\u003e    0.004927212088656737\\u003cbr\\u003e  ],\\u003cbr\\u003e  \\\"params\\\": {\\u003cbr\\u003e    \\\"scalers\\\": \\\"robust\\\",\\u003cbr\\u003e    \\\"knn_n_neighbors\\\": 27,\\u003cbr\\u003e    \\\"knn_p\\\": 10,\\u003cbr\\u003e    \\\"knn_weights\\\": \\\"distance\\\"\\u003cbr\\u003e  }\\u003cbr\\u003e}\",\"{\\u003cbr\\u003e  \\\"number\\\": 101,\\u003cbr\\u003e  \\\"values\\\": [\\u003cbr\\u003e    0.9278646782095924,\\u003cbr\\u003e    0.004728609102229588\\u003cbr\\u003e  ],\\u003cbr\\u003e  \\\"params\\\": {\\u003cbr\\u003e    \\\"scalers\\\": \\\"normalizer\\\",\\u003cbr\\u003e    \\\"knn_n_neighbors\\\": 46,\\u003cbr\\u003e    \\\"knn_p\\\": 9,\\u003cbr\\u003e    \\\"knn_weights\\\": \\\"distance\\\"\\u003cbr\\u003e  }\\u003cbr\\u003e}\",\"{\\u003cbr\\u003e  \\\"number\\\": 102,\\u003cbr\\u003e  \\\"values\\\": [\\u003cbr\\u003e    0.9263976734972597,\\u003cbr\\u003e    0.006632966437889119\\u003cbr\\u003e  ],\\u003cbr\\u003e  \\\"params\\\": {\\u003cbr\\u003e    \\\"scalers\\\": \\\"minmax\\\",\\u003cbr\\u003e    \\\"knn_n_neighbors\\\": 48,\\u003cbr\\u003e    \\\"knn_p\\\": 6,\\u003cbr\\u003e    \\\"knn_weights\\\": \\\"distance\\\"\\u003cbr\\u003e  }\\u003cbr\\u003e}\",\"{\\u003cbr\\u003e  \\\"number\\\": 103,\\u003cbr\\u003e  \\\"values\\\": [\\u003cbr\\u003e    0.9247985263757246,\\u003cbr\\u003e    0.0045924864845662185\\u003cbr\\u003e  ],\\u003cbr\\u003e  \\\"params\\\": {\\u003cbr\\u003e    \\\"scalers\\\": \\\"robust\\\",\\u003cbr\\u003e    \\\"knn_n_neighbors\\\": 10,\\u003cbr\\u003e    \\\"knn_p\\\": 4,\\u003cbr\\u003e    \\\"knn_weights\\\": \\\"distance\\\"\\u003cbr\\u003e  }\\u003cbr\\u003e}\",\"{\\u003cbr\\u003e  \\\"number\\\": 104,\\u003cbr\\u003e  \\\"values\\\": [\\u003cbr\\u003e    0.9147991286066667,\\u003cbr\\u003e    0.004945327873162726\\u003cbr\\u003e  ],\\u003cbr\\u003e  \\\"params\\\": {\\u003cbr\\u003e    \\\"scalers\\\": \\\"minmax\\\",\\u003cbr\\u003e    \\\"knn_n_neighbors\\\": 4,\\u003cbr\\u003e    \\\"knn_p\\\": 5,\\u003cbr\\u003e    \\\"knn_weights\\\": \\\"uniform\\\"\\u003cbr\\u003e  }\\u003cbr\\u003e}\",\"{\\u003cbr\\u003e  \\\"number\\\": 105,\\u003cbr\\u003e  \\\"values\\\": [\\u003cbr\\u003e    0.9241314685078013,\\u003cbr\\u003e    0.005878420207689793\\u003cbr\\u003e  ],\\u003cbr\\u003e  \\\"params\\\": {\\u003cbr\\u003e    \\\"scalers\\\": \\\"normalizer\\\",\\u003cbr\\u003e    \\\"knn_n_neighbors\\\": 12,\\u003cbr\\u003e    \\\"knn_p\\\": 9,\\u003cbr\\u003e    \\\"knn_weights\\\": \\\"distance\\\"\\u003cbr\\u003e  }\\u003cbr\\u003e}\",\"{\\u003cbr\\u003e  \\\"number\\\": 106,\\u003cbr\\u003e  \\\"values\\\": [\\u003cbr\\u003e    0.926131397832765,\\u003cbr\\u003e    0.005914314698819602\\u003cbr\\u003e  ],\\u003cbr\\u003e  \\\"params\\\": {\\u003cbr\\u003e    \\\"scalers\\\": \\\"minmax\\\",\\u003cbr\\u003e    \\\"knn_n_neighbors\\\": 46,\\u003cbr\\u003e    \\\"knn_p\\\": 6,\\u003cbr\\u003e    \\\"knn_weights\\\": \\\"distance\\\"\\u003cbr\\u003e  }\\u003cbr\\u003e}\",\"{\\u003cbr\\u003e  \\\"number\\\": 107,\\u003cbr\\u003e  \\\"values\\\": [\\u003cbr\\u003e    0.9275981536893365,\\u003cbr\\u003e    0.006108395032432815\\u003cbr\\u003e  ],\\u003cbr\\u003e  \\\"params\\\": {\\u003cbr\\u003e    \\\"scalers\\\": \\\"minmax\\\",\\u003cbr\\u003e    \\\"knn_n_neighbors\\\": 71,\\u003cbr\\u003e    \\\"knn_p\\\": 5,\\u003cbr\\u003e    \\\"knn_weights\\\": \\\"distance\\\"\\u003cbr\\u003e  }\\u003cbr\\u003e}\",\"{\\u003cbr\\u003e  \\\"number\\\": 108,\\u003cbr\\u003e  \\\"values\\\": [\\u003cbr\\u003e    0.9229324814502916,\\u003cbr\\u003e    0.005888944336171775\\u003cbr\\u003e  ],\\u003cbr\\u003e  \\\"params\\\": {\\u003cbr\\u003e    \\\"scalers\\\": \\\"none\\\",\\u003cbr\\u003e    \\\"knn_n_neighbors\\\": 13,\\u003cbr\\u003e    \\\"knn_p\\\": 3,\\u003cbr\\u003e    \\\"knn_weights\\\": \\\"distance\\\"\\u003cbr\\u003e  }\\u003cbr\\u003e}\",\"{\\u003cbr\\u003e  \\\"number\\\": 109,\\u003cbr\\u003e  \\\"values\\\": [\\u003cbr\\u003e    0.928264216134215,\\u003cbr\\u003e    0.007190887195528145\\u003cbr\\u003e  ],\\u003cbr\\u003e  \\\"params\\\": {\\u003cbr\\u003e    \\\"scalers\\\": \\\"minmax\\\",\\u003cbr\\u003e    \\\"knn_n_neighbors\\\": 62,\\u003cbr\\u003e    \\\"knn_p\\\": 5,\\u003cbr\\u003e    \\\"knn_weights\\\": \\\"uniform\\\"\\u003cbr\\u003e  }\\u003cbr\\u003e}\",\"{\\u003cbr\\u003e  \\\"number\\\": 110,\\u003cbr\\u003e  \\\"values\\\": [\\u003cbr\\u003e    0.9275984025450977,\\u003cbr\\u003e    0.004700153430169825\\u003cbr\\u003e  ],\\u003cbr\\u003e  \\\"params\\\": {\\u003cbr\\u003e    \\\"scalers\\\": \\\"minmax\\\",\\u003cbr\\u003e    \\\"knn_n_neighbors\\\": 95,\\u003cbr\\u003e    \\\"knn_p\\\": 3,\\u003cbr\\u003e    \\\"knn_weights\\\": \\\"distance\\\"\\u003cbr\\u003e  }\\u003cbr\\u003e}\",\"{\\u003cbr\\u003e  \\\"number\\\": 111,\\u003cbr\\u003e  \\\"values\\\": [\\u003cbr\\u003e    0.9251984375839888,\\u003cbr\\u003e    0.005650861162539407\\u003cbr\\u003e  ],\\u003cbr\\u003e  \\\"params\\\": {\\u003cbr\\u003e    \\\"scalers\\\": \\\"none\\\",\\u003cbr\\u003e    \\\"knn_n_neighbors\\\": 93,\\u003cbr\\u003e    \\\"knn_p\\\": 10,\\u003cbr\\u003e    \\\"knn_weights\\\": \\\"distance\\\"\\u003cbr\\u003e  }\\u003cbr\\u003e}\",\"{\\u003cbr\\u003e  \\\"number\\\": 112,\\u003cbr\\u003e  \\\"values\\\": [\\u003cbr\\u003e    0.9245315041439462,\\u003cbr\\u003e    0.00595631973277258\\u003cbr\\u003e  ],\\u003cbr\\u003e  \\\"params\\\": {\\u003cbr\\u003e    \\\"scalers\\\": \\\"minmax\\\",\\u003cbr\\u003e    \\\"knn_n_neighbors\\\": 35,\\u003cbr\\u003e    \\\"knn_p\\\": 6,\\u003cbr\\u003e    \\\"knn_weights\\\": \\\"uniform\\\"\\u003cbr\\u003e  }\\u003cbr\\u003e}\",\"{\\u003cbr\\u003e  \\\"number\\\": 113,\\u003cbr\\u003e  \\\"values\\\": [\\u003cbr\\u003e    0.927731291521584,\\u003cbr\\u003e    0.005945623196044867\\u003cbr\\u003e  ],\\u003cbr\\u003e  \\\"params\\\": {\\u003cbr\\u003e    \\\"scalers\\\": \\\"standard\\\",\\u003cbr\\u003e    \\\"knn_n_neighbors\\\": 68,\\u003cbr\\u003e    \\\"knn_p\\\": 10,\\u003cbr\\u003e    \\\"knn_weights\\\": \\\"distance\\\"\\u003cbr\\u003e  }\\u003cbr\\u003e}\",\"{\\u003cbr\\u003e  \\\"number\\\": 114,\\u003cbr\\u003e  \\\"values\\\": [\\u003cbr\\u003e    0.9273322513084837,\\u003cbr\\u003e    0.0035642873468080356\\u003cbr\\u003e  ],\\u003cbr\\u003e  \\\"params\\\": {\\u003cbr\\u003e    \\\"scalers\\\": \\\"normalizer\\\",\\u003cbr\\u003e    \\\"knn_n_neighbors\\\": 27,\\u003cbr\\u003e    \\\"knn_p\\\": 4,\\u003cbr\\u003e    \\\"knn_weights\\\": \\\"distance\\\"\\u003cbr\\u003e  }\\u003cbr\\u003e}\",\"{\\u003cbr\\u003e  \\\"number\\\": 115,\\u003cbr\\u003e  \\\"values\\\": [\\u003cbr\\u003e    0.9237320550110593,\\u003cbr\\u003e    0.006645705683338805\\u003cbr\\u003e  ],\\u003cbr\\u003e  \\\"params\\\": {\\u003cbr\\u003e    \\\"scalers\\\": \\\"none\\\",\\u003cbr\\u003e    \\\"knn_n_neighbors\\\": 23,\\u003cbr\\u003e    \\\"knn_p\\\": 5,\\u003cbr\\u003e    \\\"knn_weights\\\": \\\"uniform\\\"\\u003cbr\\u003e  }\\u003cbr\\u003e}\",\"{\\u003cbr\\u003e  \\\"number\\\": 116,\\u003cbr\\u003e  \\\"values\\\": [\\u003cbr\\u003e    0.9265319311804324,\\u003cbr\\u003e    0.004901805398602873\\u003cbr\\u003e  ],\\u003cbr\\u003e  \\\"params\\\": {\\u003cbr\\u003e    \\\"scalers\\\": \\\"minmax\\\",\\u003cbr\\u003e    \\\"knn_n_neighbors\\\": 23,\\u003cbr\\u003e    \\\"knn_p\\\": 1,\\u003cbr\\u003e    \\\"knn_weights\\\": \\\"distance\\\"\\u003cbr\\u003e  }\\u003cbr\\u003e}\",\"{\\u003cbr\\u003e  \\\"number\\\": 117,\\u003cbr\\u003e  \\\"values\\\": [\\u003cbr\\u003e    0.9279985626091234,\\u003cbr\\u003e    0.004469101049292179\\u003cbr\\u003e  ],\\u003cbr\\u003e  \\\"params\\\": {\\u003cbr\\u003e    \\\"scalers\\\": \\\"standard\\\",\\u003cbr\\u003e    \\\"knn_n_neighbors\\\": 27,\\u003cbr\\u003e    \\\"knn_p\\\": 9,\\u003cbr\\u003e    \\\"knn_weights\\\": \\\"distance\\\"\\u003cbr\\u003e  }\\u003cbr\\u003e}\",\"{\\u003cbr\\u003e  \\\"number\\\": 118,\\u003cbr\\u003e  \\\"values\\\": [\\u003cbr\\u003e    0.927465389140731,\\u003cbr\\u003e    0.004157188539184194\\u003cbr\\u003e  ],\\u003cbr\\u003e  \\\"params\\\": {\\u003cbr\\u003e    \\\"scalers\\\": \\\"robust\\\",\\u003cbr\\u003e    \\\"knn_n_neighbors\\\": 70,\\u003cbr\\u003e    \\\"knn_p\\\": 3,\\u003cbr\\u003e    \\\"knn_weights\\\": \\\"uniform\\\"\\u003cbr\\u003e  }\\u003cbr\\u003e}\",\"{\\u003cbr\\u003e  \\\"number\\\": 119,\\u003cbr\\u003e  \\\"values\\\": [\\u003cbr\\u003e    0.9271989890483557,\\u003cbr\\u003e    0.004953547704785433\\u003cbr\\u003e  ],\\u003cbr\\u003e  \\\"params\\\": {\\u003cbr\\u003e    \\\"scalers\\\": \\\"robust\\\",\\u003cbr\\u003e    \\\"knn_n_neighbors\\\": 37,\\u003cbr\\u003e    \\\"knn_p\\\": 9,\\u003cbr\\u003e    \\\"knn_weights\\\": \\\"distance\\\"\\u003cbr\\u003e  }\\u003cbr\\u003e}\",\"{\\u003cbr\\u003e  \\\"number\\\": 120,\\u003cbr\\u003e  \\\"values\\\": [\\u003cbr\\u003e    0.9267987045564495,\\u003cbr\\u003e    0.004722394522530304\\u003cbr\\u003e  ],\\u003cbr\\u003e  \\\"params\\\": {\\u003cbr\\u003e    \\\"scalers\\\": \\\"robust\\\",\\u003cbr\\u003e    \\\"knn_n_neighbors\\\": 54,\\u003cbr\\u003e    \\\"knn_p\\\": 1,\\u003cbr\\u003e    \\\"knn_weights\\\": \\\"uniform\\\"\\u003cbr\\u003e  }\\u003cbr\\u003e}\",\"{\\u003cbr\\u003e  \\\"number\\\": 121,\\u003cbr\\u003e  \\\"values\\\": [\\u003cbr\\u003e    0.9230664902777033,\\u003cbr\\u003e    0.00511011677777282\\u003cbr\\u003e  ],\\u003cbr\\u003e  \\\"params\\\": {\\u003cbr\\u003e    \\\"scalers\\\": \\\"none\\\",\\u003cbr\\u003e    \\\"knn_n_neighbors\\\": 14,\\u003cbr\\u003e    \\\"knn_p\\\": 2,\\u003cbr\\u003e    \\\"knn_weights\\\": \\\"uniform\\\"\\u003cbr\\u003e  }\\u003cbr\\u003e}\",\"{\\u003cbr\\u003e  \\\"number\\\": 122,\\u003cbr\\u003e  \\\"values\\\": [\\u003cbr\\u003e    0.9283984738173877,\\u003cbr\\u003e    0.005052728215971491\\u003cbr\\u003e  ],\\u003cbr\\u003e  \\\"params\\\": {\\u003cbr\\u003e    \\\"scalers\\\": \\\"standard\\\",\\u003cbr\\u003e    \\\"knn_n_neighbors\\\": 68,\\u003cbr\\u003e    \\\"knn_p\\\": 4,\\u003cbr\\u003e    \\\"knn_weights\\\": \\\"distance\\\"\\u003cbr\\u003e  }\\u003cbr\\u003e}\",\"{\\u003cbr\\u003e  \\\"number\\\": 123,\\u003cbr\\u003e  \\\"values\\\": [\\u003cbr\\u003e    0.9267983312728078,\\u003cbr\\u003e    0.005156303031365725\\u003cbr\\u003e  ],\\u003cbr\\u003e  \\\"params\\\": {\\u003cbr\\u003e    \\\"scalers\\\": \\\"robust\\\",\\u003cbr\\u003e    \\\"knn_n_neighbors\\\": 32,\\u003cbr\\u003e    \\\"knn_p\\\": 3,\\u003cbr\\u003e    \\\"knn_weights\\\": \\\"uniform\\\"\\u003cbr\\u003e  }\\u003cbr\\u003e}\",\"{\\u003cbr\\u003e  \\\"number\\\": 124,\\u003cbr\\u003e  \\\"values\\\": [\\u003cbr\\u003e    0.9245313797160657,\\u003cbr\\u003e    0.005787431318000739\\u003cbr\\u003e  ],\\u003cbr\\u003e  \\\"params\\\": {\\u003cbr\\u003e    \\\"scalers\\\": \\\"minmax\\\",\\u003cbr\\u003e    \\\"knn_n_neighbors\\\": 13,\\u003cbr\\u003e    \\\"knn_p\\\": 6,\\u003cbr\\u003e    \\\"knn_weights\\\": \\\"uniform\\\"\\u003cbr\\u003e  }\\u003cbr\\u003e}\",\"{\\u003cbr\\u003e  \\\"number\\\": 125,\\u003cbr\\u003e  \\\"values\\\": [\\u003cbr\\u003e    0.9269314691050551,\\u003cbr\\u003e    0.005436517753907961\\u003cbr\\u003e  ],\\u003cbr\\u003e  \\\"params\\\": {\\u003cbr\\u003e    \\\"scalers\\\": \\\"standard\\\",\\u003cbr\\u003e    \\\"knn_n_neighbors\\\": 10,\\u003cbr\\u003e    \\\"knn_p\\\": 5,\\u003cbr\\u003e    \\\"knn_weights\\\": \\\"uniform\\\"\\u003cbr\\u003e  }\\u003cbr\\u003e}\",\"{\\u003cbr\\u003e  \\\"number\\\": 126,\\u003cbr\\u003e  \\\"values\\\": [\\u003cbr\\u003e    0.9270648557930636,\\u003cbr\\u003e    0.004950887311375875\\u003cbr\\u003e  ],\\u003cbr\\u003e  \\\"params\\\": {\\u003cbr\\u003e    \\\"scalers\\\": \\\"standard\\\",\\u003cbr\\u003e    \\\"knn_n_neighbors\\\": 89,\\u003cbr\\u003e    \\\"knn_p\\\": 10,\\u003cbr\\u003e    \\\"knn_weights\\\": \\\"distance\\\"\\u003cbr\\u003e  }\\u003cbr\\u003e}\",\"{\\u003cbr\\u003e  \\\"number\\\": 127,\\u003cbr\\u003e  \\\"values\\\": [\\u003cbr\\u003e    0.927598029261456,\\u003cbr\\u003e    0.006027701842632046\\u003cbr\\u003e  ],\\u003cbr\\u003e  \\\"params\\\": {\\u003cbr\\u003e    \\\"scalers\\\": \\\"minmax\\\",\\u003cbr\\u003e    \\\"knn_n_neighbors\\\": 56,\\u003cbr\\u003e    \\\"knn_p\\\": 3,\\u003cbr\\u003e    \\\"knn_weights\\\": \\\"uniform\\\"\\u003cbr\\u003e  }\\u003cbr\\u003e}\",\"{\\u003cbr\\u003e  \\\"number\\\": 128,\\u003cbr\\u003e  \\\"values\\\": [\\u003cbr\\u003e    0.9251986864397502,\\u003cbr\\u003e    0.005780187942087408\\u003cbr\\u003e  ],\\u003cbr\\u003e  \\\"params\\\": {\\u003cbr\\u003e    \\\"scalers\\\": \\\"robust\\\",\\u003cbr\\u003e    \\\"knn_n_neighbors\\\": 36,\\u003cbr\\u003e    \\\"knn_p\\\": 7,\\u003cbr\\u003e    \\\"knn_weights\\\": \\\"uniform\\\"\\u003cbr\\u003e  }\\u003cbr\\u003e}\",\"{\\u003cbr\\u003e  \\\"number\\\": 129,\\u003cbr\\u003e  \\\"values\\\": [\\u003cbr\\u003e    0.9274653891407311,\\u003cbr\\u003e    0.0035084583021040305\\u003cbr\\u003e  ],\\u003cbr\\u003e  \\\"params\\\": {\\u003cbr\\u003e    \\\"scalers\\\": \\\"standard\\\",\\u003cbr\\u003e    \\\"knn_n_neighbors\\\": 20,\\u003cbr\\u003e    \\\"knn_p\\\": 9,\\u003cbr\\u003e    \\\"knn_weights\\\": \\\"distance\\\"\\u003cbr\\u003e  }\\u003cbr\\u003e}\",\"{\\u003cbr\\u003e  \\\"number\\\": 130,\\u003cbr\\u003e  \\\"values\\\": [\\u003cbr\\u003e    0.9274648914292085,\\u003cbr\\u003e    0.005006965333593964\\u003cbr\\u003e  ],\\u003cbr\\u003e  \\\"params\\\": {\\u003cbr\\u003e    \\\"scalers\\\": \\\"minmax\\\",\\u003cbr\\u003e    \\\"knn_n_neighbors\\\": 82,\\u003cbr\\u003e    \\\"knn_p\\\": 5,\\u003cbr\\u003e    \\\"knn_weights\\\": \\\"distance\\\"\\u003cbr\\u003e  }\\u003cbr\\u003e}\",\"{\\u003cbr\\u003e  \\\"number\\\": 131,\\u003cbr\\u003e  \\\"values\\\": [\\u003cbr\\u003e    0.9275984025450977,\\u003cbr\\u003e    0.005835078106117005\\u003cbr\\u003e  ],\\u003cbr\\u003e  \\\"params\\\": {\\u003cbr\\u003e    \\\"scalers\\\": \\\"minmax\\\",\\u003cbr\\u003e    \\\"knn_n_neighbors\\\": 56,\\u003cbr\\u003e    \\\"knn_p\\\": 2,\\u003cbr\\u003e    \\\"knn_weights\\\": \\\"distance\\\"\\u003cbr\\u003e  }\\u003cbr\\u003e}\",\"{\\u003cbr\\u003e  \\\"number\\\": 132,\\u003cbr\\u003e  \\\"values\\\": [\\u003cbr\\u003e    0.9278651759211148,\\u003cbr\\u003e    0.005222625716932729\\u003cbr\\u003e  ],\\u003cbr\\u003e  \\\"params\\\": {\\u003cbr\\u003e    \\\"scalers\\\": \\\"normalizer\\\",\\u003cbr\\u003e    \\\"knn_n_neighbors\\\": 36,\\u003cbr\\u003e    \\\"knn_p\\\": 1,\\u003cbr\\u003e    \\\"knn_weights\\\": \\\"distance\\\"\\u003cbr\\u003e  }\\u003cbr\\u003e}\",\"{\\u003cbr\\u003e  \\\"number\\\": 133,\\u003cbr\\u003e  \\\"values\\\": [\\u003cbr\\u003e    0.9262647845207735,\\u003cbr\\u003e    0.005445005207876953\\u003cbr\\u003e  ],\\u003cbr\\u003e  \\\"params\\\": {\\u003cbr\\u003e    \\\"scalers\\\": \\\"normalizer\\\",\\u003cbr\\u003e    \\\"knn_n_neighbors\\\": 91,\\u003cbr\\u003e    \\\"knn_p\\\": 5,\\u003cbr\\u003e    \\\"knn_weights\\\": \\\"uniform\\\"\\u003cbr\\u003e  }\\u003cbr\\u003e}\",\"{\\u003cbr\\u003e  \\\"number\\\": 134,\\u003cbr\\u003e  \\\"values\\\": [\\u003cbr\\u003e    0.9262650333765349,\\u003cbr\\u003e    0.004861120001372636\\u003cbr\\u003e  ],\\u003cbr\\u003e  \\\"params\\\": {\\u003cbr\\u003e    \\\"scalers\\\": \\\"normalizer\\\",\\u003cbr\\u003e    \\\"knn_n_neighbors\\\": 75,\\u003cbr\\u003e    \\\"knn_p\\\": 9,\\u003cbr\\u003e    \\\"knn_weights\\\": \\\"uniform\\\"\\u003cbr\\u003e  }\\u003cbr\\u003e}\",\"{\\u003cbr\\u003e  \\\"number\\\": 135,\\u003cbr\\u003e  \\\"values\\\": [\\u003cbr\\u003e    0.9257326064754262,\\u003cbr\\u003e    0.003640911975713814\\u003cbr\\u003e  ],\\u003cbr\\u003e  \\\"params\\\": {\\u003cbr\\u003e    \\\"scalers\\\": \\\"normalizer\\\",\\u003cbr\\u003e    \\\"knn_n_neighbors\\\": 30,\\u003cbr\\u003e    \\\"knn_p\\\": 4,\\u003cbr\\u003e    \\\"knn_weights\\\": \\\"uniform\\\"\\u003cbr\\u003e  }\\u003cbr\\u003e}\",\"{\\u003cbr\\u003e  \\\"number\\\": 136,\\u003cbr\\u003e  \\\"values\\\": [\\u003cbr\\u003e    0.9279978160418397,\\u003cbr\\u003e    0.006362397154568819\\u003cbr\\u003e  ],\\u003cbr\\u003e  \\\"params\\\": {\\u003cbr\\u003e    \\\"scalers\\\": \\\"normalizer\\\",\\u003cbr\\u003e    \\\"knn_n_neighbors\\\": 68,\\u003cbr\\u003e    \\\"knn_p\\\": 7,\\u003cbr\\u003e    \\\"knn_weights\\\": \\\"distance\\\"\\u003cbr\\u003e  }\\u003cbr\\u003e}\",\"{\\u003cbr\\u003e  \\\"number\\\": 137,\\u003cbr\\u003e  \\\"values\\\": [\\u003cbr\\u003e    0.9278649270653536,\\u003cbr\\u003e    0.005458555501582399\\u003cbr\\u003e  ],\\u003cbr\\u003e  \\\"params\\\": {\\u003cbr\\u003e    \\\"scalers\\\": \\\"robust\\\",\\u003cbr\\u003e    \\\"knn_n_neighbors\\\": 54,\\u003cbr\\u003e    \\\"knn_p\\\": 10,\\u003cbr\\u003e    \\\"knn_weights\\\": \\\"distance\\\"\\u003cbr\\u003e  }\\u003cbr\\u003e}\",\"{\\u003cbr\\u003e  \\\"number\\\": 138,\\u003cbr\\u003e  \\\"values\\\": [\\u003cbr\\u003e    0.928398100533746,\\u003cbr\\u003e    0.0059407131150828706\\u003cbr\\u003e  ],\\u003cbr\\u003e  \\\"params\\\": {\\u003cbr\\u003e    \\\"scalers\\\": \\\"standard\\\",\\u003cbr\\u003e    \\\"knn_n_neighbors\\\": 57,\\u003cbr\\u003e    \\\"knn_p\\\": 7,\\u003cbr\\u003e    \\\"knn_weights\\\": \\\"uniform\\\"\\u003cbr\\u003e  }\\u003cbr\\u003e}\",\"{\\u003cbr\\u003e  \\\"number\\\": 139,\\u003cbr\\u003e  \\\"values\\\": [\\u003cbr\\u003e    0.927998064897601,\\u003cbr\\u003e    0.005634425847928473\\u003cbr\\u003e  ],\\u003cbr\\u003e  \\\"params\\\": {\\u003cbr\\u003e    \\\"scalers\\\": \\\"standard\\\",\\u003cbr\\u003e    \\\"knn_n_neighbors\\\": 54,\\u003cbr\\u003e    \\\"knn_p\\\": 7,\\u003cbr\\u003e    \\\"knn_weights\\\": \\\"distance\\\"\\u003cbr\\u003e  }\\u003cbr\\u003e}\",\"{\\u003cbr\\u003e  \\\"number\\\": 140,\\u003cbr\\u003e  \\\"values\\\": [\\u003cbr\\u003e    0.9269310958214133,\\u003cbr\\u003e    0.00650506851570325\\u003cbr\\u003e  ],\\u003cbr\\u003e  \\\"params\\\": {\\u003cbr\\u003e    \\\"scalers\\\": \\\"minmax\\\",\\u003cbr\\u003e    \\\"knn_n_neighbors\\\": 56,\\u003cbr\\u003e    \\\"knn_p\\\": 8,\\u003cbr\\u003e    \\\"knn_weights\\\": \\\"uniform\\\"\\u003cbr\\u003e  }\\u003cbr\\u003e}\",\"{\\u003cbr\\u003e  \\\"number\\\": 141,\\u003cbr\\u003e  \\\"values\\\": [\\u003cbr\\u003e    0.925331948699878,\\u003cbr\\u003e    0.00483238412841431\\u003cbr\\u003e  ],\\u003cbr\\u003e  \\\"params\\\": {\\u003cbr\\u003e    \\\"scalers\\\": \\\"robust\\\",\\u003cbr\\u003e    \\\"knn_n_neighbors\\\": 30,\\u003cbr\\u003e    \\\"knn_p\\\": 5,\\u003cbr\\u003e    \\\"knn_weights\\\": \\\"uniform\\\"\\u003cbr\\u003e  }\\u003cbr\\u003e}\",\"{\\u003cbr\\u003e  \\\"number\\\": 142,\\u003cbr\\u003e  \\\"values\\\": [\\u003cbr\\u003e    0.9273316291690807,\\u003cbr\\u003e    0.004769724934810608\\u003cbr\\u003e  ],\\u003cbr\\u003e  \\\"params\\\": {\\u003cbr\\u003e    \\\"scalers\\\": \\\"minmax\\\",\\u003cbr\\u003e    \\\"knn_n_neighbors\\\": 95,\\u003cbr\\u003e    \\\"knn_p\\\": 6,\\u003cbr\\u003e    \\\"knn_weights\\\": \\\"distance\\\"\\u003cbr\\u003e  }\\u003cbr\\u003e}\",\"{\\u003cbr\\u003e  \\\"number\\\": 143,\\u003cbr\\u003e  \\\"values\\\": [\\u003cbr\\u003e    0.9263980467809015,\\u003cbr\\u003e    0.006302589424696764\\u003cbr\\u003e  ],\\u003cbr\\u003e  \\\"params\\\": {\\u003cbr\\u003e    \\\"scalers\\\": \\\"minmax\\\",\\u003cbr\\u003e    \\\"knn_n_neighbors\\\": 20,\\u003cbr\\u003e    \\\"knn_p\\\": 7,\\u003cbr\\u003e    \\\"knn_weights\\\": \\\"distance\\\"\\u003cbr\\u003e  }\\u003cbr\\u003e}\",\"{\\u003cbr\\u003e  \\\"number\\\": 144,\\u003cbr\\u003e  \\\"values\\\": [\\u003cbr\\u003e    0.9229312371714855,\\u003cbr\\u003e    0.006750575230095225\\u003cbr\\u003e  ],\\u003cbr\\u003e  \\\"params\\\": {\\u003cbr\\u003e    \\\"scalers\\\": \\\"none\\\",\\u003cbr\\u003e    \\\"knn_n_neighbors\\\": 56,\\u003cbr\\u003e    \\\"knn_p\\\": 5,\\u003cbr\\u003e    \\\"knn_weights\\\": \\\"distance\\\"\\u003cbr\\u003e  }\\u003cbr\\u003e}\",\"{\\u003cbr\\u003e  \\\"number\\\": 145,\\u003cbr\\u003e  \\\"values\\\": [\\u003cbr\\u003e    0.9263986689203045,\\u003cbr\\u003e    0.00455041873104516\\u003cbr\\u003e  ],\\u003cbr\\u003e  \\\"params\\\": {\\u003cbr\\u003e    \\\"scalers\\\": \\\"minmax\\\",\\u003cbr\\u003e    \\\"knn_n_neighbors\\\": 23,\\u003cbr\\u003e    \\\"knn_p\\\": 4,\\u003cbr\\u003e    \\\"knn_weights\\\": \\\"distance\\\"\\u003cbr\\u003e  }\\u003cbr\\u003e}\",\"{\\u003cbr\\u003e  \\\"number\\\": 146,\\u003cbr\\u003e  \\\"values\\\": [\\u003cbr\\u003e    0.9270652290767055,\\u003cbr\\u003e    0.004091591083220889\\u003cbr\\u003e  ],\\u003cbr\\u003e  \\\"params\\\": {\\u003cbr\\u003e    \\\"scalers\\\": \\\"robust\\\",\\u003cbr\\u003e    \\\"knn_n_neighbors\\\": 75,\\u003cbr\\u003e    \\\"knn_p\\\": 5,\\u003cbr\\u003e    \\\"knn_weights\\\": \\\"uniform\\\"\\u003cbr\\u003e  }\\u003cbr\\u003e}\",\"{\\u003cbr\\u003e  \\\"number\\\": 147,\\u003cbr\\u003e  \\\"values\\\": [\\u003cbr\\u003e    0.9253315754162362,\\u003cbr\\u003e    0.004204680900485835\\u003cbr\\u003e  ],\\u003cbr\\u003e  \\\"params\\\": {\\u003cbr\\u003e    \\\"scalers\\\": \\\"normalizer\\\",\\u003cbr\\u003e    \\\"knn_n_neighbors\\\": 22,\\u003cbr\\u003e    \\\"knn_p\\\": 3,\\u003cbr\\u003e    \\\"knn_weights\\\": \\\"distance\\\"\\u003cbr\\u003e  }\\u003cbr\\u003e}\",\"{\\u003cbr\\u003e  \\\"number\\\": 148,\\u003cbr\\u003e  \\\"values\\\": [\\u003cbr\\u003e    0.9278640560701893,\\u003cbr\\u003e    0.006678063158805679\\u003cbr\\u003e  ],\\u003cbr\\u003e  \\\"params\\\": {\\u003cbr\\u003e    \\\"scalers\\\": \\\"normalizer\\\",\\u003cbr\\u003e    \\\"knn_n_neighbors\\\": 95,\\u003cbr\\u003e    \\\"knn_p\\\": 6,\\u003cbr\\u003e    \\\"knn_weights\\\": \\\"distance\\\"\\u003cbr\\u003e  }\\u003cbr\\u003e}\",\"{\\u003cbr\\u003e  \\\"number\\\": 149,\\u003cbr\\u003e  \\\"values\\\": [\\u003cbr\\u003e    0.9270649802209442,\\u003cbr\\u003e    0.005674653994084752\\u003cbr\\u003e  ],\\u003cbr\\u003e  \\\"params\\\": {\\u003cbr\\u003e    \\\"scalers\\\": \\\"normalizer\\\",\\u003cbr\\u003e    \\\"knn_n_neighbors\\\": 82,\\u003cbr\\u003e    \\\"knn_p\\\": 4,\\u003cbr\\u003e    \\\"knn_weights\\\": \\\"distance\\\"\\u003cbr\\u003e  }\\u003cbr\\u003e}\",\"{\\u003cbr\\u003e  \\\"number\\\": 150,\\u003cbr\\u003e  \\\"values\\\": [\\u003cbr\\u003e    0.9261311489770039,\\u003cbr\\u003e    0.00634361766140471\\u003cbr\\u003e  ],\\u003cbr\\u003e  \\\"params\\\": {\\u003cbr\\u003e    \\\"scalers\\\": \\\"normalizer\\\",\\u003cbr\\u003e    \\\"knn_n_neighbors\\\": 80,\\u003cbr\\u003e    \\\"knn_p\\\": 8,\\u003cbr\\u003e    \\\"knn_weights\\\": \\\"uniform\\\"\\u003cbr\\u003e  }\\u003cbr\\u003e}\",\"{\\u003cbr\\u003e  \\\"number\\\": 151,\\u003cbr\\u003e  \\\"values\\\": [\\u003cbr\\u003e    0.9273316291690807,\\u003cbr\\u003e    0.004769724934810608\\u003cbr\\u003e  ],\\u003cbr\\u003e  \\\"params\\\": {\\u003cbr\\u003e    \\\"scalers\\\": \\\"minmax\\\",\\u003cbr\\u003e    \\\"knn_n_neighbors\\\": 95,\\u003cbr\\u003e    \\\"knn_p\\\": 6,\\u003cbr\\u003e    \\\"knn_weights\\\": \\\"distance\\\"\\u003cbr\\u003e  }\\u003cbr\\u003e}\",\"{\\u003cbr\\u003e  \\\"number\\\": 152,\\u003cbr\\u003e  \\\"values\\\": [\\u003cbr\\u003e    0.9271988646204752,\\u003cbr\\u003e    0.005029217284967035\\u003cbr\\u003e  ],\\u003cbr\\u003e  \\\"params\\\": {\\u003cbr\\u003e    \\\"scalers\\\": \\\"robust\\\",\\u003cbr\\u003e    \\\"knn_n_neighbors\\\": 36,\\u003cbr\\u003e    \\\"knn_p\\\": 10,\\u003cbr\\u003e    \\\"knn_weights\\\": \\\"distance\\\"\\u003cbr\\u003e  }\\u003cbr\\u003e}\",\"{\\u003cbr\\u003e  \\\"number\\\": 153,\\u003cbr\\u003e  \\\"values\\\": [\\u003cbr\\u003e    0.9273312558854389,\\u003cbr\\u003e    0.005788555722450867\\u003cbr\\u003e  ],\\u003cbr\\u003e  \\\"params\\\": {\\u003cbr\\u003e    \\\"scalers\\\": \\\"robust\\\",\\u003cbr\\u003e    \\\"knn_n_neighbors\\\": 89,\\u003cbr\\u003e    \\\"knn_p\\\": 10,\\u003cbr\\u003e    \\\"knn_weights\\\": \\\"uniform\\\"\\u003cbr\\u003e  }\\u003cbr\\u003e}\",\"{\\u003cbr\\u003e  \\\"number\\\": 154,\\u003cbr\\u003e  \\\"values\\\": [\\u003cbr\\u003e    0.927998064897601,\\u003cbr\\u003e    0.005385622278011586\\u003cbr\\u003e  ],\\u003cbr\\u003e  \\\"params\\\": {\\u003cbr\\u003e    \\\"scalers\\\": \\\"standard\\\",\\u003cbr\\u003e    \\\"knn_n_neighbors\\\": 46,\\u003cbr\\u003e    \\\"knn_p\\\": 9,\\u003cbr\\u003e    \\\"knn_weights\\\": \\\"distance\\\"\\u003cbr\\u003e  }\\u003cbr\\u003e}\",\"{\\u003cbr\\u003e  \\\"number\\\": 155,\\u003cbr\\u003e  \\\"values\\\": [\\u003cbr\\u003e    0.9233315216633917,\\u003cbr\\u003e    0.0057209603197879155\\u003cbr\\u003e  ],\\u003cbr\\u003e  \\\"params\\\": {\\u003cbr\\u003e    \\\"scalers\\\": \\\"none\\\",\\u003cbr\\u003e    \\\"knn_n_neighbors\\\": 82,\\u003cbr\\u003e    \\\"knn_p\\\": 3,\\u003cbr\\u003e    \\\"knn_weights\\\": \\\"uniform\\\"\\u003cbr\\u003e  }\\u003cbr\\u003e}\",\"{\\u003cbr\\u003e  \\\"number\\\": 157,\\u003cbr\\u003e  \\\"values\\\": [\\u003cbr\\u003e    0.9269315935329356,\\u003cbr\\u003e    0.005225990908644868\\u003cbr\\u003e  ],\\u003cbr\\u003e  \\\"params\\\": {\\u003cbr\\u003e    \\\"scalers\\\": \\\"minmax\\\",\\u003cbr\\u003e    \\\"knn_n_neighbors\\\": 27,\\u003cbr\\u003e    \\\"knn_p\\\": 4,\\u003cbr\\u003e    \\\"knn_weights\\\": \\\"distance\\\"\\u003cbr\\u003e  }\\u003cbr\\u003e}\",\"{\\u003cbr\\u003e  \\\"number\\\": 158,\\u003cbr\\u003e  \\\"values\\\": [\\u003cbr\\u003e    0.9273316291690807,\\u003cbr\\u003e    0.004717410064245898\\u003cbr\\u003e  ],\\u003cbr\\u003e  \\\"params\\\": {\\u003cbr\\u003e    \\\"scalers\\\": \\\"standard\\\",\\u003cbr\\u003e    \\\"knn_n_neighbors\\\": 27,\\u003cbr\\u003e    \\\"knn_p\\\": 4,\\u003cbr\\u003e    \\\"knn_weights\\\": \\\"distance\\\"\\u003cbr\\u003e  }\\u003cbr\\u003e}\",\"{\\u003cbr\\u003e  \\\"number\\\": 159,\\u003cbr\\u003e  \\\"values\\\": [\\u003cbr\\u003e    0.9286646250540018,\\u003cbr\\u003e    0.005732398128540011\\u003cbr\\u003e  ],\\u003cbr\\u003e  \\\"params\\\": {\\u003cbr\\u003e    \\\"scalers\\\": \\\"standard\\\",\\u003cbr\\u003e    \\\"knn_n_neighbors\\\": 54,\\u003cbr\\u003e    \\\"knn_p\\\": 9,\\u003cbr\\u003e    \\\"knn_weights\\\": \\\"distance\\\"\\u003cbr\\u003e  }\\u003cbr\\u003e}\",\"{\\u003cbr\\u003e  \\\"number\\\": 161,\\u003cbr\\u003e  \\\"values\\\": [\\u003cbr\\u003e    0.9285311139381127,\\u003cbr\\u003e    0.00625350877016053\\u003cbr\\u003e  ],\\u003cbr\\u003e  \\\"params\\\": {\\u003cbr\\u003e    \\\"scalers\\\": \\\"minmax\\\",\\u003cbr\\u003e    \\\"knn_n_neighbors\\\": 54,\\u003cbr\\u003e    \\\"knn_p\\\": 5,\\u003cbr\\u003e    \\\"knn_weights\\\": \\\"distance\\\"\\u003cbr\\u003e  }\\u003cbr\\u003e}\",\"{\\u003cbr\\u003e  \\\"number\\\": 162,\\u003cbr\\u003e  \\\"values\\\": [\\u003cbr\\u003e    0.9274652647128505,\\u003cbr\\u003e    0.0043062990744265365\\u003cbr\\u003e  ],\\u003cbr\\u003e  \\\"params\\\": {\\u003cbr\\u003e    \\\"scalers\\\": \\\"normalizer\\\",\\u003cbr\\u003e    \\\"knn_n_neighbors\\\": 27,\\u003cbr\\u003e    \\\"knn_p\\\": 3,\\u003cbr\\u003e    \\\"knn_weights\\\": \\\"distance\\\"\\u003cbr\\u003e  }\\u003cbr\\u003e}\",\"{\\u003cbr\\u003e  \\\"number\\\": 163,\\u003cbr\\u003e  \\\"values\\\": [\\u003cbr\\u003e    0.9281313271577288,\\u003cbr\\u003e    0.00544568219222221\\u003cbr\\u003e  ],\\u003cbr\\u003e  \\\"params\\\": {\\u003cbr\\u003e    \\\"scalers\\\": \\\"standard\\\",\\u003cbr\\u003e    \\\"knn_n_neighbors\\\": 48,\\u003cbr\\u003e    \\\"knn_p\\\": 9,\\u003cbr\\u003e    \\\"knn_weights\\\": \\\"distance\\\"\\u003cbr\\u003e  }\\u003cbr\\u003e}\",\"{\\u003cbr\\u003e  \\\"number\\\": 164,\\u003cbr\\u003e  \\\"values\\\": [\\u003cbr\\u003e    0.9263986689203045,\\u003cbr\\u003e    0.00455041873104516\\u003cbr\\u003e  ],\\u003cbr\\u003e  \\\"params\\\": {\\u003cbr\\u003e    \\\"scalers\\\": \\\"minmax\\\",\\u003cbr\\u003e    \\\"knn_n_neighbors\\\": 23,\\u003cbr\\u003e    \\\"knn_p\\\": 4,\\u003cbr\\u003e    \\\"knn_weights\\\": \\\"distance\\\"\\u003cbr\\u003e  }\\u003cbr\\u003e}\",\"{\\u003cbr\\u003e  \\\"number\\\": 165,\\u003cbr\\u003e  \\\"values\\\": [\\u003cbr\\u003e    0.9282649627014986,\\u003cbr\\u003e    0.004743402295438759\\u003cbr\\u003e  ],\\u003cbr\\u003e  \\\"params\\\": {\\u003cbr\\u003e    \\\"scalers\\\": \\\"robust\\\",\\u003cbr\\u003e    \\\"knn_n_neighbors\\\": 94,\\u003cbr\\u003e    \\\"knn_p\\\": 10,\\u003cbr\\u003e    \\\"knn_weights\\\": \\\"distance\\\"\\u003cbr\\u003e  }\\u003cbr\\u003e}\",\"{\\u003cbr\\u003e  \\\"number\\\": 167,\\u003cbr\\u003e  \\\"values\\\": [\\u003cbr\\u003e    0.926131397832765,\\u003cbr\\u003e    0.004799378774023138\\u003cbr\\u003e  ],\\u003cbr\\u003e  \\\"params\\\": {\\u003cbr\\u003e    \\\"scalers\\\": \\\"normalizer\\\",\\u003cbr\\u003e    \\\"knn_n_neighbors\\\": 20,\\u003cbr\\u003e    \\\"knn_p\\\": 10,\\u003cbr\\u003e    \\\"knn_weights\\\": \\\"distance\\\"\\u003cbr\\u003e  }\\u003cbr\\u003e}\",\"{\\u003cbr\\u003e  \\\"number\\\": 168,\\u003cbr\\u003e  \\\"values\\\": [\\u003cbr\\u003e    0.9274648914292085,\\u003cbr\\u003e    0.005006965333593964\\u003cbr\\u003e  ],\\u003cbr\\u003e  \\\"params\\\": {\\u003cbr\\u003e    \\\"scalers\\\": \\\"minmax\\\",\\u003cbr\\u003e    \\\"knn_n_neighbors\\\": 82,\\u003cbr\\u003e    \\\"knn_p\\\": 5,\\u003cbr\\u003e    \\\"knn_weights\\\": \\\"distance\\\"\\u003cbr\\u003e  }\\u003cbr\\u003e}\",\"{\\u003cbr\\u003e  \\\"number\\\": 170,\\u003cbr\\u003e  \\\"values\\\": [\\u003cbr\\u003e    0.9281310783019677,\\u003cbr\\u003e    0.006012475172927377\\u003cbr\\u003e  ],\\u003cbr\\u003e  \\\"params\\\": {\\u003cbr\\u003e    \\\"scalers\\\": \\\"normalizer\\\",\\u003cbr\\u003e    \\\"knn_n_neighbors\\\": 56,\\u003cbr\\u003e    \\\"knn_p\\\": 6,\\u003cbr\\u003e    \\\"knn_weights\\\": \\\"distance\\\"\\u003cbr\\u003e  }\\u003cbr\\u003e}\",\"{\\u003cbr\\u003e  \\\"number\\\": 171,\\u003cbr\\u003e  \\\"values\\\": [\\u003cbr\\u003e    0.9262641623813705,\\u003cbr\\u003e    0.006436541772500042\\u003cbr\\u003e  ],\\u003cbr\\u003e  \\\"params\\\": {\\u003cbr\\u003e    \\\"scalers\\\": \\\"normalizer\\\",\\u003cbr\\u003e    \\\"knn_n_neighbors\\\": 54,\\u003cbr\\u003e    \\\"knn_p\\\": 9,\\u003cbr\\u003e    \\\"knn_weights\\\": \\\"uniform\\\"\\u003cbr\\u003e  }\\u003cbr\\u003e}\",\"{\\u003cbr\\u003e  \\\"number\\\": 172,\\u003cbr\\u003e  \\\"values\\\": [\\u003cbr\\u003e    0.9273316291690807,\\u003cbr\\u003e    0.004974231690421903\\u003cbr\\u003e  ],\\u003cbr\\u003e  \\\"params\\\": {\\u003cbr\\u003e    \\\"scalers\\\": \\\"minmax\\\",\\u003cbr\\u003e    \\\"knn_n_neighbors\\\": 80,\\u003cbr\\u003e    \\\"knn_p\\\": 4,\\u003cbr\\u003e    \\\"knn_weights\\\": \\\"distance\\\"\\u003cbr\\u003e  }\\u003cbr\\u003e}\",\"{\\u003cbr\\u003e  \\\"number\\\": 173,\\u003cbr\\u003e  \\\"values\\\": [\\u003cbr\\u003e    0.9279983137533622,\\u003cbr\\u003e    0.005630184791517699\\u003cbr\\u003e  ],\\u003cbr\\u003e  \\\"params\\\": {\\u003cbr\\u003e    \\\"scalers\\\": \\\"standard\\\",\\u003cbr\\u003e    \\\"knn_n_neighbors\\\": 56,\\u003cbr\\u003e    \\\"knn_p\\\": 3,\\u003cbr\\u003e    \\\"knn_weights\\\": \\\"uniform\\\"\\u003cbr\\u003e  }\\u003cbr\\u003e}\",\"{\\u003cbr\\u003e  \\\"number\\\": 174,\\u003cbr\\u003e  \\\"values\\\": [\\u003cbr\\u003e    0.927865424776876,\\u003cbr\\u003e    0.0037135372911305284\\u003cbr\\u003e  ],\\u003cbr\\u003e  \\\"params\\\": {\\u003cbr\\u003e    \\\"scalers\\\": \\\"robust\\\",\\u003cbr\\u003e    \\\"knn_n_neighbors\\\": 75,\\u003cbr\\u003e    \\\"knn_p\\\": 4,\\u003cbr\\u003e    \\\"knn_weights\\\": \\\"uniform\\\"\\u003cbr\\u003e  }\\u003cbr\\u003e}\",\"{\\u003cbr\\u003e  \\\"number\\\": 175,\\u003cbr\\u003e  \\\"values\\\": [\\u003cbr\\u003e    0.9239985795313151,\\u003cbr\\u003e    0.006724692118149782\\u003cbr\\u003e  ],\\u003cbr\\u003e  \\\"params\\\": {\\u003cbr\\u003e    \\\"scalers\\\": \\\"none\\\",\\u003cbr\\u003e    \\\"knn_n_neighbors\\\": 27,\\u003cbr\\u003e    \\\"knn_p\\\": 4,\\u003cbr\\u003e    \\\"knn_weights\\\": \\\"distance\\\"\\u003cbr\\u003e  }\\u003cbr\\u003e}\",\"{\\u003cbr\\u003e  \\\"number\\\": 176,\\u003cbr\\u003e  \\\"values\\\": [\\u003cbr\\u003e    0.9270651046488247,\\u003cbr\\u003e    0.0038748445444638374\\u003cbr\\u003e  ],\\u003cbr\\u003e  \\\"params\\\": {\\u003cbr\\u003e    \\\"scalers\\\": \\\"normalizer\\\",\\u003cbr\\u003e    \\\"knn_n_neighbors\\\": 30,\\u003cbr\\u003e    \\\"knn_p\\\": 7,\\u003cbr\\u003e    \\\"knn_weights\\\": \\\"distance\\\"\\u003cbr\\u003e  }\\u003cbr\\u003e}\",\"{\\u003cbr\\u003e  \\\"number\\\": 177,\\u003cbr\\u003e  \\\"values\\\": [\\u003cbr\\u003e    0.9279985626091234,\\u003cbr\\u003e    0.004469101049292179\\u003cbr\\u003e  ],\\u003cbr\\u003e  \\\"params\\\": {\\u003cbr\\u003e    \\\"scalers\\\": \\\"standard\\\",\\u003cbr\\u003e    \\\"knn_n_neighbors\\\": 27,\\u003cbr\\u003e    \\\"knn_p\\\": 9,\\u003cbr\\u003e    \\\"knn_weights\\\": \\\"distance\\\"\\u003cbr\\u003e  }\\u003cbr\\u003e}\",\"{\\u003cbr\\u003e  \\\"number\\\": 178,\\u003cbr\\u003e  \\\"values\\\": [\\u003cbr\\u003e    0.925865868735554,\\u003cbr\\u003e    0.0041840879990738015\\u003cbr\\u003e  ],\\u003cbr\\u003e  \\\"params\\\": {\\u003cbr\\u003e    \\\"scalers\\\": \\\"normalizer\\\",\\u003cbr\\u003e    \\\"knn_n_neighbors\\\": 20,\\u003cbr\\u003e    \\\"knn_p\\\": 8,\\u003cbr\\u003e    \\\"knn_weights\\\": \\\"uniform\\\"\\u003cbr\\u003e  }\\u003cbr\\u003e}\",\"{\\u003cbr\\u003e  \\\"number\\\": 179,\\u003cbr\\u003e  \\\"values\\\": [\\u003cbr\\u003e    0.927598651400859,\\u003cbr\\u003e    0.004041577610371445\\u003cbr\\u003e  ],\\u003cbr\\u003e  \\\"params\\\": {\\u003cbr\\u003e    \\\"scalers\\\": \\\"robust\\\",\\u003cbr\\u003e    \\\"knn_n_neighbors\\\": 91,\\u003cbr\\u003e    \\\"knn_p\\\": 5,\\u003cbr\\u003e    \\\"knn_weights\\\": \\\"distance\\\"\\u003cbr\\u003e  }\\u003cbr\\u003e}\",\"{\\u003cbr\\u003e  \\\"number\\\": 180,\\u003cbr\\u003e  \\\"values\\\": [\\u003cbr\\u003e    0.9262650333765347,\\u003cbr\\u003e    0.005665230686643883\\u003cbr\\u003e  ],\\u003cbr\\u003e  \\\"params\\\": {\\u003cbr\\u003e    \\\"scalers\\\": \\\"standard\\\",\\u003cbr\\u003e    \\\"knn_n_neighbors\\\": 12,\\u003cbr\\u003e    \\\"knn_p\\\": 10,\\u003cbr\\u003e    \\\"knn_weights\\\": \\\"uniform\\\"\\u003cbr\\u003e  }\\u003cbr\\u003e}\",\"{\\u003cbr\\u003e  \\\"number\\\": 181,\\u003cbr\\u003e  \\\"values\\\": [\\u003cbr\\u003e    0.9274653891407311,\\u003cbr\\u003e    0.0035084583021040305\\u003cbr\\u003e  ],\\u003cbr\\u003e  \\\"params\\\": {\\u003cbr\\u003e    \\\"scalers\\\": \\\"standard\\\",\\u003cbr\\u003e    \\\"knn_n_neighbors\\\": 20,\\u003cbr\\u003e    \\\"knn_p\\\": 9,\\u003cbr\\u003e    \\\"knn_weights\\\": \\\"distance\\\"\\u003cbr\\u003e  }\\u003cbr\\u003e}\",\"{\\u003cbr\\u003e  \\\"number\\\": 182,\\u003cbr\\u003e  \\\"values\\\": [\\u003cbr\\u003e    0.9254644643927223,\\u003cbr\\u003e    0.006519183639899334\\u003cbr\\u003e  ],\\u003cbr\\u003e  \\\"params\\\": {\\u003cbr\\u003e    \\\"scalers\\\": \\\"minmax\\\",\\u003cbr\\u003e    \\\"knn_n_neighbors\\\": 20,\\u003cbr\\u003e    \\\"knn_p\\\": 5,\\u003cbr\\u003e    \\\"knn_weights\\\": \\\"distance\\\"\\u003cbr\\u003e  }\\u003cbr\\u003e}\",\"{\\u003cbr\\u003e  \\\"number\\\": 183,\\u003cbr\\u003e  \\\"values\\\": [\\u003cbr\\u003e    0.9278649270653536,\\u003cbr\\u003e    0.004956775428905776\\u003cbr\\u003e  ],\\u003cbr\\u003e  \\\"params\\\": {\\u003cbr\\u003e    \\\"scalers\\\": \\\"standard\\\",\\u003cbr\\u003e    \\\"knn_n_neighbors\\\": 91,\\u003cbr\\u003e    \\\"knn_p\\\": 4,\\u003cbr\\u003e    \\\"knn_weights\\\": \\\"distance\\\"\\u003cbr\\u003e  }\\u003cbr\\u003e}\",\"{\\u003cbr\\u003e  \\\"number\\\": 184,\\u003cbr\\u003e  \\\"values\\\": [\\u003cbr\\u003e    0.9247981530920827,\\u003cbr\\u003e    0.006087943650436708\\u003cbr\\u003e  ],\\u003cbr\\u003e  \\\"params\\\": {\\u003cbr\\u003e    \\\"scalers\\\": \\\"none\\\",\\u003cbr\\u003e    \\\"knn_n_neighbors\\\": 82,\\u003cbr\\u003e    \\\"knn_p\\\": 6,\\u003cbr\\u003e    \\\"knn_weights\\\": \\\"uniform\\\"\\u003cbr\\u003e  }\\u003cbr\\u003e}\",\"{\\u003cbr\\u003e  \\\"number\\\": 185,\\u003cbr\\u003e  \\\"values\\\": [\\u003cbr\\u003e    0.9283977272501042,\\u003cbr\\u003e    0.006170416564767911\\u003cbr\\u003e  ],\\u003cbr\\u003e  \\\"params\\\": {\\u003cbr\\u003e    \\\"scalers\\\": \\\"normalizer\\\",\\u003cbr\\u003e    \\\"knn_n_neighbors\\\": 62,\\u003cbr\\u003e    \\\"knn_p\\\": 7,\\u003cbr\\u003e    \\\"knn_weights\\\": \\\"distance\\\"\\u003cbr\\u003e  }\\u003cbr\\u003e}\",\"{\\u003cbr\\u003e  \\\"number\\\": 186,\\u003cbr\\u003e  \\\"values\\\": [\\u003cbr\\u003e    0.9259982600005178,\\u003cbr\\u003e    0.005080851763444672\\u003cbr\\u003e  ],\\u003cbr\\u003e  \\\"params\\\": {\\u003cbr\\u003e    \\\"scalers\\\": \\\"normalizer\\\",\\u003cbr\\u003e    \\\"knn_n_neighbors\\\": 36,\\u003cbr\\u003e    \\\"knn_p\\\": 1,\\u003cbr\\u003e    \\\"knn_weights\\\": \\\"uniform\\\"\\u003cbr\\u003e  }\\u003cbr\\u003e}\",\"{\\u003cbr\\u003e  \\\"number\\\": 187,\\u003cbr\\u003e  \\\"values\\\": [\\u003cbr\\u003e    0.9279979404697203,\\u003cbr\\u003e    0.005915428752151958\\u003cbr\\u003e  ],\\u003cbr\\u003e  \\\"params\\\": {\\u003cbr\\u003e    \\\"scalers\\\": \\\"minmax\\\",\\u003cbr\\u003e    \\\"knn_n_neighbors\\\": 62,\\u003cbr\\u003e    \\\"knn_p\\\": 7,\\u003cbr\\u003e    \\\"knn_weights\\\": \\\"distance\\\"\\u003cbr\\u003e  }\\u003cbr\\u003e}\",\"{\\u003cbr\\u003e  \\\"number\\\": 188,\\u003cbr\\u003e  \\\"values\\\": [\\u003cbr\\u003e    0.927998064897601,\\u003cbr\\u003e    0.006340123871367873\\u003cbr\\u003e  ],\\u003cbr\\u003e  \\\"params\\\": {\\u003cbr\\u003e    \\\"scalers\\\": \\\"robust\\\",\\u003cbr\\u003e    \\\"knn_n_neighbors\\\": 54,\\u003cbr\\u003e    \\\"knn_p\\\": 6,\\u003cbr\\u003e    \\\"knn_weights\\\": \\\"distance\\\"\\u003cbr\\u003e  }\\u003cbr\\u003e}\",\"{\\u003cbr\\u003e  \\\"number\\\": 189,\\u003cbr\\u003e  \\\"values\\\": [\\u003cbr\\u003e    0.9265308113295071,\\u003cbr\\u003e    0.007215256295365205\\u003cbr\\u003e  ],\\u003cbr\\u003e  \\\"params\\\": {\\u003cbr\\u003e    \\\"scalers\\\": \\\"robust\\\",\\u003cbr\\u003e    \\\"knn_n_neighbors\\\": 54,\\u003cbr\\u003e    \\\"knn_p\\\": 5,\\u003cbr\\u003e    \\\"knn_weights\\\": \\\"uniform\\\"\\u003cbr\\u003e  }\\u003cbr\\u003e}\",\"{\\u003cbr\\u003e  \\\"number\\\": 190,\\u003cbr\\u003e  \\\"values\\\": [\\u003cbr\\u003e    0.9266649445847992,\\u003cbr\\u003e    0.0045957007516188985\\u003cbr\\u003e  ],\\u003cbr\\u003e  \\\"params\\\": {\\u003cbr\\u003e    \\\"scalers\\\": \\\"minmax\\\",\\u003cbr\\u003e    \\\"knn_n_neighbors\\\": 92,\\u003cbr\\u003e    \\\"knn_p\\\": 9,\\u003cbr\\u003e    \\\"knn_weights\\\": \\\"distance\\\"\\u003cbr\\u003e  }\\u003cbr\\u003e}\",\"{\\u003cbr\\u003e  \\\"number\\\": 191,\\u003cbr\\u003e  \\\"values\\\": [\\u003cbr\\u003e    0.9281317004413706,\\u003cbr\\u003e    0.0052543703732064045\\u003cbr\\u003e  ],\\u003cbr\\u003e  \\\"params\\\": {\\u003cbr\\u003e    \\\"scalers\\\": \\\"standard\\\",\\u003cbr\\u003e    \\\"knn_n_neighbors\\\": 33,\\u003cbr\\u003e    \\\"knn_p\\\": 9,\\u003cbr\\u003e    \\\"knn_weights\\\": \\\"distance\\\"\\u003cbr\\u003e  }\\u003cbr\\u003e}\",\"{\\u003cbr\\u003e  \\\"number\\\": 192,\\u003cbr\\u003e  \\\"values\\\": [\\u003cbr\\u003e    0.9265314334689101,\\u003cbr\\u003e    0.005640288891717168\\u003cbr\\u003e  ],\\u003cbr\\u003e  \\\"params\\\": {\\u003cbr\\u003e    \\\"scalers\\\": \\\"minmax\\\",\\u003cbr\\u003e    \\\"knn_n_neighbors\\\": 29,\\u003cbr\\u003e    \\\"knn_p\\\": 6,\\u003cbr\\u003e    \\\"knn_weights\\\": \\\"distance\\\"\\u003cbr\\u003e  }\\u003cbr\\u003e}\",\"{\\u003cbr\\u003e  \\\"number\\\": 193,\\u003cbr\\u003e  \\\"values\\\": [\\u003cbr\\u003e    0.9253323219835199,\\u003cbr\\u003e    0.007065215921923862\\u003cbr\\u003e  ],\\u003cbr\\u003e  \\\"params\\\": {\\u003cbr\\u003e    \\\"scalers\\\": \\\"none\\\",\\u003cbr\\u003e    \\\"knn_n_neighbors\\\": 30,\\u003cbr\\u003e    \\\"knn_p\\\": 4,\\u003cbr\\u003e    \\\"knn_weights\\\": \\\"distance\\\"\\u003cbr\\u003e  }\\u003cbr\\u003e}\",\"{\\u003cbr\\u003e  \\\"number\\\": 194,\\u003cbr\\u003e  \\\"values\\\": [\\u003cbr\\u003e    0.927064731365183,\\u003cbr\\u003e    0.005362957122482079\\u003cbr\\u003e  ],\\u003cbr\\u003e  \\\"params\\\": {\\u003cbr\\u003e    \\\"scalers\\\": \\\"minmax\\\",\\u003cbr\\u003e    \\\"knn_n_neighbors\\\": 82,\\u003cbr\\u003e    \\\"knn_p\\\": 9,\\u003cbr\\u003e    \\\"knn_weights\\\": \\\"distance\\\"\\u003cbr\\u003e  }\\u003cbr\\u003e}\",\"{\\u003cbr\\u003e  \\\"number\\\": 195,\\u003cbr\\u003e  \\\"values\\\": [\\u003cbr\\u003e    0.9261312734048844,\\u003cbr\\u003e    0.006163299148151202\\u003cbr\\u003e  ],\\u003cbr\\u003e  \\\"params\\\": {\\u003cbr\\u003e    \\\"scalers\\\": \\\"normalizer\\\",\\u003cbr\\u003e    \\\"knn_n_neighbors\\\": 80,\\u003cbr\\u003e    \\\"knn_p\\\": 9,\\u003cbr\\u003e    \\\"knn_weights\\\": \\\"uniform\\\"\\u003cbr\\u003e  }\\u003cbr\\u003e}\",\"{\\u003cbr\\u003e  \\\"number\\\": 196,\\u003cbr\\u003e  \\\"values\\\": [\\u003cbr\\u003e    0.9241320906472043,\\u003cbr\\u003e    0.005565820063359591\\u003cbr\\u003e  ],\\u003cbr\\u003e  \\\"params\\\": {\\u003cbr\\u003e    \\\"scalers\\\": \\\"none\\\",\\u003cbr\\u003e    \\\"knn_n_neighbors\\\": 89,\\u003cbr\\u003e    \\\"knn_p\\\": 1,\\u003cbr\\u003e    \\\"knn_weights\\\": \\\"distance\\\"\\u003cbr\\u003e  }\\u003cbr\\u003e}\",\"{\\u003cbr\\u003e  \\\"number\\\": 197,\\u003cbr\\u003e  \\\"values\\\": [\\u003cbr\\u003e    0.9286646250540018,\\u003cbr\\u003e    0.005732398128540011\\u003cbr\\u003e  ],\\u003cbr\\u003e  \\\"params\\\": {\\u003cbr\\u003e    \\\"scalers\\\": \\\"standard\\\",\\u003cbr\\u003e    \\\"knn_n_neighbors\\\": 54,\\u003cbr\\u003e    \\\"knn_p\\\": 9,\\u003cbr\\u003e    \\\"knn_weights\\\": \\\"distance\\\"\\u003cbr\\u003e  }\\u003cbr\\u003e}\",\"{\\u003cbr\\u003e  \\\"number\\\": 198,\\u003cbr\\u003e  \\\"values\\\": [\\u003cbr\\u003e    0.9250650508959805,\\u003cbr\\u003e    0.005788995108859492\\u003cbr\\u003e  ],\\u003cbr\\u003e  \\\"params\\\": {\\u003cbr\\u003e    \\\"scalers\\\": \\\"none\\\",\\u003cbr\\u003e    \\\"knn_n_neighbors\\\": 82,\\u003cbr\\u003e    \\\"knn_p\\\": 9,\\u003cbr\\u003e    \\\"knn_weights\\\": \\\"distance\\\"\\u003cbr\\u003e  }\\u003cbr\\u003e}\",\"{\\u003cbr\\u003e  \\\"number\\\": 199,\\u003cbr\\u003e  \\\"values\\\": [\\u003cbr\\u003e    0.9281317004413706,\\u003cbr\\u003e    0.0052543703732064045\\u003cbr\\u003e  ],\\u003cbr\\u003e  \\\"params\\\": {\\u003cbr\\u003e    \\\"scalers\\\": \\\"standard\\\",\\u003cbr\\u003e    \\\"knn_n_neighbors\\\": 33,\\u003cbr\\u003e    \\\"knn_p\\\": 9,\\u003cbr\\u003e    \\\"knn_weights\\\": \\\"distance\\\"\\u003cbr\\u003e  }\\u003cbr\\u003e}\",\"{\\u003cbr\\u003e  \\\"number\\\": 200,\\u003cbr\\u003e  \\\"values\\\": [\\u003cbr\\u003e    0.9279985626091234,\\u003cbr\\u003e    0.004469101049292179\\u003cbr\\u003e  ],\\u003cbr\\u003e  \\\"params\\\": {\\u003cbr\\u003e    \\\"scalers\\\": \\\"standard\\\",\\u003cbr\\u003e    \\\"knn_n_neighbors\\\": 27,\\u003cbr\\u003e    \\\"knn_p\\\": 9,\\u003cbr\\u003e    \\\"knn_weights\\\": \\\"distance\\\"\\u003cbr\\u003e  }\\u003cbr\\u003e}\",\"{\\u003cbr\\u003e  \\\"number\\\": 201,\\u003cbr\\u003e  \\\"values\\\": [\\u003cbr\\u003e    0.9277319136609868,\\u003cbr\\u003e    0.006144052954967777\\u003cbr\\u003e  ],\\u003cbr\\u003e  \\\"params\\\": {\\u003cbr\\u003e    \\\"scalers\\\": \\\"minmax\\\",\\u003cbr\\u003e    \\\"knn_n_neighbors\\\": 59,\\u003cbr\\u003e    \\\"knn_p\\\": 1,\\u003cbr\\u003e    \\\"knn_weights\\\": \\\"distance\\\"\\u003cbr\\u003e  }\\u003cbr\\u003e}\",\"{\\u003cbr\\u003e  \\\"number\\\": 202,\\u003cbr\\u003e  \\\"values\\\": [\\u003cbr\\u003e    0.9270649802209442,\\u003cbr\\u003e    0.005518841963308985\\u003cbr\\u003e  ],\\u003cbr\\u003e  \\\"params\\\": {\\u003cbr\\u003e    \\\"scalers\\\": \\\"robust\\\",\\u003cbr\\u003e    \\\"knn_n_neighbors\\\": 48,\\u003cbr\\u003e    \\\"knn_p\\\": 4,\\u003cbr\\u003e    \\\"knn_weights\\\": \\\"distance\\\"\\u003cbr\\u003e  }\\u003cbr\\u003e}\",\"{\\u003cbr\\u003e  \\\"number\\\": 203,\\u003cbr\\u003e  \\\"values\\\": [\\u003cbr\\u003e    0.9270651046488247,\\u003cbr\\u003e    0.0038748445444638374\\u003cbr\\u003e  ],\\u003cbr\\u003e  \\\"params\\\": {\\u003cbr\\u003e    \\\"scalers\\\": \\\"normalizer\\\",\\u003cbr\\u003e    \\\"knn_n_neighbors\\\": 30,\\u003cbr\\u003e    \\\"knn_p\\\": 7,\\u003cbr\\u003e    \\\"knn_weights\\\": \\\"distance\\\"\\u003cbr\\u003e  }\\u003cbr\\u003e}\",\"{\\u003cbr\\u003e  \\\"number\\\": 204,\\u003cbr\\u003e  \\\"values\\\": [\\u003cbr\\u003e    0.9277316648052257,\\u003cbr\\u003e    0.005346098348290507\\u003cbr\\u003e  ],\\u003cbr\\u003e  \\\"params\\\": {\\u003cbr\\u003e    \\\"scalers\\\": \\\"standard\\\",\\u003cbr\\u003e    \\\"knn_n_neighbors\\\": 91,\\u003cbr\\u003e    \\\"knn_p\\\": 9,\\u003cbr\\u003e    \\\"knn_weights\\\": \\\"distance\\\"\\u003cbr\\u003e  }\\u003cbr\\u003e}\",\"{\\u003cbr\\u003e  \\\"number\\\": 205,\\u003cbr\\u003e  \\\"values\\\": [\\u003cbr\\u003e    0.9265319311804324,\\u003cbr\\u003e    0.003816977223137141\\u003cbr\\u003e  ],\\u003cbr\\u003e  \\\"params\\\": {\\u003cbr\\u003e    \\\"scalers\\\": \\\"normalizer\\\",\\u003cbr\\u003e    \\\"knn_n_neighbors\\\": 33,\\u003cbr\\u003e    \\\"knn_p\\\": 3,\\u003cbr\\u003e    \\\"knn_weights\\\": \\\"distance\\\"\\u003cbr\\u003e  }\\u003cbr\\u003e}\",\"{\\u003cbr\\u003e  \\\"number\\\": 206,\\u003cbr\\u003e  \\\"values\\\": [\\u003cbr\\u003e    0.9286651227655243,\\u003cbr\\u003e    0.005481172516274212\\u003cbr\\u003e  ],\\u003cbr\\u003e  \\\"params\\\": {\\u003cbr\\u003e    \\\"scalers\\\": \\\"standard\\\",\\u003cbr\\u003e    \\\"knn_n_neighbors\\\": 51,\\u003cbr\\u003e    \\\"knn_p\\\": 2,\\u003cbr\\u003e    \\\"knn_weights\\\": \\\"distance\\\"\\u003cbr\\u003e  }\\u003cbr\\u003e}\",\"{\\u003cbr\\u003e  \\\"number\\\": 207,\\u003cbr\\u003e  \\\"values\\\": [\\u003cbr\\u003e    0.9282649627014986,\\u003cbr\\u003e    0.005382777948662702\\u003cbr\\u003e  ],\\u003cbr\\u003e  \\\"params\\\": {\\u003cbr\\u003e    \\\"scalers\\\": \\\"standard\\\",\\u003cbr\\u003e    \\\"knn_n_neighbors\\\": 100,\\u003cbr\\u003e    \\\"knn_p\\\": 9,\\u003cbr\\u003e    \\\"knn_weights\\\": \\\"distance\\\"\\u003cbr\\u003e  }\\u003cbr\\u003e}\",\"{\\u003cbr\\u003e  \\\"number\\\": 208,\\u003cbr\\u003e  \\\"values\\\": [\\u003cbr\\u003e    0.9259983844283982,\\u003cbr\\u003e    0.0055468569062097125\\u003cbr\\u003e  ],\\u003cbr\\u003e  \\\"params\\\": {\\u003cbr\\u003e    \\\"scalers\\\": \\\"none\\\",\\u003cbr\\u003e    \\\"knn_n_neighbors\\\": 91,\\u003cbr\\u003e    \\\"knn_p\\\": 9,\\u003cbr\\u003e    \\\"knn_weights\\\": \\\"distance\\\"\\u003cbr\\u003e  }\\u003cbr\\u003e}\",\"{\\u003cbr\\u003e  \\\"number\\\": 209,\\u003cbr\\u003e  \\\"values\\\": [\\u003cbr\\u003e    0.9258649977403898,\\u003cbr\\u003e    0.005438289079789176\\u003cbr\\u003e  ],\\u003cbr\\u003e  \\\"params\\\": {\\u003cbr\\u003e    \\\"scalers\\\": \\\"normalizer\\\",\\u003cbr\\u003e    \\\"knn_n_neighbors\\\": 46,\\u003cbr\\u003e    \\\"knn_p\\\": 4,\\u003cbr\\u003e    \\\"knn_weights\\\": \\\"uniform\\\"\\u003cbr\\u003e  }\\u003cbr\\u003e}\",\"{\\u003cbr\\u003e  \\\"number\\\": 210,\\u003cbr\\u003e  \\\"values\\\": [\\u003cbr\\u003e    0.9255987220758951,\\u003cbr\\u003e    0.0035084760505386795\\u003cbr\\u003e  ],\\u003cbr\\u003e  \\\"params\\\": {\\u003cbr\\u003e    \\\"scalers\\\": \\\"normalizer\\\",\\u003cbr\\u003e    \\\"knn_n_neighbors\\\": 15,\\u003cbr\\u003e    \\\"knn_p\\\": 9,\\u003cbr\\u003e    \\\"knn_weights\\\": \\\"distance\\\"\\u003cbr\\u003e  }\\u003cbr\\u003e}\",\"{\\u003cbr\\u003e  \\\"number\\\": 211,\\u003cbr\\u003e  \\\"values\\\": [\\u003cbr\\u003e    0.9145321063748882,\\u003cbr\\u003e    0.005637849994524885\\u003cbr\\u003e  ],\\u003cbr\\u003e  \\\"params\\\": {\\u003cbr\\u003e    \\\"scalers\\\": \\\"robust\\\",\\u003cbr\\u003e    \\\"knn_n_neighbors\\\": 3,\\u003cbr\\u003e    \\\"knn_p\\\": 4,\\u003cbr\\u003e    \\\"knn_weights\\\": \\\"uniform\\\"\\u003cbr\\u003e  }\\u003cbr\\u003e}\",\"{\\u003cbr\\u003e  \\\"number\\\": 212,\\u003cbr\\u003e  \\\"values\\\": [\\u003cbr\\u003e    0.9279984381812428,\\u003cbr\\u003e    0.0046351924619657085\\u003cbr\\u003e  ],\\u003cbr\\u003e  \\\"params\\\": {\\u003cbr\\u003e    \\\"scalers\\\": \\\"standard\\\",\\u003cbr\\u003e    \\\"knn_n_neighbors\\\": 57,\\u003cbr\\u003e    \\\"knn_p\\\": 5,\\u003cbr\\u003e    \\\"knn_weights\\\": \\\"distance\\\"\\u003cbr\\u003e  }\\u003cbr\\u003e}\",\"{\\u003cbr\\u003e  \\\"number\\\": 213,\\u003cbr\\u003e  \\\"values\\\": [\\u003cbr\\u003e    0.9274653891407311,\\u003cbr\\u003e    0.00477101872558499\\u003cbr\\u003e  ],\\u003cbr\\u003e  \\\"params\\\": {\\u003cbr\\u003e    \\\"scalers\\\": \\\"standard\\\",\\u003cbr\\u003e    \\\"knn_n_neighbors\\\": 27,\\u003cbr\\u003e    \\\"knn_p\\\": 7,\\u003cbr\\u003e    \\\"knn_weights\\\": \\\"distance\\\"\\u003cbr\\u003e  }\\u003cbr\\u003e}\",\"{\\u003cbr\\u003e  \\\"number\\\": 214,\\u003cbr\\u003e  \\\"values\\\": [\\u003cbr\\u003e    0.9281317004413706,\\u003cbr\\u003e    0.0052543703732064045\\u003cbr\\u003e  ],\\u003cbr\\u003e  \\\"params\\\": {\\u003cbr\\u003e    \\\"scalers\\\": \\\"standard\\\",\\u003cbr\\u003e    \\\"knn_n_neighbors\\\": 33,\\u003cbr\\u003e    \\\"knn_p\\\": 9,\\u003cbr\\u003e    \\\"knn_weights\\\": \\\"distance\\\"\\u003cbr\\u003e  }\\u003cbr\\u003e}\",\"{\\u003cbr\\u003e  \\\"number\\\": 215,\\u003cbr\\u003e  \\\"values\\\": [\\u003cbr\\u003e    0.9270653535045861,\\u003cbr\\u003e    0.004088898210321472\\u003cbr\\u003e  ],\\u003cbr\\u003e  \\\"params\\\": {\\u003cbr\\u003e    \\\"scalers\\\": \\\"standard\\\",\\u003cbr\\u003e    \\\"knn_n_neighbors\\\": 22,\\u003cbr\\u003e    \\\"knn_p\\\": 4,\\u003cbr\\u003e    \\\"knn_weights\\\": \\\"distance\\\"\\u003cbr\\u003e  }\\u003cbr\\u003e}\",\"{\\u003cbr\\u003e  \\\"number\\\": 216,\\u003cbr\\u003e  \\\"values\\\": [\\u003cbr\\u003e    0.928264838273618,\\u003cbr\\u003e    0.004639044180330477\\u003cbr\\u003e  ],\\u003cbr\\u003e  \\\"params\\\": {\\u003cbr\\u003e    \\\"scalers\\\": \\\"normalizer\\\",\\u003cbr\\u003e    \\\"knn_n_neighbors\\\": 48,\\u003cbr\\u003e    \\\"knn_p\\\": 5,\\u003cbr\\u003e    \\\"knn_weights\\\": \\\"distance\\\"\\u003cbr\\u003e  }\\u003cbr\\u003e}\",\"{\\u003cbr\\u003e  \\\"number\\\": 217,\\u003cbr\\u003e  \\\"values\\\": [\\u003cbr\\u003e    0.927064731365183,\\u003cbr\\u003e    0.005744197692419556\\u003cbr\\u003e  ],\\u003cbr\\u003e  \\\"params\\\": {\\u003cbr\\u003e    \\\"scalers\\\": \\\"minmax\\\",\\u003cbr\\u003e    \\\"knn_n_neighbors\\\": 20,\\u003cbr\\u003e    \\\"knn_p\\\": 9,\\u003cbr\\u003e    \\\"knn_weights\\\": \\\"distance\\\"\\u003cbr\\u003e  }\\u003cbr\\u003e}\",\"{\\u003cbr\\u003e  \\\"number\\\": 218,\\u003cbr\\u003e  \\\"values\\\": [\\u003cbr\\u003e    0.9278653003489954,\\u003cbr\\u003e    0.004335245059220247\\u003cbr\\u003e  ],\\u003cbr\\u003e  \\\"params\\\": {\\u003cbr\\u003e    \\\"scalers\\\": \\\"robust\\\",\\u003cbr\\u003e    \\\"knn_n_neighbors\\\": 75,\\u003cbr\\u003e    \\\"knn_p\\\": 3,\\u003cbr\\u003e    \\\"knn_weights\\\": \\\"distance\\\"\\u003cbr\\u003e  }\\u003cbr\\u003e}\",\"{\\u003cbr\\u003e  \\\"number\\\": 219,\\u003cbr\\u003e  \\\"values\\\": [\\u003cbr\\u003e    0.9273322513084837,\\u003cbr\\u003e    0.0035642873468080356\\u003cbr\\u003e  ],\\u003cbr\\u003e  \\\"params\\\": {\\u003cbr\\u003e    \\\"scalers\\\": \\\"normalizer\\\",\\u003cbr\\u003e    \\\"knn_n_neighbors\\\": 27,\\u003cbr\\u003e    \\\"knn_p\\\": 4,\\u003cbr\\u003e    \\\"knn_weights\\\": \\\"distance\\\"\\u003cbr\\u003e  }\\u003cbr\\u003e}\",\"{\\u003cbr\\u003e  \\\"number\\\": 220,\\u003cbr\\u003e  \\\"values\\\": [\\u003cbr\\u003e    0.9279979404697203,\\u003cbr\\u003e    0.005936836736866189\\u003cbr\\u003e  ],\\u003cbr\\u003e  \\\"params\\\": {\\u003cbr\\u003e    \\\"scalers\\\": \\\"standard\\\",\\u003cbr\\u003e    \\\"knn_n_neighbors\\\": 70,\\u003cbr\\u003e    \\\"knn_p\\\": 9,\\u003cbr\\u003e    \\\"knn_weights\\\": \\\"distance\\\"\\u003cbr\\u003e  }\\u003cbr\\u003e}\",\"{\\u003cbr\\u003e  \\\"number\\\": 221,\\u003cbr\\u003e  \\\"values\\\": [\\u003cbr\\u003e    0.9270652290767055,\\u003cbr\\u003e    0.00492070083202754\\u003cbr\\u003e  ],\\u003cbr\\u003e  \\\"params\\\": {\\u003cbr\\u003e    \\\"scalers\\\": \\\"robust\\\",\\u003cbr\\u003e    \\\"knn_n_neighbors\\\": 68,\\u003cbr\\u003e    \\\"knn_p\\\": 10,\\u003cbr\\u003e    \\\"knn_weights\\\": \\\"distance\\\"\\u003cbr\\u003e  }\\u003cbr\\u003e}\",\"{\\u003cbr\\u003e  \\\"number\\\": 222,\\u003cbr\\u003e  \\\"values\\\": [\\u003cbr\\u003e    0.9246645175483128,\\u003cbr\\u003e    0.006129589534976263\\u003cbr\\u003e  ],\\u003cbr\\u003e  \\\"params\\\": {\\u003cbr\\u003e    \\\"scalers\\\": \\\"none\\\",\\u003cbr\\u003e    \\\"knn_n_neighbors\\\": 54,\\u003cbr\\u003e    \\\"knn_p\\\": 7,\\u003cbr\\u003e    \\\"knn_weights\\\": \\\"uniform\\\"\\u003cbr\\u003e  }\\u003cbr\\u003e}\",\"{\\u003cbr\\u003e  \\\"number\\\": 223,\\u003cbr\\u003e  \\\"values\\\": [\\u003cbr\\u003e    0.9281318248692514,\\u003cbr\\u003e    0.005109174285859579\\u003cbr\\u003e  ],\\u003cbr\\u003e  \\\"params\\\": {\\u003cbr\\u003e    \\\"scalers\\\": \\\"standard\\\",\\u003cbr\\u003e    \\\"knn_n_neighbors\\\": 54,\\u003cbr\\u003e    \\\"knn_p\\\": 5,\\u003cbr\\u003e    \\\"knn_weights\\\": \\\"distance\\\"\\u003cbr\\u003e  }\\u003cbr\\u003e}\",\"{\\u003cbr\\u003e  \\\"number\\\": 224,\\u003cbr\\u003e  \\\"values\\\": [\\u003cbr\\u003e    0.9274650158570893,\\u003cbr\\u003e    0.0038857319247258566\\u003cbr\\u003e  ],\\u003cbr\\u003e  \\\"params\\\": {\\u003cbr\\u003e    \\\"scalers\\\": \\\"robust\\\",\\u003cbr\\u003e    \\\"knn_n_neighbors\\\": 21,\\u003cbr\\u003e    \\\"knn_p\\\": 7,\\u003cbr\\u003e    \\\"knn_weights\\\": \\\"distance\\\"\\u003cbr\\u003e  }\\u003cbr\\u003e}\",\"{\\u003cbr\\u003e  \\\"number\\\": 225,\\u003cbr\\u003e  \\\"values\\\": [\\u003cbr\\u003e    0.9269313446771744,\\u003cbr\\u003e    0.006208939667143135\\u003cbr\\u003e  ],\\u003cbr\\u003e  \\\"params\\\": {\\u003cbr\\u003e    \\\"scalers\\\": \\\"minmax\\\",\\u003cbr\\u003e    \\\"knn_n_neighbors\\\": 68,\\u003cbr\\u003e    \\\"knn_p\\\": 10,\\u003cbr\\u003e    \\\"knn_weights\\\": \\\"distance\\\"\\u003cbr\\u003e  }\\u003cbr\\u003e}\",\"{\\u003cbr\\u003e  \\\"number\\\": 226,\\u003cbr\\u003e  \\\"values\\\": [\\u003cbr\\u003e    0.9266654422963218,\\u003cbr\\u003e    0.003254670193407402\\u003cbr\\u003e  ],\\u003cbr\\u003e  \\\"params\\\": {\\u003cbr\\u003e    \\\"scalers\\\": \\\"normalizer\\\",\\u003cbr\\u003e    \\\"knn_n_neighbors\\\": 33,\\u003cbr\\u003e    \\\"knn_p\\\": 7,\\u003cbr\\u003e    \\\"knn_weights\\\": \\\"distance\\\"\\u003cbr\\u003e  }\\u003cbr\\u003e}\",\"{\\u003cbr\\u003e  \\\"number\\\": 227,\\u003cbr\\u003e  \\\"values\\\": [\\u003cbr\\u003e    0.927465389140731,\\u003cbr\\u003e    0.0036126126304280967\\u003cbr\\u003e  ],\\u003cbr\\u003e  \\\"params\\\": {\\u003cbr\\u003e    \\\"scalers\\\": \\\"normalizer\\\",\\u003cbr\\u003e    \\\"knn_n_neighbors\\\": 30,\\u003cbr\\u003e    \\\"knn_p\\\": 5,\\u003cbr\\u003e    \\\"knn_weights\\\": \\\"distance\\\"\\u003cbr\\u003e  }\\u003cbr\\u003e}\",\"{\\u003cbr\\u003e  \\\"number\\\": 228,\\u003cbr\\u003e  \\\"values\\\": [\\u003cbr\\u003e    0.9274655135686116,\\u003cbr\\u003e    0.005120756853687135\\u003cbr\\u003e  ],\\u003cbr\\u003e  \\\"params\\\": {\\u003cbr\\u003e    \\\"scalers\\\": \\\"robust\\\",\\u003cbr\\u003e    \\\"knn_n_neighbors\\\": 36,\\u003cbr\\u003e    \\\"knn_p\\\": 1,\\u003cbr\\u003e    \\\"knn_weights\\\": \\\"distance\\\"\\u003cbr\\u003e  }\\u003cbr\\u003e}\",\"{\\u003cbr\\u003e  \\\"number\\\": 229,\\u003cbr\\u003e  \\\"values\\\": [\\u003cbr\\u003e    0.9273310070296776,\\u003cbr\\u003e    0.0062658296301017664\\u003cbr\\u003e  ],\\u003cbr\\u003e  \\\"params\\\": {\\u003cbr\\u003e    \\\"scalers\\\": \\\"normalizer\\\",\\u003cbr\\u003e    \\\"knn_n_neighbors\\\": 95,\\u003cbr\\u003e    \\\"knn_p\\\": 7,\\u003cbr\\u003e    \\\"knn_weights\\\": \\\"distance\\\"\\u003cbr\\u003e  }\\u003cbr\\u003e}\",\"{\\u003cbr\\u003e  \\\"number\\\": 230,\\u003cbr\\u003e  \\\"values\\\": [\\u003cbr\\u003e    0.9274653891407311,\\u003cbr\\u003e    0.004004884324436384\\u003cbr\\u003e  ],\\u003cbr\\u003e  \\\"params\\\": {\\u003cbr\\u003e    \\\"scalers\\\": \\\"robust\\\",\\u003cbr\\u003e    \\\"knn_n_neighbors\\\": 29,\\u003cbr\\u003e    \\\"knn_p\\\": 5,\\u003cbr\\u003e    \\\"knn_weights\\\": \\\"distance\\\"\\u003cbr\\u003e  }\\u003cbr\\u003e}\",\"{\\u003cbr\\u003e  \\\"number\\\": 231,\\u003cbr\\u003e  \\\"values\\\": [\\u003cbr\\u003e    0.9233317705191529,\\u003cbr\\u003e    0.004716853951219985\\u003cbr\\u003e  ],\\u003cbr\\u003e  \\\"params\\\": {\\u003cbr\\u003e    \\\"scalers\\\": \\\"standard\\\",\\u003cbr\\u003e    \\\"knn_n_neighbors\\\": 7,\\u003cbr\\u003e    \\\"knn_p\\\": 10,\\u003cbr\\u003e    \\\"knn_weights\\\": \\\"uniform\\\"\\u003cbr\\u003e  }\\u003cbr\\u003e}\",\"{\\u003cbr\\u003e  \\\"number\\\": 232,\\u003cbr\\u003e  \\\"values\\\": [\\u003cbr\\u003e    0.926397922353021,\\u003cbr\\u003e    0.005569843869294164\\u003cbr\\u003e  ],\\u003cbr\\u003e  \\\"params\\\": {\\u003cbr\\u003e    \\\"scalers\\\": \\\"normalizer\\\",\\u003cbr\\u003e    \\\"knn_n_neighbors\\\": 61,\\u003cbr\\u003e    \\\"knn_p\\\": 7,\\u003cbr\\u003e    \\\"knn_weights\\\": \\\"uniform\\\"\\u003cbr\\u003e  }\\u003cbr\\u003e}\",\"{\\u003cbr\\u003e  \\\"number\\\": 233,\\u003cbr\\u003e  \\\"values\\\": [\\u003cbr\\u003e    0.9265319311804324,\\u003cbr\\u003e    0.004449111330751516\\u003cbr\\u003e  ],\\u003cbr\\u003e  \\\"params\\\": {\\u003cbr\\u003e    \\\"scalers\\\": \\\"robust\\\",\\u003cbr\\u003e    \\\"knn_n_neighbors\\\": 15,\\u003cbr\\u003e    \\\"knn_p\\\": 9,\\u003cbr\\u003e    \\\"knn_weights\\\": \\\"distance\\\"\\u003cbr\\u003e  }\\u003cbr\\u003e}\",\"{\\u003cbr\\u003e  \\\"number\\\": 234,\\u003cbr\\u003e  \\\"values\\\": [\\u003cbr\\u003e    0.9278651759211148,\\u003cbr\\u003e    0.004668307375287688\\u003cbr\\u003e  ],\\u003cbr\\u003e  \\\"params\\\": {\\u003cbr\\u003e    \\\"scalers\\\": \\\"standard\\\",\\u003cbr\\u003e    \\\"knn_n_neighbors\\\": 27,\\u003cbr\\u003e    \\\"knn_p\\\": 6,\\u003cbr\\u003e    \\\"knn_weights\\\": \\\"distance\\\"\\u003cbr\\u003e  }\\u003cbr\\u003e}\",\"{\\u003cbr\\u003e  \\\"number\\\": 235,\\u003cbr\\u003e  \\\"values\\\": [\\u003cbr\\u003e    0.9273322513084837,\\u003cbr\\u003e    0.0035642873468080356\\u003cbr\\u003e  ],\\u003cbr\\u003e  \\\"params\\\": {\\u003cbr\\u003e    \\\"scalers\\\": \\\"normalizer\\\",\\u003cbr\\u003e    \\\"knn_n_neighbors\\\": 27,\\u003cbr\\u003e    \\\"knn_p\\\": 4,\\u003cbr\\u003e    \\\"knn_weights\\\": \\\"distance\\\"\\u003cbr\\u003e  }\\u003cbr\\u003e}\",\"{\\u003cbr\\u003e  \\\"number\\\": 236,\\u003cbr\\u003e  \\\"values\\\": [\\u003cbr\\u003e    0.9282645894178568,\\u003cbr\\u003e    0.005788381306607457\\u003cbr\\u003e  ],\\u003cbr\\u003e  \\\"params\\\": {\\u003cbr\\u003e    \\\"scalers\\\": \\\"standard\\\",\\u003cbr\\u003e    \\\"knn_n_neighbors\\\": 54,\\u003cbr\\u003e    \\\"knn_p\\\": 8,\\u003cbr\\u003e    \\\"knn_weights\\\": \\\"distance\\\"\\u003cbr\\u003e  }\\u003cbr\\u003e}\",\"{\\u003cbr\\u003e  \\\"number\\\": 237,\\u003cbr\\u003e  \\\"values\\\": [\\u003cbr\\u003e    0.9261316466885263,\\u003cbr\\u003e    0.005520221137950971\\u003cbr\\u003e  ],\\u003cbr\\u003e  \\\"params\\\": {\\u003cbr\\u003e    \\\"scalers\\\": \\\"minmax\\\",\\u003cbr\\u003e    \\\"knn_n_neighbors\\\": 36,\\u003cbr\\u003e    \\\"knn_p\\\": 4,\\u003cbr\\u003e    \\\"knn_weights\\\": \\\"distance\\\"\\u003cbr\\u003e  }\\u003cbr\\u003e}\",\"{\\u003cbr\\u003e  \\\"number\\\": 238,\\u003cbr\\u003e  \\\"values\\\": [\\u003cbr\\u003e    0.9286646250540018,\\u003cbr\\u003e    0.005732398128540011\\u003cbr\\u003e  ],\\u003cbr\\u003e  \\\"params\\\": {\\u003cbr\\u003e    \\\"scalers\\\": \\\"standard\\\",\\u003cbr\\u003e    \\\"knn_n_neighbors\\\": 54,\\u003cbr\\u003e    \\\"knn_p\\\": 9,\\u003cbr\\u003e    \\\"knn_weights\\\": \\\"distance\\\"\\u003cbr\\u003e  }\\u003cbr\\u003e}\",\"{\\u003cbr\\u003e  \\\"number\\\": 240,\\u003cbr\\u003e  \\\"values\\\": [\\u003cbr\\u003e    0.927064731365183,\\u003cbr\\u003e    0.005744197692419556\\u003cbr\\u003e  ],\\u003cbr\\u003e  \\\"params\\\": {\\u003cbr\\u003e    \\\"scalers\\\": \\\"minmax\\\",\\u003cbr\\u003e    \\\"knn_n_neighbors\\\": 20,\\u003cbr\\u003e    \\\"knn_p\\\": 9,\\u003cbr\\u003e    \\\"knn_weights\\\": \\\"distance\\\"\\u003cbr\\u003e  }\\u003cbr\\u003e}\",\"{\\u003cbr\\u003e  \\\"number\\\": 241,\\u003cbr\\u003e  \\\"values\\\": [\\u003cbr\\u003e    0.9258653710240317,\\u003cbr\\u003e    0.005317602647950096\\u003cbr\\u003e  ],\\u003cbr\\u003e  \\\"params\\\": {\\u003cbr\\u003e    \\\"scalers\\\": \\\"minmax\\\",\\u003cbr\\u003e    \\\"knn_n_neighbors\\\": 36,\\u003cbr\\u003e    \\\"knn_p\\\": 5,\\u003cbr\\u003e    \\\"knn_weights\\\": \\\"uniform\\\"\\u003cbr\\u003e  }\\u003cbr\\u003e}\",\"{\\u003cbr\\u003e  \\\"number\\\": 242,\\u003cbr\\u003e  \\\"values\\\": [\\u003cbr\\u003e    0.9265315578967908,\\u003cbr\\u003e    0.005249779097191729\\u003cbr\\u003e  ],\\u003cbr\\u003e  \\\"params\\\": {\\u003cbr\\u003e    \\\"scalers\\\": \\\"normalizer\\\",\\u003cbr\\u003e    \\\"knn_n_neighbors\\\": 78,\\u003cbr\\u003e    \\\"knn_p\\\": 3,\\u003cbr\\u003e    \\\"knn_weights\\\": \\\"distance\\\"\\u003cbr\\u003e  }\\u003cbr\\u003e}\",\"{\\u003cbr\\u003e  \\\"number\\\": 243,\\u003cbr\\u003e  \\\"values\\\": [\\u003cbr\\u003e    0.9269315935329356,\\u003cbr\\u003e    0.005225990908644868\\u003cbr\\u003e  ],\\u003cbr\\u003e  \\\"params\\\": {\\u003cbr\\u003e    \\\"scalers\\\": \\\"minmax\\\",\\u003cbr\\u003e    \\\"knn_n_neighbors\\\": 27,\\u003cbr\\u003e    \\\"knn_p\\\": 4,\\u003cbr\\u003e    \\\"knn_weights\\\": \\\"distance\\\"\\u003cbr\\u003e  }\\u003cbr\\u003e}\",\"{\\u003cbr\\u003e  \\\"number\\\": 244,\\u003cbr\\u003e  \\\"values\\\": [\\u003cbr\\u003e    0.9273316291690807,\\u003cbr\\u003e    0.004215546947027101\\u003cbr\\u003e  ],\\u003cbr\\u003e  \\\"params\\\": {\\u003cbr\\u003e    \\\"scalers\\\": \\\"robust\\\",\\u003cbr\\u003e    \\\"knn_n_neighbors\\\": 94,\\u003cbr\\u003e    \\\"knn_p\\\": 5,\\u003cbr\\u003e    \\\"knn_weights\\\": \\\"uniform\\\"\\u003cbr\\u003e  }\\u003cbr\\u003e}\",\"{\\u003cbr\\u003e  \\\"number\\\": 245,\\u003cbr\\u003e  \\\"values\\\": [\\u003cbr\\u003e    0.9274653891407311,\\u003cbr\\u003e    0.0035084583021040305\\u003cbr\\u003e  ],\\u003cbr\\u003e  \\\"params\\\": {\\u003cbr\\u003e    \\\"scalers\\\": \\\"standard\\\",\\u003cbr\\u003e    \\\"knn_n_neighbors\\\": 20,\\u003cbr\\u003e    \\\"knn_p\\\": 9,\\u003cbr\\u003e    \\\"knn_weights\\\": \\\"distance\\\"\\u003cbr\\u003e  }\\u003cbr\\u003e}\",\"{\\u003cbr\\u003e  \\\"number\\\": 246,\\u003cbr\\u003e  \\\"values\\\": [\\u003cbr\\u003e    0.9253323219835199,\\u003cbr\\u003e    0.007065215921923862\\u003cbr\\u003e  ],\\u003cbr\\u003e  \\\"params\\\": {\\u003cbr\\u003e    \\\"scalers\\\": \\\"none\\\",\\u003cbr\\u003e    \\\"knn_n_neighbors\\\": 30,\\u003cbr\\u003e    \\\"knn_p\\\": 4,\\u003cbr\\u003e    \\\"knn_weights\\\": \\\"distance\\\"\\u003cbr\\u003e  }\\u003cbr\\u003e}\",\"{\\u003cbr\\u003e  \\\"number\\\": 247,\\u003cbr\\u003e  \\\"values\\\": [\\u003cbr\\u003e    0.9266644468732768,\\u003cbr\\u003e    0.005799825013781302\\u003cbr\\u003e  ],\\u003cbr\\u003e  \\\"params\\\": {\\u003cbr\\u003e    \\\"scalers\\\": \\\"normalizer\\\",\\u003cbr\\u003e    \\\"knn_n_neighbors\\\": 57,\\u003cbr\\u003e    \\\"knn_p\\\": 7,\\u003cbr\\u003e    \\\"knn_weights\\\": \\\"uniform\\\"\\u003cbr\\u003e  }\\u003cbr\\u003e}\",\"{\\u003cbr\\u003e  \\\"number\\\": 249,\\u003cbr\\u003e  \\\"values\\\": [\\u003cbr\\u003e    0.9279988114648846,\\u003cbr\\u003e    0.00596700093223728\\u003cbr\\u003e  ],\\u003cbr\\u003e  \\\"params\\\": {\\u003cbr\\u003e    \\\"scalers\\\": \\\"robust\\\",\\u003cbr\\u003e    \\\"knn_n_neighbors\\\": 46,\\u003cbr\\u003e    \\\"knn_p\\\": 1,\\u003cbr\\u003e    \\\"knn_weights\\\": \\\"distance\\\"\\u003cbr\\u003e  }\\u003cbr\\u003e}\",\"{\\u003cbr\\u003e  \\\"number\\\": 250,\\u003cbr\\u003e  \\\"values\\\": [\\u003cbr\\u003e    0.927464767001328,\\u003cbr\\u003e    0.005528544241333933\\u003cbr\\u003e  ],\\u003cbr\\u003e  \\\"params\\\": {\\u003cbr\\u003e    \\\"scalers\\\": \\\"robust\\\",\\u003cbr\\u003e    \\\"knn_n_neighbors\\\": 57,\\u003cbr\\u003e    \\\"knn_p\\\": 7,\\u003cbr\\u003e    \\\"knn_weights\\\": \\\"distance\\\"\\u003cbr\\u003e  }\\u003cbr\\u003e}\",\"{\\u003cbr\\u003e  \\\"number\\\": 251,\\u003cbr\\u003e  \\\"values\\\": [\\u003cbr\\u003e    0.9266654422963215,\\u003cbr\\u003e    0.00447781136402489\\u003cbr\\u003e  ],\\u003cbr\\u003e  \\\"params\\\": {\\u003cbr\\u003e    \\\"scalers\\\": \\\"standard\\\",\\u003cbr\\u003e    \\\"knn_n_neighbors\\\": 27,\\u003cbr\\u003e    \\\"knn_p\\\": 5,\\u003cbr\\u003e    \\\"knn_weights\\\": \\\"distance\\\"\\u003cbr\\u003e  }\\u003cbr\\u003e}\",\"{\\u003cbr\\u003e  \\\"number\\\": 252,\\u003cbr\\u003e  \\\"values\\\": [\\u003cbr\\u003e    0.9274645181455669,\\u003cbr\\u003e    0.0061091649148055744\\u003cbr\\u003e  ],\\u003cbr\\u003e  \\\"params\\\": {\\u003cbr\\u003e    \\\"scalers\\\": \\\"standard\\\",\\u003cbr\\u003e    \\\"knn_n_neighbors\\\": 48,\\u003cbr\\u003e    \\\"knn_p\\\": 6,\\u003cbr\\u003e    \\\"knn_weights\\\": \\\"uniform\\\"\\u003cbr\\u003e  }\\u003cbr\\u003e}\",\"{\\u003cbr\\u003e  \\\"number\\\": 253,\\u003cbr\\u003e  \\\"values\\\": [\\u003cbr\\u003e    0.9281313271577288,\\u003cbr\\u003e    0.00511535212527876\\u003cbr\\u003e  ],\\u003cbr\\u003e  \\\"params\\\": {\\u003cbr\\u003e    \\\"scalers\\\": \\\"normalizer\\\",\\u003cbr\\u003e    \\\"knn_n_neighbors\\\": 48,\\u003cbr\\u003e    \\\"knn_p\\\": 4,\\u003cbr\\u003e    \\\"knn_weights\\\": \\\"distance\\\"\\u003cbr\\u003e  }\\u003cbr\\u003e}\",\"{\\u003cbr\\u003e  \\\"number\\\": 254,\\u003cbr\\u003e  \\\"values\\\": [\\u003cbr\\u003e    0.9259982600005177,\\u003cbr\\u003e    0.004369811141621888\\u003cbr\\u003e  ],\\u003cbr\\u003e  \\\"params\\\": {\\u003cbr\\u003e    \\\"scalers\\\": \\\"normalizer\\\",\\u003cbr\\u003e    \\\"knn_n_neighbors\\\": 20,\\u003cbr\\u003e    \\\"knn_p\\\": 9,\\u003cbr\\u003e    \\\"knn_weights\\\": \\\"distance\\\"\\u003cbr\\u003e  }\\u003cbr\\u003e}\",\"{\\u003cbr\\u003e  \\\"number\\\": 255,\\u003cbr\\u003e  \\\"values\\\": [\\u003cbr\\u003e    0.9275981536893365,\\u003cbr\\u003e    0.0049868594719693375\\u003cbr\\u003e  ],\\u003cbr\\u003e  \\\"params\\\": {\\u003cbr\\u003e    \\\"scalers\\\": \\\"standard\\\",\\u003cbr\\u003e    \\\"knn_n_neighbors\\\": 88,\\u003cbr\\u003e    \\\"knn_p\\\": 4,\\u003cbr\\u003e    \\\"knn_weights\\\": \\\"distance\\\"\\u003cbr\\u003e  }\\u003cbr\\u003e}\",\"{\\u003cbr\\u003e  \\\"number\\\": 256,\\u003cbr\\u003e  \\\"values\\\": [\\u003cbr\\u003e    0.9278650514932342,\\u003cbr\\u003e    0.004222273013031433\\u003cbr\\u003e  ],\\u003cbr\\u003e  \\\"params\\\": {\\u003cbr\\u003e    \\\"scalers\\\": \\\"robust\\\",\\u003cbr\\u003e    \\\"knn_n_neighbors\\\": 94,\\u003cbr\\u003e    \\\"knn_p\\\": 5,\\u003cbr\\u003e    \\\"knn_weights\\\": \\\"distance\\\"\\u003cbr\\u003e  }\\u003cbr\\u003e}\",\"{\\u003cbr\\u003e  \\\"number\\\": 257,\\u003cbr\\u003e  \\\"values\\\": [\\u003cbr\\u003e    0.9265326777477162,\\u003cbr\\u003e    0.0034958871197003495\\u003cbr\\u003e  ],\\u003cbr\\u003e  \\\"params\\\": {\\u003cbr\\u003e    \\\"scalers\\\": \\\"normalizer\\\",\\u003cbr\\u003e    \\\"knn_n_neighbors\\\": 27,\\u003cbr\\u003e    \\\"knn_p\\\": 4,\\u003cbr\\u003e    \\\"knn_weights\\\": \\\"uniform\\\"\\u003cbr\\u003e  }\\u003cbr\\u003e}\",\"{\\u003cbr\\u003e  \\\"number\\\": 258,\\u003cbr\\u003e  \\\"values\\\": [\\u003cbr\\u003e    0.9281317004413706,\\u003cbr\\u003e    0.0052543703732064045\\u003cbr\\u003e  ],\\u003cbr\\u003e  \\\"params\\\": {\\u003cbr\\u003e    \\\"scalers\\\": \\\"standard\\\",\\u003cbr\\u003e    \\\"knn_n_neighbors\\\": 33,\\u003cbr\\u003e    \\\"knn_p\\\": 9,\\u003cbr\\u003e    \\\"knn_weights\\\": \\\"distance\\\"\\u003cbr\\u003e  }\\u003cbr\\u003e}\",\"{\\u003cbr\\u003e  \\\"number\\\": 259,\\u003cbr\\u003e  \\\"values\\\": [\\u003cbr\\u003e    0.9278651759211148,\\u003cbr\\u003e    0.004668307375287688\\u003cbr\\u003e  ],\\u003cbr\\u003e  \\\"params\\\": {\\u003cbr\\u003e    \\\"scalers\\\": \\\"standard\\\",\\u003cbr\\u003e    \\\"knn_n_neighbors\\\": 27,\\u003cbr\\u003e    \\\"knn_p\\\": 6,\\u003cbr\\u003e    \\\"knn_weights\\\": \\\"distance\\\"\\u003cbr\\u003e  }\\u003cbr\\u003e}\",\"{\\u003cbr\\u003e  \\\"number\\\": 260,\\u003cbr\\u003e  \\\"values\\\": [\\u003cbr\\u003e    0.9282645894178568,\\u003cbr\\u003e    0.005077758013655199\\u003cbr\\u003e  ],\\u003cbr\\u003e  \\\"params\\\": {\\u003cbr\\u003e    \\\"scalers\\\": \\\"normalizer\\\",\\u003cbr\\u003e    \\\"knn_n_neighbors\\\": 48,\\u003cbr\\u003e    \\\"knn_p\\\": 7,\\u003cbr\\u003e    \\\"knn_weights\\\": \\\"distance\\\"\\u003cbr\\u003e  }\\u003cbr\\u003e}\",\"{\\u003cbr\\u003e  \\\"number\\\": 263,\\u003cbr\\u003e  \\\"values\\\": [\\u003cbr\\u003e    0.9270649802209442,\\u003cbr\\u003e    0.0046375819463250825\\u003cbr\\u003e  ],\\u003cbr\\u003e  \\\"params\\\": {\\u003cbr\\u003e    \\\"scalers\\\": \\\"robust\\\",\\u003cbr\\u003e    \\\"knn_n_neighbors\\\": 21,\\u003cbr\\u003e    \\\"knn_p\\\": 7,\\u003cbr\\u003e    \\\"knn_weights\\\": \\\"uniform\\\"\\u003cbr\\u003e  }\\u003cbr\\u003e}\",\"{\\u003cbr\\u003e  \\\"number\\\": 264,\\u003cbr\\u003e  \\\"values\\\": [\\u003cbr\\u003e    0.9263982956366628,\\u003cbr\\u003e    0.0053125052428173785\\u003cbr\\u003e  ],\\u003cbr\\u003e  \\\"params\\\": {\\u003cbr\\u003e    \\\"scalers\\\": \\\"robust\\\",\\u003cbr\\u003e    \\\"knn_n_neighbors\\\": 27,\\u003cbr\\u003e    \\\"knn_p\\\": 3,\\u003cbr\\u003e    \\\"knn_weights\\\": \\\"uniform\\\"\\u003cbr\\u003e  }\\u003cbr\\u003e}\",\"{\\u003cbr\\u003e  \\\"number\\\": 265,\\u003cbr\\u003e  \\\"values\\\": [\\u003cbr\\u003e    0.927465389140731,\\u003cbr\\u003e    0.004157188539184194\\u003cbr\\u003e  ],\\u003cbr\\u003e  \\\"params\\\": {\\u003cbr\\u003e    \\\"scalers\\\": \\\"robust\\\",\\u003cbr\\u003e    \\\"knn_n_neighbors\\\": 70,\\u003cbr\\u003e    \\\"knn_p\\\": 3,\\u003cbr\\u003e    \\\"knn_weights\\\": \\\"uniform\\\"\\u003cbr\\u003e  }\\u003cbr\\u003e}\",\"{\\u003cbr\\u003e  \\\"number\\\": 266,\\u003cbr\\u003e  \\\"values\\\": [\\u003cbr\\u003e    0.9274653891407311,\\u003cbr\\u003e    0.0035084583021040305\\u003cbr\\u003e  ],\\u003cbr\\u003e  \\\"params\\\": {\\u003cbr\\u003e    \\\"scalers\\\": \\\"standard\\\",\\u003cbr\\u003e    \\\"knn_n_neighbors\\\": 20,\\u003cbr\\u003e    \\\"knn_p\\\": 9,\\u003cbr\\u003e    \\\"knn_weights\\\": \\\"distance\\\"\\u003cbr\\u003e  }\\u003cbr\\u003e}\",\"{\\u003cbr\\u003e  \\\"number\\\": 267,\\u003cbr\\u003e  \\\"values\\\": [\\u003cbr\\u003e    0.9253318242719974,\\u003cbr\\u003e    0.004911009201168289\\u003cbr\\u003e  ],\\u003cbr\\u003e  \\\"params\\\": {\\u003cbr\\u003e    \\\"scalers\\\": \\\"standard\\\",\\u003cbr\\u003e    \\\"knn_n_neighbors\\\": 30,\\u003cbr\\u003e    \\\"knn_p\\\": 5,\\u003cbr\\u003e    \\\"knn_weights\\\": \\\"distance\\\"\\u003cbr\\u003e  }\\u003cbr\\u003e}\",\"{\\u003cbr\\u003e  \\\"number\\\": 268,\\u003cbr\\u003e  \\\"values\\\": [\\u003cbr\\u003e    0.9274653891407311,\\u003cbr\\u003e    0.004004884324436384\\u003cbr\\u003e  ],\\u003cbr\\u003e  \\\"params\\\": {\\u003cbr\\u003e    \\\"scalers\\\": \\\"robust\\\",\\u003cbr\\u003e    \\\"knn_n_neighbors\\\": 29,\\u003cbr\\u003e    \\\"knn_p\\\": 5,\\u003cbr\\u003e    \\\"knn_weights\\\": \\\"distance\\\"\\u003cbr\\u003e  }\\u003cbr\\u003e}\",\"{\\u003cbr\\u003e  \\\"number\\\": 269,\\u003cbr\\u003e  \\\"values\\\": [\\u003cbr\\u003e    0.9273322513084837,\\u003cbr\\u003e    0.0050888171639452695\\u003cbr\\u003e  ],\\u003cbr\\u003e  \\\"params\\\": {\\u003cbr\\u003e    \\\"scalers\\\": \\\"robust\\\",\\u003cbr\\u003e    \\\"knn_n_neighbors\\\": 78,\\u003cbr\\u003e    \\\"knn_p\\\": 1,\\u003cbr\\u003e    \\\"knn_weights\\\": \\\"distance\\\"\\u003cbr\\u003e  }\\u003cbr\\u003e}\",\"{\\u003cbr\\u003e  \\\"number\\\": 270,\\u003cbr\\u003e  \\\"values\\\": [\\u003cbr\\u003e    0.9266641980175157,\\u003cbr\\u003e    0.007200141414638781\\u003cbr\\u003e  ],\\u003cbr\\u003e  \\\"params\\\": {\\u003cbr\\u003e    \\\"scalers\\\": \\\"robust\\\",\\u003cbr\\u003e    \\\"knn_n_neighbors\\\": 57,\\u003cbr\\u003e    \\\"knn_p\\\": 10,\\u003cbr\\u003e    \\\"knn_weights\\\": \\\"uniform\\\"\\u003cbr\\u003e  }\\u003cbr\\u003e}\",\"{\\u003cbr\\u003e  \\\"number\\\": 271,\\u003cbr\\u003e  \\\"values\\\": [\\u003cbr\\u003e    0.9278643049259506,\\u003cbr\\u003e    0.006842131792910491\\u003cbr\\u003e  ],\\u003cbr\\u003e  \\\"params\\\": {\\u003cbr\\u003e    \\\"scalers\\\": \\\"standard\\\",\\u003cbr\\u003e    \\\"knn_n_neighbors\\\": 54,\\u003cbr\\u003e    \\\"knn_p\\\": 10,\\u003cbr\\u003e    \\\"knn_weights\\\": \\\"uniform\\\"\\u003cbr\\u003e  }\\u003cbr\\u003e}\",\"{\\u003cbr\\u003e  \\\"number\\\": 272,\\u003cbr\\u003e  \\\"values\\\": [\\u003cbr\\u003e    0.928264838273618,\\u003cbr\\u003e    0.005453284913895292\\u003cbr\\u003e  ],\\u003cbr\\u003e  \\\"params\\\": {\\u003cbr\\u003e    \\\"scalers\\\": \\\"standard\\\",\\u003cbr\\u003e    \\\"knn_n_neighbors\\\": 51,\\u003cbr\\u003e    \\\"knn_p\\\": 9,\\u003cbr\\u003e    \\\"knn_weights\\\": \\\"distance\\\"\\u003cbr\\u003e  }\\u003cbr\\u003e}\",\"{\\u003cbr\\u003e  \\\"number\\\": 273,\\u003cbr\\u003e  \\\"values\\\": [\\u003cbr\\u003e    0.9270651046488247,\\u003cbr\\u003e    0.0038748445444638374\\u003cbr\\u003e  ],\\u003cbr\\u003e  \\\"params\\\": {\\u003cbr\\u003e    \\\"scalers\\\": \\\"normalizer\\\",\\u003cbr\\u003e    \\\"knn_n_neighbors\\\": 30,\\u003cbr\\u003e    \\\"knn_p\\\": 7,\\u003cbr\\u003e    \\\"knn_weights\\\": \\\"distance\\\"\\u003cbr\\u003e  }\\u003cbr\\u003e}\",\"{\\u003cbr\\u003e  \\\"number\\\": 274,\\u003cbr\\u003e  \\\"values\\\": [\\u003cbr\\u003e    0.9281318248692514,\\u003cbr\\u003e    0.005109174285859579\\u003cbr\\u003e  ],\\u003cbr\\u003e  \\\"params\\\": {\\u003cbr\\u003e    \\\"scalers\\\": \\\"standard\\\",\\u003cbr\\u003e    \\\"knn_n_neighbors\\\": 54,\\u003cbr\\u003e    \\\"knn_p\\\": 5,\\u003cbr\\u003e    \\\"knn_weights\\\": \\\"distance\\\"\\u003cbr\\u003e  }\\u003cbr\\u003e}\",\"{\\u003cbr\\u003e  \\\"number\\\": 275,\\u003cbr\\u003e  \\\"values\\\": [\\u003cbr\\u003e    0.9270649802209442,\\u003cbr\\u003e    0.004690292053752998\\u003cbr\\u003e  ],\\u003cbr\\u003e  \\\"params\\\": {\\u003cbr\\u003e    \\\"scalers\\\": \\\"normalizer\\\",\\u003cbr\\u003e    \\\"knn_n_neighbors\\\": 27,\\u003cbr\\u003e    \\\"knn_p\\\": 9,\\u003cbr\\u003e    \\\"knn_weights\\\": \\\"distance\\\"\\u003cbr\\u003e  }\\u003cbr\\u003e}\",\"{\\u003cbr\\u003e  \\\"number\\\": 276,\\u003cbr\\u003e  \\\"values\\\": [\\u003cbr\\u003e    0.927465389140731,\\u003cbr\\u003e    0.0036126126304280967\\u003cbr\\u003e  ],\\u003cbr\\u003e  \\\"params\\\": {\\u003cbr\\u003e    \\\"scalers\\\": \\\"normalizer\\\",\\u003cbr\\u003e    \\\"knn_n_neighbors\\\": 30,\\u003cbr\\u003e    \\\"knn_p\\\": 5,\\u003cbr\\u003e    \\\"knn_weights\\\": \\\"distance\\\"\\u003cbr\\u003e  }\\u003cbr\\u003e}\",\"{\\u003cbr\\u003e  \\\"number\\\": 278,\\u003cbr\\u003e  \\\"values\\\": [\\u003cbr\\u003e    0.927865424776876,\\u003cbr\\u003e    0.003973667281893637\\u003cbr\\u003e  ],\\u003cbr\\u003e  \\\"params\\\": {\\u003cbr\\u003e    \\\"scalers\\\": \\\"standard\\\",\\u003cbr\\u003e    \\\"knn_n_neighbors\\\": 20,\\u003cbr\\u003e    \\\"knn_p\\\": 4,\\u003cbr\\u003e    \\\"knn_weights\\\": \\\"distance\\\"\\u003cbr\\u003e  }\\u003cbr\\u003e}\",\"{\\u003cbr\\u003e  \\\"number\\\": 279,\\u003cbr\\u003e  \\\"values\\\": [\\u003cbr\\u003e    0.9266654422963215,\\u003cbr\\u003e    0.00447781136402489\\u003cbr\\u003e  ],\\u003cbr\\u003e  \\\"params\\\": {\\u003cbr\\u003e    \\\"scalers\\\": \\\"standard\\\",\\u003cbr\\u003e    \\\"knn_n_neighbors\\\": 27,\\u003cbr\\u003e    \\\"knn_p\\\": 5,\\u003cbr\\u003e    \\\"knn_weights\\\": \\\"distance\\\"\\u003cbr\\u003e  }\\u003cbr\\u003e}\",\"{\\u003cbr\\u003e  \\\"number\\\": 280,\\u003cbr\\u003e  \\\"values\\\": [\\u003cbr\\u003e    0.927064731365183,\\u003cbr\\u003e    0.005744197692419556\\u003cbr\\u003e  ],\\u003cbr\\u003e  \\\"params\\\": {\\u003cbr\\u003e    \\\"scalers\\\": \\\"minmax\\\",\\u003cbr\\u003e    \\\"knn_n_neighbors\\\": 20,\\u003cbr\\u003e    \\\"knn_p\\\": 9,\\u003cbr\\u003e    \\\"knn_weights\\\": \\\"distance\\\"\\u003cbr\\u003e  }\\u003cbr\\u003e}\",\"{\\u003cbr\\u003e  \\\"number\\\": 282,\\u003cbr\\u003e  \\\"values\\\": [\\u003cbr\\u003e    0.9279983137533622,\\u003cbr\\u003e    0.0052420746609582155\\u003cbr\\u003e  ],\\u003cbr\\u003e  \\\"params\\\": {\\u003cbr\\u003e    \\\"scalers\\\": \\\"standard\\\",\\u003cbr\\u003e    \\\"knn_n_neighbors\\\": 54,\\u003cbr\\u003e    \\\"knn_p\\\": 6,\\u003cbr\\u003e    \\\"knn_weights\\\": \\\"distance\\\"\\u003cbr\\u003e  }\\u003cbr\\u003e}\",\"{\\u003cbr\\u003e  \\\"number\\\": 283,\\u003cbr\\u003e  \\\"values\\\": [\\u003cbr\\u003e    0.9274653891407311,\\u003cbr\\u003e    0.0035084583021040305\\u003cbr\\u003e  ],\\u003cbr\\u003e  \\\"params\\\": {\\u003cbr\\u003e    \\\"scalers\\\": \\\"standard\\\",\\u003cbr\\u003e    \\\"knn_n_neighbors\\\": 20,\\u003cbr\\u003e    \\\"knn_p\\\": 9,\\u003cbr\\u003e    \\\"knn_weights\\\": \\\"distance\\\"\\u003cbr\\u003e  }\\u003cbr\\u003e}\",\"{\\u003cbr\\u003e  \\\"number\\\": 284,\\u003cbr\\u003e  \\\"values\\\": [\\u003cbr\\u003e    0.9281317004413706,\\u003cbr\\u003e    0.0052543703732064045\\u003cbr\\u003e  ],\\u003cbr\\u003e  \\\"params\\\": {\\u003cbr\\u003e    \\\"scalers\\\": \\\"standard\\\",\\u003cbr\\u003e    \\\"knn_n_neighbors\\\": 33,\\u003cbr\\u003e    \\\"knn_p\\\": 9,\\u003cbr\\u003e    \\\"knn_weights\\\": \\\"distance\\\"\\u003cbr\\u003e  }\\u003cbr\\u003e}\",\"{\\u003cbr\\u003e  \\\"number\\\": 285,\\u003cbr\\u003e  \\\"values\\\": [\\u003cbr\\u003e    0.924932286347375,\\u003cbr\\u003e    0.003975158799871752\\u003cbr\\u003e  ],\\u003cbr\\u003e  \\\"params\\\": {\\u003cbr\\u003e    \\\"scalers\\\": \\\"normalizer\\\",\\u003cbr\\u003e    \\\"knn_n_neighbors\\\": 30,\\u003cbr\\u003e    \\\"knn_p\\\": 1,\\u003cbr\\u003e    \\\"knn_weights\\\": \\\"uniform\\\"\\u003cbr\\u003e  }\\u003cbr\\u003e}\",\"{\\u003cbr\\u003e  \\\"number\\\": 286,\\u003cbr\\u003e  \\\"values\\\": [\\u003cbr\\u003e    0.9266644468732768,\\u003cbr\\u003e    0.005799825013781302\\u003cbr\\u003e  ],\\u003cbr\\u003e  \\\"params\\\": {\\u003cbr\\u003e    \\\"scalers\\\": \\\"normalizer\\\",\\u003cbr\\u003e    \\\"knn_n_neighbors\\\": 57,\\u003cbr\\u003e    \\\"knn_p\\\": 7,\\u003cbr\\u003e    \\\"knn_weights\\\": \\\"uniform\\\"\\u003cbr\\u003e  }\\u003cbr\\u003e}\",\"{\\u003cbr\\u003e  \\\"number\\\": 287,\\u003cbr\\u003e  \\\"values\\\": [\\u003cbr\\u003e    0.9281309538740871,\\u003cbr\\u003e    0.0063952523177087306\\u003cbr\\u003e  ],\\u003cbr\\u003e  \\\"params\\\": {\\u003cbr\\u003e    \\\"scalers\\\": \\\"normalizer\\\",\\u003cbr\\u003e    \\\"knn_n_neighbors\\\": 64,\\u003cbr\\u003e    \\\"knn_p\\\": 9,\\u003cbr\\u003e    \\\"knn_weights\\\": \\\"distance\\\"\\u003cbr\\u003e  }\\u003cbr\\u003e}\",\"{\\u003cbr\\u003e  \\\"number\\\": 288,\\u003cbr\\u003e  \\\"values\\\": [\\u003cbr\\u003e    0.927998064897601,\\u003cbr\\u003e    0.006359956432488485\\u003cbr\\u003e  ],\\u003cbr\\u003e  \\\"params\\\": {\\u003cbr\\u003e    \\\"scalers\\\": \\\"robust\\\",\\u003cbr\\u003e    \\\"knn_n_neighbors\\\": 54,\\u003cbr\\u003e    \\\"knn_p\\\": 9,\\u003cbr\\u003e    \\\"knn_weights\\\": \\\"distance\\\"\\u003cbr\\u003e  }\\u003cbr\\u003e}\",\"{\\u003cbr\\u003e  \\\"number\\\": 289,\\u003cbr\\u003e  \\\"values\\\": [\\u003cbr\\u003e    0.9271984913368333,\\u003cbr\\u003e    0.005299332500800837\\u003cbr\\u003e  ],\\u003cbr\\u003e  \\\"params\\\": {\\u003cbr\\u003e    \\\"scalers\\\": \\\"standard\\\",\\u003cbr\\u003e    \\\"knn_n_neighbors\\\": 30,\\u003cbr\\u003e    \\\"knn_p\\\": 10,\\u003cbr\\u003e    \\\"knn_weights\\\": \\\"distance\\\"\\u003cbr\\u003e  }\\u003cbr\\u003e}\",\"{\\u003cbr\\u003e  \\\"number\\\": 291,\\u003cbr\\u003e  \\\"values\\\": [\\u003cbr\\u003e    0.9267982068449271,\\u003cbr\\u003e    0.004703761565782963\\u003cbr\\u003e  ],\\u003cbr\\u003e  \\\"params\\\": {\\u003cbr\\u003e    \\\"scalers\\\": \\\"robust\\\",\\u003cbr\\u003e    \\\"knn_n_neighbors\\\": 27,\\u003cbr\\u003e    \\\"knn_p\\\": 4,\\u003cbr\\u003e    \\\"knn_weights\\\": \\\"distance\\\"\\u003cbr\\u003e  }\\u003cbr\\u003e}\",\"{\\u003cbr\\u003e  \\\"number\\\": 292,\\u003cbr\\u003e  \\\"values\\\": [\\u003cbr\\u003e    0.9263981712087821,\\u003cbr\\u003e    0.005361096689212553\\u003cbr\\u003e  ],\\u003cbr\\u003e  \\\"params\\\": {\\u003cbr\\u003e    \\\"scalers\\\": \\\"standard\\\",\\u003cbr\\u003e    \\\"knn_n_neighbors\\\": 91,\\u003cbr\\u003e    \\\"knn_p\\\": 5,\\u003cbr\\u003e    \\\"knn_weights\\\": \\\"uniform\\\"\\u003cbr\\u003e  }\\u003cbr\\u003e}\",\"{\\u003cbr\\u003e  \\\"number\\\": 293,\\u003cbr\\u003e  \\\"values\\\": [\\u003cbr\\u003e    0.9273312558854389,\\u003cbr\\u003e    0.005999312923058821\\u003cbr\\u003e  ],\\u003cbr\\u003e  \\\"params\\\": {\\u003cbr\\u003e    \\\"scalers\\\": \\\"normalizer\\\",\\u003cbr\\u003e    \\\"knn_n_neighbors\\\": 95,\\u003cbr\\u003e    \\\"knn_p\\\": 4,\\u003cbr\\u003e    \\\"knn_weights\\\": \\\"distance\\\"\\u003cbr\\u003e  }\\u003cbr\\u003e}\",\"{\\u003cbr\\u003e  \\\"number\\\": 294,\\u003cbr\\u003e  \\\"values\\\": [\\u003cbr\\u003e    0.927598651400859,\\u003cbr\\u003e    0.004338484041301456\\u003cbr\\u003e  ],\\u003cbr\\u003e  \\\"params\\\": {\\u003cbr\\u003e    \\\"scalers\\\": \\\"standard\\\",\\u003cbr\\u003e    \\\"knn_n_neighbors\\\": 32,\\u003cbr\\u003e    \\\"knn_p\\\": 2,\\u003cbr\\u003e    \\\"knn_weights\\\": \\\"distance\\\"\\u003cbr\\u003e  }\\u003cbr\\u003e}\",\"{\\u003cbr\\u003e  \\\"number\\\": 295,\\u003cbr\\u003e  \\\"values\\\": [\\u003cbr\\u003e    0.9286646250540018,\\u003cbr\\u003e    0.005732398128540011\\u003cbr\\u003e  ],\\u003cbr\\u003e  \\\"params\\\": {\\u003cbr\\u003e    \\\"scalers\\\": \\\"standard\\\",\\u003cbr\\u003e    \\\"knn_n_neighbors\\\": 54,\\u003cbr\\u003e    \\\"knn_p\\\": 9,\\u003cbr\\u003e    \\\"knn_weights\\\": \\\"distance\\\"\\u003cbr\\u003e  }\\u003cbr\\u003e}\",\"{\\u003cbr\\u003e  \\\"number\\\": 296,\\u003cbr\\u003e  \\\"values\\\": [\\u003cbr\\u003e    0.928398100533746,\\u003cbr\\u003e    0.0059407131150828706\\u003cbr\\u003e  ],\\u003cbr\\u003e  \\\"params\\\": {\\u003cbr\\u003e    \\\"scalers\\\": \\\"standard\\\",\\u003cbr\\u003e    \\\"knn_n_neighbors\\\": 57,\\u003cbr\\u003e    \\\"knn_p\\\": 7,\\u003cbr\\u003e    \\\"knn_weights\\\": \\\"uniform\\\"\\u003cbr\\u003e  }\\u003cbr\\u003e}\",\"{\\u003cbr\\u003e  \\\"number\\\": 297,\\u003cbr\\u003e  \\\"values\\\": [\\u003cbr\\u003e    0.9278643049259506,\\u003cbr\\u003e    0.006370581840309012\\u003cbr\\u003e  ],\\u003cbr\\u003e  \\\"params\\\": {\\u003cbr\\u003e    \\\"scalers\\\": \\\"minmax\\\",\\u003cbr\\u003e    \\\"knn_n_neighbors\\\": 78,\\u003cbr\\u003e    \\\"knn_p\\\": 9,\\u003cbr\\u003e    \\\"knn_weights\\\": \\\"distance\\\"\\u003cbr\\u003e  }\\u003cbr\\u003e}\",\"{\\u003cbr\\u003e  \\\"number\\\": 298,\\u003cbr\\u003e  \\\"values\\\": [\\u003cbr\\u003e    0.926797957989166,\\u003cbr\\u003e    0.006191296769401258\\u003cbr\\u003e  ],\\u003cbr\\u003e  \\\"params\\\": {\\u003cbr\\u003e    \\\"scalers\\\": \\\"normalizer\\\",\\u003cbr\\u003e    \\\"knn_n_neighbors\\\": 94,\\u003cbr\\u003e    \\\"knn_p\\\": 4,\\u003cbr\\u003e    \\\"knn_weights\\\": \\\"distance\\\"\\u003cbr\\u003e  }\\u003cbr\\u003e}\",\"{\\u003cbr\\u003e  \\\"number\\\": 299,\\u003cbr\\u003e  \\\"values\\\": [\\u003cbr\\u003e    0.9281312027298483,\\u003cbr\\u003e    0.0057150412742063336\\u003cbr\\u003e  ],\\u003cbr\\u003e  \\\"params\\\": {\\u003cbr\\u003e    \\\"scalers\\\": \\\"standard\\\",\\u003cbr\\u003e    \\\"knn_n_neighbors\\\": 57,\\u003cbr\\u003e    \\\"knn_p\\\": 10,\\u003cbr\\u003e    \\\"knn_weights\\\": \\\"distance\\\"\\u003cbr\\u003e  }\\u003cbr\\u003e}\"],\"x\":[0.9238648195596648,0.926397922353021,0.927998064897601,0.8983972942410795,0.925331948699878,0.9278649270653536,0.9257319843360231,0.9262649089486541,0.925465210960006,0.9233316460912724,0.9278645537817117,0.9270646069373024,0.9261316466885262,0.927998064897601,0.9273316291690807,0.9222652991544876,0.9253314509883557,0.9269317179608162,0.9281312027298483,0.9274651402849698,0.9271983669089527,0.9230651215710165,0.9269310958214133,0.927464767001328,0.928398100533746,0.9253318242719973,0.9269314691050551,0.9242660994746158,0.9277320380888675,0.9259977622889953,0.9255985976480146,0.9241322150750849,0.9251980643003471,0.9270654779324666,0.9247984019478439,0.9247985263757246,0.926797957989166,0.9265319311804324,0.9253315754162363,0.9237329260062236,0.9238649439875453,0.9257314866245007,0.926798580128569,0.9247984019478439,0.9270651046488247,0.9265308113295071,0.9242652284794515,0.9273311314575583,0.9242646063400485,0.9259977622889953,0.9254653353878866,0.9278649270653536,0.9278649270653536,0.926664695729038,0.9263981712087821,0.9278646782095924,0.9278649270653536,0.9278645537817117,0.9274648914292085,0.9258652465961509,0.9271978691974303,0.9261311489770039,0.9285312383659933,0.9271977447695497,0.9245322507112299,0.9257314866245007,0.9230652459988972,0.9238651928433066,0.9265314334689101,0.9267983312728078,0.9277317892331063,0.9262642868092511,0.9269310958214133,0.9282647138457374,0.9283977272501042,0.9231985082590252,0.9269315935329356,0.9283982249616266,0.9262649089486541,0.9249316642079718,0.928264838273618,0.9269313446771745,0.9273322513084837,0.9255983487922533,0.9281309538740871,0.9263982956366628,0.9253314509883557,0.9259988821399208,0.9277316648052257,0.926798580128569,0.9243974953165346,0.9263991666318271,0.9242660994746158,0.9274645181455669,0.9191985251812168,0.9262644112371319,0.9257314866245007,0.927998064897601,0.9267983312728078,0.9273316291690807,0.9274652647128504,0.9278646782095924,0.9263976734972597,0.9247985263757246,0.9147991286066667,0.9241314685078013,0.926131397832765,0.9275981536893365,0.9229324814502916,0.928264216134215,0.9275984025450977,0.9251984375839888,0.9245315041439462,0.927731291521584,0.9273322513084837,0.9237320550110593,0.9265319311804324,0.9279985626091234,0.927465389140731,0.9271989890483557,0.9267987045564495,0.9230664902777033,0.9283984738173877,0.9267983312728078,0.9245313797160657,0.9269314691050551,0.9270648557930636,0.927598029261456,0.9251986864397502,0.9274653891407311,0.9274648914292085,0.9275984025450977,0.9278651759211148,0.9262647845207735,0.9262650333765349,0.9257326064754262,0.9279978160418397,0.9278649270653536,0.928398100533746,0.927998064897601,0.9269310958214133,0.925331948699878,0.9273316291690807,0.9263980467809015,0.9229312371714855,0.9263986689203045,0.9270652290767055,0.9253315754162362,0.9278640560701893,0.9270649802209442,0.9261311489770039,0.9273316291690807,0.9271988646204752,0.9273312558854389,0.927998064897601,0.9233315216633917,0.9269315935329356,0.9273316291690807,0.9286646250540018,0.9285311139381127,0.9274652647128505,0.9281313271577288,0.9263986689203045,0.9282649627014986,0.926131397832765,0.9274648914292085,0.9281310783019677,0.9262641623813705,0.9273316291690807,0.9279983137533622,0.927865424776876,0.9239985795313151,0.9270651046488247,0.9279985626091234,0.925865868735554,0.927598651400859,0.9262650333765347,0.9274653891407311,0.9254644643927223,0.9278649270653536,0.9247981530920827,0.9283977272501042,0.9259982600005178,0.9279979404697203,0.927998064897601,0.9265308113295071,0.9266649445847992,0.9281317004413706,0.9265314334689101,0.9253323219835199,0.927064731365183,0.9261312734048844,0.9241320906472043,0.9286646250540018,0.9250650508959805,0.9281317004413706,0.9279985626091234,0.9277319136609868,0.9270649802209442,0.9270651046488247,0.9277316648052257,0.9265319311804324,0.9286651227655243,0.9282649627014986,0.9259983844283982,0.9258649977403898,0.9255987220758951,0.9145321063748882,0.9279984381812428,0.9274653891407311,0.9281317004413706,0.9270653535045861,0.928264838273618,0.927064731365183,0.9278653003489954,0.9273322513084837,0.9279979404697203,0.9270652290767055,0.9246645175483128,0.9281318248692514,0.9274650158570893,0.9269313446771744,0.9266654422963218,0.927465389140731,0.9274655135686116,0.9273310070296776,0.9274653891407311,0.9233317705191529,0.926397922353021,0.9265319311804324,0.9278651759211148,0.9273322513084837,0.9282645894178568,0.9261316466885263,0.9286646250540018,0.927064731365183,0.9258653710240317,0.9265315578967908,0.9269315935329356,0.9273316291690807,0.9274653891407311,0.9253323219835199,0.9266644468732768,0.9279988114648846,0.927464767001328,0.9266654422963215,0.9274645181455669,0.9281313271577288,0.9259982600005177,0.9275981536893365,0.9278650514932342,0.9265326777477162,0.9281317004413706,0.9278651759211148,0.9282645894178568,0.9270649802209442,0.9263982956366628,0.927465389140731,0.9274653891407311,0.9253318242719974,0.9274653891407311,0.9273322513084837,0.9266641980175157,0.9278643049259506,0.928264838273618,0.9270651046488247,0.9281318248692514,0.9270649802209442,0.927465389140731,0.927865424776876,0.9266654422963215,0.927064731365183,0.9279983137533622,0.9274653891407311,0.9281317004413706,0.924932286347375,0.9266644468732768,0.9281309538740871,0.927998064897601,0.9271984913368333,0.9267982068449271,0.9263981712087821,0.9273312558854389,0.927598651400859,0.9286646250540018,0.928398100533746,0.9278643049259506,0.926797957989166,0.9281312027298483],\"y\":[0.005687591309562411,0.006143606022259835,0.005914057379820871,0.007945843722841711,0.00483238412841431,0.005458555501582399,0.0038854511739917948,0.006252253308488238,0.004714433553055131,0.005676377266843285,0.005730332058276834,0.0068341839358954885,0.005609161335846917,0.005385622278011586,0.004769724934810608,0.004901690794655387,0.004762050758245893,0.0055918531033203175,0.006113916219609878,0.005433033822633382,0.004624963932205643,0.005391121938393119,0.005753714449817033,0.005792729655551564,0.0059407131150828706,0.004259477433259938,0.005617708540174756,0.0055048106750609505,0.006183493108578618,0.005924429064967674,0.005150549684150378,0.0051206570006075295,0.006121114130009743,0.005375229054161186,0.005769533982920697,0.004165774996106922,0.006070319181636652,0.003816977223137141,0.005039809488530996,0.004757420816178352,0.005324292527003096,0.005348843230587915,0.005030090568173901,0.004108385082196605,0.0054498499794390755,0.007111620714597221,0.004241512559839634,0.006304589600565193,0.0059371148039230855,0.006749718717587885,0.0051901244352079556,0.005458555501582399,0.005458555501582399,0.005965896919375501,0.005566292777670635,0.004728609102229588,0.005458555501582399,0.00496139134255149,0.005006965333593964,0.004931502955774304,0.005779789823952992,0.005747214200349604,0.0066198007444721015,0.006433111007327451,0.006466736192914699,0.005348843230587915,0.005005771895923018,0.00568182532989472,0.005920310408766247,0.005156303031365725,0.0051056983841474635,0.007062738483326835,0.006290240184704632,0.0056995863610653,0.006170416564767911,0.006592175215528134,0.005319634193953,0.004906453680937138,0.006252253308488238,0.004754523516424991,0.005655219087494146,0.005439223564700645,0.0035642873468080356,0.004980426507975065,0.0061175236436683145,0.006299525137070461,0.004762050758245893,0.004444457781902283,0.005346098348290507,0.0053430191068380255,0.005742466870087461,0.005182259677557087,0.0055048106750609505,0.005817036512012499,0.007327133809688815,0.006827167980505417,0.005348843230587915,0.006242248401281308,0.006004012366288037,0.004769724934810608,0.004927212088656737,0.004728609102229588,0.006632966437889119,0.0045924864845662185,0.004945327873162726,0.005878420207689793,0.005914314698819602,0.006108395032432815,0.005888944336171775,0.007190887195528145,0.004700153430169825,0.005650861162539407,0.00595631973277258,0.005945623196044867,0.0035642873468080356,0.006645705683338805,0.004901805398602873,0.004469101049292179,0.004157188539184194,0.004953547704785433,0.004722394522530304,0.00511011677777282,0.005052728215971491,0.005156303031365725,0.005787431318000739,0.005436517753907961,0.004950887311375875,0.006027701842632046,0.005780187942087408,0.0035084583021040305,0.005006965333593964,0.005835078106117005,0.005222625716932729,0.005445005207876953,0.004861120001372636,0.003640911975713814,0.006362397154568819,0.005458555501582399,0.0059407131150828706,0.005634425847928473,0.00650506851570325,0.00483238412841431,0.004769724934810608,0.006302589424696764,0.006750575230095225,0.00455041873104516,0.004091591083220889,0.004204680900485835,0.006678063158805679,0.005674653994084752,0.00634361766140471,0.004769724934810608,0.005029217284967035,0.005788555722450867,0.005385622278011586,0.0057209603197879155,0.005225990908644868,0.004717410064245898,0.005732398128540011,0.00625350877016053,0.0043062990744265365,0.00544568219222221,0.00455041873104516,0.004743402295438759,0.004799378774023138,0.005006965333593964,0.006012475172927377,0.006436541772500042,0.004974231690421903,0.005630184791517699,0.0037135372911305284,0.006724692118149782,0.0038748445444638374,0.004469101049292179,0.0041840879990738015,0.004041577610371445,0.005665230686643883,0.0035084583021040305,0.006519183639899334,0.004956775428905776,0.006087943650436708,0.006170416564767911,0.005080851763444672,0.005915428752151958,0.006340123871367873,0.007215256295365205,0.0045957007516188985,0.0052543703732064045,0.005640288891717168,0.007065215921923862,0.005362957122482079,0.006163299148151202,0.005565820063359591,0.005732398128540011,0.005788995108859492,0.0052543703732064045,0.004469101049292179,0.006144052954967777,0.005518841963308985,0.0038748445444638374,0.005346098348290507,0.003816977223137141,0.005481172516274212,0.005382777948662702,0.0055468569062097125,0.005438289079789176,0.0035084760505386795,0.005637849994524885,0.0046351924619657085,0.00477101872558499,0.0052543703732064045,0.004088898210321472,0.004639044180330477,0.005744197692419556,0.004335245059220247,0.0035642873468080356,0.005936836736866189,0.00492070083202754,0.006129589534976263,0.005109174285859579,0.0038857319247258566,0.006208939667143135,0.003254670193407402,0.0036126126304280967,0.005120756853687135,0.0062658296301017664,0.004004884324436384,0.004716853951219985,0.005569843869294164,0.004449111330751516,0.004668307375287688,0.0035642873468080356,0.005788381306607457,0.005520221137950971,0.005732398128540011,0.005744197692419556,0.005317602647950096,0.005249779097191729,0.005225990908644868,0.004215546947027101,0.0035084583021040305,0.007065215921923862,0.005799825013781302,0.00596700093223728,0.005528544241333933,0.00447781136402489,0.0061091649148055744,0.00511535212527876,0.004369811141621888,0.0049868594719693375,0.004222273013031433,0.0034958871197003495,0.0052543703732064045,0.004668307375287688,0.005077758013655199,0.0046375819463250825,0.0053125052428173785,0.004157188539184194,0.0035084583021040305,0.004911009201168289,0.004004884324436384,0.0050888171639452695,0.007200141414638781,0.006842131792910491,0.005453284913895292,0.0038748445444638374,0.005109174285859579,0.004690292053752998,0.0036126126304280967,0.003973667281893637,0.00447781136402489,0.005744197692419556,0.0052420746609582155,0.0035084583021040305,0.0052543703732064045,0.003975158799871752,0.005799825013781302,0.0063952523177087306,0.006359956432488485,0.005299332500800837,0.004703761565782963,0.005361096689212553,0.005999312923058821,0.004338484041301456,0.005732398128540011,0.0059407131150828706,0.006370581840309012,0.006191296769401258,0.0057150412742063336],\"type\":\"scatter\"},{\"hovertemplate\":\"%{text}\\u003cextra\\u003eBest Trial\\u003c\\u002fextra\\u003e\",\"marker\":{\"color\":[156,160,166,169,239,248,261,262,277,281,290],\"colorbar\":{\"title\":{\"text\":\"Best Trial\"},\"x\":1.1,\"xpad\":40},\"colorscale\":[[0.0,\"rgb(255,245,240)\"],[0.125,\"rgb(254,224,210)\"],[0.25,\"rgb(252,187,161)\"],[0.375,\"rgb(252,146,114)\"],[0.5,\"rgb(251,106,74)\"],[0.625,\"rgb(239,59,44)\"],[0.75,\"rgb(203,24,29)\"],[0.875,\"rgb(165,15,21)\"],[1.0,\"rgb(103,0,13)\"]],\"line\":{\"color\":\"Grey\",\"width\":0.5}},\"mode\":\"markers\",\"showlegend\":false,\"text\":[\"{\\u003cbr\\u003e  \\\"number\\\": 156,\\u003cbr\\u003e  \\\"values\\\": [\\u003cbr\\u003e    0.9267988289843301,\\u003cbr\\u003e    0.003096989866762657\\u003cbr\\u003e  ],\\u003cbr\\u003e  \\\"params\\\": {\\u003cbr\\u003e    \\\"scalers\\\": \\\"normalizer\\\",\\u003cbr\\u003e    \\\"knn_n_neighbors\\\": 30,\\u003cbr\\u003e    \\\"knn_p\\\": 4,\\u003cbr\\u003e    \\\"knn_weights\\\": \\\"distance\\\"\\u003cbr\\u003e  }\\u003cbr\\u003e}\",\"{\\u003cbr\\u003e  \\\"number\\\": 160,\\u003cbr\\u003e  \\\"values\\\": [\\u003cbr\\u003e    0.9278653003489954,\\u003cbr\\u003e    0.003438073134261476\\u003cbr\\u003e  ],\\u003cbr\\u003e  \\\"params\\\": {\\u003cbr\\u003e    \\\"scalers\\\": \\\"robust\\\",\\u003cbr\\u003e    \\\"knn_n_neighbors\\\": 95,\\u003cbr\\u003e    \\\"knn_p\\\": 5,\\u003cbr\\u003e    \\\"knn_weights\\\": \\\"distance\\\"\\u003cbr\\u003e  }\\u003cbr\\u003e}\",\"{\\u003cbr\\u003e  \\\"number\\\": 166,\\u003cbr\\u003e  \\\"values\\\": [\\u003cbr\\u003e    0.9267988289843301,\\u003cbr\\u003e    0.003096989866762657\\u003cbr\\u003e  ],\\u003cbr\\u003e  \\\"params\\\": {\\u003cbr\\u003e    \\\"scalers\\\": \\\"normalizer\\\",\\u003cbr\\u003e    \\\"knn_n_neighbors\\\": 30,\\u003cbr\\u003e    \\\"knn_p\\\": 4,\\u003cbr\\u003e    \\\"knn_weights\\\": \\\"distance\\\"\\u003cbr\\u003e  }\\u003cbr\\u003e}\",\"{\\u003cbr\\u003e  \\\"number\\\": 169,\\u003cbr\\u003e  \\\"values\\\": [\\u003cbr\\u003e    0.9289320205694219,\\u003cbr\\u003e    0.004867290092514432\\u003cbr\\u003e  ],\\u003cbr\\u003e  \\\"params\\\": {\\u003cbr\\u003e    \\\"scalers\\\": \\\"minmax\\\",\\u003cbr\\u003e    \\\"knn_n_neighbors\\\": 78,\\u003cbr\\u003e    \\\"knn_p\\\": 1,\\u003cbr\\u003e    \\\"knn_weights\\\": \\\"distance\\\"\\u003cbr\\u003e  }\\u003cbr\\u003e}\",\"{\\u003cbr\\u003e  \\\"number\\\": 239,\\u003cbr\\u003e  \\\"values\\\": [\\u003cbr\\u003e    0.9266656911520829,\\u003cbr\\u003e    0.002927340093015144\\u003cbr\\u003e  ],\\u003cbr\\u003e  \\\"params\\\": {\\u003cbr\\u003e    \\\"scalers\\\": \\\"robust\\\",\\u003cbr\\u003e    \\\"knn_n_neighbors\\\": 20,\\u003cbr\\u003e    \\\"knn_p\\\": 9,\\u003cbr\\u003e    \\\"knn_weights\\\": \\\"distance\\\"\\u003cbr\\u003e  }\\u003cbr\\u003e}\",\"{\\u003cbr\\u003e  \\\"number\\\": 248,\\u003cbr\\u003e  \\\"values\\\": [\\u003cbr\\u003e    0.9279989358927653,\\u003cbr\\u003e    0.004320978899016278\\u003cbr\\u003e  ],\\u003cbr\\u003e  \\\"params\\\": {\\u003cbr\\u003e    \\\"scalers\\\": \\\"standard\\\",\\u003cbr\\u003e    \\\"knn_n_neighbors\\\": 91,\\u003cbr\\u003e    \\\"knn_p\\\": 2,\\u003cbr\\u003e    \\\"knn_weights\\\": \\\"distance\\\"\\u003cbr\\u003e  }\\u003cbr\\u003e}\",\"{\\u003cbr\\u003e  \\\"number\\\": 261,\\u003cbr\\u003e  \\\"values\\\": [\\u003cbr\\u003e    0.927865424776876,\\u003cbr\\u003e    0.0036122941259940267\\u003cbr\\u003e  ],\\u003cbr\\u003e  \\\"params\\\": {\\u003cbr\\u003e    \\\"scalers\\\": \\\"robust\\\",\\u003cbr\\u003e    \\\"knn_n_neighbors\\\": 75,\\u003cbr\\u003e    \\\"knn_p\\\": 5,\\u003cbr\\u003e    \\\"knn_weights\\\": \\\"distance\\\"\\u003cbr\\u003e  }\\u003cbr\\u003e}\",\"{\\u003cbr\\u003e  \\\"number\\\": 262,\\u003cbr\\u003e  \\\"values\\\": [\\u003cbr\\u003e    0.928398722673149,\\u003cbr\\u003e    0.004584287254471589\\u003cbr\\u003e  ],\\u003cbr\\u003e  \\\"params\\\": {\\u003cbr\\u003e    \\\"scalers\\\": \\\"standard\\\",\\u003cbr\\u003e    \\\"knn_n_neighbors\\\": 75,\\u003cbr\\u003e    \\\"knn_p\\\": 3,\\u003cbr\\u003e    \\\"knn_weights\\\": \\\"distance\\\"\\u003cbr\\u003e  }\\u003cbr\\u003e}\",\"{\\u003cbr\\u003e  \\\"number\\\": 277,\\u003cbr\\u003e  \\\"values\\\": [\\u003cbr\\u003e    0.9266656911520829,\\u003cbr\\u003e    0.002927340093015144\\u003cbr\\u003e  ],\\u003cbr\\u003e  \\\"params\\\": {\\u003cbr\\u003e    \\\"scalers\\\": \\\"robust\\\",\\u003cbr\\u003e    \\\"knn_n_neighbors\\\": 20,\\u003cbr\\u003e    \\\"knn_p\\\": 9,\\u003cbr\\u003e    \\\"knn_weights\\\": \\\"distance\\\"\\u003cbr\\u003e  }\\u003cbr\\u003e}\",\"{\\u003cbr\\u003e  \\\"number\\\": 281,\\u003cbr\\u003e  \\\"values\\\": [\\u003cbr\\u003e    0.9267988289843301,\\u003cbr\\u003e    0.003096989866762657\\u003cbr\\u003e  ],\\u003cbr\\u003e  \\\"params\\\": {\\u003cbr\\u003e    \\\"scalers\\\": \\\"normalizer\\\",\\u003cbr\\u003e    \\\"knn_n_neighbors\\\": 30,\\u003cbr\\u003e    \\\"knn_p\\\": 4,\\u003cbr\\u003e    \\\"knn_weights\\\": \\\"distance\\\"\\u003cbr\\u003e  }\\u003cbr\\u003e}\",\"{\\u003cbr\\u003e  \\\"number\\\": 290,\\u003cbr\\u003e  \\\"values\\\": [\\u003cbr\\u003e    0.9267988289843301,\\u003cbr\\u003e    0.003096989866762657\\u003cbr\\u003e  ],\\u003cbr\\u003e  \\\"params\\\": {\\u003cbr\\u003e    \\\"scalers\\\": \\\"normalizer\\\",\\u003cbr\\u003e    \\\"knn_n_neighbors\\\": 30,\\u003cbr\\u003e    \\\"knn_p\\\": 4,\\u003cbr\\u003e    \\\"knn_weights\\\": \\\"distance\\\"\\u003cbr\\u003e  }\\u003cbr\\u003e}\"],\"x\":[0.9267988289843301,0.9278653003489954,0.9267988289843301,0.9289320205694219,0.9266656911520829,0.9279989358927653,0.927865424776876,0.928398722673149,0.9266656911520829,0.9267988289843301,0.9267988289843301],\"y\":[0.003096989866762657,0.003438073134261476,0.003096989866762657,0.004867290092514432,0.002927340093015144,0.004320978899016278,0.0036122941259940267,0.004584287254471589,0.002927340093015144,0.003096989866762657,0.003096989866762657],\"type\":\"scatter\"}],                        {\"title\":{\"text\":\"Pareto-front Plot\"},\"xaxis\":{\"title\":{\"text\":\"mean\"}},\"yaxis\":{\"title\":{\"text\":\"std\"}},\"template\":{\"data\":{\"histogram2dcontour\":[{\"type\":\"histogram2dcontour\",\"colorbar\":{\"outlinewidth\":0,\"ticks\":\"\"},\"colorscale\":[[0.0,\"#0d0887\"],[0.1111111111111111,\"#46039f\"],[0.2222222222222222,\"#7201a8\"],[0.3333333333333333,\"#9c179e\"],[0.4444444444444444,\"#bd3786\"],[0.5555555555555556,\"#d8576b\"],[0.6666666666666666,\"#ed7953\"],[0.7777777777777778,\"#fb9f3a\"],[0.8888888888888888,\"#fdca26\"],[1.0,\"#f0f921\"]]}],\"choropleth\":[{\"type\":\"choropleth\",\"colorbar\":{\"outlinewidth\":0,\"ticks\":\"\"}}],\"histogram2d\":[{\"type\":\"histogram2d\",\"colorbar\":{\"outlinewidth\":0,\"ticks\":\"\"},\"colorscale\":[[0.0,\"#0d0887\"],[0.1111111111111111,\"#46039f\"],[0.2222222222222222,\"#7201a8\"],[0.3333333333333333,\"#9c179e\"],[0.4444444444444444,\"#bd3786\"],[0.5555555555555556,\"#d8576b\"],[0.6666666666666666,\"#ed7953\"],[0.7777777777777778,\"#fb9f3a\"],[0.8888888888888888,\"#fdca26\"],[1.0,\"#f0f921\"]]}],\"heatmap\":[{\"type\":\"heatmap\",\"colorbar\":{\"outlinewidth\":0,\"ticks\":\"\"},\"colorscale\":[[0.0,\"#0d0887\"],[0.1111111111111111,\"#46039f\"],[0.2222222222222222,\"#7201a8\"],[0.3333333333333333,\"#9c179e\"],[0.4444444444444444,\"#bd3786\"],[0.5555555555555556,\"#d8576b\"],[0.6666666666666666,\"#ed7953\"],[0.7777777777777778,\"#fb9f3a\"],[0.8888888888888888,\"#fdca26\"],[1.0,\"#f0f921\"]]}],\"heatmapgl\":[{\"type\":\"heatmapgl\",\"colorbar\":{\"outlinewidth\":0,\"ticks\":\"\"},\"colorscale\":[[0.0,\"#0d0887\"],[0.1111111111111111,\"#46039f\"],[0.2222222222222222,\"#7201a8\"],[0.3333333333333333,\"#9c179e\"],[0.4444444444444444,\"#bd3786\"],[0.5555555555555556,\"#d8576b\"],[0.6666666666666666,\"#ed7953\"],[0.7777777777777778,\"#fb9f3a\"],[0.8888888888888888,\"#fdca26\"],[1.0,\"#f0f921\"]]}],\"contourcarpet\":[{\"type\":\"contourcarpet\",\"colorbar\":{\"outlinewidth\":0,\"ticks\":\"\"}}],\"contour\":[{\"type\":\"contour\",\"colorbar\":{\"outlinewidth\":0,\"ticks\":\"\"},\"colorscale\":[[0.0,\"#0d0887\"],[0.1111111111111111,\"#46039f\"],[0.2222222222222222,\"#7201a8\"],[0.3333333333333333,\"#9c179e\"],[0.4444444444444444,\"#bd3786\"],[0.5555555555555556,\"#d8576b\"],[0.6666666666666666,\"#ed7953\"],[0.7777777777777778,\"#fb9f3a\"],[0.8888888888888888,\"#fdca26\"],[1.0,\"#f0f921\"]]}],\"surface\":[{\"type\":\"surface\",\"colorbar\":{\"outlinewidth\":0,\"ticks\":\"\"},\"colorscale\":[[0.0,\"#0d0887\"],[0.1111111111111111,\"#46039f\"],[0.2222222222222222,\"#7201a8\"],[0.3333333333333333,\"#9c179e\"],[0.4444444444444444,\"#bd3786\"],[0.5555555555555556,\"#d8576b\"],[0.6666666666666666,\"#ed7953\"],[0.7777777777777778,\"#fb9f3a\"],[0.8888888888888888,\"#fdca26\"],[1.0,\"#f0f921\"]]}],\"mesh3d\":[{\"type\":\"mesh3d\",\"colorbar\":{\"outlinewidth\":0,\"ticks\":\"\"}}],\"scatter\":[{\"fillpattern\":{\"fillmode\":\"overlay\",\"size\":10,\"solidity\":0.2},\"type\":\"scatter\"}],\"parcoords\":[{\"type\":\"parcoords\",\"line\":{\"colorbar\":{\"outlinewidth\":0,\"ticks\":\"\"}}}],\"scatterpolargl\":[{\"type\":\"scatterpolargl\",\"marker\":{\"colorbar\":{\"outlinewidth\":0,\"ticks\":\"\"}}}],\"bar\":[{\"error_x\":{\"color\":\"#2a3f5f\"},\"error_y\":{\"color\":\"#2a3f5f\"},\"marker\":{\"line\":{\"color\":\"#E5ECF6\",\"width\":0.5},\"pattern\":{\"fillmode\":\"overlay\",\"size\":10,\"solidity\":0.2}},\"type\":\"bar\"}],\"scattergeo\":[{\"type\":\"scattergeo\",\"marker\":{\"colorbar\":{\"outlinewidth\":0,\"ticks\":\"\"}}}],\"scatterpolar\":[{\"type\":\"scatterpolar\",\"marker\":{\"colorbar\":{\"outlinewidth\":0,\"ticks\":\"\"}}}],\"histogram\":[{\"marker\":{\"pattern\":{\"fillmode\":\"overlay\",\"size\":10,\"solidity\":0.2}},\"type\":\"histogram\"}],\"scattergl\":[{\"type\":\"scattergl\",\"marker\":{\"colorbar\":{\"outlinewidth\":0,\"ticks\":\"\"}}}],\"scatter3d\":[{\"type\":\"scatter3d\",\"line\":{\"colorbar\":{\"outlinewidth\":0,\"ticks\":\"\"}},\"marker\":{\"colorbar\":{\"outlinewidth\":0,\"ticks\":\"\"}}}],\"scattermapbox\":[{\"type\":\"scattermapbox\",\"marker\":{\"colorbar\":{\"outlinewidth\":0,\"ticks\":\"\"}}}],\"scatterternary\":[{\"type\":\"scatterternary\",\"marker\":{\"colorbar\":{\"outlinewidth\":0,\"ticks\":\"\"}}}],\"scattercarpet\":[{\"type\":\"scattercarpet\",\"marker\":{\"colorbar\":{\"outlinewidth\":0,\"ticks\":\"\"}}}],\"carpet\":[{\"aaxis\":{\"endlinecolor\":\"#2a3f5f\",\"gridcolor\":\"white\",\"linecolor\":\"white\",\"minorgridcolor\":\"white\",\"startlinecolor\":\"#2a3f5f\"},\"baxis\":{\"endlinecolor\":\"#2a3f5f\",\"gridcolor\":\"white\",\"linecolor\":\"white\",\"minorgridcolor\":\"white\",\"startlinecolor\":\"#2a3f5f\"},\"type\":\"carpet\"}],\"table\":[{\"cells\":{\"fill\":{\"color\":\"#EBF0F8\"},\"line\":{\"color\":\"white\"}},\"header\":{\"fill\":{\"color\":\"#C8D4E3\"},\"line\":{\"color\":\"white\"}},\"type\":\"table\"}],\"barpolar\":[{\"marker\":{\"line\":{\"color\":\"#E5ECF6\",\"width\":0.5},\"pattern\":{\"fillmode\":\"overlay\",\"size\":10,\"solidity\":0.2}},\"type\":\"barpolar\"}],\"pie\":[{\"automargin\":true,\"type\":\"pie\"}]},\"layout\":{\"autotypenumbers\":\"strict\",\"colorway\":[\"#636efa\",\"#EF553B\",\"#00cc96\",\"#ab63fa\",\"#FFA15A\",\"#19d3f3\",\"#FF6692\",\"#B6E880\",\"#FF97FF\",\"#FECB52\"],\"font\":{\"color\":\"#2a3f5f\"},\"hovermode\":\"closest\",\"hoverlabel\":{\"align\":\"left\"},\"paper_bgcolor\":\"white\",\"plot_bgcolor\":\"#E5ECF6\",\"polar\":{\"bgcolor\":\"#E5ECF6\",\"angularaxis\":{\"gridcolor\":\"white\",\"linecolor\":\"white\",\"ticks\":\"\"},\"radialaxis\":{\"gridcolor\":\"white\",\"linecolor\":\"white\",\"ticks\":\"\"}},\"ternary\":{\"bgcolor\":\"#E5ECF6\",\"aaxis\":{\"gridcolor\":\"white\",\"linecolor\":\"white\",\"ticks\":\"\"},\"baxis\":{\"gridcolor\":\"white\",\"linecolor\":\"white\",\"ticks\":\"\"},\"caxis\":{\"gridcolor\":\"white\",\"linecolor\":\"white\",\"ticks\":\"\"}},\"coloraxis\":{\"colorbar\":{\"outlinewidth\":0,\"ticks\":\"\"}},\"colorscale\":{\"sequential\":[[0.0,\"#0d0887\"],[0.1111111111111111,\"#46039f\"],[0.2222222222222222,\"#7201a8\"],[0.3333333333333333,\"#9c179e\"],[0.4444444444444444,\"#bd3786\"],[0.5555555555555556,\"#d8576b\"],[0.6666666666666666,\"#ed7953\"],[0.7777777777777778,\"#fb9f3a\"],[0.8888888888888888,\"#fdca26\"],[1.0,\"#f0f921\"]],\"sequentialminus\":[[0.0,\"#0d0887\"],[0.1111111111111111,\"#46039f\"],[0.2222222222222222,\"#7201a8\"],[0.3333333333333333,\"#9c179e\"],[0.4444444444444444,\"#bd3786\"],[0.5555555555555556,\"#d8576b\"],[0.6666666666666666,\"#ed7953\"],[0.7777777777777778,\"#fb9f3a\"],[0.8888888888888888,\"#fdca26\"],[1.0,\"#f0f921\"]],\"diverging\":[[0,\"#8e0152\"],[0.1,\"#c51b7d\"],[0.2,\"#de77ae\"],[0.3,\"#f1b6da\"],[0.4,\"#fde0ef\"],[0.5,\"#f7f7f7\"],[0.6,\"#e6f5d0\"],[0.7,\"#b8e186\"],[0.8,\"#7fbc41\"],[0.9,\"#4d9221\"],[1,\"#276419\"]]},\"xaxis\":{\"gridcolor\":\"white\",\"linecolor\":\"white\",\"ticks\":\"\",\"title\":{\"standoff\":15},\"zerolinecolor\":\"white\",\"automargin\":true,\"zerolinewidth\":2},\"yaxis\":{\"gridcolor\":\"white\",\"linecolor\":\"white\",\"ticks\":\"\",\"title\":{\"standoff\":15},\"zerolinecolor\":\"white\",\"automargin\":true,\"zerolinewidth\":2},\"scene\":{\"xaxis\":{\"backgroundcolor\":\"#E5ECF6\",\"gridcolor\":\"white\",\"linecolor\":\"white\",\"showbackground\":true,\"ticks\":\"\",\"zerolinecolor\":\"white\",\"gridwidth\":2},\"yaxis\":{\"backgroundcolor\":\"#E5ECF6\",\"gridcolor\":\"white\",\"linecolor\":\"white\",\"showbackground\":true,\"ticks\":\"\",\"zerolinecolor\":\"white\",\"gridwidth\":2},\"zaxis\":{\"backgroundcolor\":\"#E5ECF6\",\"gridcolor\":\"white\",\"linecolor\":\"white\",\"showbackground\":true,\"ticks\":\"\",\"zerolinecolor\":\"white\",\"gridwidth\":2}},\"shapedefaults\":{\"line\":{\"color\":\"#2a3f5f\"}},\"annotationdefaults\":{\"arrowcolor\":\"#2a3f5f\",\"arrowhead\":0,\"arrowwidth\":1},\"geo\":{\"bgcolor\":\"white\",\"landcolor\":\"#E5ECF6\",\"subunitcolor\":\"white\",\"showland\":true,\"showlakes\":true,\"lakecolor\":\"white\"},\"title\":{\"x\":0.05},\"mapbox\":{\"style\":\"light\"}}}},                        {\"responsive\": true}                    ).then(function(){\n",
       "                            \n",
       "var gd = document.getElementById('d7731ce9-a9b2-430f-8002-e61dcb67377e');\n",
       "var x = new MutationObserver(function (mutations, observer) {{\n",
       "        var display = window.getComputedStyle(gd).display;\n",
       "        if (!display || display === 'none') {{\n",
       "            console.log([gd, 'removed!']);\n",
       "            Plotly.purge(gd);\n",
       "            observer.disconnect();\n",
       "        }}\n",
       "}});\n",
       "\n",
       "// Listen for the removal of the full notebook cells\n",
       "var notebookContainer = gd.closest('#notebook-container');\n",
       "if (notebookContainer) {{\n",
       "    x.observe(notebookContainer, {childList: true});\n",
       "}}\n",
       "\n",
       "// Listen for the clearing of the current output cell\n",
       "var outputEl = gd.closest('.output');\n",
       "if (outputEl) {{\n",
       "    x.observe(outputEl, {childList: true});\n",
       "}}\n",
       "\n",
       "                        })                };                });            </script>        </div>"
      ]
     },
     "metadata": {},
     "output_type": "display_data"
    }
   ],
   "source": [
    "fig = optuna.visualization.plot_pareto_front(\n",
    "    study,\n",
    "    target_names=[\"mean\", \"std\"],\n",
    ")\n",
    "show(fig)"
   ]
  },
  {
   "cell_type": "code",
   "execution_count": 30,
   "id": "49b76577-cc96-4cd8-9f8b-b046893f4f78",
   "metadata": {},
   "outputs": [
    {
     "name": "stdout",
     "output_type": "stream",
     "text": [
      "\tparams: {'scalers': 'minmax', 'knn_n_neighbors': 78, 'knn_p': 1, 'knn_weights': 'distance'}\n"
     ]
    }
   ],
   "source": [
    "print(f\"\\tparams: {trial_with_highest_accuracy.params}\")"
   ]
  },
  {
   "cell_type": "code",
   "execution_count": 31,
   "id": "c9dacda7-7223-42f4-9a8b-36146566b574",
   "metadata": {},
   "outputs": [
    {
     "name": "stdout",
     "output_type": "stream",
     "text": [
      "accuracy model train: 1.0\n",
      "accuracy model test: 0.9285333333333333\n",
      "accuracy true: 0.9236\n"
     ]
    },
    {
     "data": {
      "image/png": "[encoded data removed]",
      "text/plain": [
       "<Figure size 640x480 with 2 Axes>"
      ]
     },
     "metadata": {},
     "output_type": "display_data"
    }
   ],
   "source": [
    "est_78 = KNeighborsClassifier(n_neighbors=78, p = 1, weights='distance')\n",
    "pipeline = make_pipeline(MinMaxScaler(), est_78)\n",
    "pipeline.fit(X_train, y_train)\n",
    "print('accuracy model train:', pipeline.score(X_train, y_train))\n",
    "print('accuracy model test:' , pipeline.score(X_test, y_test))\n",
    "pipeline.fit(X, y)\n",
    "y_predict = pipeline.predict(test)\n",
    "print('accuracy true:', accuracy_score(y_true, y_predict))\n",
    "ConfusionMatrixDisplay.from_predictions(y_true, y_predict);"
   ]
  },
  {
   "cell_type": "code",
   "execution_count": 32,
   "id": "876817df-1d6f-45ad-9972-4538d3421c7b",
   "metadata": {},
   "outputs": [
    {
     "name": "stdout",
     "output_type": "stream",
     "text": [
      "\tparams: {'scalers': 'robust', 'knn_n_neighbors': 20, 'knn_p': 9, 'knn_weights': 'distance'}\n"
     ]
    }
   ],
   "source": [
    "print(f\"\\tparams: {trial_with_min_std.params}\")"
   ]
  },
  {
   "cell_type": "code",
   "execution_count": 33,
   "id": "b43801b1-09fd-428e-a29d-7c805a4d63ea",
   "metadata": {},
   "outputs": [
    {
     "name": "stdout",
     "output_type": "stream",
     "text": [
      "accuracy model train: 1.0\n",
      "accuracy model test: 0.928\n",
      "accuracy true: 0.9212\n"
     ]
    },
    {
     "data": {
      "image/png": "[encoded data removed]",
      "text/plain": [
       "<Figure size 640x480 with 2 Axes>"
      ]
     },
     "metadata": {},
     "output_type": "display_data"
    }
   ],
   "source": [
    "est_20 = KNeighborsClassifier(n_neighbors=20, p = 9, weights='distance')\n",
    "pipeline = make_pipeline(RobustScaler(), est_20)\n",
    "pipeline.fit(X_train, y_train)\n",
    "print('accuracy model train:', pipeline.score(X_train, y_train))\n",
    "print('accuracy model test:' , pipeline.score(X_test, y_test))\n",
    "pipeline.fit(X, y)\n",
    "y_predict = pipeline.predict(test)\n",
    "print('accuracy true:', accuracy_score(y_true, y_predict))\n",
    "ConfusionMatrixDisplay.from_predictions(y_true, y_predict);"
   ]
  },
  {
   "cell_type": "code",
   "execution_count": null,
   "id": "2a381229-a1e0-47c5-9891-762b0ef376ca",
   "metadata": {},
   "outputs": [],
   "source": []
  }
 ],
 "metadata": {
  "kernelspec": {
   "display_name": "Python 3 (ipykernel)",
   "language": "python",
   "name": "python3"
  },
  "language_info": {
   "codemirror_mode": {
    "name": "ipython",
    "version": 3
   },
   "file_extension": ".py",
   "mimetype": "text/x-python",
   "name": "python",
   "nbconvert_exporter": "python",
   "pygments_lexer": "ipython3",
   "version": "3.12.7"
  }
 },
 "nbformat": 4,
 "nbformat_minor": 5
}
